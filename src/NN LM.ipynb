{
 "cells": [
  {
   "cell_type": "markdown",
   "id": "3d137741-99e1-4b6e-be9e-8206db7a8d10",
   "metadata": {},
   "source": [
    "# Neural Networks and Linear Regression"
   ]
  },
  {
   "cell_type": "code",
   "execution_count": 1,
   "id": "2308911e-4c0a-4877-91b3-0f6d26346dcb",
   "metadata": {
    "execution": {
     "iopub.execute_input": "2024-05-05T05:22:44.914572Z",
     "iopub.status.busy": "2024-05-05T05:22:44.914075Z",
     "iopub.status.idle": "2024-05-05T05:22:50.173979Z",
     "shell.execute_reply": "2024-05-05T05:22:50.173482Z",
     "shell.execute_reply.started": "2024-05-05T05:22:44.914572Z"
    }
   },
   "outputs": [],
   "source": [
    "%matplotlib inline\n",
    "\n",
    "from itertools import combinations\n",
    "\n",
    "import pandas as pd\n",
    "from datetime import datetime\n",
    "import numpy as np\n",
    "import os\n",
    "\n",
    "from sklearn.inspection import DecisionBoundaryDisplay\n",
    "from sklearn.model_selection import train_test_split, GridSearchCV\n",
    "from sklearn.metrics import classification_report, confusion_matrix, accuracy_score, ConfusionMatrixDisplay, mean_absolute_error\n",
    "from sklearn import metrics\n",
    "from sklearn.linear_model import LinearRegression\n",
    "\n",
    "import torch\n",
    "from torch.utils.data import Dataset, DataLoader\n",
    "import torch.nn as nn\n",
    "import torch.nn.functional as F\n",
    "from torchviz import make_dot\n",
    "\n",
    "import matplotlib.pyplot as plt\n",
    "import plotly\n",
    "import plotly.express as px\n",
    "import plotly.io as pio\n",
    "from plotly.subplots import make_subplots\n",
    "import plotly.graph_objects as go"
   ]
  },
  {
   "cell_type": "code",
   "execution_count": 2,
   "id": "565eb4b6-73c3-4d3a-9d89-f28f403968cd",
   "metadata": {
    "execution": {
     "iopub.execute_input": "2024-05-05T05:22:50.174972Z",
     "iopub.status.busy": "2024-05-05T05:22:50.174476Z",
     "iopub.status.idle": "2024-05-05T05:22:50.450602Z",
     "shell.execute_reply": "2024-05-05T05:22:50.450602Z",
     "shell.execute_reply.started": "2024-05-05T05:22:50.174972Z"
    }
   },
   "outputs": [],
   "source": [
    "## Custom plotly plot styling\n",
    "\n",
    "# Remove the red color in discrete color scale\n",
    "px.colors.qualitative.Plotly = px.colors.qualitative.Plotly[:1] + px.colors.qualitative.Plotly[2:]\n",
    "\n",
    "pio.templates[\"custom\"] = go.layout.Template(\n",
    "    layout=go.Layout(\n",
    "        paper_bgcolor=\"rgba(0, 0, 0, 0)\",\n",
    "        font=dict(color=\"lightgreen\"),\n",
    "        colorscale=dict(sequential=\"Viridis\"),\n",
    "        colorway=px.colors.qualitative.Plotly)\n",
    ")\n",
    "\n",
    "pio.templates.default = \"plotly+custom\"\n",
    "\n",
    "# Settings for plot rendering, makes work with HTML output + jupyer lab + static output\n",
    "pio.renderers.default = \"plotly_mimetype+notebook_connected+png\""
   ]
  },
  {
   "cell_type": "markdown",
   "id": "5ba9d94e-b2f5-435d-9892-c7b608126194",
   "metadata": {},
   "source": [
    "## Load Data"
   ]
  },
  {
   "cell_type": "code",
   "execution_count": 3,
   "id": "e2e4ed1f-4b4c-4f9d-8cf1-1e37eb2cfd0c",
   "metadata": {
    "execution": {
     "iopub.execute_input": "2024-05-05T05:22:50.451626Z",
     "iopub.status.busy": "2024-05-05T05:22:50.451127Z",
     "iopub.status.idle": "2024-05-05T05:22:54.254042Z",
     "shell.execute_reply": "2024-05-05T05:22:54.253544Z",
     "shell.execute_reply.started": "2024-05-05T05:22:50.451626Z"
    },
    "scrolled": true
   },
   "outputs": [
    {
     "name": "stdout",
     "output_type": "stream",
     "text": [
      "Asin                       object\n",
      "Name                       object\n",
      "Image Url                  object\n",
      "Is Best Seller               bool\n",
      "Stars                     float64\n",
      "Reviews                   float64\n",
      "Url                        object\n",
      "Price                     float64\n",
      "Date Scraped       datetime64[ns]\n",
      "List Price                float64\n",
      "Bought In Month           float64\n",
      "Category                 category\n",
      "dtype: object\n"
     ]
    },
    {
     "data": {
      "text/html": [
       "<div>\n",
       "<style scoped>\n",
       "    .dataframe tbody tr th:only-of-type {\n",
       "        vertical-align: middle;\n",
       "    }\n",
       "\n",
       "    .dataframe tbody tr th {\n",
       "        vertical-align: top;\n",
       "    }\n",
       "\n",
       "    .dataframe thead th {\n",
       "        text-align: right;\n",
       "    }\n",
       "</style>\n",
       "<table border=\"1\" class=\"dataframe\">\n",
       "  <thead>\n",
       "    <tr style=\"text-align: right;\">\n",
       "      <th></th>\n",
       "      <th>Asin</th>\n",
       "      <th>Name</th>\n",
       "      <th>Image Url</th>\n",
       "      <th>Is Best Seller</th>\n",
       "      <th>Stars</th>\n",
       "      <th>Reviews</th>\n",
       "      <th>Url</th>\n",
       "      <th>Price</th>\n",
       "      <th>Date Scraped</th>\n",
       "      <th>List Price</th>\n",
       "      <th>Bought In Month</th>\n",
       "      <th>Category</th>\n",
       "    </tr>\n",
       "  </thead>\n",
       "  <tbody>\n",
       "    <tr>\n",
       "      <th>0</th>\n",
       "      <td>B0CSPPHXXV</td>\n",
       "      <td>Apple Watch Ultra 2 (GPS + Cellular 49mm) Rugg...</td>\n",
       "      <td>https://m.media-amazon.com/images/I/814xH1gpid...</td>\n",
       "      <td>False</td>\n",
       "      <td>NaN</td>\n",
       "      <td>0.0</td>\n",
       "      <td>https://www.amazon.com/Apple-Cellular-Rugged-T...</td>\n",
       "      <td>699.97</td>\n",
       "      <td>2024-02-01</td>\n",
       "      <td>779.99</td>\n",
       "      <td>NaN</td>\n",
       "      <td>NaN</td>\n",
       "    </tr>\n",
       "    <tr>\n",
       "      <th>1</th>\n",
       "      <td>B0BDJ4MGFQ</td>\n",
       "      <td>AppleWatch Series 8 [GPS + Cellular 45mm] Smar...</td>\n",
       "      <td>https://m.media-amazon.com/images/I/91WpS8h5Jv...</td>\n",
       "      <td>False</td>\n",
       "      <td>4.7</td>\n",
       "      <td>4100.0</td>\n",
       "      <td>https://www.amazon.com/Apple-Cellular-Starligh...</td>\n",
       "      <td>689.00</td>\n",
       "      <td>2024-02-01</td>\n",
       "      <td>799.00</td>\n",
       "      <td>NaN</td>\n",
       "      <td>NaN</td>\n",
       "    </tr>\n",
       "    <tr>\n",
       "      <th>2</th>\n",
       "      <td>B0CSV7LK7D</td>\n",
       "      <td>AppleWatch Series 9 [GPS + Cellular 45mm] Smar...</td>\n",
       "      <td>https://m.media-amazon.com/images/I/61DZ+Vezk0...</td>\n",
       "      <td>False</td>\n",
       "      <td>NaN</td>\n",
       "      <td>0.0</td>\n",
       "      <td>https://www.amazon.com/Apple-Cellular-Smartwat...</td>\n",
       "      <td>679.00</td>\n",
       "      <td>2024-02-01</td>\n",
       "      <td>679.00</td>\n",
       "      <td>NaN</td>\n",
       "      <td>NaN</td>\n",
       "    </tr>\n",
       "    <tr>\n",
       "      <th>3</th>\n",
       "      <td>B0B8GHHD2F</td>\n",
       "      <td>AppleWatch Series 7 [GPS + Cellular 45mm] Smar...</td>\n",
       "      <td>https://m.media-amazon.com/images/I/51aQmgx9Ql...</td>\n",
       "      <td>False</td>\n",
       "      <td>NaN</td>\n",
       "      <td>0.0</td>\n",
       "      <td>https://www.amazon.com/Apple-Cellular-Aluminum...</td>\n",
       "      <td>608.00</td>\n",
       "      <td>2024-02-01</td>\n",
       "      <td>608.00</td>\n",
       "      <td>NaN</td>\n",
       "      <td>NaN</td>\n",
       "    </tr>\n",
       "    <tr>\n",
       "      <th>4</th>\n",
       "      <td>B0B8GDV9GN</td>\n",
       "      <td>AppleWatch Series 7 [GPS + Cellular 45mm] Smar...</td>\n",
       "      <td>https://m.media-amazon.com/images/I/61O671oWHg...</td>\n",
       "      <td>False</td>\n",
       "      <td>NaN</td>\n",
       "      <td>0.0</td>\n",
       "      <td>https://www.amazon.com/Apple-Cellular-Aluminum...</td>\n",
       "      <td>608.00</td>\n",
       "      <td>2024-02-01</td>\n",
       "      <td>608.00</td>\n",
       "      <td>NaN</td>\n",
       "      <td>NaN</td>\n",
       "    </tr>\n",
       "    <tr>\n",
       "      <th>...</th>\n",
       "      <td>...</td>\n",
       "      <td>...</td>\n",
       "      <td>...</td>\n",
       "      <td>...</td>\n",
       "      <td>...</td>\n",
       "      <td>...</td>\n",
       "      <td>...</td>\n",
       "      <td>...</td>\n",
       "      <td>...</td>\n",
       "      <td>...</td>\n",
       "      <td>...</td>\n",
       "      <td>...</td>\n",
       "    </tr>\n",
       "    <tr>\n",
       "      <th>1389694</th>\n",
       "      <td>B00R3LIKCO</td>\n",
       "      <td>American Flag Patriotic USA Classic 5 Panel Me...</td>\n",
       "      <td>https://m.media-amazon.com/images/I/71PDJFz6AA...</td>\n",
       "      <td>False</td>\n",
       "      <td>4.2</td>\n",
       "      <td>0.0</td>\n",
       "      <td>https://www.amazon.com/dp/B00R3LIKCO</td>\n",
       "      <td>14.95</td>\n",
       "      <td>2023-11-01</td>\n",
       "      <td>14.95</td>\n",
       "      <td>0.0</td>\n",
       "      <td>Men's Accessories</td>\n",
       "    </tr>\n",
       "    <tr>\n",
       "      <th>1389695</th>\n",
       "      <td>B098BQ7ZQ3</td>\n",
       "      <td>Men's Baseball Cap - H2O-DRI Line Up Curved Br...</td>\n",
       "      <td>https://m.media-amazon.com/images/I/812Tycexs4...</td>\n",
       "      <td>False</td>\n",
       "      <td>4.4</td>\n",
       "      <td>0.0</td>\n",
       "      <td>https://www.amazon.com/dp/B098BQ7ZQ3</td>\n",
       "      <td>33.99</td>\n",
       "      <td>2023-11-01</td>\n",
       "      <td>33.99</td>\n",
       "      <td>0.0</td>\n",
       "      <td>Men's Accessories</td>\n",
       "    </tr>\n",
       "    <tr>\n",
       "      <th>1389696</th>\n",
       "      <td>B07X1MVNT1</td>\n",
       "      <td>[4 Pack] Adjustable Eyeglasses and Sunglasses ...</td>\n",
       "      <td>https://m.media-amazon.com/images/I/61vvYW1S9J...</td>\n",
       "      <td>False</td>\n",
       "      <td>3.6</td>\n",
       "      <td>0.0</td>\n",
       "      <td>https://www.amazon.com/dp/B07X1MVNT1</td>\n",
       "      <td>8.54</td>\n",
       "      <td>2023-11-01</td>\n",
       "      <td>8.54</td>\n",
       "      <td>0.0</td>\n",
       "      <td>Men's Accessories</td>\n",
       "    </tr>\n",
       "    <tr>\n",
       "      <th>1389697</th>\n",
       "      <td>B08XLBG8V9</td>\n",
       "      <td>Ax2002 Aviator Sunglasses</td>\n",
       "      <td>https://m.media-amazon.com/images/I/51+yjD4F1x...</td>\n",
       "      <td>False</td>\n",
       "      <td>4.5</td>\n",
       "      <td>0.0</td>\n",
       "      <td>https://www.amazon.com/dp/B08XLBG8V9</td>\n",
       "      <td>54.36</td>\n",
       "      <td>2023-11-01</td>\n",
       "      <td>57.39</td>\n",
       "      <td>0.0</td>\n",
       "      <td>Men's Accessories</td>\n",
       "    </tr>\n",
       "    <tr>\n",
       "      <th>1389698</th>\n",
       "      <td>B07GH67QC8</td>\n",
       "      <td>in Hoc Signo Vinces Knights Templar Masonic Em...</td>\n",
       "      <td>https://m.media-amazon.com/images/I/91Kt2KQf0E...</td>\n",
       "      <td>False</td>\n",
       "      <td>4.9</td>\n",
       "      <td>0.0</td>\n",
       "      <td>https://www.amazon.com/dp/B07GH67QC8</td>\n",
       "      <td>18.79</td>\n",
       "      <td>2023-11-01</td>\n",
       "      <td>18.79</td>\n",
       "      <td>0.0</td>\n",
       "      <td>Men's Accessories</td>\n",
       "    </tr>\n",
       "  </tbody>\n",
       "</table>\n",
       "<p>1389699 rows × 12 columns</p>\n",
       "</div>"
      ],
      "text/plain": [
       "               Asin                                               Name  \\\n",
       "0        B0CSPPHXXV  Apple Watch Ultra 2 (GPS + Cellular 49mm) Rugg...   \n",
       "1        B0BDJ4MGFQ  AppleWatch Series 8 [GPS + Cellular 45mm] Smar...   \n",
       "2        B0CSV7LK7D  AppleWatch Series 9 [GPS + Cellular 45mm] Smar...   \n",
       "3        B0B8GHHD2F  AppleWatch Series 7 [GPS + Cellular 45mm] Smar...   \n",
       "4        B0B8GDV9GN  AppleWatch Series 7 [GPS + Cellular 45mm] Smar...   \n",
       "...             ...                                                ...   \n",
       "1389694  B00R3LIKCO  American Flag Patriotic USA Classic 5 Panel Me...   \n",
       "1389695  B098BQ7ZQ3  Men's Baseball Cap - H2O-DRI Line Up Curved Br...   \n",
       "1389696  B07X1MVNT1  [4 Pack] Adjustable Eyeglasses and Sunglasses ...   \n",
       "1389697  B08XLBG8V9                          Ax2002 Aviator Sunglasses   \n",
       "1389698  B07GH67QC8  in Hoc Signo Vinces Knights Templar Masonic Em...   \n",
       "\n",
       "                                                 Image Url  Is Best Seller  \\\n",
       "0        https://m.media-amazon.com/images/I/814xH1gpid...           False   \n",
       "1        https://m.media-amazon.com/images/I/91WpS8h5Jv...           False   \n",
       "2        https://m.media-amazon.com/images/I/61DZ+Vezk0...           False   \n",
       "3        https://m.media-amazon.com/images/I/51aQmgx9Ql...           False   \n",
       "4        https://m.media-amazon.com/images/I/61O671oWHg...           False   \n",
       "...                                                    ...             ...   \n",
       "1389694  https://m.media-amazon.com/images/I/71PDJFz6AA...           False   \n",
       "1389695  https://m.media-amazon.com/images/I/812Tycexs4...           False   \n",
       "1389696  https://m.media-amazon.com/images/I/61vvYW1S9J...           False   \n",
       "1389697  https://m.media-amazon.com/images/I/51+yjD4F1x...           False   \n",
       "1389698  https://m.media-amazon.com/images/I/91Kt2KQf0E...           False   \n",
       "\n",
       "         Stars  Reviews                                                Url  \\\n",
       "0          NaN      0.0  https://www.amazon.com/Apple-Cellular-Rugged-T...   \n",
       "1          4.7   4100.0  https://www.amazon.com/Apple-Cellular-Starligh...   \n",
       "2          NaN      0.0  https://www.amazon.com/Apple-Cellular-Smartwat...   \n",
       "3          NaN      0.0  https://www.amazon.com/Apple-Cellular-Aluminum...   \n",
       "4          NaN      0.0  https://www.amazon.com/Apple-Cellular-Aluminum...   \n",
       "...        ...      ...                                                ...   \n",
       "1389694    4.2      0.0               https://www.amazon.com/dp/B00R3LIKCO   \n",
       "1389695    4.4      0.0               https://www.amazon.com/dp/B098BQ7ZQ3   \n",
       "1389696    3.6      0.0               https://www.amazon.com/dp/B07X1MVNT1   \n",
       "1389697    4.5      0.0               https://www.amazon.com/dp/B08XLBG8V9   \n",
       "1389698    4.9      0.0               https://www.amazon.com/dp/B07GH67QC8   \n",
       "\n",
       "          Price Date Scraped  List Price  Bought In Month           Category  \n",
       "0        699.97   2024-02-01      779.99              NaN                NaN  \n",
       "1        689.00   2024-02-01      799.00              NaN                NaN  \n",
       "2        679.00   2024-02-01      679.00              NaN                NaN  \n",
       "3        608.00   2024-02-01      608.00              NaN                NaN  \n",
       "4        608.00   2024-02-01      608.00              NaN                NaN  \n",
       "...         ...          ...         ...              ...                ...  \n",
       "1389694   14.95   2023-11-01       14.95              0.0  Men's Accessories  \n",
       "1389695   33.99   2023-11-01       33.99              0.0  Men's Accessories  \n",
       "1389696    8.54   2023-11-01        8.54              0.0  Men's Accessories  \n",
       "1389697   54.36   2023-11-01       57.39              0.0  Men's Accessories  \n",
       "1389698   18.79   2023-11-01       18.79              0.0  Men's Accessories  \n",
       "\n",
       "[1389699 rows x 12 columns]"
      ]
     },
     "execution_count": 3,
     "metadata": {},
     "output_type": "execute_result"
    }
   ],
   "source": [
    "data_path = os.path.normpath(\"../data/products_cleaned.csv\")\n",
    "df_az = pd.read_csv(data_path, dtype={\"Category\": \"category\"}, parse_dates=[\"Date Scraped\"])\n",
    "\n",
    "print(df_az.dtypes)\n",
    "df_az"
   ]
  },
  {
   "cell_type": "markdown",
   "id": "9448d1fd-10bc-4236-b670-ae7f74b67de2",
   "metadata": {},
   "source": [
    "## Data Prep"
   ]
  },
  {
   "cell_type": "markdown",
   "id": "7cf5ba55-d3bc-4a1e-bf75-65889cc402a1",
   "metadata": {},
   "source": [
    "### Best Seller Data"
   ]
  },
  {
   "cell_type": "code",
   "execution_count": 4,
   "id": "b4b07b48-a26f-49de-82f9-5426e2b5a23e",
   "metadata": {
    "execution": {
     "iopub.execute_input": "2024-05-05T05:22:54.255035Z",
     "iopub.status.busy": "2024-05-05T05:22:54.255035Z",
     "iopub.status.idle": "2024-05-05T05:22:56.763695Z",
     "shell.execute_reply": "2024-05-05T05:22:56.763198Z",
     "shell.execute_reply.started": "2024-05-05T05:22:54.255035Z"
    }
   },
   "outputs": [
    {
     "name": "stdout",
     "output_type": "stream",
     "text": [
      "|   Stars |   Reviews |   Price |   Date Scraped |   Bought In Month |   Is Best Seller |\n",
      "|--------:|----------:|--------:|---------------:|------------------:|-----------------:|\n",
      "|     4.5 |         0 |   21.99 |              0 |                 0 |                0 |\n",
      "|     4.1 |         0 |   33.99 |              0 |               100 |                0 |\n",
      "|     0   |         0 |    0    |              0 |                 0 |                0 |\n",
      "|     4.3 |         0 |   82.99 |              0 |                50 |                0 |\n",
      "|     0   |         0 |    0    |              0 |                 0 |                0 |\n",
      "|     0   |         0 |    0    |              0 |                 0 |                0 |\n",
      "|     0   |         0 |    0    |              0 |                 0 |                0 |\n",
      "|     4.5 |         0 |   78    |              0 |                 0 |                0 |\n",
      "|     4.3 |         0 |   16.99 |              0 |                 0 |                0 |\n",
      "|     0   |         0 |    0    |              0 |                 0 |                0 |\n"
     ]
    },
    {
     "data": {
      "text/html": [
       "<div>\n",
       "<style scoped>\n",
       "    .dataframe tbody tr th:only-of-type {\n",
       "        vertical-align: middle;\n",
       "    }\n",
       "\n",
       "    .dataframe tbody tr th {\n",
       "        vertical-align: top;\n",
       "    }\n",
       "\n",
       "    .dataframe thead th {\n",
       "        text-align: right;\n",
       "    }\n",
       "</style>\n",
       "<table border=\"1\" class=\"dataframe\">\n",
       "  <thead>\n",
       "    <tr style=\"text-align: right;\">\n",
       "      <th></th>\n",
       "      <th>Stars</th>\n",
       "      <th>Reviews</th>\n",
       "      <th>Price</th>\n",
       "      <th>Date Scraped</th>\n",
       "      <th>Bought In Month</th>\n",
       "      <th>Is Best Seller</th>\n",
       "      <th>Men's Accessories</th>\n",
       "      <th>Men's Clothing</th>\n",
       "      <th>Men's Shoes</th>\n",
       "      <th>Suitcases</th>\n",
       "      <th>...</th>\n",
       "      <th>Tablet Accessories</th>\n",
       "      <th>Automotive Interior Accessories</th>\n",
       "      <th>Food Service Equipment &amp; Supplies</th>\n",
       "      <th>Paint, Wall Treatments &amp; Supplies</th>\n",
       "      <th>Rain Umbrellas</th>\n",
       "      <th>Test, Measure &amp; Inspect</th>\n",
       "      <th>Travel Accessories</th>\n",
       "      <th>Travel Tote Bags</th>\n",
       "      <th>Car Electronics &amp; Accessories</th>\n",
       "      <th>Stationery &amp; Gift Wrapping Supplies</th>\n",
       "    </tr>\n",
       "  </thead>\n",
       "  <tbody>\n",
       "    <tr>\n",
       "      <th>14980</th>\n",
       "      <td>4.3</td>\n",
       "      <td>0.0</td>\n",
       "      <td>84.85</td>\n",
       "      <td>0.0</td>\n",
       "      <td>700.0</td>\n",
       "      <td>1.0</td>\n",
       "      <td>0</td>\n",
       "      <td>1</td>\n",
       "      <td>0</td>\n",
       "      <td>0</td>\n",
       "      <td>...</td>\n",
       "      <td>0</td>\n",
       "      <td>0</td>\n",
       "      <td>0</td>\n",
       "      <td>0</td>\n",
       "      <td>0</td>\n",
       "      <td>0</td>\n",
       "      <td>0</td>\n",
       "      <td>0</td>\n",
       "      <td>0</td>\n",
       "      <td>0</td>\n",
       "    </tr>\n",
       "    <tr>\n",
       "      <th>14994</th>\n",
       "      <td>4.6</td>\n",
       "      <td>0.0</td>\n",
       "      <td>29.99</td>\n",
       "      <td>0.0</td>\n",
       "      <td>1000.0</td>\n",
       "      <td>1.0</td>\n",
       "      <td>0</td>\n",
       "      <td>1</td>\n",
       "      <td>0</td>\n",
       "      <td>0</td>\n",
       "      <td>...</td>\n",
       "      <td>0</td>\n",
       "      <td>0</td>\n",
       "      <td>0</td>\n",
       "      <td>0</td>\n",
       "      <td>0</td>\n",
       "      <td>0</td>\n",
       "      <td>0</td>\n",
       "      <td>0</td>\n",
       "      <td>0</td>\n",
       "      <td>0</td>\n",
       "    </tr>\n",
       "    <tr>\n",
       "      <th>15002</th>\n",
       "      <td>4.7</td>\n",
       "      <td>0.0</td>\n",
       "      <td>24.99</td>\n",
       "      <td>0.0</td>\n",
       "      <td>1000.0</td>\n",
       "      <td>1.0</td>\n",
       "      <td>0</td>\n",
       "      <td>1</td>\n",
       "      <td>0</td>\n",
       "      <td>0</td>\n",
       "      <td>...</td>\n",
       "      <td>0</td>\n",
       "      <td>0</td>\n",
       "      <td>0</td>\n",
       "      <td>0</td>\n",
       "      <td>0</td>\n",
       "      <td>0</td>\n",
       "      <td>0</td>\n",
       "      <td>0</td>\n",
       "      <td>0</td>\n",
       "      <td>0</td>\n",
       "    </tr>\n",
       "    <tr>\n",
       "      <th>15005</th>\n",
       "      <td>4.7</td>\n",
       "      <td>0.0</td>\n",
       "      <td>12.95</td>\n",
       "      <td>0.0</td>\n",
       "      <td>3000.0</td>\n",
       "      <td>1.0</td>\n",
       "      <td>0</td>\n",
       "      <td>1</td>\n",
       "      <td>0</td>\n",
       "      <td>0</td>\n",
       "      <td>...</td>\n",
       "      <td>0</td>\n",
       "      <td>0</td>\n",
       "      <td>0</td>\n",
       "      <td>0</td>\n",
       "      <td>0</td>\n",
       "      <td>0</td>\n",
       "      <td>0</td>\n",
       "      <td>0</td>\n",
       "      <td>0</td>\n",
       "      <td>0</td>\n",
       "    </tr>\n",
       "    <tr>\n",
       "      <th>15006</th>\n",
       "      <td>4.6</td>\n",
       "      <td>0.0</td>\n",
       "      <td>19.98</td>\n",
       "      <td>0.0</td>\n",
       "      <td>3000.0</td>\n",
       "      <td>1.0</td>\n",
       "      <td>0</td>\n",
       "      <td>1</td>\n",
       "      <td>0</td>\n",
       "      <td>0</td>\n",
       "      <td>...</td>\n",
       "      <td>0</td>\n",
       "      <td>0</td>\n",
       "      <td>0</td>\n",
       "      <td>0</td>\n",
       "      <td>0</td>\n",
       "      <td>0</td>\n",
       "      <td>0</td>\n",
       "      <td>0</td>\n",
       "      <td>0</td>\n",
       "      <td>0</td>\n",
       "    </tr>\n",
       "    <tr>\n",
       "      <th>...</th>\n",
       "      <td>...</td>\n",
       "      <td>...</td>\n",
       "      <td>...</td>\n",
       "      <td>...</td>\n",
       "      <td>...</td>\n",
       "      <td>...</td>\n",
       "      <td>...</td>\n",
       "      <td>...</td>\n",
       "      <td>...</td>\n",
       "      <td>...</td>\n",
       "      <td>...</td>\n",
       "      <td>...</td>\n",
       "      <td>...</td>\n",
       "      <td>...</td>\n",
       "      <td>...</td>\n",
       "      <td>...</td>\n",
       "      <td>...</td>\n",
       "      <td>...</td>\n",
       "      <td>...</td>\n",
       "      <td>...</td>\n",
       "      <td>...</td>\n",
       "    </tr>\n",
       "    <tr>\n",
       "      <th>1389693</th>\n",
       "      <td>0.0</td>\n",
       "      <td>0.0</td>\n",
       "      <td>0.00</td>\n",
       "      <td>0.0</td>\n",
       "      <td>0.0</td>\n",
       "      <td>0.0</td>\n",
       "      <td>1</td>\n",
       "      <td>0</td>\n",
       "      <td>0</td>\n",
       "      <td>0</td>\n",
       "      <td>...</td>\n",
       "      <td>0</td>\n",
       "      <td>0</td>\n",
       "      <td>0</td>\n",
       "      <td>0</td>\n",
       "      <td>0</td>\n",
       "      <td>0</td>\n",
       "      <td>0</td>\n",
       "      <td>0</td>\n",
       "      <td>0</td>\n",
       "      <td>0</td>\n",
       "    </tr>\n",
       "    <tr>\n",
       "      <th>1389694</th>\n",
       "      <td>0.0</td>\n",
       "      <td>0.0</td>\n",
       "      <td>0.00</td>\n",
       "      <td>0.0</td>\n",
       "      <td>0.0</td>\n",
       "      <td>0.0</td>\n",
       "      <td>1</td>\n",
       "      <td>0</td>\n",
       "      <td>0</td>\n",
       "      <td>0</td>\n",
       "      <td>...</td>\n",
       "      <td>0</td>\n",
       "      <td>0</td>\n",
       "      <td>0</td>\n",
       "      <td>0</td>\n",
       "      <td>0</td>\n",
       "      <td>0</td>\n",
       "      <td>0</td>\n",
       "      <td>0</td>\n",
       "      <td>0</td>\n",
       "      <td>0</td>\n",
       "    </tr>\n",
       "    <tr>\n",
       "      <th>1389695</th>\n",
       "      <td>0.0</td>\n",
       "      <td>0.0</td>\n",
       "      <td>0.00</td>\n",
       "      <td>0.0</td>\n",
       "      <td>0.0</td>\n",
       "      <td>0.0</td>\n",
       "      <td>1</td>\n",
       "      <td>0</td>\n",
       "      <td>0</td>\n",
       "      <td>0</td>\n",
       "      <td>...</td>\n",
       "      <td>0</td>\n",
       "      <td>0</td>\n",
       "      <td>0</td>\n",
       "      <td>0</td>\n",
       "      <td>0</td>\n",
       "      <td>0</td>\n",
       "      <td>0</td>\n",
       "      <td>0</td>\n",
       "      <td>0</td>\n",
       "      <td>0</td>\n",
       "    </tr>\n",
       "    <tr>\n",
       "      <th>1389697</th>\n",
       "      <td>0.0</td>\n",
       "      <td>0.0</td>\n",
       "      <td>0.00</td>\n",
       "      <td>0.0</td>\n",
       "      <td>0.0</td>\n",
       "      <td>0.0</td>\n",
       "      <td>1</td>\n",
       "      <td>0</td>\n",
       "      <td>0</td>\n",
       "      <td>0</td>\n",
       "      <td>...</td>\n",
       "      <td>0</td>\n",
       "      <td>0</td>\n",
       "      <td>0</td>\n",
       "      <td>0</td>\n",
       "      <td>0</td>\n",
       "      <td>0</td>\n",
       "      <td>0</td>\n",
       "      <td>0</td>\n",
       "      <td>0</td>\n",
       "      <td>0</td>\n",
       "    </tr>\n",
       "    <tr>\n",
       "      <th>1389698</th>\n",
       "      <td>0.0</td>\n",
       "      <td>0.0</td>\n",
       "      <td>0.00</td>\n",
       "      <td>0.0</td>\n",
       "      <td>0.0</td>\n",
       "      <td>0.0</td>\n",
       "      <td>1</td>\n",
       "      <td>0</td>\n",
       "      <td>0</td>\n",
       "      <td>0</td>\n",
       "      <td>...</td>\n",
       "      <td>0</td>\n",
       "      <td>0</td>\n",
       "      <td>0</td>\n",
       "      <td>0</td>\n",
       "      <td>0</td>\n",
       "      <td>0</td>\n",
       "      <td>0</td>\n",
       "      <td>0</td>\n",
       "      <td>0</td>\n",
       "      <td>0</td>\n",
       "    </tr>\n",
       "  </tbody>\n",
       "</table>\n",
       "<p>1375622 rows × 254 columns</p>\n",
       "</div>"
      ],
      "text/plain": [
       "         Stars  Reviews  Price  Date Scraped  Bought In Month  Is Best Seller  \\\n",
       "14980      4.3      0.0  84.85           0.0            700.0             1.0   \n",
       "14994      4.6      0.0  29.99           0.0           1000.0             1.0   \n",
       "15002      4.7      0.0  24.99           0.0           1000.0             1.0   \n",
       "15005      4.7      0.0  12.95           0.0           3000.0             1.0   \n",
       "15006      4.6      0.0  19.98           0.0           3000.0             1.0   \n",
       "...        ...      ...    ...           ...              ...             ...   \n",
       "1389693    0.0      0.0   0.00           0.0              0.0             0.0   \n",
       "1389694    0.0      0.0   0.00           0.0              0.0             0.0   \n",
       "1389695    0.0      0.0   0.00           0.0              0.0             0.0   \n",
       "1389697    0.0      0.0   0.00           0.0              0.0             0.0   \n",
       "1389698    0.0      0.0   0.00           0.0              0.0             0.0   \n",
       "\n",
       "         Men's Accessories  Men's Clothing  Men's Shoes  Suitcases  ...  \\\n",
       "14980                    0               1            0          0  ...   \n",
       "14994                    0               1            0          0  ...   \n",
       "15002                    0               1            0          0  ...   \n",
       "15005                    0               1            0          0  ...   \n",
       "15006                    0               1            0          0  ...   \n",
       "...                    ...             ...          ...        ...  ...   \n",
       "1389693                  1               0            0          0  ...   \n",
       "1389694                  1               0            0          0  ...   \n",
       "1389695                  1               0            0          0  ...   \n",
       "1389697                  1               0            0          0  ...   \n",
       "1389698                  1               0            0          0  ...   \n",
       "\n",
       "         Tablet Accessories  Automotive Interior Accessories  \\\n",
       "14980                     0                                0   \n",
       "14994                     0                                0   \n",
       "15002                     0                                0   \n",
       "15005                     0                                0   \n",
       "15006                     0                                0   \n",
       "...                     ...                              ...   \n",
       "1389693                   0                                0   \n",
       "1389694                   0                                0   \n",
       "1389695                   0                                0   \n",
       "1389697                   0                                0   \n",
       "1389698                   0                                0   \n",
       "\n",
       "         Food Service Equipment & Supplies  Paint, Wall Treatments & Supplies  \\\n",
       "14980                                    0                                  0   \n",
       "14994                                    0                                  0   \n",
       "15002                                    0                                  0   \n",
       "15005                                    0                                  0   \n",
       "15006                                    0                                  0   \n",
       "...                                    ...                                ...   \n",
       "1389693                                  0                                  0   \n",
       "1389694                                  0                                  0   \n",
       "1389695                                  0                                  0   \n",
       "1389697                                  0                                  0   \n",
       "1389698                                  0                                  0   \n",
       "\n",
       "         Rain Umbrellas  Test, Measure & Inspect  Travel Accessories  \\\n",
       "14980                 0                        0                   0   \n",
       "14994                 0                        0                   0   \n",
       "15002                 0                        0                   0   \n",
       "15005                 0                        0                   0   \n",
       "15006                 0                        0                   0   \n",
       "...                 ...                      ...                 ...   \n",
       "1389693               0                        0                   0   \n",
       "1389694               0                        0                   0   \n",
       "1389695               0                        0                   0   \n",
       "1389697               0                        0                   0   \n",
       "1389698               0                        0                   0   \n",
       "\n",
       "         Travel Tote Bags  Car Electronics & Accessories  \\\n",
       "14980                   0                              0   \n",
       "14994                   0                              0   \n",
       "15002                   0                              0   \n",
       "15005                   0                              0   \n",
       "15006                   0                              0   \n",
       "...                   ...                            ...   \n",
       "1389693                 0                              0   \n",
       "1389694                 0                              0   \n",
       "1389695                 0                              0   \n",
       "1389697                 0                              0   \n",
       "1389698                 0                              0   \n",
       "\n",
       "         Stationery & Gift Wrapping Supplies  \n",
       "14980                                      0  \n",
       "14994                                      0  \n",
       "15002                                      0  \n",
       "15005                                      0  \n",
       "15006                                      0  \n",
       "...                                      ...  \n",
       "1389693                                    0  \n",
       "1389694                                    0  \n",
       "1389695                                    0  \n",
       "1389697                                    0  \n",
       "1389698                                    0  \n",
       "\n",
       "[1375622 rows x 254 columns]"
      ]
     },
     "execution_count": 4,
     "metadata": {},
     "output_type": "execute_result"
    }
   ],
   "source": [
    "feat_cols = [\"Stars\", \"Reviews\", \"Price\", \"Date Scraped\", \"Bought In Month\", \"Is Best Seller\"]\n",
    "\n",
    "# Usa data such that: has Category, has Bought in Month\n",
    "df_nn_bs = df_az[~df_az[\"Category\"].isna() & ~df_az[\"Bought In Month\"].isna()][feat_cols]\n",
    "\n",
    "# Use 1% == Best Seller\n",
    "num_bs = len(df_nn_bs[df_nn_bs[\"Is Best Seller\"] == True])\n",
    "df_nn_bs = pd.concat([df_nn_bs[df_nn_bs[\"Is Best Seller\"] == True], df_nn_bs[df_nn_bs[\"Is Best Seller\"] != True].sample(num_bs * 100, random_state=42)])\n",
    "\n",
    "# Make datetime binary\n",
    "df_nn_bs[\"Date Scraped\"] = df_nn_bs[\"Date Scraped\"].map({datetime(2023, 11, 1): 0, datetime(2024, 2, 1): 1})\n",
    "\n",
    "df_nn_bs[\"Is Best Seller\"] = df_nn_bs[\"Is Best Seller\"].astype(int)\n",
    "\n",
    "# One-hot encode categorical var `Category`\n",
    "df_nn_bs = pd.concat([df_nn_bs, pd.get_dummies(df_az[~df_az[\"Category\"].isna() & ~df_az[\"Bought In Month\"].isna()][\"Category\"], dtype=int)], axis=\"columns\").fillna(0)\n",
    "\n",
    "print(df_nn_bs.sample(10).iloc[:, :6].to_markdown(index=False))\n",
    "\n",
    "df_nn_bs"
   ]
  },
  {
   "cell_type": "markdown",
   "id": "71e4e592-73d7-4a92-b8dc-3e8051f3c134",
   "metadata": {},
   "source": [
    "### Price Increase Data"
   ]
  },
  {
   "cell_type": "code",
   "execution_count": 5,
   "id": "12e1ac4d-f50f-465e-80b6-11e792cb6bc5",
   "metadata": {
    "execution": {
     "iopub.execute_input": "2024-05-05T05:22:56.764688Z",
     "iopub.status.busy": "2024-05-05T05:22:56.764688Z",
     "iopub.status.idle": "2024-05-05T05:22:56.995141Z",
     "shell.execute_reply": "2024-05-05T05:22:56.994148Z",
     "shell.execute_reply.started": "2024-05-05T05:22:56.764688Z"
    }
   },
   "outputs": [
    {
     "name": "stdout",
     "output_type": "stream",
     "text": [
      "|   Is Best Seller |   Stars |   Reviews |   Price |   List Price |   Bought In Month |   Price Diff |\n",
      "|-----------------:|--------:|----------:|--------:|-------------:|------------------:|-------------:|\n",
      "|                0 |     4.8 |       352 |   41    |        55    |               200 |        -4.95 |\n",
      "|                0 |     4.8 |       610 |   22.98 |        22.98 |                 0 |         0    |\n",
      "|                0 |     4.3 |      2159 |    7.99 |        19.99 |               100 |       -12    |\n",
      "|                0 |     4.2 |        17 |    9.99 |         9.99 |                 0 |         0    |\n",
      "|                0 |     4.2 |      2006 |    5.99 |         5.99 |              1000 |         0    |\n",
      "|                0 |     4.7 |      3924 |   54.22 |        73.29 |               200 |       -18.07 |\n",
      "|                0 |     4.5 |      1553 |   19.51 |        19.51 |              1000 |        -0.48 |\n",
      "|                0 |     4.4 |      5238 |  227    |       529    |                 0 |       -57.95 |\n",
      "|                0 |     4.2 |      7227 |   14.99 |        39.98 |                 0 |        -5    |\n",
      "|                0 |     4.8 |      8414 |   17.95 |        19.99 |               100 |        -1.98 |\n"
     ]
    },
    {
     "name": "stderr",
     "output_type": "stream",
     "text": [
      "C:\\Users\\Bhavana\\AppData\\Local\\Temp\\ipykernel_25416\\3639429484.py:16: SettingWithCopyWarning:\n",
      "\n",
      "\n",
      "A value is trying to be set on a copy of a slice from a DataFrame.\n",
      "Try using .loc[row_indexer,col_indexer] = value instead\n",
      "\n",
      "See the caveats in the documentation: https://pandas.pydata.org/pandas-docs/stable/user_guide/indexing.html#returning-a-view-versus-a-copy\n",
      "\n"
     ]
    },
    {
     "data": {
      "text/html": [
       "<div>\n",
       "<style scoped>\n",
       "    .dataframe tbody tr th:only-of-type {\n",
       "        vertical-align: middle;\n",
       "    }\n",
       "\n",
       "    .dataframe tbody tr th {\n",
       "        vertical-align: top;\n",
       "    }\n",
       "\n",
       "    .dataframe thead th {\n",
       "        text-align: right;\n",
       "    }\n",
       "</style>\n",
       "<table border=\"1\" class=\"dataframe\">\n",
       "  <thead>\n",
       "    <tr style=\"text-align: right;\">\n",
       "      <th></th>\n",
       "      <th>Is Best Seller</th>\n",
       "      <th>Stars</th>\n",
       "      <th>Reviews</th>\n",
       "      <th>Price</th>\n",
       "      <th>List Price</th>\n",
       "      <th>Bought In Month</th>\n",
       "      <th>Price Diff</th>\n",
       "      <th>Men's Clothing</th>\n",
       "      <th>Men's Shoes</th>\n",
       "      <th>Suitcases</th>\n",
       "      <th>...</th>\n",
       "      <th>Nintendo 3DS &amp; 2DS Consoles, Games &amp; Accessories</th>\n",
       "      <th>Personal Care Products</th>\n",
       "      <th>Automotive Replacement Parts</th>\n",
       "      <th>Backpacks</th>\n",
       "      <th>Craft Supplies &amp; Materials</th>\n",
       "      <th>Laptop Bags</th>\n",
       "      <th>Automotive Interior Accessories</th>\n",
       "      <th>Food Service Equipment &amp; Supplies</th>\n",
       "      <th>Travel Accessories</th>\n",
       "      <th>Travel Tote Bags</th>\n",
       "    </tr>\n",
       "  </thead>\n",
       "  <tbody>\n",
       "    <tr>\n",
       "      <th>1</th>\n",
       "      <td>0</td>\n",
       "      <td>4.7</td>\n",
       "      <td>845.0</td>\n",
       "      <td>3.25</td>\n",
       "      <td>3.25</td>\n",
       "      <td>200.0</td>\n",
       "      <td>-0.02</td>\n",
       "      <td>0</td>\n",
       "      <td>0</td>\n",
       "      <td>0</td>\n",
       "      <td>...</td>\n",
       "      <td>0</td>\n",
       "      <td>0</td>\n",
       "      <td>0</td>\n",
       "      <td>0</td>\n",
       "      <td>0</td>\n",
       "      <td>0</td>\n",
       "      <td>0</td>\n",
       "      <td>0</td>\n",
       "      <td>0</td>\n",
       "      <td>0</td>\n",
       "    </tr>\n",
       "    <tr>\n",
       "      <th>3</th>\n",
       "      <td>0</td>\n",
       "      <td>4.7</td>\n",
       "      <td>64.0</td>\n",
       "      <td>44.95</td>\n",
       "      <td>44.95</td>\n",
       "      <td>0.0</td>\n",
       "      <td>4.51</td>\n",
       "      <td>0</td>\n",
       "      <td>0</td>\n",
       "      <td>0</td>\n",
       "      <td>...</td>\n",
       "      <td>0</td>\n",
       "      <td>0</td>\n",
       "      <td>0</td>\n",
       "      <td>0</td>\n",
       "      <td>0</td>\n",
       "      <td>0</td>\n",
       "      <td>0</td>\n",
       "      <td>0</td>\n",
       "      <td>0</td>\n",
       "      <td>0</td>\n",
       "    </tr>\n",
       "    <tr>\n",
       "      <th>5</th>\n",
       "      <td>0</td>\n",
       "      <td>4.6</td>\n",
       "      <td>1126.0</td>\n",
       "      <td>110.00</td>\n",
       "      <td>150.00</td>\n",
       "      <td>200.0</td>\n",
       "      <td>-32.00</td>\n",
       "      <td>0</td>\n",
       "      <td>0</td>\n",
       "      <td>0</td>\n",
       "      <td>...</td>\n",
       "      <td>0</td>\n",
       "      <td>0</td>\n",
       "      <td>0</td>\n",
       "      <td>0</td>\n",
       "      <td>0</td>\n",
       "      <td>1</td>\n",
       "      <td>0</td>\n",
       "      <td>0</td>\n",
       "      <td>0</td>\n",
       "      <td>0</td>\n",
       "    </tr>\n",
       "    <tr>\n",
       "      <th>7</th>\n",
       "      <td>0</td>\n",
       "      <td>4.7</td>\n",
       "      <td>2914.0</td>\n",
       "      <td>78.56</td>\n",
       "      <td>78.56</td>\n",
       "      <td>300.0</td>\n",
       "      <td>2.60</td>\n",
       "      <td>0</td>\n",
       "      <td>0</td>\n",
       "      <td>0</td>\n",
       "      <td>...</td>\n",
       "      <td>0</td>\n",
       "      <td>0</td>\n",
       "      <td>0</td>\n",
       "      <td>0</td>\n",
       "      <td>0</td>\n",
       "      <td>0</td>\n",
       "      <td>0</td>\n",
       "      <td>0</td>\n",
       "      <td>0</td>\n",
       "      <td>0</td>\n",
       "    </tr>\n",
       "    <tr>\n",
       "      <th>9</th>\n",
       "      <td>0</td>\n",
       "      <td>3.8</td>\n",
       "      <td>2582.0</td>\n",
       "      <td>34.25</td>\n",
       "      <td>72.99</td>\n",
       "      <td>800.0</td>\n",
       "      <td>-5.74</td>\n",
       "      <td>0</td>\n",
       "      <td>0</td>\n",
       "      <td>0</td>\n",
       "      <td>...</td>\n",
       "      <td>0</td>\n",
       "      <td>0</td>\n",
       "      <td>0</td>\n",
       "      <td>0</td>\n",
       "      <td>0</td>\n",
       "      <td>0</td>\n",
       "      <td>0</td>\n",
       "      <td>0</td>\n",
       "      <td>0</td>\n",
       "      <td>0</td>\n",
       "    </tr>\n",
       "    <tr>\n",
       "      <th>...</th>\n",
       "      <td>...</td>\n",
       "      <td>...</td>\n",
       "      <td>...</td>\n",
       "      <td>...</td>\n",
       "      <td>...</td>\n",
       "      <td>...</td>\n",
       "      <td>...</td>\n",
       "      <td>...</td>\n",
       "      <td>...</td>\n",
       "      <td>...</td>\n",
       "      <td>...</td>\n",
       "      <td>...</td>\n",
       "      <td>...</td>\n",
       "      <td>...</td>\n",
       "      <td>...</td>\n",
       "      <td>...</td>\n",
       "      <td>...</td>\n",
       "      <td>...</td>\n",
       "      <td>...</td>\n",
       "      <td>...</td>\n",
       "      <td>...</td>\n",
       "    </tr>\n",
       "    <tr>\n",
       "      <th>3323</th>\n",
       "      <td>0</td>\n",
       "      <td>4.7</td>\n",
       "      <td>91.0</td>\n",
       "      <td>23.99</td>\n",
       "      <td>23.99</td>\n",
       "      <td>0.0</td>\n",
       "      <td>-3.00</td>\n",
       "      <td>0</td>\n",
       "      <td>0</td>\n",
       "      <td>0</td>\n",
       "      <td>...</td>\n",
       "      <td>0</td>\n",
       "      <td>0</td>\n",
       "      <td>0</td>\n",
       "      <td>0</td>\n",
       "      <td>0</td>\n",
       "      <td>0</td>\n",
       "      <td>0</td>\n",
       "      <td>0</td>\n",
       "      <td>0</td>\n",
       "      <td>0</td>\n",
       "    </tr>\n",
       "    <tr>\n",
       "      <th>3325</th>\n",
       "      <td>0</td>\n",
       "      <td>3.3</td>\n",
       "      <td>8.0</td>\n",
       "      <td>3.99</td>\n",
       "      <td>4.99</td>\n",
       "      <td>0.0</td>\n",
       "      <td>-6.00</td>\n",
       "      <td>0</td>\n",
       "      <td>0</td>\n",
       "      <td>0</td>\n",
       "      <td>...</td>\n",
       "      <td>0</td>\n",
       "      <td>0</td>\n",
       "      <td>0</td>\n",
       "      <td>0</td>\n",
       "      <td>0</td>\n",
       "      <td>0</td>\n",
       "      <td>0</td>\n",
       "      <td>0</td>\n",
       "      <td>1</td>\n",
       "      <td>0</td>\n",
       "    </tr>\n",
       "    <tr>\n",
       "      <th>3327</th>\n",
       "      <td>0</td>\n",
       "      <td>3.9</td>\n",
       "      <td>267.0</td>\n",
       "      <td>409.00</td>\n",
       "      <td>449.99</td>\n",
       "      <td>0.0</td>\n",
       "      <td>-40.99</td>\n",
       "      <td>0</td>\n",
       "      <td>0</td>\n",
       "      <td>0</td>\n",
       "      <td>...</td>\n",
       "      <td>0</td>\n",
       "      <td>0</td>\n",
       "      <td>0</td>\n",
       "      <td>0</td>\n",
       "      <td>0</td>\n",
       "      <td>0</td>\n",
       "      <td>0</td>\n",
       "      <td>0</td>\n",
       "      <td>0</td>\n",
       "      <td>0</td>\n",
       "    </tr>\n",
       "    <tr>\n",
       "      <th>3329</th>\n",
       "      <td>0</td>\n",
       "      <td>4.8</td>\n",
       "      <td>2624.0</td>\n",
       "      <td>21.99</td>\n",
       "      <td>79.99</td>\n",
       "      <td>0.0</td>\n",
       "      <td>-78.00</td>\n",
       "      <td>0</td>\n",
       "      <td>0</td>\n",
       "      <td>0</td>\n",
       "      <td>...</td>\n",
       "      <td>0</td>\n",
       "      <td>0</td>\n",
       "      <td>0</td>\n",
       "      <td>0</td>\n",
       "      <td>0</td>\n",
       "      <td>0</td>\n",
       "      <td>0</td>\n",
       "      <td>0</td>\n",
       "      <td>0</td>\n",
       "      <td>0</td>\n",
       "    </tr>\n",
       "    <tr>\n",
       "      <th>3331</th>\n",
       "      <td>0</td>\n",
       "      <td>4.5</td>\n",
       "      <td>261.0</td>\n",
       "      <td>79.99</td>\n",
       "      <td>119.99</td>\n",
       "      <td>0.0</td>\n",
       "      <td>-40.00</td>\n",
       "      <td>0</td>\n",
       "      <td>0</td>\n",
       "      <td>0</td>\n",
       "      <td>...</td>\n",
       "      <td>0</td>\n",
       "      <td>0</td>\n",
       "      <td>0</td>\n",
       "      <td>0</td>\n",
       "      <td>0</td>\n",
       "      <td>0</td>\n",
       "      <td>0</td>\n",
       "      <td>0</td>\n",
       "      <td>0</td>\n",
       "      <td>0</td>\n",
       "    </tr>\n",
       "  </tbody>\n",
       "</table>\n",
       "<p>1666 rows × 119 columns</p>\n",
       "</div>"
      ],
      "text/plain": [
       "      Is Best Seller  Stars  Reviews   Price  List Price  Bought In Month  \\\n",
       "1                  0    4.7    845.0    3.25        3.25            200.0   \n",
       "3                  0    4.7     64.0   44.95       44.95              0.0   \n",
       "5                  0    4.6   1126.0  110.00      150.00            200.0   \n",
       "7                  0    4.7   2914.0   78.56       78.56            300.0   \n",
       "9                  0    3.8   2582.0   34.25       72.99            800.0   \n",
       "...              ...    ...      ...     ...         ...              ...   \n",
       "3323               0    4.7     91.0   23.99       23.99              0.0   \n",
       "3325               0    3.3      8.0    3.99        4.99              0.0   \n",
       "3327               0    3.9    267.0  409.00      449.99              0.0   \n",
       "3329               0    4.8   2624.0   21.99       79.99              0.0   \n",
       "3331               0    4.5    261.0   79.99      119.99              0.0   \n",
       "\n",
       "      Price Diff  Men's Clothing  Men's Shoes  Suitcases  ...  \\\n",
       "1          -0.02               0            0          0  ...   \n",
       "3           4.51               0            0          0  ...   \n",
       "5         -32.00               0            0          0  ...   \n",
       "7           2.60               0            0          0  ...   \n",
       "9          -5.74               0            0          0  ...   \n",
       "...          ...             ...          ...        ...  ...   \n",
       "3323       -3.00               0            0          0  ...   \n",
       "3325       -6.00               0            0          0  ...   \n",
       "3327      -40.99               0            0          0  ...   \n",
       "3329      -78.00               0            0          0  ...   \n",
       "3331      -40.00               0            0          0  ...   \n",
       "\n",
       "      Nintendo 3DS & 2DS Consoles, Games & Accessories  \\\n",
       "1                                                    0   \n",
       "3                                                    0   \n",
       "5                                                    0   \n",
       "7                                                    0   \n",
       "9                                                    0   \n",
       "...                                                ...   \n",
       "3323                                                 0   \n",
       "3325                                                 0   \n",
       "3327                                                 0   \n",
       "3329                                                 0   \n",
       "3331                                                 0   \n",
       "\n",
       "      Personal Care Products  Automotive Replacement Parts  Backpacks  \\\n",
       "1                          0                             0          0   \n",
       "3                          0                             0          0   \n",
       "5                          0                             0          0   \n",
       "7                          0                             0          0   \n",
       "9                          0                             0          0   \n",
       "...                      ...                           ...        ...   \n",
       "3323                       0                             0          0   \n",
       "3325                       0                             0          0   \n",
       "3327                       0                             0          0   \n",
       "3329                       0                             0          0   \n",
       "3331                       0                             0          0   \n",
       "\n",
       "      Craft Supplies & Materials  Laptop Bags  \\\n",
       "1                              0            0   \n",
       "3                              0            0   \n",
       "5                              0            1   \n",
       "7                              0            0   \n",
       "9                              0            0   \n",
       "...                          ...          ...   \n",
       "3323                           0            0   \n",
       "3325                           0            0   \n",
       "3327                           0            0   \n",
       "3329                           0            0   \n",
       "3331                           0            0   \n",
       "\n",
       "      Automotive Interior Accessories  Food Service Equipment & Supplies  \\\n",
       "1                                   0                                  0   \n",
       "3                                   0                                  0   \n",
       "5                                   0                                  0   \n",
       "7                                   0                                  0   \n",
       "9                                   0                                  0   \n",
       "...                               ...                                ...   \n",
       "3323                                0                                  0   \n",
       "3325                                0                                  0   \n",
       "3327                                0                                  0   \n",
       "3329                                0                                  0   \n",
       "3331                                0                                  0   \n",
       "\n",
       "      Travel Accessories  Travel Tote Bags  \n",
       "1                      0                 0  \n",
       "3                      0                 0  \n",
       "5                      0                 0  \n",
       "7                      0                 0  \n",
       "9                      0                 0  \n",
       "...                  ...               ...  \n",
       "3323                   0                 0  \n",
       "3325                   1                 0  \n",
       "3327                   0                 0  \n",
       "3329                   0                 0  \n",
       "3331                   0                 0  \n",
       "\n",
       "[1666 rows x 119 columns]"
      ]
     },
     "execution_count": 5,
     "metadata": {},
     "output_type": "execute_result"
    }
   ],
   "source": [
    "# Make DF of products that have a calculable price difference over time\n",
    "df_same = df_az[df_az[\"Asin\"].duplicated(keep=False)].sort_values([\"Asin\", \"Date Scraped\"]).reset_index()\n",
    "diffs = df_same[[\"Asin\", \"Date Scraped\", \"Price\", \"List Price\"]].set_index(\"Asin\").groupby(level=0).diff().reset_index()\n",
    "df_same[\"Price Diff\"] = diffs[\"Price\"]\n",
    "df_same[\"List Price Diff\"] = diffs[\"List Price\"]\n",
    "df_same[\"Price Diff\"] = df_same[\"Price Diff\"].bfill(limit=1)\n",
    "df_same[\"Increased\"] = df_same[\"Price Diff\"] > 0\n",
    "df_same[\"Bought In Month\"] = df_same[\"Bought In Month\"].ffill(limit=1)\n",
    "df_same[\"Category\"] = df_same[\"Category\"].ffill().cat.remove_unused_categories()\n",
    "\n",
    "# Use initial price and data, in order to predict later price change\n",
    "df_diff = df_same[df_same[\"Date Scraped\"] > pd.Timestamp(\"2023-11-01\")]\n",
    "\n",
    "# Scale numerical data to [0, 1], make bool `Is Best Seller` an int\n",
    "df_nn_inc = df_diff[[\"Is Best Seller\", \"Stars\", \"Reviews\", \"Price\", \"List Price\", \"Bought In Month\", \"Price Diff\"]]\n",
    "df_nn_inc[\"Is Best Seller\"] = df_nn_inc[\"Is Best Seller\"].astype(int)\n",
    "\n",
    "# One-hot encode categorical var `Category`\n",
    "df_nn_inc = pd.concat([df_nn_inc, pd.get_dummies(df_diff[\"Category\"], dtype=int)], axis=\"columns\").fillna(0)\n",
    "\n",
    "print(df_nn_inc.sample(10).iloc[:, :7].to_markdown(index=False))\n",
    "\n",
    "df_nn_inc"
   ]
  },
  {
   "cell_type": "code",
   "execution_count": null,
   "id": "a4716f0d-7f0b-4b5d-a681-47781d05c145",
   "metadata": {},
   "outputs": [],
   "source": []
  },
  {
   "cell_type": "code",
   "execution_count": 7,
   "id": "0142dfb0-d4d8-4c7a-8ced-bb19f82bbcbd",
   "metadata": {
    "execution": {
     "iopub.execute_input": "2024-05-05T05:23:11.872302Z",
     "iopub.status.busy": "2024-05-05T05:23:11.871308Z",
     "iopub.status.idle": "2024-05-05T05:23:14.717204Z",
     "shell.execute_reply": "2024-05-05T05:23:14.716707Z",
     "shell.execute_reply.started": "2024-05-05T05:23:11.871805Z"
    }
   },
   "outputs": [],
   "source": [
    "class NNDataset(Dataset):\n",
    "    def __init__(self, df, y_col):\n",
    "        self.x = torch.Tensor(df.drop(columns=y_col).to_numpy())\n",
    "        self.y = torch.Tensor(df[y_col].to_numpy())\n",
    "\n",
    "    def __len__(self):\n",
    "        return len(self.x)\n",
    "\n",
    "    def __getitem__(self, idx):\n",
    "        return self.x[idx], self.y[idx]\n",
    "\n",
    "train_bs, test_bs = train_test_split(df_nn_bs, random_state=42, stratify=df_nn_bs[\"Is Best Seller\"])\n",
    "train_pd, test_pd = train_test_split(df_nn_inc, random_state=42, stratify=df_nn_inc[\"Price Diff\"] > 0)\n",
    "\n",
    "train_bs, test_bs = NNDataset(train_bs, \"Is Best Seller\"), NNDataset(test_bs, \"Is Best Seller\")\n",
    "train_bs.y = train_bs.y.type(torch.LongTensor)\n",
    "test_bs.y = test_bs.y.type(torch.LongTensor)\n",
    "train_pd, test_pd = NNDataset(train_pd, \"Price Diff\"), NNDataset(test_pd, \"Price Diff\")\n",
    "\n",
    "batch_size = 100\n",
    "train_bs_dl, test_bs_dl = DataLoader(train_bs, shuffle=True, batch_size=batch_size), DataLoader(test_bs, shuffle=True, batch_size=batch_size)\n",
    "train_pd_dl, test_pd_dl = DataLoader(train_pd, shuffle=True), DataLoader(test_pd, shuffle=True)"
   ]
  },
  {
   "cell_type": "markdown",
   "id": "5bf71b6d-5d69-4e4d-91b4-fd6a75f471e5",
   "metadata": {},
   "source": [
    "### Regression Data"
   ]
  },
  {
   "cell_type": "code",
   "execution_count": 8,
   "id": "8524f327-f157-47a1-8daf-40fde92f94d6",
   "metadata": {
    "editable": true,
    "execution": {
     "iopub.execute_input": "2024-05-05T05:23:14.719191Z",
     "iopub.status.busy": "2024-05-05T05:23:14.718694Z",
     "iopub.status.idle": "2024-05-05T05:23:14.778791Z",
     "shell.execute_reply": "2024-05-05T05:23:14.778294Z",
     "shell.execute_reply.started": "2024-05-05T05:23:14.719191Z"
    },
    "slideshow": {
     "slide_type": ""
    },
    "tags": []
   },
   "outputs": [
    {
     "name": "stdout",
     "output_type": "stream",
     "text": [
      "|   Reviews |   Stars |\n",
      "|----------:|--------:|\n",
      "|       835 |     4.8 |\n",
      "|         0 |     4.7 |\n",
      "|         0 |     4.5 |\n",
      "|       195 |     4.6 |\n",
      "|         9 |     4.7 |\n",
      "|         0 |     5   |\n",
      "|         0 |     3.8 |\n",
      "|         0 |     3.6 |\n",
      "|         0 |     0   |\n",
      "|         0 |     4.7 |\n"
     ]
    }
   ],
   "source": [
    "df_lr = df_az[[\"Reviews\", \"Stars\"]]\n",
    "df_lr = df_lr.fillna(0)\n",
    "\n",
    "print(df_lr.sample(10).to_markdown(index=False))"
   ]
  },
  {
   "cell_type": "markdown",
   "id": "fe119fef-24bc-4141-a948-4674ffa2093f",
   "metadata": {},
   "source": [
    "## Linear Regression"
   ]
  },
  {
   "cell_type": "markdown",
   "id": "fb064adf-86a6-44d2-9d6d-8ed432180bea",
   "metadata": {},
   "source": [
    "### Model Selection"
   ]
  },
  {
   "cell_type": "code",
   "execution_count": 9,
   "id": "33c8c2ac-b9ba-4729-a218-468a940e3039",
   "metadata": {
    "editable": false,
    "execution": {
     "iopub.execute_input": "2024-05-05T05:23:14.779784Z",
     "iopub.status.busy": "2024-05-05T05:23:14.779784Z",
     "iopub.status.idle": "2024-05-05T05:23:33.384724Z",
     "shell.execute_reply": "2024-05-05T05:23:33.383730Z",
     "shell.execute_reply.started": "2024-05-05T05:23:14.779784Z"
    },
    "slideshow": {
     "slide_type": ""
    },
    "tags": []
   },
   "outputs": [
    {
     "data": {
      "image/png": "[encoded data removed]"
     },
     "metadata": {},
     "output_type": "display_data"
    }
   ],
   "source": [
    "fig = px.scatter_matrix(df_az.select_dtypes(\"number\"))\n",
    "fig.update_traces(diagonal_visible=False, showupperhalf=False)\n",
    "fig.show(renderer=\"png\")"
   ]
  },
  {
   "cell_type": "markdown",
   "id": "0241847d-4ee5-4410-9e7c-b3d923ffb751",
   "metadata": {},
   "source": [
    "### Running and Results"
   ]
  },
  {
   "cell_type": "code",
   "execution_count": 10,
   "id": "bbc106ff-40e5-4512-abb5-4b90aa90ea85",
   "metadata": {
    "execution": {
     "iopub.execute_input": "2024-05-05T05:23:33.386213Z",
     "iopub.status.busy": "2024-05-05T05:23:33.385717Z",
     "iopub.status.idle": "2024-05-05T05:23:33.507400Z",
     "shell.execute_reply": "2024-05-05T05:23:33.506904Z",
     "shell.execute_reply.started": "2024-05-05T05:23:33.386213Z"
    }
   },
   "outputs": [
    {
     "name": "stdout",
     "output_type": "stream",
     "text": [
      "| Metric                   |      Value |\n",
      "|:-------------------------|-----------:|\n",
      "| mean_squared_error       | 1.819      |\n",
      "| mean_absolute_error      | 0.849941   |\n",
      "| explained_variance_score | 0.00510836 |\n",
      "| r2_score                 | 0.00510836 |\n",
      "{'fit_intercept': True, 'copy_X': True, 'n_jobs': None, 'positive': False, 'n_features_in_': 1, 'coef_': array([0.00016959]), 'rank_': 1, 'singular_': array([671798.84505618]), 'intercept_': 3.974664649695972}\n"
     ]
    }
   ],
   "source": [
    "lr_X = df_lr[\"Reviews\"].to_numpy().reshape(-1, 1)\n",
    "\n",
    "lr = LinearRegression()\n",
    "lr.fit(lr_X, df_lr[\"Stars\"])\n",
    "\n",
    "reg_metrics = [metrics.mean_squared_error, metrics.mean_absolute_error, metrics.explained_variance_score, metrics.r2_score]\n",
    "print(pd.DataFrame([{\"Metric\": m.__name__, \"Value\": m(df_lr[\"Stars\"], lr.predict(lr_X))} for m in reg_metrics]).to_markdown(index=False))\n",
    "print(lr.__dict__)"
   ]
  },
  {
   "cell_type": "code",
   "execution_count": 11,
   "id": "e6947ae2-b53a-4b0d-a778-04ae3e719834",
   "metadata": {
    "execution": {
     "iopub.execute_input": "2024-05-05T05:23:33.508394Z",
     "iopub.status.busy": "2024-05-05T05:23:33.508394Z",
     "iopub.status.idle": "2024-05-05T05:23:55.938032Z",
     "shell.execute_reply": "2024-05-05T05:23:55.937534Z",
     "shell.execute_reply.started": "2024-05-05T05:23:33.508394Z"
    }
   },
   "outputs": [
    {
     "data": {
      "image/png": "[encoded data removed]"
     },
     "metadata": {},
     "output_type": "display_data"
    }
   ],
   "source": [
    "lr_X_sorted = df_lr[\"Reviews\"].sort_values()\n",
    "lr_y_pred = lr.predict(lr_X_sorted.to_numpy().reshape(-1, 1))\n",
    "\n",
    "fig = px.scatter(df_lr, x=\"Reviews\", y=\"Stars\", opacity=0.1, trendline=\"ols\", trendline_color_override=\"lightgreen\")\n",
    "# fig.add_trace(go.Scatter(x=lr_X_sorted, y=lr_y_pred, name=\"Regression Line\"))\n",
    "# fig.data = fig.data[::-1]\n",
    "fig.show(renderer=\"png\")"
   ]
  },
  {
   "cell_type": "code",
   "execution_count": null,
   "id": "150455f7-5e9e-429c-a067-7e3a9113cde0",
   "metadata": {},
   "outputs": [],
   "source": []
  },
  {
   "cell_type": "markdown",
   "id": "b5cb0463-007f-4a35-a042-b7d50dcfdab2",
   "metadata": {},
   "source": [
    "-----\n",
    "## Neural Networks\n",
    "\n",
    "### Model Definition"
   ]
  },
  {
   "cell_type": "code",
   "execution_count": 32,
   "id": "bfc03d22-8f21-43ab-b704-874cf8e2567e",
   "metadata": {
    "execution": {
     "iopub.execute_input": "2024-05-05T05:46:07.131115Z",
     "iopub.status.busy": "2024-05-05T05:46:07.130618Z",
     "iopub.status.idle": "2024-05-05T05:46:07.148498Z",
     "shell.execute_reply": "2024-05-05T05:46:07.147505Z",
     "shell.execute_reply.started": "2024-05-05T05:46:07.131115Z"
    }
   },
   "outputs": [],
   "source": [
    "class BaseNNAz(nn.Module):\n",
    "    def __init__(self, in_dim, out_dim=1, activation_fn = nn.Sigmoid, out_fn = nn.Identity):\n",
    "      super(BaseNNAz, self).__init__()\n",
    "      # self.layers = nn.Sequential(\n",
    "      #     nn.Linear(in_dim, round(in_dim * 1.3)),\n",
    "      #     activation_fn(),\n",
    "      #     nn.Linear(round(in_dim * 1.3), round(in_dim * 0.75)),\n",
    "      #     activation_fn(),\n",
    "      #     nn.Linear(round(in_dim * 0.75), round(in_dim * 0.25)),\n",
    "      #     activation_fn(),\n",
    "      #     nn.Linear(round(in_dim * 0.25), out_dim),\n",
    "      #     out_fn()\n",
    "      # )\n",
    "\n",
    "      self.layers = nn.Sequential(\n",
    "          nn.Linear(in_dim, round(in_dim * 0.75)),\n",
    "          activation_fn(),\n",
    "          nn.Linear(round(in_dim * 0.75), round(in_dim * 0.50)),\n",
    "          activation_fn(),\n",
    "          nn.Linear(round(in_dim * 0.50), round(in_dim * 0.25)),\n",
    "          activation_fn(),\n",
    "          nn.Linear(round(in_dim * 0.25), out_dim),\n",
    "          out_fn()\n",
    "      )\n",
    "\n",
    "    # x represents our data\n",
    "    def forward(self, x):\n",
    "        x = self.layers(x)\n",
    "        return x\n",
    "\n",
    "nn_bs = BaseNNAz(train_bs.x.shape[1], out_dim=2, activation_fn=nn.Tanh, out_fn=nn.ReLU)\n",
    "nn_pd = BaseNNAz(train_pd.x.shape[1], activation_fn=nn.Tanh)"
   ]
  },
  {
   "cell_type": "markdown",
   "id": "94f5af60-65d6-4260-9193-e0523a28812a",
   "metadata": {
    "execution": {
     "iopub.execute_input": "2024-05-04T21:24:55.468594Z",
     "iopub.status.busy": "2024-05-04T21:24:55.468228Z",
     "iopub.status.idle": "2024-05-04T21:24:55.476079Z",
     "shell.execute_reply": "2024-05-04T21:24:55.475255Z",
     "shell.execute_reply.started": "2024-05-04T21:24:55.468567Z"
    }
   },
   "source": [
    "### Training"
   ]
  },
  {
   "cell_type": "code",
   "execution_count": 29,
   "id": "83a364d5-8058-41d7-a41c-46a197bd98b0",
   "metadata": {
    "execution": {
     "iopub.execute_input": "2024-05-05T05:37:07.204019Z",
     "iopub.status.busy": "2024-05-05T05:37:07.203026Z",
     "iopub.status.idle": "2024-05-05T05:37:07.220409Z",
     "shell.execute_reply": "2024-05-05T05:37:07.219415Z",
     "shell.execute_reply.started": "2024-05-05T05:37:07.204019Z"
    }
   },
   "outputs": [],
   "source": [
    "loss_fn_default = nn.MSELoss()\n",
    "opt = torch.optim.Adam\n",
    "\n",
    "def train(model, optimizer, train_dl, test_dl, epochs=50, loss_fn=loss_fn_default):\n",
    "    train_loss = []\n",
    "    val_loss = []\n",
    "\n",
    "    for e in range(epochs):\n",
    "        # Make sure gradient tracking is on\n",
    "        model.train(True)\n",
    "        \n",
    "        running_loss = 0.\n",
    "        running_vloss = 0.\n",
    "        for inputs, target in iter(train_dl):\n",
    "            # Zero your gradients for every batch!\n",
    "            optimizer.zero_grad()\n",
    "            # Make predictions for this batch\n",
    "            outputs = model(inputs)\n",
    "            # Compute the loss and its gradients\n",
    "            loss = loss_fn(outputs, target)\n",
    "            loss.backward()\n",
    "            # Adjust learning weights\n",
    "            optimizer.step()\n",
    "            # Gather data\n",
    "            running_loss += loss.item()\n",
    "\n",
    "        train_loss.append(running_loss / len(train_dl))\n",
    "        \n",
    "        # Set the model to evaluation mode\n",
    "        model.eval()\n",
    "        # Disable gradient computation and reduce memory consumption.\n",
    "        with torch.no_grad():\n",
    "            for vinputs, vtarget in iter(test_dl):\n",
    "                voutputs = model(vinputs)\n",
    "                vloss = loss_fn(voutputs, vtarget)\n",
    "                running_vloss += vloss.item()\n",
    "        val_loss.append(running_vloss / len(test_dl))\n",
    "\n",
    "        print(f\"Epoch {e} Loss: {train_loss[-1]}\\t Validation Loss: {val_loss[-1]}\")\n",
    "\n",
    "    return dict(train_loss=train_loss, validation_loss=val_loss)"
   ]
  },
  {
   "cell_type": "code",
   "execution_count": 14,
   "id": "381979a1-32bd-469e-a737-ac862da87158",
   "metadata": {
    "execution": {
     "iopub.execute_input": "2024-05-05T05:23:55.969441Z",
     "iopub.status.busy": "2024-05-05T05:23:55.968944Z",
     "iopub.status.idle": "2024-05-05T05:23:56.999846Z",
     "shell.execute_reply": "2024-05-05T05:23:56.999349Z",
     "shell.execute_reply.started": "2024-05-05T05:23:55.969441Z"
    }
   },
   "outputs": [
    {
     "data": {
      "text/plain": [
       "0.9951469302177429"
      ]
     },
     "execution_count": 14,
     "metadata": {},
     "output_type": "execute_result"
    }
   ],
   "source": [
    "# sum(train_bs.y) / len(train_bs.y)\n",
    "(1 - sum(test_bs.y) / len(test_bs.y)).item()"
   ]
  },
  {
   "cell_type": "code",
   "execution_count": 33,
   "id": "c580a422-5ae8-40a4-93db-570550cb7afb",
   "metadata": {
    "execution": {
     "iopub.execute_input": "2024-05-05T05:46:16.707477Z",
     "iopub.status.busy": "2024-05-05T05:46:16.706981Z",
     "iopub.status.idle": "2024-05-05T05:57:21.799407Z",
     "shell.execute_reply": "2024-05-05T05:57:21.798899Z",
     "shell.execute_reply.started": "2024-05-05T05:46:16.707477Z"
    }
   },
   "outputs": [
    {
     "name": "stdout",
     "output_type": "stream",
     "text": [
      "Epoch 0 Loss: 0.38879261160333284\t Validation Loss: 0.39886645258425973\n",
      "Epoch 1 Loss: 0.364324007173204\t Validation Loss: 0.3744275824188493\n",
      "Epoch 2 Loss: 0.3500039911482149\t Validation Loss: 0.32530237312406995\n",
      "Epoch 3 Loss: 0.34753416464805753\t Validation Loss: 0.326109366279182\n",
      "Epoch 4 Loss: 0.35019416635288103\t Validation Loss: 0.3673268444446284\n",
      "Epoch 5 Loss: 0.35382510408582923\t Validation Loss: 0.34306612720409796\n",
      "Epoch 6 Loss: 0.34957441716142795\t Validation Loss: 0.36916596139672886\n",
      "Epoch 7 Loss: 0.35530274081307284\t Validation Loss: 0.3499603644121698\n",
      "Epoch 8 Loss: 0.35342127921062977\t Validation Loss: 0.3559262676922561\n",
      "Epoch 9 Loss: 0.3480565032995205\t Validation Loss: 0.35283794010404584\n",
      "Epoch 10 Loss: 0.3480494789288883\t Validation Loss: 0.35796818759638904\n",
      "Epoch 11 Loss: 0.34298011163413167\t Validation Loss: 0.3228163083192221\n",
      "Epoch 12 Loss: 0.31917398722192813\t Validation Loss: 0.3125658557468722\n",
      "Epoch 13 Loss: 0.31318806488854717\t Validation Loss: 0.2971237156496838\n",
      "Epoch 14 Loss: 0.3285749950833412\t Validation Loss: 0.3436146120649091\n",
      "Epoch 15 Loss: 0.34457729663790126\t Validation Loss: 0.34781641915743783\n",
      "Epoch 16 Loss: 0.34247273746693774\t Validation Loss: 0.3570960825352475\n",
      "Epoch 17 Loss: 0.31993658035772615\t Validation Loss: 0.3030031965633984\n",
      "Epoch 18 Loss: 0.3061960099586673\t Validation Loss: 0.29507492479846575\n",
      "Epoch 19 Loss: 0.3115026555525041\t Validation Loss: 0.3080161100231804\n",
      "Epoch 20 Loss: 0.30822113655214395\t Validation Loss: 0.3286610796462831\n",
      "Epoch 21 Loss: 0.3147415494736566\t Validation Loss: 0.34423359188814323\n",
      "Epoch 22 Loss: 0.31423116523002004\t Validation Loss: 0.31085520585089227\n",
      "Epoch 23 Loss: 0.3074366525252427\t Validation Loss: 0.3113874656473135\n"
     ]
    },
    {
     "ename": "KeyboardInterrupt",
     "evalue": "",
     "output_type": "error",
     "traceback": [
      "\u001b[1;31m---------------------------------------------------------------------------\u001b[0m",
      "\u001b[1;31mKeyboardInterrupt\u001b[0m                         Traceback (most recent call last)",
      "Cell \u001b[1;32mIn[33], line 2\u001b[0m\n\u001b[0;32m      1\u001b[0m true_frac \u001b[38;5;241m=\u001b[39m (\u001b[38;5;28msum\u001b[39m(test_bs\u001b[38;5;241m.\u001b[39my) \u001b[38;5;241m/\u001b[39m \u001b[38;5;28mlen\u001b[39m(test_bs\u001b[38;5;241m.\u001b[39my))\u001b[38;5;241m.\u001b[39mitem()\n\u001b[1;32m----> 2\u001b[0m losses_bs \u001b[38;5;241m=\u001b[39m \u001b[43mtrain\u001b[49m\u001b[43m(\u001b[49m\u001b[43mnn_bs\u001b[49m\u001b[43m,\u001b[49m\u001b[43m \u001b[49m\n\u001b[0;32m      3\u001b[0m \u001b[43m                  \u001b[49m\u001b[43mopt\u001b[49m\u001b[43m(\u001b[49m\u001b[43mnn_bs\u001b[49m\u001b[38;5;241;43m.\u001b[39;49m\u001b[43mparameters\u001b[49m\u001b[43m(\u001b[49m\u001b[43m)\u001b[49m\u001b[43m)\u001b[49m\u001b[43m,\u001b[49m\u001b[43m \u001b[49m\n\u001b[0;32m      4\u001b[0m \u001b[43m                  \u001b[49m\u001b[43mtrain_bs_dl\u001b[49m\u001b[43m,\u001b[49m\u001b[43m \u001b[49m\n\u001b[0;32m      5\u001b[0m \u001b[43m                  \u001b[49m\u001b[43mtest_bs_dl\u001b[49m\u001b[43m,\u001b[49m\u001b[43m \u001b[49m\n\u001b[0;32m      6\u001b[0m \u001b[43m                  \u001b[49m\u001b[43mloss_fn\u001b[49m\u001b[38;5;241;43m=\u001b[39;49m\u001b[43mnn\u001b[49m\u001b[38;5;241;43m.\u001b[39;49m\u001b[43mCrossEntropyLoss\u001b[49m\u001b[43m(\u001b[49m\u001b[43mweight\u001b[49m\u001b[38;5;241;43m=\u001b[39;49m\u001b[43mtorch\u001b[49m\u001b[38;5;241;43m.\u001b[39;49m\u001b[43mtensor\u001b[49m\u001b[43m(\u001b[49m\u001b[43m[\u001b[49m\u001b[43mtrue_frac\u001b[49m\u001b[43m,\u001b[49m\u001b[43m \u001b[49m\u001b[38;5;241;43m1\u001b[39;49m\u001b[43m \u001b[49m\u001b[38;5;241;43m-\u001b[39;49m\u001b[43m \u001b[49m\u001b[43mtrue_frac\u001b[49m\u001b[43m]\u001b[49m\u001b[43m)\u001b[49m\u001b[43m)\u001b[49m\u001b[43m,\u001b[49m\n\u001b[0;32m      7\u001b[0m \u001b[43m                 \u001b[49m\u001b[43m)\u001b[49m\n",
      "Cell \u001b[1;32mIn[29], line 21\u001b[0m, in \u001b[0;36mtrain\u001b[1;34m(model, optimizer, train_dl, test_dl, epochs, loss_fn)\u001b[0m\n\u001b[0;32m     19\u001b[0m \u001b[38;5;66;03m# Compute the loss and its gradients\u001b[39;00m\n\u001b[0;32m     20\u001b[0m loss \u001b[38;5;241m=\u001b[39m loss_fn(outputs, target)\n\u001b[1;32m---> 21\u001b[0m \u001b[43mloss\u001b[49m\u001b[38;5;241;43m.\u001b[39;49m\u001b[43mbackward\u001b[49m\u001b[43m(\u001b[49m\u001b[43m)\u001b[49m\n\u001b[0;32m     22\u001b[0m \u001b[38;5;66;03m# Adjust learning weights\u001b[39;00m\n\u001b[0;32m     23\u001b[0m optimizer\u001b[38;5;241m.\u001b[39mstep()\n",
      "File \u001b[1;32m~\\.pyenv\\pyenv-win\\versions\\3.10.11\\lib\\site-packages\\torch\\_tensor.py:503\u001b[0m, in \u001b[0;36mTensor.backward\u001b[1;34m(self, gradient, retain_graph, create_graph, inputs)\u001b[0m\n\u001b[0;32m    493\u001b[0m \u001b[38;5;28;01mif\u001b[39;00m has_torch_function_unary(\u001b[38;5;28mself\u001b[39m):\n\u001b[0;32m    494\u001b[0m     \u001b[38;5;28;01mreturn\u001b[39;00m handle_torch_function(\n\u001b[0;32m    495\u001b[0m         Tensor\u001b[38;5;241m.\u001b[39mbackward,\n\u001b[0;32m    496\u001b[0m         (\u001b[38;5;28mself\u001b[39m,),\n\u001b[1;32m   (...)\u001b[0m\n\u001b[0;32m    501\u001b[0m         inputs\u001b[38;5;241m=\u001b[39minputs,\n\u001b[0;32m    502\u001b[0m     )\n\u001b[1;32m--> 503\u001b[0m \u001b[43mtorch\u001b[49m\u001b[38;5;241;43m.\u001b[39;49m\u001b[43mautograd\u001b[49m\u001b[38;5;241;43m.\u001b[39;49m\u001b[43mbackward\u001b[49m\u001b[43m(\u001b[49m\n\u001b[0;32m    504\u001b[0m \u001b[43m    \u001b[49m\u001b[38;5;28;43mself\u001b[39;49m\u001b[43m,\u001b[49m\u001b[43m \u001b[49m\u001b[43mgradient\u001b[49m\u001b[43m,\u001b[49m\u001b[43m \u001b[49m\u001b[43mretain_graph\u001b[49m\u001b[43m,\u001b[49m\u001b[43m \u001b[49m\u001b[43mcreate_graph\u001b[49m\u001b[43m,\u001b[49m\u001b[43m \u001b[49m\u001b[43minputs\u001b[49m\u001b[38;5;241;43m=\u001b[39;49m\u001b[43minputs\u001b[49m\n\u001b[0;32m    505\u001b[0m \u001b[43m\u001b[49m\u001b[43m)\u001b[49m\n",
      "File \u001b[1;32m~\\.pyenv\\pyenv-win\\versions\\3.10.11\\lib\\site-packages\\torch\\autograd\\__init__.py:266\u001b[0m, in \u001b[0;36mbackward\u001b[1;34m(tensors, grad_tensors, retain_graph, create_graph, grad_variables, inputs)\u001b[0m\n\u001b[0;32m    261\u001b[0m     retain_graph \u001b[38;5;241m=\u001b[39m create_graph\n\u001b[0;32m    263\u001b[0m \u001b[38;5;66;03m# The reason we repeat the same comment below is that\u001b[39;00m\n\u001b[0;32m    264\u001b[0m \u001b[38;5;66;03m# some Python versions print out the first line of a multi-line function\u001b[39;00m\n\u001b[0;32m    265\u001b[0m \u001b[38;5;66;03m# calls in the traceback and some print out the last line\u001b[39;00m\n\u001b[1;32m--> 266\u001b[0m \u001b[43mVariable\u001b[49m\u001b[38;5;241;43m.\u001b[39;49m\u001b[43m_execution_engine\u001b[49m\u001b[38;5;241;43m.\u001b[39;49m\u001b[43mrun_backward\u001b[49m\u001b[43m(\u001b[49m\u001b[43m  \u001b[49m\u001b[38;5;66;43;03m# Calls into the C++ engine to run the backward pass\u001b[39;49;00m\n\u001b[0;32m    267\u001b[0m \u001b[43m    \u001b[49m\u001b[43mtensors\u001b[49m\u001b[43m,\u001b[49m\n\u001b[0;32m    268\u001b[0m \u001b[43m    \u001b[49m\u001b[43mgrad_tensors_\u001b[49m\u001b[43m,\u001b[49m\n\u001b[0;32m    269\u001b[0m \u001b[43m    \u001b[49m\u001b[43mretain_graph\u001b[49m\u001b[43m,\u001b[49m\n\u001b[0;32m    270\u001b[0m \u001b[43m    \u001b[49m\u001b[43mcreate_graph\u001b[49m\u001b[43m,\u001b[49m\n\u001b[0;32m    271\u001b[0m \u001b[43m    \u001b[49m\u001b[43minputs\u001b[49m\u001b[43m,\u001b[49m\n\u001b[0;32m    272\u001b[0m \u001b[43m    \u001b[49m\u001b[43mallow_unreachable\u001b[49m\u001b[38;5;241;43m=\u001b[39;49m\u001b[38;5;28;43;01mTrue\u001b[39;49;00m\u001b[43m,\u001b[49m\n\u001b[0;32m    273\u001b[0m \u001b[43m    \u001b[49m\u001b[43maccumulate_grad\u001b[49m\u001b[38;5;241;43m=\u001b[39;49m\u001b[38;5;28;43;01mTrue\u001b[39;49;00m\u001b[43m,\u001b[49m\n\u001b[0;32m    274\u001b[0m \u001b[43m\u001b[49m\u001b[43m)\u001b[49m\n",
      "\u001b[1;31mKeyboardInterrupt\u001b[0m: "
     ]
    }
   ],
   "source": [
    "true_frac = (sum(test_bs.y) / len(test_bs.y)).item()\n",
    "losses_bs = train(nn_bs, \n",
    "                  opt(nn_bs.parameters()), \n",
    "                  train_bs_dl, \n",
    "                  test_bs_dl, \n",
    "                  loss_fn=nn.CrossEntropyLoss(weight=torch.tensor([true_frac, 1 - true_frac])),\n",
    "                 )"
   ]
  },
  {
   "cell_type": "code",
   "execution_count": 34,
   "id": "c444a2ef-b20a-423f-9487-21369f76f65d",
   "metadata": {
    "execution": {
     "iopub.execute_input": "2024-05-05T05:57:25.863670Z",
     "iopub.status.busy": "2024-05-05T05:57:25.863173Z",
     "iopub.status.idle": "2024-05-05T06:01:51.340656Z",
     "shell.execute_reply": "2024-05-05T06:01:51.340113Z",
     "shell.execute_reply.started": "2024-05-05T05:57:25.863670Z"
    },
    "scrolled": true
   },
   "outputs": [
    {
     "name": "stderr",
     "output_type": "stream",
     "text": [
      "C:\\Users\\Bhavana\\.pyenv\\pyenv-win\\versions\\3.10.11\\lib\\site-packages\\torch\\nn\\modules\\loss.py:535: UserWarning:\n",
      "\n",
      "Using a target size (torch.Size([1])) that is different to the input size (torch.Size([1, 1])). This will likely lead to incorrect results due to broadcasting. Please ensure they have the same size.\n",
      "\n"
     ]
    },
    {
     "name": "stdout",
     "output_type": "stream",
     "text": [
      "Epoch 0 Loss: 244.10836683303157\t Validation Loss: 222.88767863666908\n",
      "Epoch 1 Loss: 243.1841998127264\t Validation Loss: 222.40651604805166\n",
      "Epoch 2 Loss: 241.77292977513994\t Validation Loss: 226.0520708838269\n",
      "Epoch 3 Loss: 242.35023307576392\t Validation Loss: 225.43382826823242\n",
      "Epoch 4 Loss: 239.17581120668632\t Validation Loss: 228.4970351140338\n",
      "Epoch 5 Loss: 242.42739528027553\t Validation Loss: 223.63090916628806\n",
      "Epoch 6 Loss: 242.62004690904683\t Validation Loss: 221.5772611500798\n",
      "Epoch 7 Loss: 241.82975793299298\t Validation Loss: 224.55229485433816\n",
      "Epoch 8 Loss: 239.40032910826125\t Validation Loss: 226.15997711798175\n",
      "Epoch 9 Loss: 241.03176703105854\t Validation Loss: 222.41026267801243\n",
      "Epoch 10 Loss: 239.24629291431316\t Validation Loss: 221.87520763321783\n",
      "Epoch 11 Loss: 239.46223620840883\t Validation Loss: 222.94777395875323\n",
      "Epoch 12 Loss: 239.21041998465256\t Validation Loss: 218.71741958154809\n",
      "Epoch 13 Loss: 239.50181958481423\t Validation Loss: 218.90272476363228\n",
      "Epoch 14 Loss: 241.86136755982963\t Validation Loss: 218.4000108803583\n",
      "Epoch 15 Loss: 235.99213169136797\t Validation Loss: 217.71674789465925\n",
      "Epoch 16 Loss: 235.02865313733886\t Validation Loss: 221.8377494703335\n",
      "Epoch 17 Loss: 237.88123003336258\t Validation Loss: 221.08681660827625\n",
      "Epoch 18 Loss: 237.87029654541925\t Validation Loss: 224.3082154875459\n",
      "Epoch 19 Loss: 234.66417740790382\t Validation Loss: 219.0200955305579\n",
      "Epoch 20 Loss: 233.50238236890235\t Validation Loss: 225.91250008362965\n",
      "Epoch 21 Loss: 237.67680319376487\t Validation Loss: 224.0944419638099\n",
      "Epoch 22 Loss: 232.9290098898081\t Validation Loss: 214.30496090427016\n",
      "Epoch 23 Loss: 240.69967635102606\t Validation Loss: 238.77344783590448\n",
      "Epoch 24 Loss: 241.8700802700767\t Validation Loss: 220.42421124099025\n",
      "Epoch 25 Loss: 236.47113054206577\t Validation Loss: 220.3309143150922\n",
      "Epoch 26 Loss: 237.92032704451225\t Validation Loss: 225.0734573506127\n",
      "Epoch 27 Loss: 235.0738797900876\t Validation Loss: 224.15648433649397\n",
      "Epoch 28 Loss: 233.47782888635462\t Validation Loss: 221.0776078113024\n",
      "Epoch 29 Loss: 234.33214947754638\t Validation Loss: 222.53852895965804\n",
      "Epoch 30 Loss: 233.61174451188205\t Validation Loss: 222.97731273481287\n",
      "Epoch 31 Loss: 237.30250154297596\t Validation Loss: 215.18509669842518\n",
      "Epoch 32 Loss: 233.77998153940402\t Validation Loss: 223.93552610623013\n",
      "Epoch 33 Loss: 234.54396512607852\t Validation Loss: 213.68247897392013\n",
      "Epoch 34 Loss: 240.57370768166487\t Validation Loss: 213.96035237333848\n",
      "Epoch 35 Loss: 240.27795619314608\t Validation Loss: 218.83141070584733\n",
      "Epoch 36 Loss: 239.54469547237872\t Validation Loss: 220.74029533628047\n",
      "Epoch 37 Loss: 235.32751366856172\t Validation Loss: 219.90349847785495\n",
      "Epoch 38 Loss: 237.95769561662448\t Validation Loss: 219.93581036040314\n",
      "Epoch 39 Loss: 236.65685042521704\t Validation Loss: 217.35061295500333\n",
      "Epoch 40 Loss: 235.18325148774693\t Validation Loss: 218.12902673633226\n",
      "Epoch 41 Loss: 234.18354208996797\t Validation Loss: 213.3669050868152\n",
      "Epoch 42 Loss: 236.0110709262623\t Validation Loss: 218.25732849839554\n",
      "Epoch 43 Loss: 233.44615482463982\t Validation Loss: 219.22139030445828\n",
      "Epoch 44 Loss: 234.45909270867273\t Validation Loss: 221.60493845565432\n",
      "Epoch 45 Loss: 236.1388043499595\t Validation Loss: 230.31582575700315\n",
      "Epoch 46 Loss: 233.04842501134934\t Validation Loss: 221.14562527948797\n",
      "Epoch 47 Loss: 234.63613419947515\t Validation Loss: 226.26511579020487\n",
      "Epoch 48 Loss: 233.26298133306074\t Validation Loss: 214.7129247376671\n",
      "Epoch 49 Loss: 232.69060627922894\t Validation Loss: 210.02703216908347\n",
      "Epoch 50 Loss: 231.01582620499448\t Validation Loss: 206.103278618546\n",
      "Epoch 51 Loss: 228.86584292872936\t Validation Loss: 218.21299727816623\n",
      "Epoch 52 Loss: 233.0271928145405\t Validation Loss: 222.23298359918402\n",
      "Epoch 53 Loss: 230.68593309692093\t Validation Loss: 217.26265199495035\n",
      "Epoch 54 Loss: 230.71146423209098\t Validation Loss: 221.7688087601857\n",
      "Epoch 55 Loss: 231.09096184601674\t Validation Loss: 220.66544510549178\n",
      "Epoch 56 Loss: 230.82183940209197\t Validation Loss: 206.07036006806996\n",
      "Epoch 57 Loss: 230.53698537740547\t Validation Loss: 212.00828724942485\n",
      "Epoch 58 Loss: 232.11083236188625\t Validation Loss: 222.680417859249\n",
      "Epoch 59 Loss: 235.21205916229923\t Validation Loss: 209.25096098643732\n",
      "Epoch 60 Loss: 234.408124171592\t Validation Loss: 204.01556636709094\n",
      "Epoch 61 Loss: 228.42241074030332\t Validation Loss: 216.45691042789915\n",
      "Epoch 62 Loss: 235.11539644011899\t Validation Loss: 217.31038724965214\n",
      "Epoch 63 Loss: 228.19613712610848\t Validation Loss: 224.17448164983452\n",
      "Epoch 64 Loss: 233.3694736482867\t Validation Loss: 216.96941150059757\n",
      "Epoch 65 Loss: 233.69569336720784\t Validation Loss: 214.5375778132242\n",
      "Epoch 66 Loss: 233.90871723651918\t Validation Loss: 213.4747691908048\n",
      "Epoch 67 Loss: 233.49343345420792\t Validation Loss: 212.41402148837102\n",
      "Epoch 68 Loss: 218.45421224811628\t Validation Loss: 203.41368635138568\n",
      "Epoch 69 Loss: 229.77944337574567\t Validation Loss: 213.37904073684297\n",
      "Epoch 70 Loss: 225.64571648002297\t Validation Loss: 219.50103724983364\n",
      "Epoch 71 Loss: 228.9364089690909\t Validation Loss: 213.10133185509505\n",
      "Epoch 72 Loss: 230.77431691274765\t Validation Loss: 224.33924925731307\n",
      "Epoch 73 Loss: 228.4896471681995\t Validation Loss: 213.28605178008203\n",
      "Epoch 74 Loss: 225.46899730313515\t Validation Loss: 211.2571562587192\n",
      "Epoch 75 Loss: 228.52396521221672\t Validation Loss: 231.0628844823284\n",
      "Epoch 76 Loss: 226.35872550468181\t Validation Loss: 211.14522626708603\n",
      "Epoch 77 Loss: 228.63269563347023\t Validation Loss: 218.8837130785183\n",
      "Epoch 78 Loss: 222.6418947252989\t Validation Loss: 206.58053599920117\n",
      "Epoch 79 Loss: 219.98647421575546\t Validation Loss: 216.1642801762565\n",
      "Epoch 80 Loss: 222.21242467656816\t Validation Loss: 208.7652753450555\n",
      "Epoch 81 Loss: 233.47648158973317\t Validation Loss: 218.77622417901665\n",
      "Epoch 82 Loss: 233.47020055877016\t Validation Loss: 207.64225595639562\n",
      "Epoch 83 Loss: 223.60761934413733\t Validation Loss: 214.40258167059622\n",
      "Epoch 84 Loss: 224.0651165044988\t Validation Loss: 212.1470363337971\n",
      "Epoch 85 Loss: 219.88799468116298\t Validation Loss: 216.2095293134583\n",
      "Epoch 86 Loss: 229.4525674673313\t Validation Loss: 215.4485807486104\n",
      "Epoch 87 Loss: 219.95293268711623\t Validation Loss: 214.80169809882506\n",
      "Epoch 88 Loss: 224.24397200035094\t Validation Loss: 214.07385215956083\n",
      "Epoch 89 Loss: 233.0577842618467\t Validation Loss: 211.0492027197826\n",
      "Epoch 90 Loss: 240.65981552852801\t Validation Loss: 227.5303999415333\n",
      "Epoch 91 Loss: 231.85251532083547\t Validation Loss: 219.51448335314763\n",
      "Epoch 92 Loss: 233.18018602339117\t Validation Loss: 220.42622298638977\n",
      "Epoch 93 Loss: 228.89889303535332\t Validation Loss: 215.81264009265658\n",
      "Epoch 94 Loss: 228.8597641598225\t Validation Loss: 226.20352432367437\n",
      "Epoch 95 Loss: 228.4077045743454\t Validation Loss: 215.5684657625783\n",
      "Epoch 96 Loss: 230.70159079062466\t Validation Loss: 221.11651476715554\n",
      "Epoch 97 Loss: 233.12319701885156\t Validation Loss: 234.53494207535277\n",
      "Epoch 98 Loss: 224.05919064687004\t Validation Loss: 208.34659694583715\n",
      "Epoch 99 Loss: 221.68845696261613\t Validation Loss: 206.5373395182638\n",
      "Epoch 100 Loss: 228.3263397682461\t Validation Loss: 215.96502244729072\n",
      "Epoch 101 Loss: 231.30786522837047\t Validation Loss: 208.75718529878017\n",
      "Epoch 102 Loss: 226.24791314844467\t Validation Loss: 209.23649635309917\n",
      "Epoch 103 Loss: 227.95610592976666\t Validation Loss: 210.633834501832\n",
      "Epoch 104 Loss: 232.36041562496342\t Validation Loss: 205.99586896389138\n",
      "Epoch 105 Loss: 230.45810178411975\t Validation Loss: 218.7985627552586\n",
      "Epoch 106 Loss: 229.23699254492598\t Validation Loss: 206.99874859740254\n",
      "Epoch 107 Loss: 221.18481348165523\t Validation Loss: 208.24903320962852\n",
      "Epoch 108 Loss: 218.44019238204237\t Validation Loss: 206.4457490672592\n",
      "Epoch 109 Loss: 223.22356632512816\t Validation Loss: 202.5129181798165\n",
      "Epoch 110 Loss: 224.43555757016398\t Validation Loss: 206.6507648803035\n",
      "Epoch 111 Loss: 215.58396672382491\t Validation Loss: 204.78684491489275\n",
      "Epoch 112 Loss: 209.27034905942855\t Validation Loss: 204.68385477408472\n",
      "Epoch 113 Loss: 208.32351326103048\t Validation Loss: 199.3446469790361\n",
      "Epoch 114 Loss: 208.61435519314398\t Validation Loss: 225.68800270002566\n",
      "Epoch 115 Loss: 232.0139955676045\t Validation Loss: 207.69991745589954\n",
      "Epoch 116 Loss: 225.9986749570999\t Validation Loss: 210.7264424697489\n",
      "Epoch 117 Loss: 226.4772901536547\t Validation Loss: 210.41294571899263\n",
      "Epoch 118 Loss: 234.82426188470822\t Validation Loss: 210.84047825019655\n",
      "Epoch 119 Loss: 222.81324489426106\t Validation Loss: 211.40696978682095\n",
      "Epoch 120 Loss: 220.44560915469845\t Validation Loss: 208.2764168557339\n",
      "Epoch 121 Loss: 217.93081159849726\t Validation Loss: 210.53795180384228\n",
      "Epoch 122 Loss: 229.98198269750685\t Validation Loss: 196.6104317886422\n",
      "Epoch 123 Loss: 229.73791714344807\t Validation Loss: 205.11666976028525\n",
      "Epoch 124 Loss: 226.55056715672143\t Validation Loss: 204.38073257267922\n",
      "Epoch 125 Loss: 228.3644025492743\t Validation Loss: 217.18469682834512\n",
      "Epoch 126 Loss: 225.36498944360068\t Validation Loss: 214.07426531496003\n",
      "Epoch 127 Loss: 233.9042850637122\t Validation Loss: 210.63579771598393\n",
      "Epoch 128 Loss: 231.29973743262832\t Validation Loss: 210.1877005713667\n",
      "Epoch 129 Loss: 233.89091005989886\t Validation Loss: 215.0264939212034\n",
      "Epoch 130 Loss: 211.44597817805757\t Validation Loss: 205.04513022504057\n",
      "Epoch 131 Loss: 232.93428524637937\t Validation Loss: 204.00147287690524\n",
      "Epoch 132 Loss: 223.22936516983734\t Validation Loss: 209.20785474656827\n",
      "Epoch 133 Loss: 230.76696728207895\t Validation Loss: 213.00359522932266\n",
      "Epoch 134 Loss: 232.79194369085218\t Validation Loss: 202.93691321662317\n",
      "Epoch 135 Loss: 232.234474168583\t Validation Loss: 213.1052101224184\n",
      "Epoch 136 Loss: 228.02086656141827\t Validation Loss: 211.24285562023604\n",
      "Epoch 137 Loss: 224.3746765403336\t Validation Loss: 208.78727264594895\n",
      "Epoch 138 Loss: 227.354781680829\t Validation Loss: 212.38855821581777\n",
      "Epoch 139 Loss: 221.99520126047344\t Validation Loss: 208.19920462326925\n",
      "Epoch 140 Loss: 233.13249838708467\t Validation Loss: 212.6181961871076\n",
      "Epoch 141 Loss: 232.41018955294334\t Validation Loss: 214.8619809723779\n",
      "Epoch 142 Loss: 231.6440336280305\t Validation Loss: 198.75918202639454\n",
      "Epoch 143 Loss: 228.3059960592173\t Validation Loss: 240.01754586811788\n",
      "Epoch 144 Loss: 228.28627005112114\t Validation Loss: 227.93501789347053\n",
      "Epoch 145 Loss: 221.129312990122\t Validation Loss: 212.55169479077324\n",
      "Epoch 146 Loss: 209.47392289183614\t Validation Loss: 202.29533131587547\n",
      "Epoch 147 Loss: 218.75693201331157\t Validation Loss: 208.21411382452504\n",
      "Epoch 148 Loss: 223.47145678344236\t Validation Loss: 194.55918685474535\n",
      "Epoch 149 Loss: 219.5997225533195\t Validation Loss: 210.44823273688854\n",
      "Epoch 150 Loss: 223.7597666355961\t Validation Loss: 212.9011324513294\n",
      "Epoch 151 Loss: 221.3611577767693\t Validation Loss: 213.0317782750418\n",
      "Epoch 152 Loss: 221.30561919672004\t Validation Loss: 216.13037997897385\n",
      "Epoch 153 Loss: 223.69341505793642\t Validation Loss: 216.1513510513532\n",
      "Epoch 154 Loss: 226.68541680274026\t Validation Loss: 219.4715692110225\n",
      "Epoch 155 Loss: 220.907247531525\t Validation Loss: 215.19070812275783\n",
      "Epoch 156 Loss: 214.28518825954467\t Validation Loss: 198.09714036033353\n",
      "Epoch 157 Loss: 217.05745981827738\t Validation Loss: 217.1162785656301\n",
      "Epoch 158 Loss: 225.06917693743023\t Validation Loss: 207.74558049863333\n",
      "Epoch 159 Loss: 224.6158298559902\t Validation Loss: 223.58279084512733\n",
      "Epoch 160 Loss: 234.13890436794438\t Validation Loss: 228.1473128176997\n",
      "Epoch 161 Loss: 224.06002398107753\t Validation Loss: 201.7614324806165\n",
      "Epoch 162 Loss: 212.21404349993512\t Validation Loss: 200.69852232081405\n",
      "Epoch 163 Loss: 216.49056304171697\t Validation Loss: 214.02762923063221\n",
      "Epoch 164 Loss: 216.32161588395894\t Validation Loss: 219.46108583769006\n",
      "Epoch 165 Loss: 224.61757457277005\t Validation Loss: 209.10086589562871\n",
      "Epoch 166 Loss: 230.43504510642236\t Validation Loss: 210.42100725836565\n",
      "Epoch 167 Loss: 225.8884584461941\t Validation Loss: 204.17236382604776\n",
      "Epoch 168 Loss: 224.69627298173805\t Validation Loss: 215.06916960725943\n",
      "Epoch 169 Loss: 221.31042043673438\t Validation Loss: 209.76014069341903\n",
      "Epoch 170 Loss: 222.29455775917776\t Validation Loss: 208.7173388811967\n",
      "Epoch 171 Loss: 233.01816398710554\t Validation Loss: 205.04550725937375\n",
      "Epoch 172 Loss: 224.1856729655582\t Validation Loss: 202.24838639021783\n",
      "Epoch 173 Loss: 215.7505423565869\t Validation Loss: 202.00663360490773\n",
      "Epoch 174 Loss: 225.5027869164867\t Validation Loss: 209.07800666004843\n",
      "Epoch 175 Loss: 220.1391996736191\t Validation Loss: 215.09887144593077\n",
      "Epoch 176 Loss: 217.27306454401287\t Validation Loss: 204.12347907505068\n",
      "Epoch 177 Loss: 244.39596724061832\t Validation Loss: 225.01059516813544\n",
      "Epoch 178 Loss: 231.86949344351203\t Validation Loss: 212.70634567191655\n",
      "Epoch 179 Loss: 228.84394790316665\t Validation Loss: 216.1332560555354\n",
      "Epoch 180 Loss: 230.5215501510938\t Validation Loss: 212.5089011895581\n",
      "Epoch 181 Loss: 227.44843876128402\t Validation Loss: 216.82076222885283\n",
      "Epoch 182 Loss: 226.74449363673267\t Validation Loss: 211.4641306019635\n",
      "Epoch 183 Loss: 219.0384564856535\t Validation Loss: 203.22614583938514\n",
      "Epoch 184 Loss: 215.9423737658686\t Validation Loss: 205.00167238796377\n",
      "Epoch 185 Loss: 226.59935927088532\t Validation Loss: 205.2580047124269\n",
      "Epoch 186 Loss: 218.59346874309057\t Validation Loss: 220.8734400713289\n",
      "Epoch 187 Loss: 227.66024947017567\t Validation Loss: 208.20304657703062\n",
      "Epoch 188 Loss: 225.59571508679778\t Validation Loss: 212.96488553255207\n",
      "Epoch 189 Loss: 222.24730756049675\t Validation Loss: 214.41524378946494\n",
      "Epoch 190 Loss: 217.10855998184064\t Validation Loss: 210.56559194397204\n",
      "Epoch 191 Loss: 222.8619656823249\t Validation Loss: 208.8896463622122\n",
      "Epoch 192 Loss: 216.32317086067061\t Validation Loss: 207.04034415601694\n",
      "Epoch 193 Loss: 237.7483022945255\t Validation Loss: 230.96791243892727\n",
      "Epoch 194 Loss: 221.68641916999798\t Validation Loss: 231.13467041352496\n",
      "Epoch 195 Loss: 223.7513328914175\t Validation Loss: 217.274866766646\n",
      "Epoch 196 Loss: 220.3441817688363\t Validation Loss: 220.89671971092255\n",
      "Epoch 197 Loss: 224.05807444806652\t Validation Loss: 210.0945210045819\n",
      "Epoch 198 Loss: 211.37312819591028\t Validation Loss: 208.8764367842116\n",
      "Epoch 199 Loss: 219.4524641420283\t Validation Loss: 216.86923306208882\n"
     ]
    }
   ],
   "source": [
    "losses_pd = train(nn_pd, opt(nn_pd.parameters()), train_pd_dl, test_pd_dl, epochs=200)"
   ]
  },
  {
   "cell_type": "markdown",
   "id": "f2a9e070-9f66-4232-a09e-c15aa2562114",
   "metadata": {},
   "source": [
    "### Results"
   ]
  },
  {
   "cell_type": "code",
   "execution_count": 35,
   "id": "f514d622-9769-4310-a481-7fcafa7074e6",
   "metadata": {
    "execution": {
     "iopub.execute_input": "2024-05-05T06:02:28.269565Z",
     "iopub.status.busy": "2024-05-05T06:02:28.269069Z",
     "iopub.status.idle": "2024-05-05T06:02:28.312774Z",
     "shell.execute_reply": "2024-05-05T06:02:28.311781Z",
     "shell.execute_reply.started": "2024-05-05T06:02:28.269565Z"
    }
   },
   "outputs": [
    {
     "ename": "NameError",
     "evalue": "name 'losses_bs' is not defined",
     "output_type": "error",
     "traceback": [
      "\u001b[1;31m---------------------------------------------------------------------------\u001b[0m",
      "\u001b[1;31mNameError\u001b[0m                                 Traceback (most recent call last)",
      "Cell \u001b[1;32mIn[35], line 1\u001b[0m\n\u001b[1;32m----> 1\u001b[0m df_losses \u001b[38;5;241m=\u001b[39m [pd\u001b[38;5;241m.\u001b[39mDataFrame(\u001b[43mlosses_bs\u001b[49m), pd\u001b[38;5;241m.\u001b[39mDataFrame(losses_pd)]\n\u001b[0;32m      2\u001b[0m \u001b[38;5;28;01mfor\u001b[39;00m i \u001b[38;5;129;01min\u001b[39;00m \u001b[38;5;28mrange\u001b[39m(\u001b[38;5;241m2\u001b[39m):\n\u001b[0;32m      3\u001b[0m     df_losses[i] \u001b[38;5;241m=\u001b[39m df_losses[i]\u001b[38;5;241m.\u001b[39mreset_index()\u001b[38;5;241m.\u001b[39mrename(columns\u001b[38;5;241m=\u001b[39m{\u001b[38;5;124m\"\u001b[39m\u001b[38;5;124mindex\u001b[39m\u001b[38;5;124m\"\u001b[39m: \u001b[38;5;124m\"\u001b[39m\u001b[38;5;124mEpoch\u001b[39m\u001b[38;5;124m\"\u001b[39m})\n",
      "\u001b[1;31mNameError\u001b[0m: name 'losses_bs' is not defined"
     ]
    }
   ],
   "source": [
    "df_losses = [pd.DataFrame(losses_bs), pd.DataFrame(losses_pd)]\n",
    "for i in range(2):\n",
    "    df_losses[i] = df_losses[i].reset_index().rename(columns={\"index\": \"Epoch\"})\n",
    "    df_losses[i][\"validation_loss\"] = df_losses[i][\"validation_loss\"].apply(lambda x: x.item()) if i==0 else df_losses[i][\"validation_loss\"]\n",
    "    df_losses[i].columns = df_losses[i].columns.str.replace(\"_\", \" \")\n",
    "    df_losses[i] = df_losses[i].melt(id_vars=\"Epoch\", var_name=\"Type\", value_name=\"Loss\")\n",
    "    \n",
    "    fig = px.scatter(df_losses[i], x=\"Epoch\", y=\"Loss\", color=\"Type\", \n",
    "                     # trendline=\"rolling\", trendline_options={\"window\": 20}\n",
    "                    )\n",
    "    fig.update_traces(mode = 'lines')\n",
    "    fig.update_layout(title=[\"Cross-Entropy Loss During Training\", \"MSE Loss During Training\"][i])\n",
    "    fig.show()\n"
   ]
  },
  {
   "cell_type": "code",
   "execution_count": 36,
   "id": "4ffe2708-11ed-4856-b6c4-a3306264fc86",
   "metadata": {
    "execution": {
     "iopub.execute_input": "2024-05-05T06:02:37.891248Z",
     "iopub.status.busy": "2024-05-05T06:02:37.890756Z",
     "iopub.status.idle": "2024-05-05T06:02:38.102965Z",
     "shell.execute_reply": "2024-05-05T06:02:38.102965Z",
     "shell.execute_reply.started": "2024-05-05T06:02:37.891248Z"
    }
   },
   "outputs": [],
   "source": [
    "nn_bs.eval()\n",
    "nn_pd.eval()\n",
    "y_pred_bs = nn_bs(test_bs.x).detach().numpy()\n",
    "y_pred_bs = np.argmax(y_pred_bs, axis=1)\n",
    "y_pred_pd = nn_pd(test_pd.x).detach().numpy()"
   ]
  },
  {
   "cell_type": "code",
   "execution_count": 37,
   "id": "a40bbd5e-498b-4ecf-ad0d-92f26a3d65ad",
   "metadata": {
    "execution": {
     "iopub.execute_input": "2024-05-05T06:02:38.840806Z",
     "iopub.status.busy": "2024-05-05T06:02:38.840309Z",
     "iopub.status.idle": "2024-05-05T06:02:39.361966Z",
     "shell.execute_reply": "2024-05-05T06:02:39.361469Z",
     "shell.execute_reply.started": "2024-05-05T06:02:38.840806Z"
    }
   },
   "outputs": [
    {
     "name": "stdout",
     "output_type": "stream",
     "text": [
      "0.9176519165120701\n"
     ]
    },
    {
     "data": {
      "text/html": [
       "        <script type=\"text/javascript\">\n",
       "        window.PlotlyConfig = {MathJaxConfig: 'local'};\n",
       "        if (window.MathJax && window.MathJax.Hub && window.MathJax.Hub.Config) {window.MathJax.Hub.Config({SVG: {font: \"STIX-Web\"}});}\n",
       "        if (typeof require !== 'undefined') {\n",
       "        require.undef(\"plotly\");\n",
       "        requirejs.config({\n",
       "            paths: {\n",
       "                'plotly': ['https://cdn.plot.ly/plotly-2.27.0.min']\n",
       "            }\n",
       "        });\n",
       "        require(['plotly'], function(Plotly) {\n",
       "            window._Plotly = Plotly;\n",
       "        });\n",
       "        }\n",
       "        </script>\n",
       "        "
      ]
     },
     "metadata": {},
     "output_type": "display_data"
    },
    {
     "data": {
      "application/vnd.plotly.v1+json": {
       "config": {
        "plotlyServerURL": "https://plot.ly"
       },
       "data": [
        {
         "coloraxis": "coloraxis",
         "hovertemplate": "x: %{x}<br>y: %{y}<br>color: %{z}<extra></extra>",
         "name": "0",
         "texttemplate": "%{z}",
         "type": "heatmap",
         "x": [
          "Not Best Seller",
          "Is Best Seller"
         ],
         "xaxis": "x",
         "y": [
          "Not Best Seller",
          "Is Best Seller"
         ],
         "yaxis": "y",
         "z": [
          [
           314426,
           27811
          ],
          [
           509,
           1160
          ]
         ]
        }
       ],
       "layout": {
        "autosize": true,
        "coloraxis": {
         "colorscale": [
          [
           0,
           "#440154"
          ],
          [
           0.1111111111111111,
           "#482878"
          ],
          [
           0.2222222222222222,
           "#3e4989"
          ],
          [
           0.3333333333333333,
           "#31688e"
          ],
          [
           0.4444444444444444,
           "#26828e"
          ],
          [
           0.5555555555555556,
           "#1f9e89"
          ],
          [
           0.6666666666666666,
           "#35b779"
          ],
          [
           0.7777777777777778,
           "#6ece58"
          ],
          [
           0.8888888888888888,
           "#b5de2b"
          ],
          [
           1,
           "#fde725"
          ]
         ],
         "showscale": false
        },
        "margin": {
         "t": 60
        },
        "template": {
         "data": {
          "bar": [
           {
            "error_x": {
             "color": "#2a3f5f"
            },
            "error_y": {
             "color": "#2a3f5f"
            },
            "marker": {
             "line": {
              "color": "#E5ECF6",
              "width": 0.5
             },
             "pattern": {
              "fillmode": "overlay",
              "size": 10,
              "solidity": 0.2
             }
            },
            "type": "bar"
           }
          ],
          "barpolar": [
           {
            "marker": {
             "line": {
              "color": "#E5ECF6",
              "width": 0.5
             },
             "pattern": {
              "fillmode": "overlay",
              "size": 10,
              "solidity": 0.2
             }
            },
            "type": "barpolar"
           }
          ],
          "carpet": [
           {
            "aaxis": {
             "endlinecolor": "#2a3f5f",
             "gridcolor": "white",
             "linecolor": "white",
             "minorgridcolor": "white",
             "startlinecolor": "#2a3f5f"
            },
            "baxis": {
             "endlinecolor": "#2a3f5f",
             "gridcolor": "white",
             "linecolor": "white",
             "minorgridcolor": "white",
             "startlinecolor": "#2a3f5f"
            },
            "type": "carpet"
           }
          ],
          "choropleth": [
           {
            "colorbar": {
             "outlinewidth": 0,
             "ticks": ""
            },
            "type": "choropleth"
           }
          ],
          "contour": [
           {
            "colorbar": {
             "outlinewidth": 0,
             "ticks": ""
            },
            "colorscale": [
             [
              0,
              "#0d0887"
             ],
             [
              0.1111111111111111,
              "#46039f"
             ],
             [
              0.2222222222222222,
              "#7201a8"
             ],
             [
              0.3333333333333333,
              "#9c179e"
             ],
             [
              0.4444444444444444,
              "#bd3786"
             ],
             [
              0.5555555555555556,
              "#d8576b"
             ],
             [
              0.6666666666666666,
              "#ed7953"
             ],
             [
              0.7777777777777778,
              "#fb9f3a"
             ],
             [
              0.8888888888888888,
              "#fdca26"
             ],
             [
              1,
              "#f0f921"
             ]
            ],
            "type": "contour"
           }
          ],
          "contourcarpet": [
           {
            "colorbar": {
             "outlinewidth": 0,
             "ticks": ""
            },
            "type": "contourcarpet"
           }
          ],
          "heatmap": [
           {
            "colorbar": {
             "outlinewidth": 0,
             "ticks": ""
            },
            "colorscale": [
             [
              0,
              "#0d0887"
             ],
             [
              0.1111111111111111,
              "#46039f"
             ],
             [
              0.2222222222222222,
              "#7201a8"
             ],
             [
              0.3333333333333333,
              "#9c179e"
             ],
             [
              0.4444444444444444,
              "#bd3786"
             ],
             [
              0.5555555555555556,
              "#d8576b"
             ],
             [
              0.6666666666666666,
              "#ed7953"
             ],
             [
              0.7777777777777778,
              "#fb9f3a"
             ],
             [
              0.8888888888888888,
              "#fdca26"
             ],
             [
              1,
              "#f0f921"
             ]
            ],
            "type": "heatmap"
           }
          ],
          "heatmapgl": [
           {
            "colorbar": {
             "outlinewidth": 0,
             "ticks": ""
            },
            "colorscale": [
             [
              0,
              "#0d0887"
             ],
             [
              0.1111111111111111,
              "#46039f"
             ],
             [
              0.2222222222222222,
              "#7201a8"
             ],
             [
              0.3333333333333333,
              "#9c179e"
             ],
             [
              0.4444444444444444,
              "#bd3786"
             ],
             [
              0.5555555555555556,
              "#d8576b"
             ],
             [
              0.6666666666666666,
              "#ed7953"
             ],
             [
              0.7777777777777778,
              "#fb9f3a"
             ],
             [
              0.8888888888888888,
              "#fdca26"
             ],
             [
              1,
              "#f0f921"
             ]
            ],
            "type": "heatmapgl"
           }
          ],
          "histogram": [
           {
            "marker": {
             "pattern": {
              "fillmode": "overlay",
              "size": 10,
              "solidity": 0.2
             }
            },
            "type": "histogram"
           }
          ],
          "histogram2d": [
           {
            "colorbar": {
             "outlinewidth": 0,
             "ticks": ""
            },
            "colorscale": [
             [
              0,
              "#0d0887"
             ],
             [
              0.1111111111111111,
              "#46039f"
             ],
             [
              0.2222222222222222,
              "#7201a8"
             ],
             [
              0.3333333333333333,
              "#9c179e"
             ],
             [
              0.4444444444444444,
              "#bd3786"
             ],
             [
              0.5555555555555556,
              "#d8576b"
             ],
             [
              0.6666666666666666,
              "#ed7953"
             ],
             [
              0.7777777777777778,
              "#fb9f3a"
             ],
             [
              0.8888888888888888,
              "#fdca26"
             ],
             [
              1,
              "#f0f921"
             ]
            ],
            "type": "histogram2d"
           }
          ],
          "histogram2dcontour": [
           {
            "colorbar": {
             "outlinewidth": 0,
             "ticks": ""
            },
            "colorscale": [
             [
              0,
              "#0d0887"
             ],
             [
              0.1111111111111111,
              "#46039f"
             ],
             [
              0.2222222222222222,
              "#7201a8"
             ],
             [
              0.3333333333333333,
              "#9c179e"
             ],
             [
              0.4444444444444444,
              "#bd3786"
             ],
             [
              0.5555555555555556,
              "#d8576b"
             ],
             [
              0.6666666666666666,
              "#ed7953"
             ],
             [
              0.7777777777777778,
              "#fb9f3a"
             ],
             [
              0.8888888888888888,
              "#fdca26"
             ],
             [
              1,
              "#f0f921"
             ]
            ],
            "type": "histogram2dcontour"
           }
          ],
          "mesh3d": [
           {
            "colorbar": {
             "outlinewidth": 0,
             "ticks": ""
            },
            "type": "mesh3d"
           }
          ],
          "parcoords": [
           {
            "line": {
             "colorbar": {
              "outlinewidth": 0,
              "ticks": ""
             }
            },
            "type": "parcoords"
           }
          ],
          "pie": [
           {
            "automargin": true,
            "type": "pie"
           }
          ],
          "scatter": [
           {
            "fillpattern": {
             "fillmode": "overlay",
             "size": 10,
             "solidity": 0.2
            },
            "type": "scatter"
           }
          ],
          "scatter3d": [
           {
            "line": {
             "colorbar": {
              "outlinewidth": 0,
              "ticks": ""
             }
            },
            "marker": {
             "colorbar": {
              "outlinewidth": 0,
              "ticks": ""
             }
            },
            "type": "scatter3d"
           }
          ],
          "scattercarpet": [
           {
            "marker": {
             "colorbar": {
              "outlinewidth": 0,
              "ticks": ""
             }
            },
            "type": "scattercarpet"
           }
          ],
          "scattergeo": [
           {
            "marker": {
             "colorbar": {
              "outlinewidth": 0,
              "ticks": ""
             }
            },
            "type": "scattergeo"
           }
          ],
          "scattergl": [
           {
            "marker": {
             "colorbar": {
              "outlinewidth": 0,
              "ticks": ""
             }
            },
            "type": "scattergl"
           }
          ],
          "scattermapbox": [
           {
            "marker": {
             "colorbar": {
              "outlinewidth": 0,
              "ticks": ""
             }
            },
            "type": "scattermapbox"
           }
          ],
          "scatterpolar": [
           {
            "marker": {
             "colorbar": {
              "outlinewidth": 0,
              "ticks": ""
             }
            },
            "type": "scatterpolar"
           }
          ],
          "scatterpolargl": [
           {
            "marker": {
             "colorbar": {
              "outlinewidth": 0,
              "ticks": ""
             }
            },
            "type": "scatterpolargl"
           }
          ],
          "scatterternary": [
           {
            "marker": {
             "colorbar": {
              "outlinewidth": 0,
              "ticks": ""
             }
            },
            "type": "scatterternary"
           }
          ],
          "surface": [
           {
            "colorbar": {
             "outlinewidth": 0,
             "ticks": ""
            },
            "colorscale": [
             [
              0,
              "#0d0887"
             ],
             [
              0.1111111111111111,
              "#46039f"
             ],
             [
              0.2222222222222222,
              "#7201a8"
             ],
             [
              0.3333333333333333,
              "#9c179e"
             ],
             [
              0.4444444444444444,
              "#bd3786"
             ],
             [
              0.5555555555555556,
              "#d8576b"
             ],
             [
              0.6666666666666666,
              "#ed7953"
             ],
             [
              0.7777777777777778,
              "#fb9f3a"
             ],
             [
              0.8888888888888888,
              "#fdca26"
             ],
             [
              1,
              "#f0f921"
             ]
            ],
            "type": "surface"
           }
          ],
          "table": [
           {
            "cells": {
             "fill": {
              "color": "#EBF0F8"
             },
             "line": {
              "color": "white"
             }
            },
            "header": {
             "fill": {
              "color": "#C8D4E3"
             },
             "line": {
              "color": "white"
             }
            },
            "type": "table"
           }
          ]
         },
         "layout": {
          "annotationdefaults": {
           "arrowcolor": "#2a3f5f",
           "arrowhead": 0,
           "arrowwidth": 1
          },
          "autotypenumbers": "strict",
          "coloraxis": {
           "colorbar": {
            "outlinewidth": 0,
            "ticks": ""
           }
          },
          "colorscale": {
           "diverging": [
            [
             0,
             "#8e0152"
            ],
            [
             0.1,
             "#c51b7d"
            ],
            [
             0.2,
             "#de77ae"
            ],
            [
             0.3,
             "#f1b6da"
            ],
            [
             0.4,
             "#fde0ef"
            ],
            [
             0.5,
             "#f7f7f7"
            ],
            [
             0.6,
             "#e6f5d0"
            ],
            [
             0.7,
             "#b8e186"
            ],
            [
             0.8,
             "#7fbc41"
            ],
            [
             0.9,
             "#4d9221"
            ],
            [
             1,
             "#276419"
            ]
           ],
           "sequential": [
            [
             0,
             "#440154"
            ],
            [
             0.1111111111111111,
             "#482878"
            ],
            [
             0.2222222222222222,
             "#3e4989"
            ],
            [
             0.3333333333333333,
             "#31688e"
            ],
            [
             0.4444444444444444,
             "#26828e"
            ],
            [
             0.5555555555555556,
             "#1f9e89"
            ],
            [
             0.6666666666666666,
             "#35b779"
            ],
            [
             0.7777777777777778,
             "#6ece58"
            ],
            [
             0.8888888888888888,
             "#b5de2b"
            ],
            [
             1,
             "#fde725"
            ]
           ],
           "sequentialminus": [
            [
             0,
             "#0d0887"
            ],
            [
             0.1111111111111111,
             "#46039f"
            ],
            [
             0.2222222222222222,
             "#7201a8"
            ],
            [
             0.3333333333333333,
             "#9c179e"
            ],
            [
             0.4444444444444444,
             "#bd3786"
            ],
            [
             0.5555555555555556,
             "#d8576b"
            ],
            [
             0.6666666666666666,
             "#ed7953"
            ],
            [
             0.7777777777777778,
             "#fb9f3a"
            ],
            [
             0.8888888888888888,
             "#fdca26"
            ],
            [
             1,
             "#f0f921"
            ]
           ]
          },
          "colorway": [
           "#636EFA",
           "#00CC96",
           "#AB63FA",
           "#FFA15A",
           "#19D3F3",
           "#FF6692",
           "#B6E880",
           "#FF97FF",
           "#FECB52"
          ],
          "font": {
           "color": "lightgreen"
          },
          "geo": {
           "bgcolor": "white",
           "lakecolor": "white",
           "landcolor": "#E5ECF6",
           "showlakes": true,
           "showland": true,
           "subunitcolor": "white"
          },
          "hoverlabel": {
           "align": "left"
          },
          "hovermode": "closest",
          "mapbox": {
           "style": "light"
          },
          "paper_bgcolor": "rgba(0, 0, 0, 0)",
          "plot_bgcolor": "#E5ECF6",
          "polar": {
           "angularaxis": {
            "gridcolor": "white",
            "linecolor": "white",
            "ticks": ""
           },
           "bgcolor": "#E5ECF6",
           "radialaxis": {
            "gridcolor": "white",
            "linecolor": "white",
            "ticks": ""
           }
          },
          "scene": {
           "xaxis": {
            "backgroundcolor": "#E5ECF6",
            "gridcolor": "white",
            "gridwidth": 2,
            "linecolor": "white",
            "showbackground": true,
            "ticks": "",
            "zerolinecolor": "white"
           },
           "yaxis": {
            "backgroundcolor": "#E5ECF6",
            "gridcolor": "white",
            "gridwidth": 2,
            "linecolor": "white",
            "showbackground": true,
            "ticks": "",
            "zerolinecolor": "white"
           },
           "zaxis": {
            "backgroundcolor": "#E5ECF6",
            "gridcolor": "white",
            "gridwidth": 2,
            "linecolor": "white",
            "showbackground": true,
            "ticks": "",
            "zerolinecolor": "white"
           }
          },
          "shapedefaults": {
           "line": {
            "color": "#2a3f5f"
           }
          },
          "ternary": {
           "aaxis": {
            "gridcolor": "white",
            "linecolor": "white",
            "ticks": ""
           },
           "baxis": {
            "gridcolor": "white",
            "linecolor": "white",
            "ticks": ""
           },
           "bgcolor": "#E5ECF6",
           "caxis": {
            "gridcolor": "white",
            "linecolor": "white",
            "ticks": ""
           }
          },
          "title": {
           "x": 0.05
          },
          "xaxis": {
           "automargin": true,
           "gridcolor": "white",
           "linecolor": "white",
           "ticks": "",
           "title": {
            "standoff": 15
           },
           "zerolinecolor": "white",
           "zerolinewidth": 2
          },
          "yaxis": {
           "automargin": true,
           "gridcolor": "white",
           "linecolor": "white",
           "ticks": "",
           "title": {
            "standoff": 15
           },
           "zerolinecolor": "white",
           "zerolinewidth": 2
          }
         }
        },
        "xaxis": {
         "anchor": "y",
         "autorange": true,
         "constrain": "domain",
         "domain": [
          0.3220064724919094,
          0.6779935275080906
         ],
         "range": [
          -0.5,
          1.5
         ],
         "scaleanchor": "y",
         "title": {
          "text": "Predicted"
         },
         "type": "category"
        },
        "yaxis": {
         "anchor": "x",
         "autorange": true,
         "constrain": "domain",
         "domain": [
          0,
          1
         ],
         "range": [
          1.5,
          -0.5
         ],
         "title": {
          "text": "True Label"
         },
         "type": "category"
        }
       }
      },
      "image/png": "[encoded data removed]",
      "text/html": [
       "<div>                            <div id=\"b9a635a0-d1ab-4549-89c2-6c2c53a0b946\" class=\"plotly-graph-div\" style=\"height:525px; width:100%;\"></div>            <script type=\"text/javascript\">                require([\"plotly\"], function(Plotly) {                    window.PLOTLYENV=window.PLOTLYENV || {};                                    if (document.getElementById(\"b9a635a0-d1ab-4549-89c2-6c2c53a0b946\")) {                    Plotly.newPlot(                        \"b9a635a0-d1ab-4549-89c2-6c2c53a0b946\",                        [{\"coloraxis\":\"coloraxis\",\"name\":\"0\",\"texttemplate\":\"%{z}\",\"x\":[\"Not Best Seller\",\"Is Best Seller\"],\"y\":[\"Not Best Seller\",\"Is Best Seller\"],\"z\":[[314426,27811],[509,1160]],\"type\":\"heatmap\",\"xaxis\":\"x\",\"yaxis\":\"y\",\"hovertemplate\":\"x: %{x}\\u003cbr\\u003ey: %{y}\\u003cbr\\u003ecolor: %{z}\\u003cextra\\u003e\\u003c\\u002fextra\\u003e\"}],                        {\"template\":{\"data\":{\"barpolar\":[{\"marker\":{\"line\":{\"color\":\"#E5ECF6\",\"width\":0.5},\"pattern\":{\"fillmode\":\"overlay\",\"size\":10,\"solidity\":0.2}},\"type\":\"barpolar\"}],\"bar\":[{\"error_x\":{\"color\":\"#2a3f5f\"},\"error_y\":{\"color\":\"#2a3f5f\"},\"marker\":{\"line\":{\"color\":\"#E5ECF6\",\"width\":0.5},\"pattern\":{\"fillmode\":\"overlay\",\"size\":10,\"solidity\":0.2}},\"type\":\"bar\"}],\"carpet\":[{\"aaxis\":{\"endlinecolor\":\"#2a3f5f\",\"gridcolor\":\"white\",\"linecolor\":\"white\",\"minorgridcolor\":\"white\",\"startlinecolor\":\"#2a3f5f\"},\"baxis\":{\"endlinecolor\":\"#2a3f5f\",\"gridcolor\":\"white\",\"linecolor\":\"white\",\"minorgridcolor\":\"white\",\"startlinecolor\":\"#2a3f5f\"},\"type\":\"carpet\"}],\"choropleth\":[{\"colorbar\":{\"outlinewidth\":0,\"ticks\":\"\"},\"type\":\"choropleth\"}],\"contourcarpet\":[{\"colorbar\":{\"outlinewidth\":0,\"ticks\":\"\"},\"type\":\"contourcarpet\"}],\"contour\":[{\"colorbar\":{\"outlinewidth\":0,\"ticks\":\"\"},\"colorscale\":[[0.0,\"#0d0887\"],[0.1111111111111111,\"#46039f\"],[0.2222222222222222,\"#7201a8\"],[0.3333333333333333,\"#9c179e\"],[0.4444444444444444,\"#bd3786\"],[0.5555555555555556,\"#d8576b\"],[0.6666666666666666,\"#ed7953\"],[0.7777777777777778,\"#fb9f3a\"],[0.8888888888888888,\"#fdca26\"],[1.0,\"#f0f921\"]],\"type\":\"contour\"}],\"heatmapgl\":[{\"colorbar\":{\"outlinewidth\":0,\"ticks\":\"\"},\"colorscale\":[[0.0,\"#0d0887\"],[0.1111111111111111,\"#46039f\"],[0.2222222222222222,\"#7201a8\"],[0.3333333333333333,\"#9c179e\"],[0.4444444444444444,\"#bd3786\"],[0.5555555555555556,\"#d8576b\"],[0.6666666666666666,\"#ed7953\"],[0.7777777777777778,\"#fb9f3a\"],[0.8888888888888888,\"#fdca26\"],[1.0,\"#f0f921\"]],\"type\":\"heatmapgl\"}],\"heatmap\":[{\"colorbar\":{\"outlinewidth\":0,\"ticks\":\"\"},\"colorscale\":[[0.0,\"#0d0887\"],[0.1111111111111111,\"#46039f\"],[0.2222222222222222,\"#7201a8\"],[0.3333333333333333,\"#9c179e\"],[0.4444444444444444,\"#bd3786\"],[0.5555555555555556,\"#d8576b\"],[0.6666666666666666,\"#ed7953\"],[0.7777777777777778,\"#fb9f3a\"],[0.8888888888888888,\"#fdca26\"],[1.0,\"#f0f921\"]],\"type\":\"heatmap\"}],\"histogram2dcontour\":[{\"colorbar\":{\"outlinewidth\":0,\"ticks\":\"\"},\"colorscale\":[[0.0,\"#0d0887\"],[0.1111111111111111,\"#46039f\"],[0.2222222222222222,\"#7201a8\"],[0.3333333333333333,\"#9c179e\"],[0.4444444444444444,\"#bd3786\"],[0.5555555555555556,\"#d8576b\"],[0.6666666666666666,\"#ed7953\"],[0.7777777777777778,\"#fb9f3a\"],[0.8888888888888888,\"#fdca26\"],[1.0,\"#f0f921\"]],\"type\":\"histogram2dcontour\"}],\"histogram2d\":[{\"colorbar\":{\"outlinewidth\":0,\"ticks\":\"\"},\"colorscale\":[[0.0,\"#0d0887\"],[0.1111111111111111,\"#46039f\"],[0.2222222222222222,\"#7201a8\"],[0.3333333333333333,\"#9c179e\"],[0.4444444444444444,\"#bd3786\"],[0.5555555555555556,\"#d8576b\"],[0.6666666666666666,\"#ed7953\"],[0.7777777777777778,\"#fb9f3a\"],[0.8888888888888888,\"#fdca26\"],[1.0,\"#f0f921\"]],\"type\":\"histogram2d\"}],\"histogram\":[{\"marker\":{\"pattern\":{\"fillmode\":\"overlay\",\"size\":10,\"solidity\":0.2}},\"type\":\"histogram\"}],\"mesh3d\":[{\"colorbar\":{\"outlinewidth\":0,\"ticks\":\"\"},\"type\":\"mesh3d\"}],\"parcoords\":[{\"line\":{\"colorbar\":{\"outlinewidth\":0,\"ticks\":\"\"}},\"type\":\"parcoords\"}],\"pie\":[{\"automargin\":true,\"type\":\"pie\"}],\"scatter3d\":[{\"line\":{\"colorbar\":{\"outlinewidth\":0,\"ticks\":\"\"}},\"marker\":{\"colorbar\":{\"outlinewidth\":0,\"ticks\":\"\"}},\"type\":\"scatter3d\"}],\"scattercarpet\":[{\"marker\":{\"colorbar\":{\"outlinewidth\":0,\"ticks\":\"\"}},\"type\":\"scattercarpet\"}],\"scattergeo\":[{\"marker\":{\"colorbar\":{\"outlinewidth\":0,\"ticks\":\"\"}},\"type\":\"scattergeo\"}],\"scattergl\":[{\"marker\":{\"colorbar\":{\"outlinewidth\":0,\"ticks\":\"\"}},\"type\":\"scattergl\"}],\"scattermapbox\":[{\"marker\":{\"colorbar\":{\"outlinewidth\":0,\"ticks\":\"\"}},\"type\":\"scattermapbox\"}],\"scatterpolargl\":[{\"marker\":{\"colorbar\":{\"outlinewidth\":0,\"ticks\":\"\"}},\"type\":\"scatterpolargl\"}],\"scatterpolar\":[{\"marker\":{\"colorbar\":{\"outlinewidth\":0,\"ticks\":\"\"}},\"type\":\"scatterpolar\"}],\"scatter\":[{\"fillpattern\":{\"fillmode\":\"overlay\",\"size\":10,\"solidity\":0.2},\"type\":\"scatter\"}],\"scatterternary\":[{\"marker\":{\"colorbar\":{\"outlinewidth\":0,\"ticks\":\"\"}},\"type\":\"scatterternary\"}],\"surface\":[{\"colorbar\":{\"outlinewidth\":0,\"ticks\":\"\"},\"colorscale\":[[0.0,\"#0d0887\"],[0.1111111111111111,\"#46039f\"],[0.2222222222222222,\"#7201a8\"],[0.3333333333333333,\"#9c179e\"],[0.4444444444444444,\"#bd3786\"],[0.5555555555555556,\"#d8576b\"],[0.6666666666666666,\"#ed7953\"],[0.7777777777777778,\"#fb9f3a\"],[0.8888888888888888,\"#fdca26\"],[1.0,\"#f0f921\"]],\"type\":\"surface\"}],\"table\":[{\"cells\":{\"fill\":{\"color\":\"#EBF0F8\"},\"line\":{\"color\":\"white\"}},\"header\":{\"fill\":{\"color\":\"#C8D4E3\"},\"line\":{\"color\":\"white\"}},\"type\":\"table\"}]},\"layout\":{\"annotationdefaults\":{\"arrowcolor\":\"#2a3f5f\",\"arrowhead\":0,\"arrowwidth\":1},\"autotypenumbers\":\"strict\",\"coloraxis\":{\"colorbar\":{\"outlinewidth\":0,\"ticks\":\"\"}},\"colorscale\":{\"diverging\":[[0,\"#8e0152\"],[0.1,\"#c51b7d\"],[0.2,\"#de77ae\"],[0.3,\"#f1b6da\"],[0.4,\"#fde0ef\"],[0.5,\"#f7f7f7\"],[0.6,\"#e6f5d0\"],[0.7,\"#b8e186\"],[0.8,\"#7fbc41\"],[0.9,\"#4d9221\"],[1,\"#276419\"]],\"sequential\":[[0.0,\"#440154\"],[0.1111111111111111,\"#482878\"],[0.2222222222222222,\"#3e4989\"],[0.3333333333333333,\"#31688e\"],[0.4444444444444444,\"#26828e\"],[0.5555555555555556,\"#1f9e89\"],[0.6666666666666666,\"#35b779\"],[0.7777777777777778,\"#6ece58\"],[0.8888888888888888,\"#b5de2b\"],[1.0,\"#fde725\"]],\"sequentialminus\":[[0.0,\"#0d0887\"],[0.1111111111111111,\"#46039f\"],[0.2222222222222222,\"#7201a8\"],[0.3333333333333333,\"#9c179e\"],[0.4444444444444444,\"#bd3786\"],[0.5555555555555556,\"#d8576b\"],[0.6666666666666666,\"#ed7953\"],[0.7777777777777778,\"#fb9f3a\"],[0.8888888888888888,\"#fdca26\"],[1.0,\"#f0f921\"]]},\"colorway\":[\"#636EFA\",\"#00CC96\",\"#AB63FA\",\"#FFA15A\",\"#19D3F3\",\"#FF6692\",\"#B6E880\",\"#FF97FF\",\"#FECB52\"],\"font\":{\"color\":\"lightgreen\"},\"geo\":{\"bgcolor\":\"white\",\"lakecolor\":\"white\",\"landcolor\":\"#E5ECF6\",\"showlakes\":true,\"showland\":true,\"subunitcolor\":\"white\"},\"hoverlabel\":{\"align\":\"left\"},\"hovermode\":\"closest\",\"mapbox\":{\"style\":\"light\"},\"paper_bgcolor\":\"rgba(0, 0, 0, 0)\",\"plot_bgcolor\":\"#E5ECF6\",\"polar\":{\"angularaxis\":{\"gridcolor\":\"white\",\"linecolor\":\"white\",\"ticks\":\"\"},\"bgcolor\":\"#E5ECF6\",\"radialaxis\":{\"gridcolor\":\"white\",\"linecolor\":\"white\",\"ticks\":\"\"}},\"scene\":{\"xaxis\":{\"backgroundcolor\":\"#E5ECF6\",\"gridcolor\":\"white\",\"gridwidth\":2,\"linecolor\":\"white\",\"showbackground\":true,\"ticks\":\"\",\"zerolinecolor\":\"white\"},\"yaxis\":{\"backgroundcolor\":\"#E5ECF6\",\"gridcolor\":\"white\",\"gridwidth\":2,\"linecolor\":\"white\",\"showbackground\":true,\"ticks\":\"\",\"zerolinecolor\":\"white\"},\"zaxis\":{\"backgroundcolor\":\"#E5ECF6\",\"gridcolor\":\"white\",\"gridwidth\":2,\"linecolor\":\"white\",\"showbackground\":true,\"ticks\":\"\",\"zerolinecolor\":\"white\"}},\"shapedefaults\":{\"line\":{\"color\":\"#2a3f5f\"}},\"ternary\":{\"aaxis\":{\"gridcolor\":\"white\",\"linecolor\":\"white\",\"ticks\":\"\"},\"baxis\":{\"gridcolor\":\"white\",\"linecolor\":\"white\",\"ticks\":\"\"},\"bgcolor\":\"#E5ECF6\",\"caxis\":{\"gridcolor\":\"white\",\"linecolor\":\"white\",\"ticks\":\"\"}},\"title\":{\"x\":0.05},\"xaxis\":{\"automargin\":true,\"gridcolor\":\"white\",\"linecolor\":\"white\",\"ticks\":\"\",\"title\":{\"standoff\":15},\"zerolinecolor\":\"white\",\"zerolinewidth\":2},\"yaxis\":{\"automargin\":true,\"gridcolor\":\"white\",\"linecolor\":\"white\",\"ticks\":\"\",\"title\":{\"standoff\":15},\"zerolinecolor\":\"white\",\"zerolinewidth\":2}}},\"xaxis\":{\"anchor\":\"y\",\"domain\":[0.0,1.0],\"scaleanchor\":\"y\",\"constrain\":\"domain\",\"title\":{\"text\":\"Predicted\"}},\"yaxis\":{\"anchor\":\"x\",\"domain\":[0.0,1.0],\"autorange\":\"reversed\",\"constrain\":\"domain\",\"title\":{\"text\":\"True Label\"}},\"coloraxis\":{\"colorscale\":[[0.0,\"#440154\"],[0.1111111111111111,\"#482878\"],[0.2222222222222222,\"#3e4989\"],[0.3333333333333333,\"#31688e\"],[0.4444444444444444,\"#26828e\"],[0.5555555555555556,\"#1f9e89\"],[0.6666666666666666,\"#35b779\"],[0.7777777777777778,\"#6ece58\"],[0.8888888888888888,\"#b5de2b\"],[1.0,\"#fde725\"]],\"showscale\":false},\"margin\":{\"t\":60}},                        {\"responsive\": true}                    ).then(function(){\n",
       "                            \n",
       "var gd = document.getElementById('b9a635a0-d1ab-4549-89c2-6c2c53a0b946');\n",
       "var x = new MutationObserver(function (mutations, observer) {{\n",
       "        var display = window.getComputedStyle(gd).display;\n",
       "        if (!display || display === 'none') {{\n",
       "            console.log([gd, 'removed!']);\n",
       "            Plotly.purge(gd);\n",
       "            observer.disconnect();\n",
       "        }}\n",
       "}});\n",
       "\n",
       "// Listen for the removal of the full notebook cells\n",
       "var notebookContainer = gd.closest('#notebook-container');\n",
       "if (notebookContainer) {{\n",
       "    x.observe(notebookContainer, {childList: true});\n",
       "}}\n",
       "\n",
       "// Listen for the clearing of the current output cell\n",
       "var outputEl = gd.closest('.output');\n",
       "if (outputEl) {{\n",
       "    x.observe(outputEl, {childList: true});\n",
       "}}\n",
       "\n",
       "                        })                };                });            </script>        </div>"
      ]
     },
     "metadata": {},
     "output_type": "display_data"
    },
    {
     "name": "stdout",
     "output_type": "stream",
     "text": [
      "7.128182 14.939116\n"
     ]
    },
    {
     "data": {
      "application/vnd.plotly.v1+json": {
       "config": {
        "plotlyServerURL": "https://plot.ly"
       },
       "data": [
        {
         "alignmentgroup": "True",
         "hovertemplate": "x=%{x}<br>y=%{y}<extra></extra>",
         "legendgroup": "",
         "marker": {
          "color": "#636EFA",
          "pattern": {
           "shape": ""
          }
         },
         "name": "",
         "offsetgroup": "",
         "orientation": "v",
         "showlegend": false,
         "textposition": "auto",
         "type": "bar",
         "x": [
          "-130.0",
          "-94.98",
          "-90.01",
          "-70.0",
          "-65.0",
          "-57.95",
          "-50.34",
          "-50.0",
          "-46.49",
          "-40.99",
          "-40.0",
          "-40.0",
          "-39.01",
          "-37.0",
          "-36.99",
          "-35.02",
          "-35.0",
          "-34.81",
          "-32.0",
          "-32.0",
          "-30.01",
          "-30.0",
          "-27.03",
          "-26.0",
          "-22.69",
          "-21.0",
          "-20.84",
          "-20.0",
          "-20.0",
          "-20.0",
          "-19.99",
          "-18.5",
          "-18.07",
          "-16.0",
          "-15.8",
          "-15.73",
          "-15.0",
          "-15.0",
          "-15.0",
          "-15.0",
          "-15.0",
          "-13.5",
          "-13.0",
          "-12.5",
          "-12.0",
          "-12.0",
          "-11.65",
          "-11.4",
          "-11.13",
          "-11.0",
          "-11.0",
          "-11.0",
          "-11.0",
          "-10.99",
          "-10.03",
          "-10.0",
          "-10.0",
          "-10.0",
          "-10.0",
          "-10.0",
          "-9.32",
          "-9.01",
          "-9.0",
          "-8.5",
          "-8.49",
          "-8.41",
          "-8.33",
          "-8.25",
          "-7.84",
          "-7.6",
          "-7.25",
          "-7.0",
          "-7.0",
          "-7.0",
          "-6.25",
          "-6.03",
          "-6.0",
          "-6.0",
          "-6.0",
          "-5.88",
          "-5.87",
          "-5.29",
          "-5.19",
          "-5.09",
          "-5.04",
          "-5.01",
          "-5.01",
          "-5.0",
          "-5.0",
          "-5.0",
          "-5.0",
          "-5.0",
          "-4.95",
          "-4.86",
          "-4.85",
          "-4.69",
          "-4.35",
          "-4.28",
          "-4.01",
          "-4.0",
          "-4.0",
          "-4.0",
          "-3.63",
          "-3.6",
          "-3.45",
          "-3.1",
          "-3.0",
          "-3.0",
          "-3.0",
          "-3.0",
          "-3.0",
          "-3.0",
          "-3.0",
          "-3.0",
          "-3.0",
          "-3.0",
          "-3.0",
          "-2.54",
          "-2.5",
          "-2.5",
          "-2.21",
          "-2.2",
          "-2.04",
          "-2.04",
          "-2.01",
          "-2.0",
          "-2.0",
          "-2.0",
          "-2.0",
          "-2.0",
          "-2.0",
          "-2.0",
          "-2.0",
          "-2.0",
          "-2.0",
          "-2.0",
          "-2.0",
          "-2.0",
          "-1.87",
          "-1.81",
          "-1.71",
          "-1.61",
          "-1.5",
          "-1.49",
          "-1.4",
          "-1.26",
          "-1.12",
          "-1.09",
          "-1.04",
          "-1.02",
          "-1.0",
          "-1.0",
          "-1.0",
          "-1.0",
          "-1.0",
          "-1.0",
          "-1.0",
          "-1.0",
          "-1.0",
          "-1.0",
          "-1.0",
          "-1.0",
          "-1.0",
          "-0.99",
          "-0.99",
          "-0.99",
          "-0.94",
          "-0.89",
          "-0.89",
          "-0.83",
          "-0.76",
          "-0.74",
          "-0.6",
          "-0.5",
          "-0.5",
          "-0.49",
          "-0.48",
          "-0.43",
          "-0.32",
          "-0.3",
          "-0.28",
          "-0.24",
          "-0.22",
          "-0.15",
          "-0.11",
          "-0.1",
          "-0.1",
          "-0.08",
          "-0.03",
          "-0.02",
          "-0.01",
          "0.0",
          "0.0",
          "0.0",
          "0.0",
          "0.0",
          "0.0",
          "0.0",
          "0.0",
          "0.0",
          "0.0",
          "0.0",
          "0.0",
          "0.0",
          "0.0",
          "0.0",
          "0.0",
          "0.0",
          "0.0",
          "0.0",
          "0.0",
          "0.0",
          "0.0",
          "0.0",
          "0.0",
          "0.0",
          "0.0",
          "0.0",
          "0.0",
          "0.0",
          "0.0",
          "0.0",
          "0.0",
          "0.0",
          "0.0",
          "0.0",
          "0.0",
          "0.0",
          "0.0",
          "0.0",
          "0.0",
          "0.0",
          "0.0",
          "0.0",
          "0.0",
          "0.0",
          "0.0",
          "0.0",
          "0.0",
          "0.0",
          "0.0",
          "0.0",
          "0.0",
          "0.0",
          "0.0",
          "0.0",
          "0.0",
          "0.0",
          "0.0",
          "0.0",
          "0.0",
          "0.0",
          "0.0",
          "0.0",
          "0.0",
          "0.0",
          "0.0",
          "0.0",
          "0.0",
          "0.0",
          "0.0",
          "0.0",
          "0.0",
          "0.0",
          "0.0",
          "0.0",
          "0.0",
          "0.0",
          "0.0",
          "0.0",
          "0.0",
          "0.0",
          "0.0",
          "0.0",
          "0.0",
          "0.0",
          "0.0",
          "0.0",
          "0.0",
          "0.0",
          "0.0",
          "0.0",
          "0.0",
          "0.0",
          "0.0",
          "0.0",
          "0.0",
          "0.0",
          "0.0",
          "0.0",
          "0.0",
          "0.0",
          "0.0",
          "0.0",
          "0.0",
          "0.0",
          "0.0",
          "0.0",
          "0.0",
          "0.0",
          "0.0",
          "0.0",
          "0.0",
          "0.0",
          "0.0",
          "0.0",
          "0.0",
          "0.0",
          "0.0",
          "0.0",
          "0.0",
          "0.01",
          "0.01",
          "0.01",
          "0.04",
          "0.07",
          "0.09",
          "0.1",
          "0.11",
          "0.2",
          "0.29",
          "0.3",
          "0.37",
          "0.5",
          "0.5",
          "0.55",
          "0.6",
          "0.71",
          "0.74",
          "0.79",
          "0.99",
          "1.0",
          "1.0",
          "1.0",
          "1.0",
          "1.0",
          "1.0",
          "1.0",
          "1.0",
          "1.0",
          "1.0",
          "1.0",
          "1.0",
          "1.0",
          "1.1",
          "1.11",
          "1.3",
          "1.35",
          "1.4",
          "1.8",
          "1.99",
          "2.0",
          "2.0",
          "2.0",
          "2.0",
          "2.0",
          "2.0",
          "2.0",
          "2.0",
          "2.0",
          "2.4",
          "2.98",
          "2.99",
          "3.0",
          "3.0",
          "3.0",
          "3.0",
          "3.0",
          "3.01",
          "3.25",
          "3.6",
          "3.6",
          "3.99",
          "3.99",
          "4.0",
          "4.0",
          "4.56",
          "5.0",
          "5.0",
          "5.28",
          "5.34",
          "5.45",
          "5.6",
          "6.0",
          "6.2",
          "6.37",
          "6.5",
          "7.0",
          "7.0",
          "7.02",
          "8.85",
          "9.2",
          "10.0",
          "10.0",
          "10.0",
          "10.0",
          "10.0",
          "10.0",
          "10.0",
          "10.45",
          "10.5",
          "10.99",
          "11.97",
          "13.28",
          "13.78",
          "15.0",
          "16.0",
          "19.0",
          "19.72",
          "21.0",
          "21.04",
          "25.0",
          "29.0",
          "29.01",
          "32.15",
          "40.57",
          "80.54"
         ],
         "xaxis": "x",
         "y": [
          -130.44717407226562,
          -96.47199249267578,
          -48.09856414794922,
          -60.14281463623047,
          -62.315155029296875,
          -55.70857620239258,
          -45.64480209350586,
          -47.95465087890625,
          -48.009437561035156,
          -42.20455551147461,
          -37.758541107177734,
          -38.14521789550781,
          -34.61457061767578,
          -39.29050827026367,
          -34.72828674316406,
          -36.56261444091797,
          -33.04886245727539,
          -32.90016174316406,
          -29.758575439453125,
          -30.013477325439453,
          -27.32500648498535,
          -27.775646209716797,
          -24.788576126098633,
          -21.591707229614258,
          -20.448575973510742,
          -22.41666603088379,
          -18.687652587890625,
          -17.8476505279541,
          -15.592240333557129,
          -18.076663970947266,
          -15.5816011428833,
          -16.275646209716797,
          -15.935290336608887,
          -11.59160041809082,
          -17.29149627685547,
          -13.505644798278809,
          -16.461750030517578,
          -12.847646713256836,
          -12.847614288330078,
          -12.833181381225586,
          -13.664243698120117,
          -11.258575439453125,
          -13.79652214050293,
          -10.34765338897705,
          -7.591630458831787,
          -10.033527374267578,
          -9.408575057983398,
          -9.247638702392578,
          -9.29887580871582,
          -6.574653625488281,
          -9.032251358032227,
          -8.847651481628418,
          -6.877823829650879,
          -8.837651252746582,
          -11.544471740722656,
          -8.121795654296875,
          -8.145097732543945,
          -8.168667793273926,
          -7.7756452560424805,
          -7.5672149658203125,
          -7.167651176452637,
          -6.883437633514404,
          -7.048862457275391,
          -6.475841522216797,
          -6.654306888580322,
          -4.08314323425293,
          -6.305841445922852,
          -6.021023750305176,
          -5.8158416748046875,
          -5.512219429016113,
          -5.249222755432129,
          -5.027737617492676,
          -6.848729133605957,
          -4.847468376159668,
          -4.123850345611572,
          -4.07886266708374,
          -4.036017894744873,
          -4.046970367431641,
          -3.995879888534546,
          -7.175495147705078,
          -2.045426368713379,
          -3.6769518852233887,
          -3.2863216400146484,
          -2.8485755920410156,
          -1.3005874156951904,
          -2.985841751098633,
          -3.003122329711914,
          -5.641874313354492,
          -3.2171411514282227,
          -3.145098924636841,
          -2.7585694789886475,
          -3.121795654296875,
          -3.0358715057373047,
          -2.6191866397857666,
          -2.8335981369018555,
          -2.4666054248809814,
          0.03962373733520508,
          -2.443612575531006,
          -1.857651710510254,
          -1.847651481628418,
          -1.847651481628418,
          -1.8476510047912598,
          -1.388575553894043,
          -1.7617003917694092,
          -1.2976515293121338,
          -1.0973498821258545,
          1.4268054962158203,
          -1.1700007915496826,
          -0.847651481628418,
          -1.0554448366165161,
          -1.1352397203445435,
          -0.847651481628418,
          -0.744340181350708,
          -0.847651481628418,
          -1.133675456047058,
          -1.1636122465133667,
          -0.847651481628418,
          -0.3876514434814453,
          -0.7100702524185181,
          -0.560616135597229,
          -0.057651519775390625,
          -0.1758415699005127,
          0.03861188888549805,
          -0.1374049186706543,
          0.12135577201843262,
          0.15234851837158203,
          2.4057822227478027,
          -0.16792476177215576,
          0.15234851837158203,
          0.22144579887390137,
          0.15234851837158203,
          0.15234851837158203,
          -3.5332672595977783,
          -0.06405520439147949,
          -0.14509856700897217,
          -1.5683565139770508,
          -0.032233595848083496,
          -0.048862338066101074,
          0.28234827518463135,
          0.21151208877563477,
          0.19872987270355225,
          0.516149640083313,
          0.3323885202407837,
          0.2855263948440552,
          0.5511376857757568,
          0.8923485279083252,
          0.935472846031189,
          1.062348484992981,
          0.9841585159301758,
          0.8163877725601196,
          0.9511376619338989,
          0.8977835178375244,
          1.152348518371582,
          1.152348518371582,
          -2.64845871925354,
          0.8556017875671387,
          5.376879692077637,
          1.1604204177856445,
          1.1523494720458984,
          0.8413532972335815,
          1.152348518371582,
          1.2168431282043457,
          1.1261496543884277,
          0.8649019002914429,
          0.8461712598800659,
          1.074026346206665,
          1.0841584205627441,
          1.262349009513855,
          0.946387767791748,
          1.1748270988464355,
          1.149824857711792,
          1.078267216682434,
          1.6009634733200073,
          1.652348518371582,
          1.3363877534866333,
          1.53415846824646,
          1.3541847467422485,
          1.4063875675201416,
          -1.8276824951171875,
          1.6511375904083252,
          1.8723485469818115,
          1.9533183574676514,
          -1.8085994720458984,
          1.874158501625061,
          1.7998402118682861,
          2.0523486137390137,
          1.9241517782211304,
          2.0723490715026855,
          1.8063877820968628,
          2.1323485374450684,
          2.0453171730041504,
          1.9617935419082642,
          2.2243285179138184,
          1.8338158130645752,
          2.1523489952087402,
          1.9098402261734009,
          2.0245304107666016,
          2.1523489952087402,
          2.22414231300354,
          2.1214661598205566,
          2.1261496543884277,
          2.152435302734375,
          2.152348518371582,
          -1.5227079391479492,
          1.909840703010559,
          -1.4894089698791504,
          2.152348518371582,
          2.152348518371582,
          1.8363877534866333,
          1.998852014541626,
          2.024158477783203,
          1.878204345703125,
          2.024158477783203,
          2.155068874359131,
          2.152348518371582,
          2.024158477783203,
          1.8547593355178833,
          1.8363877534866333,
          1.9098318815231323,
          1.951137661933899,
          4.425346374511719,
          2.024168014526367,
          -1.1979339122772217,
          2.0555338859558105,
          1.909840703010559,
          2.152348518371582,
          2.152348041534424,
          -0.6213395595550537,
          2.152348518371582,
          2.1523499488830566,
          1.8581269979476929,
          1.9853821992874146,
          3.0942835807800293,
          1.8363877534866333,
          3.8692731857299805,
          2.1261496543884277,
          2.006877899169922,
          1.882614254951477,
          1.7461230754852295,
          3.3017094135284424,
          1.951137661933899,
          2.2243545055389404,
          2.152348518371582,
          1.951137661933899,
          2.152348518371582,
          2.152348518371582,
          2.152348518371582,
          2.152348518371582,
          2.1261496543884277,
          2.1261496543884277,
          4.42537784576416,
          -1.495326280593872,
          1.854901909828186,
          1.7119643688201904,
          2.024158477783203,
          2.152348518371582,
          2.152348518371582,
          -1.5693738460540771,
          1.9178909063339233,
          2.166814088821411,
          4.3898468017578125,
          1.0536998510360718,
          2.154092311859131,
          2.3745484352111816,
          1.9035496711730957,
          1.8364123106002808,
          2.152348518371582,
          4.68162727355957,
          -1.368227481842041,
          2.183187961578369,
          2.126150369644165,
          1.878204345703125,
          2.152348518371582,
          -0.5225780010223389,
          2.2354772090911865,
          1.9036794900894165,
          2.152348518371582,
          2.006877899169922,
          2.152348518371582,
          2.152348518371582,
          1.9853835105895996,
          -1.4940185546875,
          2.5366480350494385,
          -1.4909684658050537,
          2.152348518371582,
          1.9967039823532104,
          2.2243545055389404,
          1.7949892282485962,
          1.8337868452072144,
          -1.3659241199493408,
          2.1628448963165283,
          1.8413535356521606,
          2.152348518371582,
          2.0515694618225098,
          1.9862571954727173,
          2.164978504180908,
          2.24137020111084,
          4.425346374511719,
          1.909840703010559,
          2.152348518371582,
          1.8801665306091309,
          3.184213161468506,
          2.152348518371582,
          1.951137661933899,
          2.152348518371582,
          2.24141788482666,
          1.8341847658157349,
          2.024158477783203,
          1.878204345703125,
          2.152348518371582,
          1.854901909828186,
          1.8882650136947632,
          2.03415846824646,
          2.03415846824646,
          2.0641584396362305,
          1.9249019622802734,
          2.2423484325408936,
          2.009840726852417,
          2.3514244556427,
          2.040701150894165,
          2.4423484802246094,
          2.2511377334594727,
          2.2249019145965576,
          2.4511375427246094,
          2.6261496543884277,
          2.7023489475250244,
          -0.8884164094924927,
          2.857513666152954,
          2.8564705848693848,
          2.8141584396362305,
          1.419672966003418,
          3.006877899169922,
          3.166814088821411,
          2.7899298667907715,
          3.152348518371582,
          2.871246814727783,
          2.82930850982666,
          3.114013195037842,
          3.152348518371582,
          3.152348518371582,
          2.8757681846618652,
          3.126157283782959,
          2.961681365966797,
          2.836394786834717,
          3.009840726852417,
          3.1373796463012695,
          3.1549019813537598,
          3.186387777328491,
          3.191542625427246,
          3.6781766414642334,
          4.142348289489746,
          4.023881435394287,
          4.152348518371582,
          4.152348518371582,
          4.152348518371582,
          3.8544929027557373,
          4.152348518371582,
          3.844489097595215,
          3.4173765182495117,
          4.152348518371582,
          4.367854118347168,
          4.883679389953613,
          4.779930114746094,
          7.398140907287598,
          5.224111080169678,
          4.962703227996826,
          5.004319190979004,
          5.152348518371582,
          7.29837703704834,
          5.1049017906188965,
          5.50984001159668,
          5.841424465179443,
          8.398399353027344,
          5.826328277587891,
          6.152348518371582,
          5.966473579406738,
          6.584158420562744,
          7.024158477783203,
          4.12989616394043,
          7.180259704589844,
          7.2911376953125,
          7.474183559417725,
          7.567748069763184,
          14.485968589782715,
          8.22415828704834,
          8.483224868774414,
          8.506877899169922,
          8.969615936279297,
          11.425345420837402,
          8.929841041564941,
          10.8177490234375,
          13.881627082824707,
          12.167977333068848,
          14.429288864135742,
          9.201727867126465,
          9.500810623168945,
          11.90984058380127,
          14.344897270202637,
          18.73233413696289,
          12.47415828704834,
          12.724262237548828,
          12.996877670288086,
          14.194355010986328,
          15.504354476928711,
          15.932348251342773,
          17.152347564697266,
          14.516927719116211,
          21.241424560546875,
          21.548255920410156,
          23.006877899169922,
          19.499048233032227,
          27.224353790283203,
          31.005826950073242,
          30.859676361083984,
          36.55840301513672,
          44.99531173706055,
          84.96534729003906
         ],
         "yaxis": "y"
        }
       ],
       "layout": {
        "autosize": true,
        "barmode": "relative",
        "legend": {
         "tracegroupgap": 0
        },
        "margin": {
         "t": 60
        },
        "template": {
         "data": {
          "bar": [
           {
            "error_x": {
             "color": "#2a3f5f"
            },
            "error_y": {
             "color": "#2a3f5f"
            },
            "marker": {
             "line": {
              "color": "#E5ECF6",
              "width": 0.5
             },
             "pattern": {
              "fillmode": "overlay",
              "size": 10,
              "solidity": 0.2
             }
            },
            "type": "bar"
           }
          ],
          "barpolar": [
           {
            "marker": {
             "line": {
              "color": "#E5ECF6",
              "width": 0.5
             },
             "pattern": {
              "fillmode": "overlay",
              "size": 10,
              "solidity": 0.2
             }
            },
            "type": "barpolar"
           }
          ],
          "carpet": [
           {
            "aaxis": {
             "endlinecolor": "#2a3f5f",
             "gridcolor": "white",
             "linecolor": "white",
             "minorgridcolor": "white",
             "startlinecolor": "#2a3f5f"
            },
            "baxis": {
             "endlinecolor": "#2a3f5f",
             "gridcolor": "white",
             "linecolor": "white",
             "minorgridcolor": "white",
             "startlinecolor": "#2a3f5f"
            },
            "type": "carpet"
           }
          ],
          "choropleth": [
           {
            "colorbar": {
             "outlinewidth": 0,
             "ticks": ""
            },
            "type": "choropleth"
           }
          ],
          "contour": [
           {
            "colorbar": {
             "outlinewidth": 0,
             "ticks": ""
            },
            "colorscale": [
             [
              0,
              "#0d0887"
             ],
             [
              0.1111111111111111,
              "#46039f"
             ],
             [
              0.2222222222222222,
              "#7201a8"
             ],
             [
              0.3333333333333333,
              "#9c179e"
             ],
             [
              0.4444444444444444,
              "#bd3786"
             ],
             [
              0.5555555555555556,
              "#d8576b"
             ],
             [
              0.6666666666666666,
              "#ed7953"
             ],
             [
              0.7777777777777778,
              "#fb9f3a"
             ],
             [
              0.8888888888888888,
              "#fdca26"
             ],
             [
              1,
              "#f0f921"
             ]
            ],
            "type": "contour"
           }
          ],
          "contourcarpet": [
           {
            "colorbar": {
             "outlinewidth": 0,
             "ticks": ""
            },
            "type": "contourcarpet"
           }
          ],
          "heatmap": [
           {
            "colorbar": {
             "outlinewidth": 0,
             "ticks": ""
            },
            "colorscale": [
             [
              0,
              "#0d0887"
             ],
             [
              0.1111111111111111,
              "#46039f"
             ],
             [
              0.2222222222222222,
              "#7201a8"
             ],
             [
              0.3333333333333333,
              "#9c179e"
             ],
             [
              0.4444444444444444,
              "#bd3786"
             ],
             [
              0.5555555555555556,
              "#d8576b"
             ],
             [
              0.6666666666666666,
              "#ed7953"
             ],
             [
              0.7777777777777778,
              "#fb9f3a"
             ],
             [
              0.8888888888888888,
              "#fdca26"
             ],
             [
              1,
              "#f0f921"
             ]
            ],
            "type": "heatmap"
           }
          ],
          "heatmapgl": [
           {
            "colorbar": {
             "outlinewidth": 0,
             "ticks": ""
            },
            "colorscale": [
             [
              0,
              "#0d0887"
             ],
             [
              0.1111111111111111,
              "#46039f"
             ],
             [
              0.2222222222222222,
              "#7201a8"
             ],
             [
              0.3333333333333333,
              "#9c179e"
             ],
             [
              0.4444444444444444,
              "#bd3786"
             ],
             [
              0.5555555555555556,
              "#d8576b"
             ],
             [
              0.6666666666666666,
              "#ed7953"
             ],
             [
              0.7777777777777778,
              "#fb9f3a"
             ],
             [
              0.8888888888888888,
              "#fdca26"
             ],
             [
              1,
              "#f0f921"
             ]
            ],
            "type": "heatmapgl"
           }
          ],
          "histogram": [
           {
            "marker": {
             "pattern": {
              "fillmode": "overlay",
              "size": 10,
              "solidity": 0.2
             }
            },
            "type": "histogram"
           }
          ],
          "histogram2d": [
           {
            "colorbar": {
             "outlinewidth": 0,
             "ticks": ""
            },
            "colorscale": [
             [
              0,
              "#0d0887"
             ],
             [
              0.1111111111111111,
              "#46039f"
             ],
             [
              0.2222222222222222,
              "#7201a8"
             ],
             [
              0.3333333333333333,
              "#9c179e"
             ],
             [
              0.4444444444444444,
              "#bd3786"
             ],
             [
              0.5555555555555556,
              "#d8576b"
             ],
             [
              0.6666666666666666,
              "#ed7953"
             ],
             [
              0.7777777777777778,
              "#fb9f3a"
             ],
             [
              0.8888888888888888,
              "#fdca26"
             ],
             [
              1,
              "#f0f921"
             ]
            ],
            "type": "histogram2d"
           }
          ],
          "histogram2dcontour": [
           {
            "colorbar": {
             "outlinewidth": 0,
             "ticks": ""
            },
            "colorscale": [
             [
              0,
              "#0d0887"
             ],
             [
              0.1111111111111111,
              "#46039f"
             ],
             [
              0.2222222222222222,
              "#7201a8"
             ],
             [
              0.3333333333333333,
              "#9c179e"
             ],
             [
              0.4444444444444444,
              "#bd3786"
             ],
             [
              0.5555555555555556,
              "#d8576b"
             ],
             [
              0.6666666666666666,
              "#ed7953"
             ],
             [
              0.7777777777777778,
              "#fb9f3a"
             ],
             [
              0.8888888888888888,
              "#fdca26"
             ],
             [
              1,
              "#f0f921"
             ]
            ],
            "type": "histogram2dcontour"
           }
          ],
          "mesh3d": [
           {
            "colorbar": {
             "outlinewidth": 0,
             "ticks": ""
            },
            "type": "mesh3d"
           }
          ],
          "parcoords": [
           {
            "line": {
             "colorbar": {
              "outlinewidth": 0,
              "ticks": ""
             }
            },
            "type": "parcoords"
           }
          ],
          "pie": [
           {
            "automargin": true,
            "type": "pie"
           }
          ],
          "scatter": [
           {
            "fillpattern": {
             "fillmode": "overlay",
             "size": 10,
             "solidity": 0.2
            },
            "type": "scatter"
           }
          ],
          "scatter3d": [
           {
            "line": {
             "colorbar": {
              "outlinewidth": 0,
              "ticks": ""
             }
            },
            "marker": {
             "colorbar": {
              "outlinewidth": 0,
              "ticks": ""
             }
            },
            "type": "scatter3d"
           }
          ],
          "scattercarpet": [
           {
            "marker": {
             "colorbar": {
              "outlinewidth": 0,
              "ticks": ""
             }
            },
            "type": "scattercarpet"
           }
          ],
          "scattergeo": [
           {
            "marker": {
             "colorbar": {
              "outlinewidth": 0,
              "ticks": ""
             }
            },
            "type": "scattergeo"
           }
          ],
          "scattergl": [
           {
            "marker": {
             "colorbar": {
              "outlinewidth": 0,
              "ticks": ""
             }
            },
            "type": "scattergl"
           }
          ],
          "scattermapbox": [
           {
            "marker": {
             "colorbar": {
              "outlinewidth": 0,
              "ticks": ""
             }
            },
            "type": "scattermapbox"
           }
          ],
          "scatterpolar": [
           {
            "marker": {
             "colorbar": {
              "outlinewidth": 0,
              "ticks": ""
             }
            },
            "type": "scatterpolar"
           }
          ],
          "scatterpolargl": [
           {
            "marker": {
             "colorbar": {
              "outlinewidth": 0,
              "ticks": ""
             }
            },
            "type": "scatterpolargl"
           }
          ],
          "scatterternary": [
           {
            "marker": {
             "colorbar": {
              "outlinewidth": 0,
              "ticks": ""
             }
            },
            "type": "scatterternary"
           }
          ],
          "surface": [
           {
            "colorbar": {
             "outlinewidth": 0,
             "ticks": ""
            },
            "colorscale": [
             [
              0,
              "#0d0887"
             ],
             [
              0.1111111111111111,
              "#46039f"
             ],
             [
              0.2222222222222222,
              "#7201a8"
             ],
             [
              0.3333333333333333,
              "#9c179e"
             ],
             [
              0.4444444444444444,
              "#bd3786"
             ],
             [
              0.5555555555555556,
              "#d8576b"
             ],
             [
              0.6666666666666666,
              "#ed7953"
             ],
             [
              0.7777777777777778,
              "#fb9f3a"
             ],
             [
              0.8888888888888888,
              "#fdca26"
             ],
             [
              1,
              "#f0f921"
             ]
            ],
            "type": "surface"
           }
          ],
          "table": [
           {
            "cells": {
             "fill": {
              "color": "#EBF0F8"
             },
             "line": {
              "color": "white"
             }
            },
            "header": {
             "fill": {
              "color": "#C8D4E3"
             },
             "line": {
              "color": "white"
             }
            },
            "type": "table"
           }
          ]
         },
         "layout": {
          "annotationdefaults": {
           "arrowcolor": "#2a3f5f",
           "arrowhead": 0,
           "arrowwidth": 1
          },
          "autotypenumbers": "strict",
          "coloraxis": {
           "colorbar": {
            "outlinewidth": 0,
            "ticks": ""
           }
          },
          "colorscale": {
           "diverging": [
            [
             0,
             "#8e0152"
            ],
            [
             0.1,
             "#c51b7d"
            ],
            [
             0.2,
             "#de77ae"
            ],
            [
             0.3,
             "#f1b6da"
            ],
            [
             0.4,
             "#fde0ef"
            ],
            [
             0.5,
             "#f7f7f7"
            ],
            [
             0.6,
             "#e6f5d0"
            ],
            [
             0.7,
             "#b8e186"
            ],
            [
             0.8,
             "#7fbc41"
            ],
            [
             0.9,
             "#4d9221"
            ],
            [
             1,
             "#276419"
            ]
           ],
           "sequential": [
            [
             0,
             "#440154"
            ],
            [
             0.1111111111111111,
             "#482878"
            ],
            [
             0.2222222222222222,
             "#3e4989"
            ],
            [
             0.3333333333333333,
             "#31688e"
            ],
            [
             0.4444444444444444,
             "#26828e"
            ],
            [
             0.5555555555555556,
             "#1f9e89"
            ],
            [
             0.6666666666666666,
             "#35b779"
            ],
            [
             0.7777777777777778,
             "#6ece58"
            ],
            [
             0.8888888888888888,
             "#b5de2b"
            ],
            [
             1,
             "#fde725"
            ]
           ],
           "sequentialminus": [
            [
             0,
             "#0d0887"
            ],
            [
             0.1111111111111111,
             "#46039f"
            ],
            [
             0.2222222222222222,
             "#7201a8"
            ],
            [
             0.3333333333333333,
             "#9c179e"
            ],
            [
             0.4444444444444444,
             "#bd3786"
            ],
            [
             0.5555555555555556,
             "#d8576b"
            ],
            [
             0.6666666666666666,
             "#ed7953"
            ],
            [
             0.7777777777777778,
             "#fb9f3a"
            ],
            [
             0.8888888888888888,
             "#fdca26"
            ],
            [
             1,
             "#f0f921"
            ]
           ]
          },
          "colorway": [
           "#636EFA",
           "#00CC96",
           "#AB63FA",
           "#FFA15A",
           "#19D3F3",
           "#FF6692",
           "#B6E880",
           "#FF97FF",
           "#FECB52"
          ],
          "font": {
           "color": "lightgreen"
          },
          "geo": {
           "bgcolor": "white",
           "lakecolor": "white",
           "landcolor": "#E5ECF6",
           "showlakes": true,
           "showland": true,
           "subunitcolor": "white"
          },
          "hoverlabel": {
           "align": "left"
          },
          "hovermode": "closest",
          "mapbox": {
           "style": "light"
          },
          "paper_bgcolor": "rgba(0, 0, 0, 0)",
          "plot_bgcolor": "#E5ECF6",
          "polar": {
           "angularaxis": {
            "gridcolor": "white",
            "linecolor": "white",
            "ticks": ""
           },
           "bgcolor": "#E5ECF6",
           "radialaxis": {
            "gridcolor": "white",
            "linecolor": "white",
            "ticks": ""
           }
          },
          "scene": {
           "xaxis": {
            "backgroundcolor": "#E5ECF6",
            "gridcolor": "white",
            "gridwidth": 2,
            "linecolor": "white",
            "showbackground": true,
            "ticks": "",
            "zerolinecolor": "white"
           },
           "yaxis": {
            "backgroundcolor": "#E5ECF6",
            "gridcolor": "white",
            "gridwidth": 2,
            "linecolor": "white",
            "showbackground": true,
            "ticks": "",
            "zerolinecolor": "white"
           },
           "zaxis": {
            "backgroundcolor": "#E5ECF6",
            "gridcolor": "white",
            "gridwidth": 2,
            "linecolor": "white",
            "showbackground": true,
            "ticks": "",
            "zerolinecolor": "white"
           }
          },
          "shapedefaults": {
           "line": {
            "color": "#2a3f5f"
           }
          },
          "ternary": {
           "aaxis": {
            "gridcolor": "white",
            "linecolor": "white",
            "ticks": ""
           },
           "baxis": {
            "gridcolor": "white",
            "linecolor": "white",
            "ticks": ""
           },
           "bgcolor": "#E5ECF6",
           "caxis": {
            "gridcolor": "white",
            "linecolor": "white",
            "ticks": ""
           }
          },
          "title": {
           "x": 0.05
          },
          "xaxis": {
           "automargin": true,
           "gridcolor": "white",
           "linecolor": "white",
           "ticks": "",
           "title": {
            "standoff": 15
           },
           "zerolinecolor": "white",
           "zerolinewidth": 2
          },
          "yaxis": {
           "automargin": true,
           "gridcolor": "white",
           "linecolor": "white",
           "ticks": "",
           "title": {
            "standoff": 15
           },
           "zerolinecolor": "white",
           "zerolinewidth": 2
          }
         }
        },
        "xaxis": {
         "anchor": "y",
         "autorange": true,
         "domain": [
          0,
          1
         ],
         "range": [
          -0.5,
          191.5
         ],
         "title": {
          "text": "True Price Difference"
         },
         "type": "category"
        },
        "yaxis": {
         "anchor": "x",
         "autorange": true,
         "domain": [
          0,
          1
         ],
         "range": [
          -151.00425193707147,
          260.1373053590457
         ],
         "title": {
          "text": "Difference Between True and Predicted"
         },
         "type": "linear"
        }
       }
      },
      "image/png": "[encoded data removed]",
      "text/html": [
       "<div>                            <div id=\"faf318fc-81be-4b1b-b8ac-094af8d47dd1\" class=\"plotly-graph-div\" style=\"height:525px; width:100%;\"></div>            <script type=\"text/javascript\">                require([\"plotly\"], function(Plotly) {                    window.PLOTLYENV=window.PLOTLYENV || {};                                    if (document.getElementById(\"faf318fc-81be-4b1b-b8ac-094af8d47dd1\")) {                    Plotly.newPlot(                        \"faf318fc-81be-4b1b-b8ac-094af8d47dd1\",                        [{\"alignmentgroup\":\"True\",\"hovertemplate\":\"x=%{x}\\u003cbr\\u003ey=%{y}\\u003cextra\\u003e\\u003c\\u002fextra\\u003e\",\"legendgroup\":\"\",\"marker\":{\"color\":\"#636EFA\",\"pattern\":{\"shape\":\"\"}},\"name\":\"\",\"offsetgroup\":\"\",\"orientation\":\"v\",\"showlegend\":false,\"textposition\":\"auto\",\"x\":[\"-130.0\",\"-94.98\",\"-90.01\",\"-70.0\",\"-65.0\",\"-57.95\",\"-50.34\",\"-50.0\",\"-46.49\",\"-40.99\",\"-40.0\",\"-40.0\",\"-39.01\",\"-37.0\",\"-36.99\",\"-35.02\",\"-35.0\",\"-34.81\",\"-32.0\",\"-32.0\",\"-30.01\",\"-30.0\",\"-27.03\",\"-26.0\",\"-22.69\",\"-21.0\",\"-20.84\",\"-20.0\",\"-20.0\",\"-20.0\",\"-19.99\",\"-18.5\",\"-18.07\",\"-16.0\",\"-15.8\",\"-15.73\",\"-15.0\",\"-15.0\",\"-15.0\",\"-15.0\",\"-15.0\",\"-13.5\",\"-13.0\",\"-12.5\",\"-12.0\",\"-12.0\",\"-11.65\",\"-11.4\",\"-11.13\",\"-11.0\",\"-11.0\",\"-11.0\",\"-11.0\",\"-10.99\",\"-10.03\",\"-10.0\",\"-10.0\",\"-10.0\",\"-10.0\",\"-10.0\",\"-9.32\",\"-9.01\",\"-9.0\",\"-8.5\",\"-8.49\",\"-8.41\",\"-8.33\",\"-8.25\",\"-7.84\",\"-7.6\",\"-7.25\",\"-7.0\",\"-7.0\",\"-7.0\",\"-6.25\",\"-6.03\",\"-6.0\",\"-6.0\",\"-6.0\",\"-5.88\",\"-5.87\",\"-5.29\",\"-5.19\",\"-5.09\",\"-5.04\",\"-5.01\",\"-5.01\",\"-5.0\",\"-5.0\",\"-5.0\",\"-5.0\",\"-5.0\",\"-4.95\",\"-4.86\",\"-4.85\",\"-4.69\",\"-4.35\",\"-4.28\",\"-4.01\",\"-4.0\",\"-4.0\",\"-4.0\",\"-3.63\",\"-3.6\",\"-3.45\",\"-3.1\",\"-3.0\",\"-3.0\",\"-3.0\",\"-3.0\",\"-3.0\",\"-3.0\",\"-3.0\",\"-3.0\",\"-3.0\",\"-3.0\",\"-3.0\",\"-2.54\",\"-2.5\",\"-2.5\",\"-2.21\",\"-2.2\",\"-2.04\",\"-2.04\",\"-2.01\",\"-2.0\",\"-2.0\",\"-2.0\",\"-2.0\",\"-2.0\",\"-2.0\",\"-2.0\",\"-2.0\",\"-2.0\",\"-2.0\",\"-2.0\",\"-2.0\",\"-2.0\",\"-1.87\",\"-1.81\",\"-1.71\",\"-1.61\",\"-1.5\",\"-1.49\",\"-1.4\",\"-1.26\",\"-1.12\",\"-1.09\",\"-1.04\",\"-1.02\",\"-1.0\",\"-1.0\",\"-1.0\",\"-1.0\",\"-1.0\",\"-1.0\",\"-1.0\",\"-1.0\",\"-1.0\",\"-1.0\",\"-1.0\",\"-1.0\",\"-1.0\",\"-0.99\",\"-0.99\",\"-0.99\",\"-0.94\",\"-0.89\",\"-0.89\",\"-0.83\",\"-0.76\",\"-0.74\",\"-0.6\",\"-0.5\",\"-0.5\",\"-0.49\",\"-0.48\",\"-0.43\",\"-0.32\",\"-0.3\",\"-0.28\",\"-0.24\",\"-0.22\",\"-0.15\",\"-0.11\",\"-0.1\",\"-0.1\",\"-0.08\",\"-0.03\",\"-0.02\",\"-0.01\",\"0.0\",\"0.0\",\"0.0\",\"0.0\",\"0.0\",\"0.0\",\"0.0\",\"0.0\",\"0.0\",\"0.0\",\"0.0\",\"0.0\",\"0.0\",\"0.0\",\"0.0\",\"0.0\",\"0.0\",\"0.0\",\"0.0\",\"0.0\",\"0.0\",\"0.0\",\"0.0\",\"0.0\",\"0.0\",\"0.0\",\"0.0\",\"0.0\",\"0.0\",\"0.0\",\"0.0\",\"0.0\",\"0.0\",\"0.0\",\"0.0\",\"0.0\",\"0.0\",\"0.0\",\"0.0\",\"0.0\",\"0.0\",\"0.0\",\"0.0\",\"0.0\",\"0.0\",\"0.0\",\"0.0\",\"0.0\",\"0.0\",\"0.0\",\"0.0\",\"0.0\",\"0.0\",\"0.0\",\"0.0\",\"0.0\",\"0.0\",\"0.0\",\"0.0\",\"0.0\",\"0.0\",\"0.0\",\"0.0\",\"0.0\",\"0.0\",\"0.0\",\"0.0\",\"0.0\",\"0.0\",\"0.0\",\"0.0\",\"0.0\",\"0.0\",\"0.0\",\"0.0\",\"0.0\",\"0.0\",\"0.0\",\"0.0\",\"0.0\",\"0.0\",\"0.0\",\"0.0\",\"0.0\",\"0.0\",\"0.0\",\"0.0\",\"0.0\",\"0.0\",\"0.0\",\"0.0\",\"0.0\",\"0.0\",\"0.0\",\"0.0\",\"0.0\",\"0.0\",\"0.0\",\"0.0\",\"0.0\",\"0.0\",\"0.0\",\"0.0\",\"0.0\",\"0.0\",\"0.0\",\"0.0\",\"0.0\",\"0.0\",\"0.0\",\"0.0\",\"0.0\",\"0.0\",\"0.0\",\"0.0\",\"0.0\",\"0.0\",\"0.0\",\"0.0\",\"0.0\",\"0.01\",\"0.01\",\"0.01\",\"0.04\",\"0.07\",\"0.09\",\"0.1\",\"0.11\",\"0.2\",\"0.29\",\"0.3\",\"0.37\",\"0.5\",\"0.5\",\"0.55\",\"0.6\",\"0.71\",\"0.74\",\"0.79\",\"0.99\",\"1.0\",\"1.0\",\"1.0\",\"1.0\",\"1.0\",\"1.0\",\"1.0\",\"1.0\",\"1.0\",\"1.0\",\"1.0\",\"1.0\",\"1.0\",\"1.1\",\"1.11\",\"1.3\",\"1.35\",\"1.4\",\"1.8\",\"1.99\",\"2.0\",\"2.0\",\"2.0\",\"2.0\",\"2.0\",\"2.0\",\"2.0\",\"2.0\",\"2.0\",\"2.4\",\"2.98\",\"2.99\",\"3.0\",\"3.0\",\"3.0\",\"3.0\",\"3.0\",\"3.01\",\"3.25\",\"3.6\",\"3.6\",\"3.99\",\"3.99\",\"4.0\",\"4.0\",\"4.56\",\"5.0\",\"5.0\",\"5.28\",\"5.34\",\"5.45\",\"5.6\",\"6.0\",\"6.2\",\"6.37\",\"6.5\",\"7.0\",\"7.0\",\"7.02\",\"8.85\",\"9.2\",\"10.0\",\"10.0\",\"10.0\",\"10.0\",\"10.0\",\"10.0\",\"10.0\",\"10.45\",\"10.5\",\"10.99\",\"11.97\",\"13.28\",\"13.78\",\"15.0\",\"16.0\",\"19.0\",\"19.72\",\"21.0\",\"21.04\",\"25.0\",\"29.0\",\"29.01\",\"32.15\",\"40.57\",\"80.54\"],\"xaxis\":\"x\",\"y\":[-130.44717407226562,-96.47199249267578,-48.09856414794922,-60.14281463623047,-62.315155029296875,-55.70857620239258,-45.64480209350586,-47.95465087890625,-48.009437561035156,-42.20455551147461,-37.758541107177734,-38.14521789550781,-34.61457061767578,-39.29050827026367,-34.72828674316406,-36.56261444091797,-33.04886245727539,-32.90016174316406,-29.758575439453125,-30.013477325439453,-27.32500648498535,-27.775646209716797,-24.788576126098633,-21.591707229614258,-20.448575973510742,-22.41666603088379,-18.687652587890625,-17.8476505279541,-15.592240333557129,-18.076663970947266,-15.5816011428833,-16.275646209716797,-15.935290336608887,-11.59160041809082,-17.29149627685547,-13.505644798278809,-16.461750030517578,-12.847646713256836,-12.847614288330078,-12.833181381225586,-13.664243698120117,-11.258575439453125,-13.79652214050293,-10.34765338897705,-7.591630458831787,-10.033527374267578,-9.408575057983398,-9.247638702392578,-9.29887580871582,-6.574653625488281,-9.032251358032227,-8.847651481628418,-6.877823829650879,-8.837651252746582,-11.544471740722656,-8.121795654296875,-8.145097732543945,-8.168667793273926,-7.7756452560424805,-7.5672149658203125,-7.167651176452637,-6.883437633514404,-7.048862457275391,-6.475841522216797,-6.654306888580322,-4.08314323425293,-6.305841445922852,-6.021023750305176,-5.8158416748046875,-5.512219429016113,-5.249222755432129,-5.027737617492676,-6.848729133605957,-4.847468376159668,-4.123850345611572,-4.07886266708374,-4.036017894744873,-4.046970367431641,-3.995879888534546,-7.175495147705078,-2.045426368713379,-3.6769518852233887,-3.2863216400146484,-2.8485755920410156,-1.3005874156951904,-2.985841751098633,-3.003122329711914,-5.641874313354492,-3.2171411514282227,-3.145098924636841,-2.7585694789886475,-3.121795654296875,-3.0358715057373047,-2.6191866397857666,-2.8335981369018555,-2.4666054248809814,0.03962373733520508,-2.443612575531006,-1.857651710510254,-1.847651481628418,-1.847651481628418,-1.8476510047912598,-1.388575553894043,-1.7617003917694092,-1.2976515293121338,-1.0973498821258545,1.4268054962158203,-1.1700007915496826,-0.847651481628418,-1.0554448366165161,-1.1352397203445435,-0.847651481628418,-0.744340181350708,-0.847651481628418,-1.133675456047058,-1.1636122465133667,-0.847651481628418,-0.3876514434814453,-0.7100702524185181,-0.560616135597229,-0.057651519775390625,-0.1758415699005127,0.03861188888549805,-0.1374049186706543,0.12135577201843262,0.15234851837158203,2.4057822227478027,-0.16792476177215576,0.15234851837158203,0.22144579887390137,0.15234851837158203,0.15234851837158203,-3.5332672595977783,-0.06405520439147949,-0.14509856700897217,-1.5683565139770508,-0.032233595848083496,-0.048862338066101074,0.28234827518463135,0.21151208877563477,0.19872987270355225,0.516149640083313,0.3323885202407837,0.2855263948440552,0.5511376857757568,0.8923485279083252,0.935472846031189,1.062348484992981,0.9841585159301758,0.8163877725601196,0.9511376619338989,0.8977835178375244,1.152348518371582,1.152348518371582,-2.64845871925354,0.8556017875671387,5.376879692077637,1.1604204177856445,1.1523494720458984,0.8413532972335815,1.152348518371582,1.2168431282043457,1.1261496543884277,0.8649019002914429,0.8461712598800659,1.074026346206665,1.0841584205627441,1.262349009513855,0.946387767791748,1.1748270988464355,1.149824857711792,1.078267216682434,1.6009634733200073,1.652348518371582,1.3363877534866333,1.53415846824646,1.3541847467422485,1.4063875675201416,-1.8276824951171875,1.6511375904083252,1.8723485469818115,1.9533183574676514,-1.8085994720458984,1.874158501625061,1.7998402118682861,2.0523486137390137,1.9241517782211304,2.0723490715026855,1.8063877820968628,2.1323485374450684,2.0453171730041504,1.9617935419082642,2.2243285179138184,1.8338158130645752,2.1523489952087402,1.9098402261734009,2.0245304107666016,2.1523489952087402,2.22414231300354,2.1214661598205566,2.1261496543884277,2.152435302734375,2.152348518371582,-1.5227079391479492,1.909840703010559,-1.4894089698791504,2.152348518371582,2.152348518371582,1.8363877534866333,1.998852014541626,2.024158477783203,1.878204345703125,2.024158477783203,2.155068874359131,2.152348518371582,2.024158477783203,1.8547593355178833,1.8363877534866333,1.9098318815231323,1.951137661933899,4.425346374511719,2.024168014526367,-1.1979339122772217,2.0555338859558105,1.909840703010559,2.152348518371582,2.152348041534424,-0.6213395595550537,2.152348518371582,2.1523499488830566,1.8581269979476929,1.9853821992874146,3.0942835807800293,1.8363877534866333,3.8692731857299805,2.1261496543884277,2.006877899169922,1.882614254951477,1.7461230754852295,3.3017094135284424,1.951137661933899,2.2243545055389404,2.152348518371582,1.951137661933899,2.152348518371582,2.152348518371582,2.152348518371582,2.152348518371582,2.1261496543884277,2.1261496543884277,4.42537784576416,-1.495326280593872,1.854901909828186,1.7119643688201904,2.024158477783203,2.152348518371582,2.152348518371582,-1.5693738460540771,1.9178909063339233,2.166814088821411,4.3898468017578125,1.0536998510360718,2.154092311859131,2.3745484352111816,1.9035496711730957,1.8364123106002808,2.152348518371582,4.68162727355957,-1.368227481842041,2.183187961578369,2.126150369644165,1.878204345703125,2.152348518371582,-0.5225780010223389,2.2354772090911865,1.9036794900894165,2.152348518371582,2.006877899169922,2.152348518371582,2.152348518371582,1.9853835105895996,-1.4940185546875,2.5366480350494385,-1.4909684658050537,2.152348518371582,1.9967039823532104,2.2243545055389404,1.7949892282485962,1.8337868452072144,-1.3659241199493408,2.1628448963165283,1.8413535356521606,2.152348518371582,2.0515694618225098,1.9862571954727173,2.164978504180908,2.24137020111084,4.425346374511719,1.909840703010559,2.152348518371582,1.8801665306091309,3.184213161468506,2.152348518371582,1.951137661933899,2.152348518371582,2.24141788482666,1.8341847658157349,2.024158477783203,1.878204345703125,2.152348518371582,1.854901909828186,1.8882650136947632,2.03415846824646,2.03415846824646,2.0641584396362305,1.9249019622802734,2.2423484325408936,2.009840726852417,2.3514244556427,2.040701150894165,2.4423484802246094,2.2511377334594727,2.2249019145965576,2.4511375427246094,2.6261496543884277,2.7023489475250244,-0.8884164094924927,2.857513666152954,2.8564705848693848,2.8141584396362305,1.419672966003418,3.006877899169922,3.166814088821411,2.7899298667907715,3.152348518371582,2.871246814727783,2.82930850982666,3.114013195037842,3.152348518371582,3.152348518371582,2.8757681846618652,3.126157283782959,2.961681365966797,2.836394786834717,3.009840726852417,3.1373796463012695,3.1549019813537598,3.186387777328491,3.191542625427246,3.6781766414642334,4.142348289489746,4.023881435394287,4.152348518371582,4.152348518371582,4.152348518371582,3.8544929027557373,4.152348518371582,3.844489097595215,3.4173765182495117,4.152348518371582,4.367854118347168,4.883679389953613,4.779930114746094,7.398140907287598,5.224111080169678,4.962703227996826,5.004319190979004,5.152348518371582,7.29837703704834,5.1049017906188965,5.50984001159668,5.841424465179443,8.398399353027344,5.826328277587891,6.152348518371582,5.966473579406738,6.584158420562744,7.024158477783203,4.12989616394043,7.180259704589844,7.2911376953125,7.474183559417725,7.567748069763184,14.485968589782715,8.22415828704834,8.483224868774414,8.506877899169922,8.969615936279297,11.425345420837402,8.929841041564941,10.8177490234375,13.881627082824707,12.167977333068848,14.429288864135742,9.201727867126465,9.500810623168945,11.90984058380127,14.344897270202637,18.73233413696289,12.47415828704834,12.724262237548828,12.996877670288086,14.194355010986328,15.504354476928711,15.932348251342773,17.152347564697266,14.516927719116211,21.241424560546875,21.548255920410156,23.006877899169922,19.499048233032227,27.224353790283203,31.005826950073242,30.859676361083984,36.55840301513672,44.99531173706055,84.96534729003906],\"yaxis\":\"y\",\"type\":\"bar\"}],                        {\"template\":{\"data\":{\"barpolar\":[{\"marker\":{\"line\":{\"color\":\"#E5ECF6\",\"width\":0.5},\"pattern\":{\"fillmode\":\"overlay\",\"size\":10,\"solidity\":0.2}},\"type\":\"barpolar\"}],\"bar\":[{\"error_x\":{\"color\":\"#2a3f5f\"},\"error_y\":{\"color\":\"#2a3f5f\"},\"marker\":{\"line\":{\"color\":\"#E5ECF6\",\"width\":0.5},\"pattern\":{\"fillmode\":\"overlay\",\"size\":10,\"solidity\":0.2}},\"type\":\"bar\"}],\"carpet\":[{\"aaxis\":{\"endlinecolor\":\"#2a3f5f\",\"gridcolor\":\"white\",\"linecolor\":\"white\",\"minorgridcolor\":\"white\",\"startlinecolor\":\"#2a3f5f\"},\"baxis\":{\"endlinecolor\":\"#2a3f5f\",\"gridcolor\":\"white\",\"linecolor\":\"white\",\"minorgridcolor\":\"white\",\"startlinecolor\":\"#2a3f5f\"},\"type\":\"carpet\"}],\"choropleth\":[{\"colorbar\":{\"outlinewidth\":0,\"ticks\":\"\"},\"type\":\"choropleth\"}],\"contourcarpet\":[{\"colorbar\":{\"outlinewidth\":0,\"ticks\":\"\"},\"type\":\"contourcarpet\"}],\"contour\":[{\"colorbar\":{\"outlinewidth\":0,\"ticks\":\"\"},\"colorscale\":[[0.0,\"#0d0887\"],[0.1111111111111111,\"#46039f\"],[0.2222222222222222,\"#7201a8\"],[0.3333333333333333,\"#9c179e\"],[0.4444444444444444,\"#bd3786\"],[0.5555555555555556,\"#d8576b\"],[0.6666666666666666,\"#ed7953\"],[0.7777777777777778,\"#fb9f3a\"],[0.8888888888888888,\"#fdca26\"],[1.0,\"#f0f921\"]],\"type\":\"contour\"}],\"heatmapgl\":[{\"colorbar\":{\"outlinewidth\":0,\"ticks\":\"\"},\"colorscale\":[[0.0,\"#0d0887\"],[0.1111111111111111,\"#46039f\"],[0.2222222222222222,\"#7201a8\"],[0.3333333333333333,\"#9c179e\"],[0.4444444444444444,\"#bd3786\"],[0.5555555555555556,\"#d8576b\"],[0.6666666666666666,\"#ed7953\"],[0.7777777777777778,\"#fb9f3a\"],[0.8888888888888888,\"#fdca26\"],[1.0,\"#f0f921\"]],\"type\":\"heatmapgl\"}],\"heatmap\":[{\"colorbar\":{\"outlinewidth\":0,\"ticks\":\"\"},\"colorscale\":[[0.0,\"#0d0887\"],[0.1111111111111111,\"#46039f\"],[0.2222222222222222,\"#7201a8\"],[0.3333333333333333,\"#9c179e\"],[0.4444444444444444,\"#bd3786\"],[0.5555555555555556,\"#d8576b\"],[0.6666666666666666,\"#ed7953\"],[0.7777777777777778,\"#fb9f3a\"],[0.8888888888888888,\"#fdca26\"],[1.0,\"#f0f921\"]],\"type\":\"heatmap\"}],\"histogram2dcontour\":[{\"colorbar\":{\"outlinewidth\":0,\"ticks\":\"\"},\"colorscale\":[[0.0,\"#0d0887\"],[0.1111111111111111,\"#46039f\"],[0.2222222222222222,\"#7201a8\"],[0.3333333333333333,\"#9c179e\"],[0.4444444444444444,\"#bd3786\"],[0.5555555555555556,\"#d8576b\"],[0.6666666666666666,\"#ed7953\"],[0.7777777777777778,\"#fb9f3a\"],[0.8888888888888888,\"#fdca26\"],[1.0,\"#f0f921\"]],\"type\":\"histogram2dcontour\"}],\"histogram2d\":[{\"colorbar\":{\"outlinewidth\":0,\"ticks\":\"\"},\"colorscale\":[[0.0,\"#0d0887\"],[0.1111111111111111,\"#46039f\"],[0.2222222222222222,\"#7201a8\"],[0.3333333333333333,\"#9c179e\"],[0.4444444444444444,\"#bd3786\"],[0.5555555555555556,\"#d8576b\"],[0.6666666666666666,\"#ed7953\"],[0.7777777777777778,\"#fb9f3a\"],[0.8888888888888888,\"#fdca26\"],[1.0,\"#f0f921\"]],\"type\":\"histogram2d\"}],\"histogram\":[{\"marker\":{\"pattern\":{\"fillmode\":\"overlay\",\"size\":10,\"solidity\":0.2}},\"type\":\"histogram\"}],\"mesh3d\":[{\"colorbar\":{\"outlinewidth\":0,\"ticks\":\"\"},\"type\":\"mesh3d\"}],\"parcoords\":[{\"line\":{\"colorbar\":{\"outlinewidth\":0,\"ticks\":\"\"}},\"type\":\"parcoords\"}],\"pie\":[{\"automargin\":true,\"type\":\"pie\"}],\"scatter3d\":[{\"line\":{\"colorbar\":{\"outlinewidth\":0,\"ticks\":\"\"}},\"marker\":{\"colorbar\":{\"outlinewidth\":0,\"ticks\":\"\"}},\"type\":\"scatter3d\"}],\"scattercarpet\":[{\"marker\":{\"colorbar\":{\"outlinewidth\":0,\"ticks\":\"\"}},\"type\":\"scattercarpet\"}],\"scattergeo\":[{\"marker\":{\"colorbar\":{\"outlinewidth\":0,\"ticks\":\"\"}},\"type\":\"scattergeo\"}],\"scattergl\":[{\"marker\":{\"colorbar\":{\"outlinewidth\":0,\"ticks\":\"\"}},\"type\":\"scattergl\"}],\"scattermapbox\":[{\"marker\":{\"colorbar\":{\"outlinewidth\":0,\"ticks\":\"\"}},\"type\":\"scattermapbox\"}],\"scatterpolargl\":[{\"marker\":{\"colorbar\":{\"outlinewidth\":0,\"ticks\":\"\"}},\"type\":\"scatterpolargl\"}],\"scatterpolar\":[{\"marker\":{\"colorbar\":{\"outlinewidth\":0,\"ticks\":\"\"}},\"type\":\"scatterpolar\"}],\"scatter\":[{\"fillpattern\":{\"fillmode\":\"overlay\",\"size\":10,\"solidity\":0.2},\"type\":\"scatter\"}],\"scatterternary\":[{\"marker\":{\"colorbar\":{\"outlinewidth\":0,\"ticks\":\"\"}},\"type\":\"scatterternary\"}],\"surface\":[{\"colorbar\":{\"outlinewidth\":0,\"ticks\":\"\"},\"colorscale\":[[0.0,\"#0d0887\"],[0.1111111111111111,\"#46039f\"],[0.2222222222222222,\"#7201a8\"],[0.3333333333333333,\"#9c179e\"],[0.4444444444444444,\"#bd3786\"],[0.5555555555555556,\"#d8576b\"],[0.6666666666666666,\"#ed7953\"],[0.7777777777777778,\"#fb9f3a\"],[0.8888888888888888,\"#fdca26\"],[1.0,\"#f0f921\"]],\"type\":\"surface\"}],\"table\":[{\"cells\":{\"fill\":{\"color\":\"#EBF0F8\"},\"line\":{\"color\":\"white\"}},\"header\":{\"fill\":{\"color\":\"#C8D4E3\"},\"line\":{\"color\":\"white\"}},\"type\":\"table\"}]},\"layout\":{\"annotationdefaults\":{\"arrowcolor\":\"#2a3f5f\",\"arrowhead\":0,\"arrowwidth\":1},\"autotypenumbers\":\"strict\",\"coloraxis\":{\"colorbar\":{\"outlinewidth\":0,\"ticks\":\"\"}},\"colorscale\":{\"diverging\":[[0,\"#8e0152\"],[0.1,\"#c51b7d\"],[0.2,\"#de77ae\"],[0.3,\"#f1b6da\"],[0.4,\"#fde0ef\"],[0.5,\"#f7f7f7\"],[0.6,\"#e6f5d0\"],[0.7,\"#b8e186\"],[0.8,\"#7fbc41\"],[0.9,\"#4d9221\"],[1,\"#276419\"]],\"sequential\":[[0.0,\"#440154\"],[0.1111111111111111,\"#482878\"],[0.2222222222222222,\"#3e4989\"],[0.3333333333333333,\"#31688e\"],[0.4444444444444444,\"#26828e\"],[0.5555555555555556,\"#1f9e89\"],[0.6666666666666666,\"#35b779\"],[0.7777777777777778,\"#6ece58\"],[0.8888888888888888,\"#b5de2b\"],[1.0,\"#fde725\"]],\"sequentialminus\":[[0.0,\"#0d0887\"],[0.1111111111111111,\"#46039f\"],[0.2222222222222222,\"#7201a8\"],[0.3333333333333333,\"#9c179e\"],[0.4444444444444444,\"#bd3786\"],[0.5555555555555556,\"#d8576b\"],[0.6666666666666666,\"#ed7953\"],[0.7777777777777778,\"#fb9f3a\"],[0.8888888888888888,\"#fdca26\"],[1.0,\"#f0f921\"]]},\"colorway\":[\"#636EFA\",\"#00CC96\",\"#AB63FA\",\"#FFA15A\",\"#19D3F3\",\"#FF6692\",\"#B6E880\",\"#FF97FF\",\"#FECB52\"],\"font\":{\"color\":\"lightgreen\"},\"geo\":{\"bgcolor\":\"white\",\"lakecolor\":\"white\",\"landcolor\":\"#E5ECF6\",\"showlakes\":true,\"showland\":true,\"subunitcolor\":\"white\"},\"hoverlabel\":{\"align\":\"left\"},\"hovermode\":\"closest\",\"mapbox\":{\"style\":\"light\"},\"paper_bgcolor\":\"rgba(0, 0, 0, 0)\",\"plot_bgcolor\":\"#E5ECF6\",\"polar\":{\"angularaxis\":{\"gridcolor\":\"white\",\"linecolor\":\"white\",\"ticks\":\"\"},\"bgcolor\":\"#E5ECF6\",\"radialaxis\":{\"gridcolor\":\"white\",\"linecolor\":\"white\",\"ticks\":\"\"}},\"scene\":{\"xaxis\":{\"backgroundcolor\":\"#E5ECF6\",\"gridcolor\":\"white\",\"gridwidth\":2,\"linecolor\":\"white\",\"showbackground\":true,\"ticks\":\"\",\"zerolinecolor\":\"white\"},\"yaxis\":{\"backgroundcolor\":\"#E5ECF6\",\"gridcolor\":\"white\",\"gridwidth\":2,\"linecolor\":\"white\",\"showbackground\":true,\"ticks\":\"\",\"zerolinecolor\":\"white\"},\"zaxis\":{\"backgroundcolor\":\"#E5ECF6\",\"gridcolor\":\"white\",\"gridwidth\":2,\"linecolor\":\"white\",\"showbackground\":true,\"ticks\":\"\",\"zerolinecolor\":\"white\"}},\"shapedefaults\":{\"line\":{\"color\":\"#2a3f5f\"}},\"ternary\":{\"aaxis\":{\"gridcolor\":\"white\",\"linecolor\":\"white\",\"ticks\":\"\"},\"baxis\":{\"gridcolor\":\"white\",\"linecolor\":\"white\",\"ticks\":\"\"},\"bgcolor\":\"#E5ECF6\",\"caxis\":{\"gridcolor\":\"white\",\"linecolor\":\"white\",\"ticks\":\"\"}},\"title\":{\"x\":0.05},\"xaxis\":{\"automargin\":true,\"gridcolor\":\"white\",\"linecolor\":\"white\",\"ticks\":\"\",\"title\":{\"standoff\":15},\"zerolinecolor\":\"white\",\"zerolinewidth\":2},\"yaxis\":{\"automargin\":true,\"gridcolor\":\"white\",\"linecolor\":\"white\",\"ticks\":\"\",\"title\":{\"standoff\":15},\"zerolinecolor\":\"white\",\"zerolinewidth\":2}}},\"xaxis\":{\"anchor\":\"y\",\"domain\":[0.0,1.0],\"title\":{\"text\":\"True Price Difference\"}},\"yaxis\":{\"anchor\":\"x\",\"domain\":[0.0,1.0],\"title\":{\"text\":\"Difference Between True and Predicted\"}},\"legend\":{\"tracegroupgap\":0},\"margin\":{\"t\":60},\"barmode\":\"relative\"},                        {\"responsive\": true}                    ).then(function(){\n",
       "                            \n",
       "var gd = document.getElementById('faf318fc-81be-4b1b-b8ac-094af8d47dd1');\n",
       "var x = new MutationObserver(function (mutations, observer) {{\n",
       "        var display = window.getComputedStyle(gd).display;\n",
       "        if (!display || display === 'none') {{\n",
       "            console.log([gd, 'removed!']);\n",
       "            Plotly.purge(gd);\n",
       "            observer.disconnect();\n",
       "        }}\n",
       "}});\n",
       "\n",
       "// Listen for the removal of the full notebook cells\n",
       "var notebookContainer = gd.closest('#notebook-container');\n",
       "if (notebookContainer) {{\n",
       "    x.observe(notebookContainer, {childList: true});\n",
       "}}\n",
       "\n",
       "// Listen for the clearing of the current output cell\n",
       "var outputEl = gd.closest('.output');\n",
       "if (outputEl) {{\n",
       "    x.observe(outputEl, {childList: true});\n",
       "}}\n",
       "\n",
       "                        })                };                });            </script>        </div>"
      ]
     },
     "metadata": {},
     "output_type": "display_data"
    },
    {
     "name": "stdout",
     "output_type": "stream",
     "text": [
      "|                 |   precision |   recall |   f1-score |       support |\n",
      "|:----------------|------------:|---------:|-----------:|--------------:|\n",
      "| Not Best Seller |    0.998384 | 0.918738 |   0.956906 | 342237        |\n",
      "| Is Best Seller  |    0.04004  | 0.695027 |   0.075718 |   1669        |\n",
      "| accuracy        |    0.917652 | 0.917652 |   0.917652 |      0.917652 |\n",
      "| macro avg       |    0.519212 | 0.806882 |   0.516312 | 343906        |\n",
      "| weighted avg    |    0.993733 | 0.917652 |   0.95263  | 343906        |\n"
     ]
    }
   ],
   "source": [
    "y_bs = test_bs.y.detach().numpy()\n",
    "print(accuracy_score(y_bs, y_pred_bs))\n",
    "\n",
    "labs = [\"Not Best Seller\", \"Is Best Seller\"]\n",
    "fig = px.imshow(confusion_matrix(y_bs, y_pred_bs), x=labs, y=labs, text_auto=True)\n",
    "fig.update_layout(\n",
    "    xaxis_title=\"Predicted\",\n",
    "    yaxis_title=\"True Label\",\n",
    "    coloraxis_showscale=False)\n",
    "fig.show()\n",
    "\n",
    "metrics_bs = classification_report(y_bs, y_pred_bs, labels=[0, 1], target_names=labs, output_dict=True)\n",
    "\n",
    "\n",
    "\n",
    "labs_pd = [\"Price Decreased\", \"Price Increased\"]\n",
    "y_pd = test_pd.y.detach().numpy()\n",
    "y_pred_pd[:, 0]\n",
    "print(mean_absolute_error(y_pd, y_pred_pd[:, 0]), np.std(y_pd))\n",
    "\n",
    "inds = np.argsort(y_pd)\n",
    "fig = px.bar(x=y_pd.astype(str)[inds], y=(y_pd - y_pred_pd[:, 0])[inds])\n",
    "fig.update_layout(xaxis_title=\"True Price Difference\", yaxis_title=\"Difference Between True and Predicted\")\n",
    "fig.show()\n",
    "\n",
    "# classification_report(y_pd > 0, y_pred_pd[:, 0] > 0, labels=[False, True], target_names=labs_pd, output_dict=True)\n",
    "\n",
    "# fig = px.imshow(confusion_matrix(y_pd > 0, y_pred_pd[:, 0] > 0), x=labs_pd, y=labs_pd, text_auto=True)\n",
    "# fig.update_layout(\n",
    "#     xaxis_title=\"Predicted\",\n",
    "#     yaxis_title=\"True Label\",\n",
    "#     coloraxis_showscale=False)\n",
    "# fig.show()\n",
    "\n",
    "print(pd.DataFrame(metrics_bs).T.to_markdown())"
   ]
  },
  {
   "cell_type": "code",
   "execution_count": null,
   "id": "b6a300ec-1658-4c2b-abed-7db579745d55",
   "metadata": {
    "execution": {
     "iopub.status.busy": "2024-05-05T05:44:53.147348Z",
     "iopub.status.idle": "2024-05-05T05:44:53.147845Z",
     "shell.execute_reply": "2024-05-05T05:44:53.147845Z",
     "shell.execute_reply.started": "2024-05-05T05:44:53.147845Z"
    }
   },
   "outputs": [],
   "source": [
    "vizbatch_bs, _ = next(iter(test_bs_dl))\n",
    "vizbatch_pd, _ = next(iter(test_pd_dl))\n",
    "\n",
    "torch.onnx.export(nn_bs, vizbatch_bs, \n",
    "                  '../data/output/nn_bs.onnx', \n",
    "                  input_names=[\"Input Features\"], \n",
    "                  output_names=[\"Is Best Seller\"])\n",
    "\n",
    "torch.onnx.export(nn_pd, vizbatch_pd, \n",
    "                  '../data/output/nn_pd.onnx', \n",
    "                  input_names=[\"Input Features\"], \n",
    "                  output_names=[\"Price Diff\"])\n",
    "\n",
    "# make_dot(nn_bs(vizbatch_bs), params=dict(nn_bs.named_parameters()))"
   ]
  },
  {
   "cell_type": "code",
   "execution_count": 23,
   "id": "63e1cbdf-9273-4f45-b8a6-cfa7f789cf2a",
   "metadata": {
    "execution": {
     "iopub.execute_input": "2024-05-05T05:27:18.781802Z",
     "iopub.status.busy": "2024-05-05T05:27:18.781307Z",
     "iopub.status.idle": "2024-05-05T05:27:18.805642Z",
     "shell.execute_reply": "2024-05-05T05:27:18.805144Z",
     "shell.execute_reply.started": "2024-05-05T05:27:18.781802Z"
    }
   },
   "outputs": [
    {
     "data": {
      "text/plain": [
       "[('layers.0.weight',\n",
       "  Parameter containing:\n",
       "  tensor([[-0.0071,  0.0214, -0.0155,  ...,  0.0039, -0.0351, -0.0429],\n",
       "          [ 0.0444,  0.0194,  0.0203,  ..., -0.0241, -0.0060, -0.0449],\n",
       "          [-0.0055,  0.0437,  0.0434,  ..., -0.0626,  0.0273, -0.0616],\n",
       "          ...,\n",
       "          [-0.0048, -0.0099,  0.0087,  ...,  0.0452, -0.0400,  0.0448],\n",
       "          [-0.0434,  0.0244,  0.0557,  ..., -0.0433,  0.0510,  0.0219],\n",
       "          [ 0.0364, -0.0035, -0.0545,  ..., -0.0424, -0.0341, -0.0511]],\n",
       "         requires_grad=True)),\n",
       " ('layers.0.bias',\n",
       "  Parameter containing:\n",
       "  tensor([ 2.0619e-02,  4.4641e-02, -5.0487e-02,  1.8501e-02, -2.1876e-02,\n",
       "           3.5329e-02,  3.6604e-02, -3.5128e-02, -1.0340e-02,  1.9397e-02,\n",
       "          -2.2555e-02,  3.8799e-02, -3.3895e-03, -1.0937e-02,  4.6290e-02,\n",
       "           4.4274e-02, -3.5967e-02, -5.0540e-02, -1.6540e-02, -4.2370e-02,\n",
       "           3.8454e-02,  1.2978e-03,  6.8604e-03,  5.2562e-02,  2.6378e-02,\n",
       "           3.6488e-02, -6.0400e-03, -1.8757e-02,  4.6118e-03, -3.9096e-02,\n",
       "          -6.2096e-02,  4.6034e-02, -4.1323e-02,  1.2956e-02,  4.5111e-02,\n",
       "          -5.8834e-02, -4.9024e-02, -2.4065e-02,  7.1320e-03,  1.4882e-02,\n",
       "          -1.8274e-02, -6.0921e-02, -2.7920e-02, -3.4714e-02, -3.9687e-02,\n",
       "           1.8689e-02,  7.3129e-03, -4.8316e-02, -8.4862e-04, -2.8038e-02,\n",
       "           2.4681e-02, -3.4784e-02, -5.0741e-02, -1.5321e-02,  1.4304e-02,\n",
       "           3.9824e-02, -4.2635e-02, -2.6773e-02, -5.8852e-02, -4.4142e-02,\n",
       "          -1.9123e-02,  4.0928e-02,  1.9432e-02,  5.3904e-02, -2.0680e-02,\n",
       "          -2.5058e-03, -2.1343e-02,  3.6592e-02,  1.9645e-02,  5.8252e-02,\n",
       "          -4.0842e-02, -2.8235e-04,  1.0778e-03,  3.7669e-02,  2.2844e-02,\n",
       "           2.3983e-02,  1.5015e-02,  3.3615e-03,  4.3880e-02, -3.5374e-02,\n",
       "           2.3858e-02, -4.7331e-02, -2.6371e-02,  1.9859e-02, -2.4973e-02,\n",
       "           3.2677e-02, -5.1535e-02, -7.2996e-03, -1.0338e-02,  1.2157e-02,\n",
       "          -5.9166e-03,  5.5610e-02,  3.9290e-02,  5.6157e-04, -4.3027e-02,\n",
       "           5.3629e-02,  4.7478e-02,  1.2950e-02,  1.2878e-02, -4.2691e-02,\n",
       "           5.0022e-02,  2.4502e-02,  1.1119e-02, -1.3116e-02,  1.6869e-02,\n",
       "           1.5719e-02, -5.2587e-03, -4.9915e-02, -3.2662e-02,  4.0146e-02,\n",
       "           1.6461e-02, -2.6424e-02,  8.9575e-03,  2.4840e-02,  2.3816e-02,\n",
       "          -1.4479e-02,  2.4708e-02,  3.5750e-02, -5.9052e-02, -3.1957e-02,\n",
       "          -1.2515e-02,  2.8443e-02,  4.2667e-02, -4.5316e-02, -1.7073e-02,\n",
       "           5.8516e-02, -1.1497e-02,  5.1410e-02, -3.3774e-02,  4.2991e-02,\n",
       "          -2.6772e-02,  5.9786e-02, -5.0248e-02,  1.5791e-02, -3.0454e-02,\n",
       "           3.8149e-02, -4.2890e-03, -3.1389e-02, -3.8873e-02, -4.9815e-02,\n",
       "           5.6264e-02,  5.7891e-02,  3.3792e-02,  5.8001e-02, -2.2535e-02,\n",
       "          -2.2064e-02, -3.5106e-03,  3.9145e-02, -1.8343e-02, -4.2403e-02,\n",
       "          -1.7290e-02, -3.1582e-03,  1.5304e-02, -4.7822e-02,  3.0783e-02,\n",
       "           3.6465e-02,  1.1992e-02, -4.5511e-02,  3.4972e-02,  3.9482e-02,\n",
       "          -6.0628e-02,  3.9828e-02, -2.3590e-03, -4.1901e-03,  5.4011e-02,\n",
       "          -3.0840e-03,  6.0962e-02, -5.6822e-02, -1.5608e-02, -5.2251e-02,\n",
       "          -5.0321e-02, -1.6768e-02, -9.8942e-03,  2.2026e-02, -5.7812e-02,\n",
       "          -2.9422e-02, -1.6881e-02,  5.1754e-02,  5.1856e-02, -2.1586e-02,\n",
       "          -2.9037e-02, -1.6409e-02, -5.6383e-02,  5.8114e-02, -1.2073e-02,\n",
       "          -4.5785e-02, -5.9726e-02,  5.7644e-02, -3.6544e-02, -3.9568e-02,\n",
       "          -1.4643e-02, -5.8257e-02,  5.3020e-03,  1.3581e-02,  5.7544e-02,\n",
       "           5.4438e-02, -9.1856e-03,  5.3505e-02,  4.4890e-02, -6.1867e-02,\n",
       "           5.8533e-02, -4.0029e-02, -5.7555e-02, -6.1452e-02, -2.1471e-02,\n",
       "          -3.2617e-02, -3.5715e-02,  5.1175e-02, -2.8689e-02,  3.3673e-02,\n",
       "          -5.2473e-02,  1.9143e-02, -4.2282e-03, -3.5077e-02,  3.9557e-02,\n",
       "           5.5977e-02, -2.7721e-02,  9.3909e-03, -3.9025e-02, -5.9586e-02,\n",
       "           4.2344e-02,  5.0606e-02,  3.1708e-02,  4.6925e-02, -4.3153e-03,\n",
       "          -6.0216e-02, -9.1655e-03, -2.0951e-02,  4.1409e-02, -5.0720e-02,\n",
       "           1.0067e-02,  2.8696e-02,  5.0898e-02, -2.7274e-02,  1.2243e-02,\n",
       "           3.8424e-02,  1.3397e-02, -4.5295e-02,  3.6113e-02, -1.3428e-02,\n",
       "           3.3456e-02, -5.6388e-02,  2.6391e-02, -9.0285e-03,  4.5483e-02,\n",
       "           1.2822e-02,  5.8031e-02,  5.8920e-03, -2.4502e-02,  5.4176e-02,\n",
       "          -5.4833e-02,  3.2498e-02,  4.1608e-02,  3.5574e-03, -2.1676e-03,\n",
       "          -1.8854e-02, -4.5610e-02,  2.7899e-02, -2.1587e-04, -2.5783e-02,\n",
       "          -1.9831e-02, -1.2953e-02, -5.2411e-03,  2.6630e-02,  3.7780e-02,\n",
       "          -4.2893e-02,  4.9877e-02, -5.7484e-02, -2.2407e-02, -2.2195e-02,\n",
       "           6.0071e-02,  2.3925e-02,  5.6760e-02,  6.1283e-02,  2.4921e-02,\n",
       "          -6.0969e-03, -2.5873e-03,  1.4894e-03, -7.2959e-03, -3.8815e-02,\n",
       "          -1.7910e-02, -3.0425e-02, -4.1090e-02, -5.5502e-02,  3.5184e-03,\n",
       "          -5.9738e-02,  5.6312e-02,  2.6605e-02, -2.1816e-02,  4.4982e-02,\n",
       "           3.0955e-02, -4.5438e-03,  5.6716e-02,  5.6089e-02, -5.6098e-02,\n",
       "           2.8820e-02,  4.5751e-02,  2.9325e-02,  4.9016e-03, -5.6933e-02,\n",
       "          -6.0475e-02,  4.3295e-02, -4.7842e-02,  1.7475e-02, -3.6058e-02,\n",
       "           1.2300e-02, -2.6041e-02, -5.8715e-02,  4.8815e-02, -5.9437e-02,\n",
       "          -3.8561e-02,  1.0656e-02,  3.2170e-02, -7.7829e-05, -1.6231e-02,\n",
       "          -4.8525e-02,  1.5585e-03,  5.9262e-02, -9.0681e-03, -3.5873e-02,\n",
       "          -3.6288e-02,  2.7800e-02,  4.5697e-02, -1.6649e-02,  1.0550e-02,\n",
       "          -4.4695e-02, -4.8989e-02,  9.6130e-03,  2.0382e-02],\n",
       "         requires_grad=True)),\n",
       " ('layers.2.weight',\n",
       "  Parameter containing:\n",
       "  tensor([[-2.9140e-02, -1.7517e-02,  5.3998e-02,  ..., -2.9182e-02,\n",
       "            2.8466e-02,  5.6844e-05],\n",
       "          [ 3.5780e-02, -5.1686e-02,  5.4814e-02,  ..., -4.0935e-02,\n",
       "           -4.2927e-02,  3.6478e-02],\n",
       "          [ 4.3250e-03, -7.1100e-03,  1.6423e-02,  ...,  1.8376e-02,\n",
       "           -2.2331e-02, -2.8280e-02],\n",
       "          ...,\n",
       "          [ 1.7029e-02, -3.5801e-02,  6.0573e-03,  ..., -5.3937e-02,\n",
       "            5.2102e-02,  1.3998e-02],\n",
       "          [-3.8537e-02,  4.6106e-02, -2.3609e-02,  ...,  3.5939e-02,\n",
       "           -3.5606e-02,  4.0472e-05],\n",
       "          [ 5.3259e-02,  3.8739e-02,  2.0127e-02,  ...,  1.5302e-02,\n",
       "           -2.0826e-02, -4.5424e-02]], requires_grad=True)),\n",
       " ('layers.2.bias',\n",
       "  Parameter containing:\n",
       "  tensor([-4.7978e-03,  5.8389e-03, -1.9408e-02, -1.0938e-02,  2.2198e-02,\n",
       "          -5.2055e-02, -1.7798e-02,  4.1136e-03,  4.1643e-02,  1.0217e-02,\n",
       "           1.1061e-02,  3.9880e-02,  1.7279e-02,  5.3806e-02,  8.0413e-03,\n",
       "          -8.9887e-03, -3.3946e-02, -4.4108e-02,  2.1317e-02, -1.0607e-02,\n",
       "          -4.8860e-02,  3.1445e-02,  3.2504e-02,  1.1055e-02, -1.9580e-02,\n",
       "          -4.7420e-02,  3.2116e-02,  4.1546e-02, -5.4631e-02,  3.5236e-02,\n",
       "           3.6216e-02, -2.0085e-02, -1.4978e-02, -4.8377e-02,  4.9205e-02,\n",
       "          -3.9141e-02, -5.7103e-03,  3.6326e-02, -1.0967e-02, -4.9910e-02,\n",
       "           1.7193e-02,  2.2418e-02, -4.3600e-02, -3.7072e-02, -3.1538e-02,\n",
       "           4.2291e-02, -3.0846e-02,  3.3620e-02, -3.2808e-02,  2.8508e-02,\n",
       "           2.3438e-03,  4.6405e-02,  4.4876e-02,  1.0924e-02, -3.6066e-02,\n",
       "          -1.0498e-02, -2.7868e-02,  3.8536e-02, -5.3963e-02, -5.5080e-03,\n",
       "          -8.0529e-03,  1.1213e-02, -3.6275e-04,  1.5944e-02,  1.3741e-04,\n",
       "          -3.1787e-02, -5.3309e-02,  4.3757e-02, -2.3397e-02,  1.8955e-02,\n",
       "           6.1995e-03,  1.3758e-02,  4.5721e-02, -3.3980e-02, -2.4887e-02,\n",
       "          -1.2960e-02, -5.1055e-02, -2.8311e-02,  2.4033e-03, -4.8477e-02,\n",
       "          -3.9245e-03,  2.5731e-02, -4.0090e-03, -1.5079e-02,  1.0857e-02,\n",
       "          -3.4832e-02, -3.8396e-03, -2.3546e-02, -1.0863e-02,  3.4887e-02,\n",
       "          -3.1374e-02, -1.2867e-03,  6.3606e-03,  3.5269e-02,  1.6025e-02,\n",
       "          -4.5786e-02,  5.3453e-02, -3.5974e-03,  2.0352e-02, -5.4692e-02,\n",
       "           9.3732e-03, -3.2718e-02,  4.3450e-02, -2.7139e-03,  4.1845e-02,\n",
       "          -2.4513e-02,  2.4679e-02, -5.2204e-02, -3.9800e-02,  1.2085e-02,\n",
       "          -1.0647e-02,  1.6952e-03, -1.8309e-02,  6.1541e-03,  1.1211e-02,\n",
       "           2.5436e-02,  2.5940e-02, -2.9056e-02, -1.5361e-02, -3.9279e-02,\n",
       "          -3.1594e-02, -5.1096e-03, -1.8842e-02,  3.5440e-02,  3.3929e-02,\n",
       "           3.7662e-02,  1.7721e-03,  3.1408e-02,  5.8587e-03, -4.1300e-02,\n",
       "          -2.5044e-02, -2.2964e-02,  4.7278e-02,  4.6082e-06, -4.1041e-02,\n",
       "          -2.9229e-03, -2.8010e-02,  4.6741e-02,  4.8955e-02, -9.3391e-03,\n",
       "           1.4426e-02,  5.4500e-02, -6.3695e-03, -1.8037e-02, -4.7398e-03,\n",
       "          -4.9494e-02, -4.1149e-02,  4.4883e-02,  5.2259e-02,  2.3012e-03,\n",
       "           2.1997e-02,  1.5857e-02,  3.0897e-02, -3.9799e-03,  2.3207e-03,\n",
       "           4.1030e-02,  4.4680e-03, -3.2298e-02,  2.6659e-03,  4.0808e-02,\n",
       "           3.3743e-02,  2.3737e-02,  4.6031e-02, -4.8108e-02,  4.5494e-02,\n",
       "           3.6957e-02,  2.1255e-02,  1.5911e-02,  4.5338e-02,  2.5601e-02,\n",
       "           1.0250e-02,  5.0430e-04, -2.0811e-02,  4.0289e-02, -4.8638e-02,\n",
       "           8.4461e-03,  8.9979e-03,  3.1517e-02, -5.1266e-02,  1.6166e-02,\n",
       "           2.8204e-02,  5.0519e-02,  1.7933e-02, -2.8358e-02, -1.3351e-02,\n",
       "           2.4739e-02,  4.7415e-02, -1.2409e-02,  4.5602e-02,  2.4521e-02],\n",
       "         requires_grad=True)),\n",
       " ('layers.4.weight',\n",
       "  Parameter containing:\n",
       "  tensor([[ 0.0130,  0.0564, -0.0676,  ..., -0.0722, -0.0412,  0.0537],\n",
       "          [-0.0624, -0.0422, -0.0388,  ...,  0.0357, -0.0629,  0.0520],\n",
       "          [ 0.0629, -0.0574, -0.0170,  ..., -0.0133, -0.0232, -0.0404],\n",
       "          ...,\n",
       "          [ 0.0374, -0.0539,  0.0442,  ..., -0.0166, -0.0555,  0.0668],\n",
       "          [ 0.0050,  0.0083,  0.0667,  ...,  0.0095,  0.0192,  0.0290],\n",
       "          [ 0.0305,  0.0374,  0.0054,  ..., -0.0432, -0.0593, -0.0013]],\n",
       "         requires_grad=True)),\n",
       " ('layers.4.bias',\n",
       "  Parameter containing:\n",
       "  tensor([-0.0567,  0.0200, -0.0669, -0.0358,  0.0178,  0.0356,  0.0146,  0.0192,\n",
       "           0.0432,  0.0433, -0.0330, -0.0626,  0.0327,  0.0592,  0.0709,  0.0213,\n",
       "          -0.0064, -0.0145, -0.0389,  0.0696,  0.0172, -0.0245, -0.0067, -0.0677,\n",
       "          -0.0213, -0.0080, -0.0319,  0.0165,  0.0109,  0.0005,  0.0161, -0.0228,\n",
       "           0.0067,  0.0260,  0.0342, -0.0421,  0.0506, -0.0543, -0.0339,  0.0358,\n",
       "           0.0107, -0.0667,  0.0061,  0.0289, -0.0671,  0.0177, -0.0067,  0.0549,\n",
       "           0.0446,  0.0041,  0.0658, -0.0544, -0.0614, -0.0511, -0.0121,  0.0475,\n",
       "           0.0307,  0.0477,  0.0324, -0.0667, -0.0375, -0.0410, -0.0620],\n",
       "         requires_grad=True)),\n",
       " ('layers.6.weight',\n",
       "  Parameter containing:\n",
       "  tensor([[-0.0300, -0.0288, -0.0146,  0.0944, -0.1039, -0.0020, -0.0944, -0.0587,\n",
       "            0.0629, -0.0392,  0.0914,  0.0059,  0.0071, -0.1208, -0.0668,  0.1231,\n",
       "            0.0092,  0.1085, -0.0081,  0.0039, -0.0479,  0.0298,  0.0867,  0.1162,\n",
       "           -0.1234,  0.1056, -0.0216,  0.0199,  0.0913,  0.0267,  0.0526, -0.1124,\n",
       "            0.1168,  0.1212, -0.0945, -0.0410,  0.0511, -0.1228, -0.0526,  0.0012,\n",
       "            0.1041,  0.0207, -0.0292, -0.0888, -0.0886, -0.1145,  0.0033, -0.1250,\n",
       "           -0.0479,  0.0462,  0.0514,  0.0263, -0.0328, -0.0824,  0.1182, -0.0350,\n",
       "           -0.0223, -0.0693, -0.0661,  0.0924,  0.0338, -0.0886, -0.1043],\n",
       "          [ 0.0720,  0.0245, -0.0205,  0.0671, -0.0650,  0.0094,  0.0157,  0.1182,\n",
       "           -0.0812, -0.0635,  0.0597,  0.0735,  0.1165,  0.0006, -0.1130,  0.0803,\n",
       "            0.0910,  0.0961,  0.1155, -0.1257, -0.1177,  0.0290,  0.0614, -0.1137,\n",
       "           -0.0375,  0.1107,  0.0964, -0.1247, -0.0409,  0.1222, -0.0445, -0.0565,\n",
       "           -0.1011, -0.1044, -0.0756,  0.0084, -0.0913, -0.0743,  0.1165,  0.0753,\n",
       "            0.0650,  0.0611,  0.0475, -0.0080,  0.0402,  0.1192, -0.0399, -0.1250,\n",
       "            0.0366,  0.0167,  0.0873,  0.0864,  0.0197, -0.0800,  0.1084, -0.0457,\n",
       "           -0.1230, -0.0111,  0.0609,  0.0908, -0.1163,  0.1180,  0.0810]],\n",
       "         requires_grad=True)),\n",
       " ('layers.6.bias',\n",
       "  Parameter containing:\n",
       "  tensor([ 0.1053, -0.0011], requires_grad=True))]"
      ]
     },
     "execution_count": 23,
     "metadata": {},
     "output_type": "execute_result"
    }
   ],
   "source": [
    "list(nn_bs.named_parameters())"
   ]
  },
  {
   "cell_type": "code",
   "execution_count": 42,
   "id": "e2c37db1-baef-4d5c-ae38-4bf6e07a4992",
   "metadata": {
    "execution": {
     "iopub.execute_input": "2024-05-06T00:32:46.522920Z",
     "iopub.status.busy": "2024-05-06T00:32:46.522423Z",
     "iopub.status.idle": "2024-05-06T00:32:46.552355Z",
     "shell.execute_reply": "2024-05-06T00:32:46.551859Z",
     "shell.execute_reply.started": "2024-05-06T00:32:46.522920Z"
    }
   },
   "outputs": [
    {
     "data": {
      "text/html": [
       "<div>\n",
       "<style scoped>\n",
       "    .dataframe tbody tr th:only-of-type {\n",
       "        vertical-align: middle;\n",
       "    }\n",
       "\n",
       "    .dataframe tbody tr th {\n",
       "        vertical-align: top;\n",
       "    }\n",
       "\n",
       "    .dataframe thead th {\n",
       "        text-align: right;\n",
       "    }\n",
       "</style>\n",
       "<table border=\"1\" class=\"dataframe\">\n",
       "  <thead>\n",
       "    <tr style=\"text-align: right;\">\n",
       "      <th></th>\n",
       "      <th>Asin</th>\n",
       "      <th>Name</th>\n",
       "      <th>Image Url</th>\n",
       "      <th>Is Best Seller</th>\n",
       "      <th>Stars</th>\n",
       "      <th>Reviews</th>\n",
       "      <th>Url</th>\n",
       "      <th>Price</th>\n",
       "      <th>Date Scraped</th>\n",
       "      <th>List Price</th>\n",
       "      <th>Bought In Month</th>\n",
       "      <th>Category</th>\n",
       "    </tr>\n",
       "  </thead>\n",
       "  <tbody>\n",
       "    <tr>\n",
       "      <th>86529</th>\n",
       "      <td>B0B96TC7Y7</td>\n",
       "      <td>1 Pair Winter Girls Fleece Lined Leggings Thic...</td>\n",
       "      <td>https://m.media-amazon.com/images/I/81zoIr0Jq4...</td>\n",
       "      <td>False</td>\n",
       "      <td>4.4</td>\n",
       "      <td>405.0</td>\n",
       "      <td>https://www.amazon.com/dp/B0B96TC7Y7</td>\n",
       "      <td>14.99</td>\n",
       "      <td>2023-11-01</td>\n",
       "      <td>14.99</td>\n",
       "      <td>0.0</td>\n",
       "      <td>Girls' Clothing</td>\n",
       "    </tr>\n",
       "    <tr>\n",
       "      <th>86530</th>\n",
       "      <td>B091FF8LGC</td>\n",
       "      <td>Girl's Sweatsuits clothing lounge sets athleti...</td>\n",
       "      <td>https://m.media-amazon.com/images/I/51+0Ec4jeg...</td>\n",
       "      <td>False</td>\n",
       "      <td>4.4</td>\n",
       "      <td>307.0</td>\n",
       "      <td>https://www.amazon.com/dp/B091FF8LGC</td>\n",
       "      <td>36.99</td>\n",
       "      <td>2023-11-01</td>\n",
       "      <td>36.99</td>\n",
       "      <td>0.0</td>\n",
       "      <td>Girls' Clothing</td>\n",
       "    </tr>\n",
       "    <tr>\n",
       "      <th>86531</th>\n",
       "      <td>B0BPHHL5G9</td>\n",
       "      <td>Girls Pajamas Cotton Snug-fit PJS Stripe Summe...</td>\n",
       "      <td>https://m.media-amazon.com/images/I/81MXuqutX-...</td>\n",
       "      <td>False</td>\n",
       "      <td>4.7</td>\n",
       "      <td>118.0</td>\n",
       "      <td>https://www.amazon.com/dp/B0BPHHL5G9</td>\n",
       "      <td>15.99</td>\n",
       "      <td>2023-11-01</td>\n",
       "      <td>15.99</td>\n",
       "      <td>0.0</td>\n",
       "      <td>Girls' Clothing</td>\n",
       "    </tr>\n",
       "    <tr>\n",
       "      <th>86532</th>\n",
       "      <td>B0CDM931DX</td>\n",
       "      <td>Shirts for Girls Long Sleeve Casual Loose Fit ...</td>\n",
       "      <td>https://m.media-amazon.com/images/I/71aNqza-N3...</td>\n",
       "      <td>False</td>\n",
       "      <td>5.0</td>\n",
       "      <td>2.0</td>\n",
       "      <td>https://www.amazon.com/dp/B0CDM931DX</td>\n",
       "      <td>20.99</td>\n",
       "      <td>2023-11-01</td>\n",
       "      <td>20.99</td>\n",
       "      <td>0.0</td>\n",
       "      <td>Girls' Clothing</td>\n",
       "    </tr>\n",
       "    <tr>\n",
       "      <th>86533</th>\n",
       "      <td>B0BN6TCMPH</td>\n",
       "      <td>3 Pack Girls Flowy Shorts with Spandex Liner 2...</td>\n",
       "      <td>https://m.media-amazon.com/images/I/71vmYVHTgf...</td>\n",
       "      <td>True</td>\n",
       "      <td>4.7</td>\n",
       "      <td>1472.0</td>\n",
       "      <td>https://www.amazon.com/dp/B0BN6TCMPH</td>\n",
       "      <td>34.95</td>\n",
       "      <td>2023-11-01</td>\n",
       "      <td>34.95</td>\n",
       "      <td>2000.0</td>\n",
       "      <td>Girls' Clothing</td>\n",
       "    </tr>\n",
       "    <tr>\n",
       "      <th>...</th>\n",
       "      <td>...</td>\n",
       "      <td>...</td>\n",
       "      <td>...</td>\n",
       "      <td>...</td>\n",
       "      <td>...</td>\n",
       "      <td>...</td>\n",
       "      <td>...</td>\n",
       "      <td>...</td>\n",
       "      <td>...</td>\n",
       "      <td>...</td>\n",
       "      <td>...</td>\n",
       "      <td>...</td>\n",
       "    </tr>\n",
       "    <tr>\n",
       "      <th>507850</th>\n",
       "      <td>B07NRDGL5V</td>\n",
       "      <td>Girls' Big 7-16 Side-tie Sporty Tee Shirt</td>\n",
       "      <td>https://m.media-amazon.com/images/I/61jaiBZyoq...</td>\n",
       "      <td>False</td>\n",
       "      <td>4.7</td>\n",
       "      <td>0.0</td>\n",
       "      <td>https://www.amazon.com/dp/B07NRDGL5V</td>\n",
       "      <td>15.37</td>\n",
       "      <td>2023-11-01</td>\n",
       "      <td>15.37</td>\n",
       "      <td>0.0</td>\n",
       "      <td>Girls' Clothing</td>\n",
       "    </tr>\n",
       "    <tr>\n",
       "      <th>507851</th>\n",
       "      <td>B0B8HK2S33</td>\n",
       "      <td>Girl's Summer Essentials Tie Back Bikini (Big ...</td>\n",
       "      <td>https://m.media-amazon.com/images/I/61zBapC07f...</td>\n",
       "      <td>False</td>\n",
       "      <td>0.0</td>\n",
       "      <td>0.0</td>\n",
       "      <td>https://www.amazon.com/dp/B0B8HK2S33</td>\n",
       "      <td>43.50</td>\n",
       "      <td>2023-11-01</td>\n",
       "      <td>43.50</td>\n",
       "      <td>0.0</td>\n",
       "      <td>Girls' Clothing</td>\n",
       "    </tr>\n",
       "    <tr>\n",
       "      <th>507852</th>\n",
       "      <td>B0BFJ9CQSM</td>\n",
       "      <td>Girl's French Terry Jogger Pants (Little Kids/...</td>\n",
       "      <td>https://m.media-amazon.com/images/I/617p-CscHF...</td>\n",
       "      <td>False</td>\n",
       "      <td>0.0</td>\n",
       "      <td>0.0</td>\n",
       "      <td>https://www.amazon.com/dp/B0BFJ9CQSM</td>\n",
       "      <td>36.00</td>\n",
       "      <td>2023-11-01</td>\n",
       "      <td>40.00</td>\n",
       "      <td>0.0</td>\n",
       "      <td>Girls' Clothing</td>\n",
       "    </tr>\n",
       "    <tr>\n",
       "      <th>507853</th>\n",
       "      <td>B0BRKP2XDH</td>\n",
       "      <td>Girl's Palm Springs Two-Piece Ruffle Set (Big ...</td>\n",
       "      <td>https://m.media-amazon.com/images/I/51XtarHwdE...</td>\n",
       "      <td>False</td>\n",
       "      <td>0.0</td>\n",
       "      <td>0.0</td>\n",
       "      <td>https://www.amazon.com/dp/B0BRKP2XDH</td>\n",
       "      <td>39.00</td>\n",
       "      <td>2023-11-01</td>\n",
       "      <td>39.00</td>\n",
       "      <td>0.0</td>\n",
       "      <td>Girls' Clothing</td>\n",
       "    </tr>\n",
       "    <tr>\n",
       "      <th>507854</th>\n",
       "      <td>B0B5P8ZGNV</td>\n",
       "      <td>Girl's Maddie Joggers (Toddler/Little Kids/Big...</td>\n",
       "      <td>https://m.media-amazon.com/images/I/518JKyfIvo...</td>\n",
       "      <td>False</td>\n",
       "      <td>0.0</td>\n",
       "      <td>0.0</td>\n",
       "      <td>https://www.amazon.com/dp/B0B5P8ZGNV</td>\n",
       "      <td>21.20</td>\n",
       "      <td>2023-11-01</td>\n",
       "      <td>21.20</td>\n",
       "      <td>0.0</td>\n",
       "      <td>Girls' Clothing</td>\n",
       "    </tr>\n",
       "  </tbody>\n",
       "</table>\n",
       "<p>28143 rows × 12 columns</p>\n",
       "</div>"
      ],
      "text/plain": [
       "              Asin                                               Name  \\\n",
       "86529   B0B96TC7Y7  1 Pair Winter Girls Fleece Lined Leggings Thic...   \n",
       "86530   B091FF8LGC  Girl's Sweatsuits clothing lounge sets athleti...   \n",
       "86531   B0BPHHL5G9  Girls Pajamas Cotton Snug-fit PJS Stripe Summe...   \n",
       "86532   B0CDM931DX  Shirts for Girls Long Sleeve Casual Loose Fit ...   \n",
       "86533   B0BN6TCMPH  3 Pack Girls Flowy Shorts with Spandex Liner 2...   \n",
       "...            ...                                                ...   \n",
       "507850  B07NRDGL5V          Girls' Big 7-16 Side-tie Sporty Tee Shirt   \n",
       "507851  B0B8HK2S33  Girl's Summer Essentials Tie Back Bikini (Big ...   \n",
       "507852  B0BFJ9CQSM  Girl's French Terry Jogger Pants (Little Kids/...   \n",
       "507853  B0BRKP2XDH  Girl's Palm Springs Two-Piece Ruffle Set (Big ...   \n",
       "507854  B0B5P8ZGNV  Girl's Maddie Joggers (Toddler/Little Kids/Big...   \n",
       "\n",
       "                                                Image Url  Is Best Seller  \\\n",
       "86529   https://m.media-amazon.com/images/I/81zoIr0Jq4...           False   \n",
       "86530   https://m.media-amazon.com/images/I/51+0Ec4jeg...           False   \n",
       "86531   https://m.media-amazon.com/images/I/81MXuqutX-...           False   \n",
       "86532   https://m.media-amazon.com/images/I/71aNqza-N3...           False   \n",
       "86533   https://m.media-amazon.com/images/I/71vmYVHTgf...            True   \n",
       "...                                                   ...             ...   \n",
       "507850  https://m.media-amazon.com/images/I/61jaiBZyoq...           False   \n",
       "507851  https://m.media-amazon.com/images/I/61zBapC07f...           False   \n",
       "507852  https://m.media-amazon.com/images/I/617p-CscHF...           False   \n",
       "507853  https://m.media-amazon.com/images/I/51XtarHwdE...           False   \n",
       "507854  https://m.media-amazon.com/images/I/518JKyfIvo...           False   \n",
       "\n",
       "        Stars  Reviews                                   Url  Price  \\\n",
       "86529     4.4    405.0  https://www.amazon.com/dp/B0B96TC7Y7  14.99   \n",
       "86530     4.4    307.0  https://www.amazon.com/dp/B091FF8LGC  36.99   \n",
       "86531     4.7    118.0  https://www.amazon.com/dp/B0BPHHL5G9  15.99   \n",
       "86532     5.0      2.0  https://www.amazon.com/dp/B0CDM931DX  20.99   \n",
       "86533     4.7   1472.0  https://www.amazon.com/dp/B0BN6TCMPH  34.95   \n",
       "...       ...      ...                                   ...    ...   \n",
       "507850    4.7      0.0  https://www.amazon.com/dp/B07NRDGL5V  15.37   \n",
       "507851    0.0      0.0  https://www.amazon.com/dp/B0B8HK2S33  43.50   \n",
       "507852    0.0      0.0  https://www.amazon.com/dp/B0BFJ9CQSM  36.00   \n",
       "507853    0.0      0.0  https://www.amazon.com/dp/B0BRKP2XDH  39.00   \n",
       "507854    0.0      0.0  https://www.amazon.com/dp/B0B5P8ZGNV  21.20   \n",
       "\n",
       "       Date Scraped  List Price  Bought In Month         Category  \n",
       "86529    2023-11-01       14.99              0.0  Girls' Clothing  \n",
       "86530    2023-11-01       36.99              0.0  Girls' Clothing  \n",
       "86531    2023-11-01       15.99              0.0  Girls' Clothing  \n",
       "86532    2023-11-01       20.99              0.0  Girls' Clothing  \n",
       "86533    2023-11-01       34.95           2000.0  Girls' Clothing  \n",
       "...             ...         ...              ...              ...  \n",
       "507850   2023-11-01       15.37              0.0  Girls' Clothing  \n",
       "507851   2023-11-01       43.50              0.0  Girls' Clothing  \n",
       "507852   2023-11-01       40.00              0.0  Girls' Clothing  \n",
       "507853   2023-11-01       39.00              0.0  Girls' Clothing  \n",
       "507854   2023-11-01       21.20              0.0  Girls' Clothing  \n",
       "\n",
       "[28143 rows x 12 columns]"
      ]
     },
     "execution_count": 42,
     "metadata": {},
     "output_type": "execute_result"
    }
   ],
   "source": [
    "df_az[df_az[\"Category\"] == \"Girls' Clothing\"]"
   ]
  },
  {
   "cell_type": "code",
   "execution_count": null,
   "id": "de1de57b-f838-4e3e-9031-29104d38a21b",
   "metadata": {},
   "outputs": [],
   "source": []
  }
 ],
 "metadata": {
  "kernelspec": {
   "display_name": "Python 3 (ipykernel)",
   "language": "python",
   "name": "python3"
  },
  "language_info": {
   "codemirror_mode": {
    "name": "ipython",
    "version": 3
   },
   "file_extension": ".py",
   "mimetype": "text/x-python",
   "name": "python",
   "nbconvert_exporter": "python",
   "pygments_lexer": "ipython3",
   "version": "3.10.11"
  },
  "widgets": {
   "application/vnd.jupyter.widget-state+json": {
    "state": {},
    "version_major": 2,
    "version_minor": 0
   }
  }
 },
 "nbformat": 4,
 "nbformat_minor": 5
}
