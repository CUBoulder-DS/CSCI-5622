{
 "cells": [
  {
   "cell_type": "markdown",
   "id": "96af800e-3efb-4989-b2e4-6690e397d1cf",
   "metadata": {},
   "source": [
    "# Scraping Amazon Retail Data with ScraperAPI"
   ]
  },
  {
   "cell_type": "code",
   "execution_count": null,
   "id": "d6a7f2ae-a3c1-45a4-95a2-b0f6cfe36377",
   "metadata": {},
   "outputs": [],
   "source": []
  }
 ],
 "metadata": {
  "kernelspec": {
   "display_name": "Python 3 (ipykernel)",
   "language": "python",
   "name": "python3"
  },
  "language_info": {
   "codemirror_mode": {
    "name": "ipython",
    "version": 3
   },
   "file_extension": ".py",
   "mimetype": "text/x-python",
   "name": "python",
   "nbconvert_exporter": "python",
   "pygments_lexer": "ipython3",
   "version": "3.10.0"
  }
 },
 "nbformat": 4,
 "nbformat_minor": 5
}
