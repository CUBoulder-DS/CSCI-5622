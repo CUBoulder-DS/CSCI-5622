{
 "cells": [
  {
   "cell_type": "markdown",
   "id": "372ff490-c14c-4467-8480-8dcfc4c7e140",
   "metadata": {},
   "source": [
    "# Support Vector Machines (SVM)"
   ]
  },
  {
   "cell_type": "code",
   "execution_count": 1,
   "id": "ff8d024a-4e19-4e64-93d3-07829d01863a",
   "metadata": {
    "execution": {
     "iopub.execute_input": "2024-04-30T04:46:53.652526Z",
     "iopub.status.busy": "2024-04-30T04:46:53.652096Z",
     "iopub.status.idle": "2024-04-30T04:46:58.605295Z",
     "shell.execute_reply": "2024-04-30T04:46:58.604731Z",
     "shell.execute_reply.started": "2024-04-30T04:46:53.652494Z"
    }
   },
   "outputs": [],
   "source": [
    "%matplotlib inline\n",
    "\n",
    "from itertools import combinations\n",
    "\n",
    "import pandas as pd\n",
    "from datetime import datetime\n",
    "import numpy as np\n",
    "import os\n",
    "\n",
    "from sklearn.inspection import DecisionBoundaryDisplay\n",
    "from sklearn.svm import SVC, SVR\n",
    "from sklearn.model_selection import train_test_split, GridSearchCV\n",
    "from sklearn.metrics import classification_report, confusion_matrix, accuracy_score, ConfusionMatrixDisplay\n",
    "\n",
    "\n",
    "import matplotlib.pyplot as plt\n",
    "import plotly\n",
    "import plotly.express as px\n",
    "import plotly.io as pio\n",
    "from plotly.subplots import make_subplots\n",
    "import plotly.graph_objects as go"
   ]
  },
  {
   "cell_type": "code",
   "execution_count": 2,
   "id": "84236e6b-2470-427a-b811-0e74969a1585",
   "metadata": {
    "execution": {
     "iopub.execute_input": "2024-04-30T04:46:59.273322Z",
     "iopub.status.busy": "2024-04-30T04:46:59.272866Z",
     "iopub.status.idle": "2024-04-30T04:46:59.984697Z",
     "shell.execute_reply": "2024-04-30T04:46:59.983837Z",
     "shell.execute_reply.started": "2024-04-30T04:46:59.273291Z"
    }
   },
   "outputs": [],
   "source": [
    "## Custom plotly plot styling\n",
    "\n",
    "# Remove the red color in discrete color scale\n",
    "px.colors.qualitative.Plotly = px.colors.qualitative.Plotly[:1] + px.colors.qualitative.Plotly[2:]\n",
    "\n",
    "pio.templates[\"custom\"] = go.layout.Template(\n",
    "    layout=go.Layout(\n",
    "        paper_bgcolor=\"rgba(0, 0, 0, 0)\",\n",
    "        font=dict(color=\"lightgreen\"),\n",
    "        colorscale=dict(sequential=\"Viridis\"),\n",
    "        colorway=px.colors.qualitative.Plotly)\n",
    ")\n",
    "\n",
    "pio.templates.default = \"plotly+custom\"\n",
    "\n",
    "# Settings for plot rendering, makes work with HTML output + jupyer lab + static output\n",
    "pio.renderers.default = \"plotly_mimetype+notebook_connected+png\""
   ]
  },
  {
   "cell_type": "markdown",
   "id": "9aa28483-fb78-4246-a2fc-ad8c5fab72da",
   "metadata": {},
   "source": [
    "## Load Data"
   ]
  },
  {
   "cell_type": "code",
   "execution_count": 3,
   "id": "5d1ae220-4992-44b7-a80c-a14ca9eb1e39",
   "metadata": {
    "execution": {
     "iopub.execute_input": "2024-04-30T04:47:00.787908Z",
     "iopub.status.busy": "2024-04-30T04:47:00.787371Z",
     "iopub.status.idle": "2024-04-30T04:47:08.728445Z",
     "shell.execute_reply": "2024-04-30T04:47:08.727508Z",
     "shell.execute_reply.started": "2024-04-30T04:47:00.787875Z"
    }
   },
   "outputs": [
    {
     "name": "stdout",
     "output_type": "stream",
     "text": [
      "Asin                       object\n",
      "Name                       object\n",
      "Image Url                  object\n",
      "Is Best Seller               bool\n",
      "Stars                     float64\n",
      "Reviews                   float64\n",
      "Url                        object\n",
      "Price                     float64\n",
      "Date Scraped       datetime64[ns]\n",
      "List Price                float64\n",
      "Bought In Month           float64\n",
      "Category                 category\n",
      "dtype: object\n"
     ]
    },
    {
     "data": {
      "text/html": [
       "<div>\n",
       "<style scoped>\n",
       "    .dataframe tbody tr th:only-of-type {\n",
       "        vertical-align: middle;\n",
       "    }\n",
       "\n",
       "    .dataframe tbody tr th {\n",
       "        vertical-align: top;\n",
       "    }\n",
       "\n",
       "    .dataframe thead th {\n",
       "        text-align: right;\n",
       "    }\n",
       "</style>\n",
       "<table border=\"1\" class=\"dataframe\">\n",
       "  <thead>\n",
       "    <tr style=\"text-align: right;\">\n",
       "      <th></th>\n",
       "      <th>Asin</th>\n",
       "      <th>Name</th>\n",
       "      <th>Image Url</th>\n",
       "      <th>Is Best Seller</th>\n",
       "      <th>Stars</th>\n",
       "      <th>Reviews</th>\n",
       "      <th>Url</th>\n",
       "      <th>Price</th>\n",
       "      <th>Date Scraped</th>\n",
       "      <th>List Price</th>\n",
       "      <th>Bought In Month</th>\n",
       "      <th>Category</th>\n",
       "    </tr>\n",
       "  </thead>\n",
       "  <tbody>\n",
       "    <tr>\n",
       "      <th>0</th>\n",
       "      <td>B0CSPPHXXV</td>\n",
       "      <td>Apple Watch Ultra 2 (GPS + Cellular 49mm) Rugg...</td>\n",
       "      <td>https://m.media-amazon.com/images/I/814xH1gpid...</td>\n",
       "      <td>False</td>\n",
       "      <td>NaN</td>\n",
       "      <td>0.0</td>\n",
       "      <td>https://www.amazon.com/Apple-Cellular-Rugged-T...</td>\n",
       "      <td>699.97</td>\n",
       "      <td>2024-02-01</td>\n",
       "      <td>779.99</td>\n",
       "      <td>NaN</td>\n",
       "      <td>NaN</td>\n",
       "    </tr>\n",
       "    <tr>\n",
       "      <th>1</th>\n",
       "      <td>B0BDJ4MGFQ</td>\n",
       "      <td>AppleWatch Series 8 [GPS + Cellular 45mm] Smar...</td>\n",
       "      <td>https://m.media-amazon.com/images/I/91WpS8h5Jv...</td>\n",
       "      <td>False</td>\n",
       "      <td>4.7</td>\n",
       "      <td>4100.0</td>\n",
       "      <td>https://www.amazon.com/Apple-Cellular-Starligh...</td>\n",
       "      <td>689.00</td>\n",
       "      <td>2024-02-01</td>\n",
       "      <td>799.00</td>\n",
       "      <td>NaN</td>\n",
       "      <td>NaN</td>\n",
       "    </tr>\n",
       "    <tr>\n",
       "      <th>2</th>\n",
       "      <td>B0CSV7LK7D</td>\n",
       "      <td>AppleWatch Series 9 [GPS + Cellular 45mm] Smar...</td>\n",
       "      <td>https://m.media-amazon.com/images/I/61DZ+Vezk0...</td>\n",
       "      <td>False</td>\n",
       "      <td>NaN</td>\n",
       "      <td>0.0</td>\n",
       "      <td>https://www.amazon.com/Apple-Cellular-Smartwat...</td>\n",
       "      <td>679.00</td>\n",
       "      <td>2024-02-01</td>\n",
       "      <td>679.00</td>\n",
       "      <td>NaN</td>\n",
       "      <td>NaN</td>\n",
       "    </tr>\n",
       "    <tr>\n",
       "      <th>3</th>\n",
       "      <td>B0B8GHHD2F</td>\n",
       "      <td>AppleWatch Series 7 [GPS + Cellular 45mm] Smar...</td>\n",
       "      <td>https://m.media-amazon.com/images/I/51aQmgx9Ql...</td>\n",
       "      <td>False</td>\n",
       "      <td>NaN</td>\n",
       "      <td>0.0</td>\n",
       "      <td>https://www.amazon.com/Apple-Cellular-Aluminum...</td>\n",
       "      <td>608.00</td>\n",
       "      <td>2024-02-01</td>\n",
       "      <td>608.00</td>\n",
       "      <td>NaN</td>\n",
       "      <td>NaN</td>\n",
       "    </tr>\n",
       "    <tr>\n",
       "      <th>4</th>\n",
       "      <td>B0B8GDV9GN</td>\n",
       "      <td>AppleWatch Series 7 [GPS + Cellular 45mm] Smar...</td>\n",
       "      <td>https://m.media-amazon.com/images/I/61O671oWHg...</td>\n",
       "      <td>False</td>\n",
       "      <td>NaN</td>\n",
       "      <td>0.0</td>\n",
       "      <td>https://www.amazon.com/Apple-Cellular-Aluminum...</td>\n",
       "      <td>608.00</td>\n",
       "      <td>2024-02-01</td>\n",
       "      <td>608.00</td>\n",
       "      <td>NaN</td>\n",
       "      <td>NaN</td>\n",
       "    </tr>\n",
       "    <tr>\n",
       "      <th>...</th>\n",
       "      <td>...</td>\n",
       "      <td>...</td>\n",
       "      <td>...</td>\n",
       "      <td>...</td>\n",
       "      <td>...</td>\n",
       "      <td>...</td>\n",
       "      <td>...</td>\n",
       "      <td>...</td>\n",
       "      <td>...</td>\n",
       "      <td>...</td>\n",
       "      <td>...</td>\n",
       "      <td>...</td>\n",
       "    </tr>\n",
       "    <tr>\n",
       "      <th>1389694</th>\n",
       "      <td>B00R3LIKCO</td>\n",
       "      <td>American Flag Patriotic USA Classic 5 Panel Me...</td>\n",
       "      <td>https://m.media-amazon.com/images/I/71PDJFz6AA...</td>\n",
       "      <td>False</td>\n",
       "      <td>4.2</td>\n",
       "      <td>0.0</td>\n",
       "      <td>https://www.amazon.com/dp/B00R3LIKCO</td>\n",
       "      <td>14.95</td>\n",
       "      <td>2023-11-01</td>\n",
       "      <td>14.95</td>\n",
       "      <td>0.0</td>\n",
       "      <td>Men's Accessories</td>\n",
       "    </tr>\n",
       "    <tr>\n",
       "      <th>1389695</th>\n",
       "      <td>B098BQ7ZQ3</td>\n",
       "      <td>Men's Baseball Cap - H2O-DRI Line Up Curved Br...</td>\n",
       "      <td>https://m.media-amazon.com/images/I/812Tycexs4...</td>\n",
       "      <td>False</td>\n",
       "      <td>4.4</td>\n",
       "      <td>0.0</td>\n",
       "      <td>https://www.amazon.com/dp/B098BQ7ZQ3</td>\n",
       "      <td>33.99</td>\n",
       "      <td>2023-11-01</td>\n",
       "      <td>33.99</td>\n",
       "      <td>0.0</td>\n",
       "      <td>Men's Accessories</td>\n",
       "    </tr>\n",
       "    <tr>\n",
       "      <th>1389696</th>\n",
       "      <td>B07X1MVNT1</td>\n",
       "      <td>[4 Pack] Adjustable Eyeglasses and Sunglasses ...</td>\n",
       "      <td>https://m.media-amazon.com/images/I/61vvYW1S9J...</td>\n",
       "      <td>False</td>\n",
       "      <td>3.6</td>\n",
       "      <td>0.0</td>\n",
       "      <td>https://www.amazon.com/dp/B07X1MVNT1</td>\n",
       "      <td>8.54</td>\n",
       "      <td>2023-11-01</td>\n",
       "      <td>8.54</td>\n",
       "      <td>0.0</td>\n",
       "      <td>Men's Accessories</td>\n",
       "    </tr>\n",
       "    <tr>\n",
       "      <th>1389697</th>\n",
       "      <td>B08XLBG8V9</td>\n",
       "      <td>Ax2002 Aviator Sunglasses</td>\n",
       "      <td>https://m.media-amazon.com/images/I/51+yjD4F1x...</td>\n",
       "      <td>False</td>\n",
       "      <td>4.5</td>\n",
       "      <td>0.0</td>\n",
       "      <td>https://www.amazon.com/dp/B08XLBG8V9</td>\n",
       "      <td>54.36</td>\n",
       "      <td>2023-11-01</td>\n",
       "      <td>57.39</td>\n",
       "      <td>0.0</td>\n",
       "      <td>Men's Accessories</td>\n",
       "    </tr>\n",
       "    <tr>\n",
       "      <th>1389698</th>\n",
       "      <td>B07GH67QC8</td>\n",
       "      <td>in Hoc Signo Vinces Knights Templar Masonic Em...</td>\n",
       "      <td>https://m.media-amazon.com/images/I/91Kt2KQf0E...</td>\n",
       "      <td>False</td>\n",
       "      <td>4.9</td>\n",
       "      <td>0.0</td>\n",
       "      <td>https://www.amazon.com/dp/B07GH67QC8</td>\n",
       "      <td>18.79</td>\n",
       "      <td>2023-11-01</td>\n",
       "      <td>18.79</td>\n",
       "      <td>0.0</td>\n",
       "      <td>Men's Accessories</td>\n",
       "    </tr>\n",
       "  </tbody>\n",
       "</table>\n",
       "<p>1389699 rows × 12 columns</p>\n",
       "</div>"
      ],
      "text/plain": [
       "               Asin                                               Name   \n",
       "0        B0CSPPHXXV  Apple Watch Ultra 2 (GPS + Cellular 49mm) Rugg...  \\\n",
       "1        B0BDJ4MGFQ  AppleWatch Series 8 [GPS + Cellular 45mm] Smar...   \n",
       "2        B0CSV7LK7D  AppleWatch Series 9 [GPS + Cellular 45mm] Smar...   \n",
       "3        B0B8GHHD2F  AppleWatch Series 7 [GPS + Cellular 45mm] Smar...   \n",
       "4        B0B8GDV9GN  AppleWatch Series 7 [GPS + Cellular 45mm] Smar...   \n",
       "...             ...                                                ...   \n",
       "1389694  B00R3LIKCO  American Flag Patriotic USA Classic 5 Panel Me...   \n",
       "1389695  B098BQ7ZQ3  Men's Baseball Cap - H2O-DRI Line Up Curved Br...   \n",
       "1389696  B07X1MVNT1  [4 Pack] Adjustable Eyeglasses and Sunglasses ...   \n",
       "1389697  B08XLBG8V9                          Ax2002 Aviator Sunglasses   \n",
       "1389698  B07GH67QC8  in Hoc Signo Vinces Knights Templar Masonic Em...   \n",
       "\n",
       "                                                 Image Url  Is Best Seller   \n",
       "0        https://m.media-amazon.com/images/I/814xH1gpid...           False  \\\n",
       "1        https://m.media-amazon.com/images/I/91WpS8h5Jv...           False   \n",
       "2        https://m.media-amazon.com/images/I/61DZ+Vezk0...           False   \n",
       "3        https://m.media-amazon.com/images/I/51aQmgx9Ql...           False   \n",
       "4        https://m.media-amazon.com/images/I/61O671oWHg...           False   \n",
       "...                                                    ...             ...   \n",
       "1389694  https://m.media-amazon.com/images/I/71PDJFz6AA...           False   \n",
       "1389695  https://m.media-amazon.com/images/I/812Tycexs4...           False   \n",
       "1389696  https://m.media-amazon.com/images/I/61vvYW1S9J...           False   \n",
       "1389697  https://m.media-amazon.com/images/I/51+yjD4F1x...           False   \n",
       "1389698  https://m.media-amazon.com/images/I/91Kt2KQf0E...           False   \n",
       "\n",
       "         Stars  Reviews                                                Url   \n",
       "0          NaN      0.0  https://www.amazon.com/Apple-Cellular-Rugged-T...  \\\n",
       "1          4.7   4100.0  https://www.amazon.com/Apple-Cellular-Starligh...   \n",
       "2          NaN      0.0  https://www.amazon.com/Apple-Cellular-Smartwat...   \n",
       "3          NaN      0.0  https://www.amazon.com/Apple-Cellular-Aluminum...   \n",
       "4          NaN      0.0  https://www.amazon.com/Apple-Cellular-Aluminum...   \n",
       "...        ...      ...                                                ...   \n",
       "1389694    4.2      0.0               https://www.amazon.com/dp/B00R3LIKCO   \n",
       "1389695    4.4      0.0               https://www.amazon.com/dp/B098BQ7ZQ3   \n",
       "1389696    3.6      0.0               https://www.amazon.com/dp/B07X1MVNT1   \n",
       "1389697    4.5      0.0               https://www.amazon.com/dp/B08XLBG8V9   \n",
       "1389698    4.9      0.0               https://www.amazon.com/dp/B07GH67QC8   \n",
       "\n",
       "          Price Date Scraped  List Price  Bought In Month           Category  \n",
       "0        699.97   2024-02-01      779.99              NaN                NaN  \n",
       "1        689.00   2024-02-01      799.00              NaN                NaN  \n",
       "2        679.00   2024-02-01      679.00              NaN                NaN  \n",
       "3        608.00   2024-02-01      608.00              NaN                NaN  \n",
       "4        608.00   2024-02-01      608.00              NaN                NaN  \n",
       "...         ...          ...         ...              ...                ...  \n",
       "1389694   14.95   2023-11-01       14.95              0.0  Men's Accessories  \n",
       "1389695   33.99   2023-11-01       33.99              0.0  Men's Accessories  \n",
       "1389696    8.54   2023-11-01        8.54              0.0  Men's Accessories  \n",
       "1389697   54.36   2023-11-01       57.39              0.0  Men's Accessories  \n",
       "1389698   18.79   2023-11-01       18.79              0.0  Men's Accessories  \n",
       "\n",
       "[1389699 rows x 12 columns]"
      ]
     },
     "execution_count": 3,
     "metadata": {},
     "output_type": "execute_result"
    }
   ],
   "source": [
    "data_path = os.path.normpath(\"../data/products_cleaned.csv\")\n",
    "df_az = pd.read_csv(data_path, dtype={\"Category\": \"category\"}, parse_dates=[\"Date Scraped\"])\n",
    "\n",
    "print(df_az.dtypes)\n",
    "df_az"
   ]
  },
  {
   "cell_type": "markdown",
   "id": "70588435-72f0-4937-a1e2-5da652d62076",
   "metadata": {},
   "source": [
    "## Data "
   ]
  },
  {
   "cell_type": "code",
   "execution_count": 4,
   "id": "5ec7f8f8-bf82-4f4c-817e-c1c011a8d2f0",
   "metadata": {
    "execution": {
     "iopub.execute_input": "2024-04-30T04:47:08.731244Z",
     "iopub.status.busy": "2024-04-30T04:47:08.730868Z",
     "iopub.status.idle": "2024-04-30T04:47:09.121307Z",
     "shell.execute_reply": "2024-04-30T04:47:09.120554Z",
     "shell.execute_reply.started": "2024-04-30T04:47:08.731217Z"
    },
    "scrolled": true
   },
   "outputs": [
    {
     "name": "stderr",
     "output_type": "stream",
     "text": [
      "/var/folders/zp/mp995dgx1cd34p1jkbfl8g600000gq/T/ipykernel_65070/1594760188.py:19: SettingWithCopyWarning:\n",
      "\n",
      "\n",
      "A value is trying to be set on a copy of a slice from a DataFrame.\n",
      "Try using .loc[row_indexer,col_indexer] = value instead\n",
      "\n",
      "See the caveats in the documentation: https://pandas.pydata.org/pandas-docs/stable/user_guide/indexing.html#returning-a-view-versus-a-copy\n",
      "\n"
     ]
    },
    {
     "data": {
      "text/html": [
       "<div>\n",
       "<style scoped>\n",
       "    .dataframe tbody tr th:only-of-type {\n",
       "        vertical-align: middle;\n",
       "    }\n",
       "\n",
       "    .dataframe tbody tr th {\n",
       "        vertical-align: top;\n",
       "    }\n",
       "\n",
       "    .dataframe thead th {\n",
       "        text-align: right;\n",
       "    }\n",
       "</style>\n",
       "<table border=\"1\" class=\"dataframe\">\n",
       "  <thead>\n",
       "    <tr style=\"text-align: right;\">\n",
       "      <th></th>\n",
       "      <th>Is Best Seller</th>\n",
       "      <th>Stars</th>\n",
       "      <th>Reviews</th>\n",
       "      <th>Price</th>\n",
       "      <th>List Price</th>\n",
       "      <th>Bought In Month</th>\n",
       "      <th>Price Increased</th>\n",
       "      <th>Men's Clothing</th>\n",
       "      <th>Men's Shoes</th>\n",
       "      <th>Televisions &amp; Video Products</th>\n",
       "      <th>...</th>\n",
       "      <th>Cell Phones &amp; Accessories</th>\n",
       "      <th>Cat Supplies</th>\n",
       "      <th>Home Lighting &amp; Ceiling Fans</th>\n",
       "      <th>Women's Shoes</th>\n",
       "      <th>Legacy Systems</th>\n",
       "      <th>Backpacks</th>\n",
       "      <th>Laptop Bags</th>\n",
       "      <th>Automotive Interior Accessories</th>\n",
       "      <th>Food Service Equipment &amp; Supplies</th>\n",
       "      <th>Travel Accessories</th>\n",
       "    </tr>\n",
       "  </thead>\n",
       "  <tbody>\n",
       "    <tr>\n",
       "      <th>1</th>\n",
       "      <td>0.0</td>\n",
       "      <td>0.869565</td>\n",
       "      <td>0.100297</td>\n",
       "      <td>0.002021</td>\n",
       "      <td>0.001882</td>\n",
       "      <td>0.0</td>\n",
       "      <td>False</td>\n",
       "      <td>0</td>\n",
       "      <td>0</td>\n",
       "      <td>0</td>\n",
       "      <td>...</td>\n",
       "      <td>0</td>\n",
       "      <td>0</td>\n",
       "      <td>0</td>\n",
       "      <td>0</td>\n",
       "      <td>0</td>\n",
       "      <td>0</td>\n",
       "      <td>0</td>\n",
       "      <td>0</td>\n",
       "      <td>0</td>\n",
       "      <td>0</td>\n",
       "    </tr>\n",
       "    <tr>\n",
       "      <th>3</th>\n",
       "      <td>0.0</td>\n",
       "      <td>0.869565</td>\n",
       "      <td>0.007596</td>\n",
       "      <td>0.058193</td>\n",
       "      <td>0.054194</td>\n",
       "      <td>0.0</td>\n",
       "      <td>True</td>\n",
       "      <td>0</td>\n",
       "      <td>0</td>\n",
       "      <td>0</td>\n",
       "      <td>...</td>\n",
       "      <td>0</td>\n",
       "      <td>0</td>\n",
       "      <td>0</td>\n",
       "      <td>0</td>\n",
       "      <td>0</td>\n",
       "      <td>0</td>\n",
       "      <td>0</td>\n",
       "      <td>0</td>\n",
       "      <td>0</td>\n",
       "      <td>0</td>\n",
       "    </tr>\n",
       "    <tr>\n",
       "      <th>5</th>\n",
       "      <td>0.0</td>\n",
       "      <td>0.826087</td>\n",
       "      <td>0.133650</td>\n",
       "      <td>0.145819</td>\n",
       "      <td>0.185980</td>\n",
       "      <td>0.0</td>\n",
       "      <td>False</td>\n",
       "      <td>0</td>\n",
       "      <td>0</td>\n",
       "      <td>0</td>\n",
       "      <td>...</td>\n",
       "      <td>0</td>\n",
       "      <td>0</td>\n",
       "      <td>0</td>\n",
       "      <td>0</td>\n",
       "      <td>0</td>\n",
       "      <td>0</td>\n",
       "      <td>1</td>\n",
       "      <td>0</td>\n",
       "      <td>0</td>\n",
       "      <td>0</td>\n",
       "    </tr>\n",
       "    <tr>\n",
       "      <th>7</th>\n",
       "      <td>0.0</td>\n",
       "      <td>0.869565</td>\n",
       "      <td>0.345875</td>\n",
       "      <td>0.103467</td>\n",
       "      <td>0.096358</td>\n",
       "      <td>0.0</td>\n",
       "      <td>True</td>\n",
       "      <td>0</td>\n",
       "      <td>0</td>\n",
       "      <td>0</td>\n",
       "      <td>...</td>\n",
       "      <td>0</td>\n",
       "      <td>0</td>\n",
       "      <td>0</td>\n",
       "      <td>0</td>\n",
       "      <td>0</td>\n",
       "      <td>0</td>\n",
       "      <td>0</td>\n",
       "      <td>0</td>\n",
       "      <td>0</td>\n",
       "      <td>0</td>\n",
       "    </tr>\n",
       "    <tr>\n",
       "      <th>9</th>\n",
       "      <td>0.0</td>\n",
       "      <td>0.478261</td>\n",
       "      <td>0.306469</td>\n",
       "      <td>0.043779</td>\n",
       "      <td>0.089371</td>\n",
       "      <td>0.0</td>\n",
       "      <td>False</td>\n",
       "      <td>0</td>\n",
       "      <td>0</td>\n",
       "      <td>0</td>\n",
       "      <td>...</td>\n",
       "      <td>0</td>\n",
       "      <td>0</td>\n",
       "      <td>0</td>\n",
       "      <td>0</td>\n",
       "      <td>0</td>\n",
       "      <td>0</td>\n",
       "      <td>0</td>\n",
       "      <td>0</td>\n",
       "      <td>0</td>\n",
       "      <td>0</td>\n",
       "    </tr>\n",
       "    <tr>\n",
       "      <th>...</th>\n",
       "      <td>...</td>\n",
       "      <td>...</td>\n",
       "      <td>...</td>\n",
       "      <td>...</td>\n",
       "      <td>...</td>\n",
       "      <td>...</td>\n",
       "      <td>...</td>\n",
       "      <td>...</td>\n",
       "      <td>...</td>\n",
       "      <td>...</td>\n",
       "      <td>...</td>\n",
       "      <td>...</td>\n",
       "      <td>...</td>\n",
       "      <td>...</td>\n",
       "      <td>...</td>\n",
       "      <td>...</td>\n",
       "      <td>...</td>\n",
       "      <td>...</td>\n",
       "      <td>...</td>\n",
       "      <td>...</td>\n",
       "      <td>...</td>\n",
       "    </tr>\n",
       "    <tr>\n",
       "      <th>3323</th>\n",
       "      <td>0.0</td>\n",
       "      <td>0.869565</td>\n",
       "      <td>0.010801</td>\n",
       "      <td>0.029959</td>\n",
       "      <td>0.027900</td>\n",
       "      <td>0.0</td>\n",
       "      <td>False</td>\n",
       "      <td>0</td>\n",
       "      <td>0</td>\n",
       "      <td>0</td>\n",
       "      <td>...</td>\n",
       "      <td>0</td>\n",
       "      <td>0</td>\n",
       "      <td>0</td>\n",
       "      <td>0</td>\n",
       "      <td>0</td>\n",
       "      <td>0</td>\n",
       "      <td>0</td>\n",
       "      <td>0</td>\n",
       "      <td>0</td>\n",
       "      <td>0</td>\n",
       "    </tr>\n",
       "    <tr>\n",
       "      <th>3325</th>\n",
       "      <td>0.0</td>\n",
       "      <td>0.260870</td>\n",
       "      <td>0.000950</td>\n",
       "      <td>0.003017</td>\n",
       "      <td>0.004065</td>\n",
       "      <td>0.0</td>\n",
       "      <td>False</td>\n",
       "      <td>0</td>\n",
       "      <td>0</td>\n",
       "      <td>0</td>\n",
       "      <td>...</td>\n",
       "      <td>0</td>\n",
       "      <td>0</td>\n",
       "      <td>0</td>\n",
       "      <td>0</td>\n",
       "      <td>0</td>\n",
       "      <td>0</td>\n",
       "      <td>0</td>\n",
       "      <td>0</td>\n",
       "      <td>0</td>\n",
       "      <td>1</td>\n",
       "    </tr>\n",
       "    <tr>\n",
       "      <th>3327</th>\n",
       "      <td>0.0</td>\n",
       "      <td>0.521739</td>\n",
       "      <td>0.031691</td>\n",
       "      <td>0.548588</td>\n",
       "      <td>0.562317</td>\n",
       "      <td>0.0</td>\n",
       "      <td>False</td>\n",
       "      <td>0</td>\n",
       "      <td>0</td>\n",
       "      <td>0</td>\n",
       "      <td>...</td>\n",
       "      <td>0</td>\n",
       "      <td>0</td>\n",
       "      <td>0</td>\n",
       "      <td>0</td>\n",
       "      <td>0</td>\n",
       "      <td>0</td>\n",
       "      <td>0</td>\n",
       "      <td>0</td>\n",
       "      <td>0</td>\n",
       "      <td>0</td>\n",
       "    </tr>\n",
       "    <tr>\n",
       "      <th>3329</th>\n",
       "      <td>0.0</td>\n",
       "      <td>0.913043</td>\n",
       "      <td>0.311454</td>\n",
       "      <td>0.027264</td>\n",
       "      <td>0.098152</td>\n",
       "      <td>0.0</td>\n",
       "      <td>False</td>\n",
       "      <td>0</td>\n",
       "      <td>0</td>\n",
       "      <td>0</td>\n",
       "      <td>...</td>\n",
       "      <td>0</td>\n",
       "      <td>0</td>\n",
       "      <td>0</td>\n",
       "      <td>0</td>\n",
       "      <td>0</td>\n",
       "      <td>0</td>\n",
       "      <td>0</td>\n",
       "      <td>0</td>\n",
       "      <td>0</td>\n",
       "      <td>0</td>\n",
       "    </tr>\n",
       "    <tr>\n",
       "      <th>3331</th>\n",
       "      <td>0.0</td>\n",
       "      <td>0.782609</td>\n",
       "      <td>0.030979</td>\n",
       "      <td>0.105394</td>\n",
       "      <td>0.148332</td>\n",
       "      <td>0.0</td>\n",
       "      <td>False</td>\n",
       "      <td>0</td>\n",
       "      <td>0</td>\n",
       "      <td>0</td>\n",
       "      <td>...</td>\n",
       "      <td>0</td>\n",
       "      <td>0</td>\n",
       "      <td>0</td>\n",
       "      <td>0</td>\n",
       "      <td>0</td>\n",
       "      <td>0</td>\n",
       "      <td>0</td>\n",
       "      <td>0</td>\n",
       "      <td>0</td>\n",
       "      <td>0</td>\n",
       "    </tr>\n",
       "  </tbody>\n",
       "</table>\n",
       "<p>1574 rows × 69 columns</p>\n",
       "</div>"
      ],
      "text/plain": [
       "      Is Best Seller     Stars   Reviews     Price  List Price   \n",
       "1                0.0  0.869565  0.100297  0.002021    0.001882  \\\n",
       "3                0.0  0.869565  0.007596  0.058193    0.054194   \n",
       "5                0.0  0.826087  0.133650  0.145819    0.185980   \n",
       "7                0.0  0.869565  0.345875  0.103467    0.096358   \n",
       "9                0.0  0.478261  0.306469  0.043779    0.089371   \n",
       "...              ...       ...       ...       ...         ...   \n",
       "3323             0.0  0.869565  0.010801  0.029959    0.027900   \n",
       "3325             0.0  0.260870  0.000950  0.003017    0.004065   \n",
       "3327             0.0  0.521739  0.031691  0.548588    0.562317   \n",
       "3329             0.0  0.913043  0.311454  0.027264    0.098152   \n",
       "3331             0.0  0.782609  0.030979  0.105394    0.148332   \n",
       "\n",
       "      Bought In Month  Price Increased  Men's Clothing  Men's Shoes   \n",
       "1                 0.0            False               0            0  \\\n",
       "3                 0.0             True               0            0   \n",
       "5                 0.0            False               0            0   \n",
       "7                 0.0             True               0            0   \n",
       "9                 0.0            False               0            0   \n",
       "...               ...              ...             ...          ...   \n",
       "3323              0.0            False               0            0   \n",
       "3325              0.0            False               0            0   \n",
       "3327              0.0            False               0            0   \n",
       "3329              0.0            False               0            0   \n",
       "3331              0.0            False               0            0   \n",
       "\n",
       "      Televisions & Video Products  ...  Cell Phones & Accessories   \n",
       "1                                0  ...                          0  \\\n",
       "3                                0  ...                          0   \n",
       "5                                0  ...                          0   \n",
       "7                                0  ...                          0   \n",
       "9                                0  ...                          0   \n",
       "...                            ...  ...                        ...   \n",
       "3323                             0  ...                          0   \n",
       "3325                             0  ...                          0   \n",
       "3327                             0  ...                          0   \n",
       "3329                             0  ...                          0   \n",
       "3331                             0  ...                          0   \n",
       "\n",
       "      Cat Supplies  Home Lighting & Ceiling Fans  Women's Shoes   \n",
       "1                0                             0              0  \\\n",
       "3                0                             0              0   \n",
       "5                0                             0              0   \n",
       "7                0                             0              0   \n",
       "9                0                             0              0   \n",
       "...            ...                           ...            ...   \n",
       "3323             0                             0              0   \n",
       "3325             0                             0              0   \n",
       "3327             0                             0              0   \n",
       "3329             0                             0              0   \n",
       "3331             0                             0              0   \n",
       "\n",
       "      Legacy Systems  Backpacks  Laptop Bags  Automotive Interior Accessories   \n",
       "1                  0          0            0                                0  \\\n",
       "3                  0          0            0                                0   \n",
       "5                  0          0            1                                0   \n",
       "7                  0          0            0                                0   \n",
       "9                  0          0            0                                0   \n",
       "...              ...        ...          ...                              ...   \n",
       "3323               0          0            0                                0   \n",
       "3325               0          0            0                                0   \n",
       "3327               0          0            0                                0   \n",
       "3329               0          0            0                                0   \n",
       "3331               0          0            0                                0   \n",
       "\n",
       "      Food Service Equipment & Supplies  Travel Accessories  \n",
       "1                                     0                   0  \n",
       "3                                     0                   0  \n",
       "5                                     0                   0  \n",
       "7                                     0                   0  \n",
       "9                                     0                   0  \n",
       "...                                 ...                 ...  \n",
       "3323                                  0                   0  \n",
       "3325                                  0                   1  \n",
       "3327                                  0                   0  \n",
       "3329                                  0                   0  \n",
       "3331                                  0                   0  \n",
       "\n",
       "[1574 rows x 69 columns]"
      ]
     },
     "execution_count": 4,
     "metadata": {},
     "output_type": "execute_result"
    }
   ],
   "source": [
    "# Make DF of products that have a calculable price difference over time\n",
    "df_same = df_az[df_az[\"Asin\"].duplicated(keep=False)].sort_values([\"Asin\", \"Date Scraped\"]).reset_index()\n",
    "diffs = df_same[[\"Asin\", \"Date Scraped\", \"Price\", \"List Price\"]].set_index(\"Asin\").groupby(level=0).diff().reset_index()\n",
    "df_same[\"Price Diff\"] = diffs[\"Price\"]\n",
    "df_same[\"List Price Diff\"] = diffs[\"List Price\"]\n",
    "df_same[\"Price Diff\"] = df_same[\"Price Diff\"].bfill(limit=1)\n",
    "df_same[\"Increased\"] = df_same[\"Price Diff\"] > 0\n",
    "df_same[\"Category\"] = df_same[\"Category\"].ffill().cat.remove_unused_categories()\n",
    "\n",
    "# Use initial price and data, in order to predict later price change\n",
    "df_diff = df_same[df_same[\"Date Scraped\"] > pd.Timestamp(\"2023-11-01\")]\n",
    "\n",
    "# Only use data with `Category` categories that have more than 5 products occuring\n",
    "df_diff = df_diff[df_diff.groupby(\"Category\")[\"Category\"].transform('count').ge(5)]\n",
    "df_diff[\"Category\"] = df_diff[\"Category\"].cat.remove_unused_categories()\n",
    "\n",
    "# Scale numerical data to [0, 1], make bool `Is Best Seller` an int\n",
    "df_svm = df_diff[[\"Is Best Seller\", \"Stars\", \"Reviews\", \"Price\", \"List Price\", \"Bought In Month\"]]\n",
    "df_svm[\"Is Best Seller\"] = df_svm[\"Is Best Seller\"].astype(int)\n",
    "df_svm = (df_svm-df_svm.min())/(df_svm.max()-df_svm.min())\n",
    "\n",
    "df_svm[\"Price Increased\"] = df_diff[\"Increased\"]\n",
    "\n",
    "# One-hot encode categorical var `Category`\n",
    "df_svm = pd.concat([df_svm, pd.get_dummies(df_diff[\"Category\"], dtype=int)], axis=\"columns\").fillna(0)\n",
    "\n",
    "# Split into train/test, stratifying on the prediction label\n",
    "X_train, X_test, y_train, y_test = train_test_split(df_svm.drop(columns=\"Price Increased\"), df_svm[\"Price Increased\"], random_state=42, stratify=df_svm[\"Price Increased\"])\n",
    "\n",
    "df_svm"
   ]
  },
  {
   "cell_type": "code",
   "execution_count": 5,
   "id": "349ec8c5-4b2f-4c01-9239-ccb8aa356561",
   "metadata": {
    "execution": {
     "iopub.execute_input": "2024-04-30T04:47:09.123072Z",
     "iopub.status.busy": "2024-04-30T04:47:09.122564Z",
     "iopub.status.idle": "2024-04-30T04:47:09.138015Z",
     "shell.execute_reply": "2024-04-30T04:47:09.137209Z",
     "shell.execute_reply.started": "2024-04-30T04:47:09.123044Z"
    }
   },
   "outputs": [
    {
     "name": "stdout",
     "output_type": "stream",
     "text": [
      "|   Is Best Seller |    Stars |   Reviews |      Price |   List Price |   Bought In Month | Category                                    |\n",
      "|-----------------:|---------:|----------:|-----------:|-------------:|------------------:|:--------------------------------------------|\n",
      "|                0 | 0.869565 | 0.0104451 | 0.0784525  |   0.0805891  |                 0 | PlayStation 5 Consoles, Games & Accessories |\n",
      "|                0 | 0.913043 | 0.0129377 | 0.0649819  |   0.0605171  |                 0 | Heating, Cooling & Air Quality              |\n",
      "|                0 | 0.695652 | 0.0020178 | 0.00691039 |   0.00643559 |                 0 | Heating, Cooling & Air Quality              |\n",
      "|                0 | 0.913043 | 0.131039  | 0.0333396  |   0.0310489  |                 0 | Outdoor Recreation                          |\n",
      "|                0 | 0.782609 | 0.486884  | 0.040708   |   0.0605171  |                 0 | Heating, Cooling & Air Quality              |\n",
      "|                1 | 0.73913  | 0.193947  | 0.00831133 |   0.0291546  |                 0 | Sports & Outdoors                           |\n"
     ]
    }
   ],
   "source": [
    "pd.concat([df_svm.iloc[:,:6], df_diff[\"Category\"]], axis=\"columns\")\n",
    "print(pd.concat([df_svm.iloc[:,:6], df_diff[\"Category\"]], axis=\"columns\").sample(6).to_markdown(index=False))"
   ]
  },
  {
   "cell_type": "code",
   "execution_count": 6,
   "id": "7fee015b-6c44-4b21-8427-3bb23dd5eb51",
   "metadata": {
    "execution": {
     "iopub.execute_input": "2024-04-30T04:47:09.140745Z",
     "iopub.status.busy": "2024-04-30T04:47:09.140422Z",
     "iopub.status.idle": "2024-04-30T04:47:09.146577Z",
     "shell.execute_reply": "2024-04-30T04:47:09.145699Z",
     "shell.execute_reply.started": "2024-04-30T04:47:09.140720Z"
    }
   },
   "outputs": [
    {
     "name": "stdout",
     "output_type": "stream",
     "text": [
      "100 394 299 1180 68 68\n"
     ]
    }
   ],
   "source": [
    "# print(X_test[\"Category\"].unique(), X_train[\"Category\"].unique())\n",
    "print(y_test.sum(), len(y_test),  y_train.sum(), len(y_train), len(X_train.columns), len(X_test.columns))"
   ]
  },
  {
   "cell_type": "markdown",
   "id": "cf74dc28-de7c-470c-863e-636c8e61bff5",
   "metadata": {},
   "source": [
    "## Run SVM"
   ]
  },
  {
   "cell_type": "code",
   "execution_count": 7,
   "id": "49562505-deb2-4424-b1ac-e03f918e0778",
   "metadata": {
    "execution": {
     "iopub.execute_input": "2024-04-30T04:47:40.487528Z",
     "iopub.status.busy": "2024-04-30T04:47:40.487069Z",
     "iopub.status.idle": "2024-04-30T04:48:11.862437Z",
     "shell.execute_reply": "2024-04-30T04:48:11.861630Z",
     "shell.execute_reply.started": "2024-04-30T04:47:40.487497Z"
    },
    "scrolled": true
   },
   "outputs": [
    {
     "name": "stdout",
     "output_type": "stream",
     "text": [
      "fitting GridSearchCV(estimator=SVC(random_state=42), n_jobs=-1,\n",
      "             param_grid={'C': [0.5, 1, 10, 100],\n",
      "                         'gamma': ['auto', 'scale', 0.01, 0.001, 0.0001],\n",
      "                         'kernel': ['rbf']},\n",
      "             scoring='balanced_accuracy')\n",
      "fitting GridSearchCV(estimator=SVC(random_state=42), n_jobs=-1,\n",
      "             param_grid={'C': [0.5, 1, 10, 100], 'kernel': ['linear']},\n",
      "             scoring='balanced_accuracy')\n",
      "fitting GridSearchCV(estimator=SVC(random_state=42), n_jobs=-1,\n",
      "             param_grid={'C': [0.5, 1, 10, 100], 'coef0': [0.5, 1, 5],\n",
      "                         'degree': [2, 3, 4], 'kernel': ['poly']},\n",
      "             scoring='balanced_accuracy')\n"
     ]
    },
    {
     "data": {
      "text/html": [
       "<div>\n",
       "<style scoped>\n",
       "    .dataframe tbody tr th:only-of-type {\n",
       "        vertical-align: middle;\n",
       "    }\n",
       "\n",
       "    .dataframe tbody tr th {\n",
       "        vertical-align: top;\n",
       "    }\n",
       "\n",
       "    .dataframe thead th {\n",
       "        text-align: right;\n",
       "    }\n",
       "</style>\n",
       "<table border=\"1\" class=\"dataframe\">\n",
       "  <thead>\n",
       "    <tr style=\"text-align: right;\">\n",
       "      <th></th>\n",
       "      <th>mean_fit_time</th>\n",
       "      <th>std_fit_time</th>\n",
       "      <th>mean_score_time</th>\n",
       "      <th>std_score_time</th>\n",
       "      <th>param_C</th>\n",
       "      <th>param_gamma</th>\n",
       "      <th>param_kernel</th>\n",
       "      <th>params</th>\n",
       "      <th>split0_test_score</th>\n",
       "      <th>split1_test_score</th>\n",
       "      <th>split2_test_score</th>\n",
       "      <th>split3_test_score</th>\n",
       "      <th>split4_test_score</th>\n",
       "      <th>mean_test_score</th>\n",
       "      <th>std_test_score</th>\n",
       "      <th>rank_test_score</th>\n",
       "      <th>param_coef0</th>\n",
       "      <th>param_degree</th>\n",
       "    </tr>\n",
       "  </thead>\n",
       "  <tbody>\n",
       "    <tr>\n",
       "      <th>0</th>\n",
       "      <td>0.149385</td>\n",
       "      <td>0.017917</td>\n",
       "      <td>0.114074</td>\n",
       "      <td>0.014798</td>\n",
       "      <td>0.5</td>\n",
       "      <td>auto</td>\n",
       "      <td>rbf</td>\n",
       "      <td>{'C': 0.5, 'gamma': 'auto', 'kernel': 'rbf'}</td>\n",
       "      <td>0.500000</td>\n",
       "      <td>0.500000</td>\n",
       "      <td>0.500000</td>\n",
       "      <td>0.500000</td>\n",
       "      <td>0.500000</td>\n",
       "      <td>0.500000</td>\n",
       "      <td>0.000000</td>\n",
       "      <td>3</td>\n",
       "      <td>NaN</td>\n",
       "      <td>NaN</td>\n",
       "    </tr>\n",
       "    <tr>\n",
       "      <th>1</th>\n",
       "      <td>0.146281</td>\n",
       "      <td>0.014873</td>\n",
       "      <td>0.092659</td>\n",
       "      <td>0.010168</td>\n",
       "      <td>0.5</td>\n",
       "      <td>scale</td>\n",
       "      <td>rbf</td>\n",
       "      <td>{'C': 0.5, 'gamma': 'scale', 'kernel': 'rbf'}</td>\n",
       "      <td>0.500000</td>\n",
       "      <td>0.500000</td>\n",
       "      <td>0.500000</td>\n",
       "      <td>0.500000</td>\n",
       "      <td>0.500000</td>\n",
       "      <td>0.500000</td>\n",
       "      <td>0.000000</td>\n",
       "      <td>3</td>\n",
       "      <td>NaN</td>\n",
       "      <td>NaN</td>\n",
       "    </tr>\n",
       "    <tr>\n",
       "      <th>2</th>\n",
       "      <td>0.090047</td>\n",
       "      <td>0.010131</td>\n",
       "      <td>0.093123</td>\n",
       "      <td>0.004821</td>\n",
       "      <td>0.5</td>\n",
       "      <td>0.01</td>\n",
       "      <td>rbf</td>\n",
       "      <td>{'C': 0.5, 'gamma': 0.01, 'kernel': 'rbf'}</td>\n",
       "      <td>0.500000</td>\n",
       "      <td>0.500000</td>\n",
       "      <td>0.500000</td>\n",
       "      <td>0.500000</td>\n",
       "      <td>0.500000</td>\n",
       "      <td>0.500000</td>\n",
       "      <td>0.000000</td>\n",
       "      <td>3</td>\n",
       "      <td>NaN</td>\n",
       "      <td>NaN</td>\n",
       "    </tr>\n",
       "    <tr>\n",
       "      <th>3</th>\n",
       "      <td>0.088208</td>\n",
       "      <td>0.008466</td>\n",
       "      <td>0.080050</td>\n",
       "      <td>0.005552</td>\n",
       "      <td>0.5</td>\n",
       "      <td>0.001</td>\n",
       "      <td>rbf</td>\n",
       "      <td>{'C': 0.5, 'gamma': 0.001, 'kernel': 'rbf'}</td>\n",
       "      <td>0.500000</td>\n",
       "      <td>0.500000</td>\n",
       "      <td>0.500000</td>\n",
       "      <td>0.500000</td>\n",
       "      <td>0.500000</td>\n",
       "      <td>0.500000</td>\n",
       "      <td>0.000000</td>\n",
       "      <td>3</td>\n",
       "      <td>NaN</td>\n",
       "      <td>NaN</td>\n",
       "    </tr>\n",
       "    <tr>\n",
       "      <th>4</th>\n",
       "      <td>0.079076</td>\n",
       "      <td>0.006827</td>\n",
       "      <td>0.080452</td>\n",
       "      <td>0.003627</td>\n",
       "      <td>0.5</td>\n",
       "      <td>0.0001</td>\n",
       "      <td>rbf</td>\n",
       "      <td>{'C': 0.5, 'gamma': 0.0001, 'kernel': 'rbf'}</td>\n",
       "      <td>0.500000</td>\n",
       "      <td>0.500000</td>\n",
       "      <td>0.500000</td>\n",
       "      <td>0.500000</td>\n",
       "      <td>0.500000</td>\n",
       "      <td>0.500000</td>\n",
       "      <td>0.000000</td>\n",
       "      <td>3</td>\n",
       "      <td>NaN</td>\n",
       "      <td>NaN</td>\n",
       "    </tr>\n",
       "    <tr>\n",
       "      <th>5</th>\n",
       "      <td>0.105468</td>\n",
       "      <td>0.003940</td>\n",
       "      <td>0.092402</td>\n",
       "      <td>0.004420</td>\n",
       "      <td>1</td>\n",
       "      <td>auto</td>\n",
       "      <td>rbf</td>\n",
       "      <td>{'C': 1, 'gamma': 'auto', 'kernel': 'rbf'}</td>\n",
       "      <td>0.500000</td>\n",
       "      <td>0.500000</td>\n",
       "      <td>0.500000</td>\n",
       "      <td>0.500000</td>\n",
       "      <td>0.500000</td>\n",
       "      <td>0.500000</td>\n",
       "      <td>0.000000</td>\n",
       "      <td>3</td>\n",
       "      <td>NaN</td>\n",
       "      <td>NaN</td>\n",
       "    </tr>\n",
       "    <tr>\n",
       "      <th>6</th>\n",
       "      <td>0.125181</td>\n",
       "      <td>0.006894</td>\n",
       "      <td>0.096022</td>\n",
       "      <td>0.008877</td>\n",
       "      <td>1</td>\n",
       "      <td>scale</td>\n",
       "      <td>rbf</td>\n",
       "      <td>{'C': 1, 'gamma': 'scale', 'kernel': 'rbf'}</td>\n",
       "      <td>0.500000</td>\n",
       "      <td>0.497159</td>\n",
       "      <td>0.500000</td>\n",
       "      <td>0.497159</td>\n",
       "      <td>0.494350</td>\n",
       "      <td>0.497734</td>\n",
       "      <td>0.002116</td>\n",
       "      <td>18</td>\n",
       "      <td>NaN</td>\n",
       "      <td>NaN</td>\n",
       "    </tr>\n",
       "    <tr>\n",
       "      <th>7</th>\n",
       "      <td>0.096763</td>\n",
       "      <td>0.005311</td>\n",
       "      <td>0.086377</td>\n",
       "      <td>0.007161</td>\n",
       "      <td>1</td>\n",
       "      <td>0.01</td>\n",
       "      <td>rbf</td>\n",
       "      <td>{'C': 1, 'gamma': 0.01, 'kernel': 'rbf'}</td>\n",
       "      <td>0.500000</td>\n",
       "      <td>0.500000</td>\n",
       "      <td>0.500000</td>\n",
       "      <td>0.500000</td>\n",
       "      <td>0.500000</td>\n",
       "      <td>0.500000</td>\n",
       "      <td>0.000000</td>\n",
       "      <td>3</td>\n",
       "      <td>NaN</td>\n",
       "      <td>NaN</td>\n",
       "    </tr>\n",
       "    <tr>\n",
       "      <th>8</th>\n",
       "      <td>0.078800</td>\n",
       "      <td>0.006093</td>\n",
       "      <td>0.080873</td>\n",
       "      <td>0.008452</td>\n",
       "      <td>1</td>\n",
       "      <td>0.001</td>\n",
       "      <td>rbf</td>\n",
       "      <td>{'C': 1, 'gamma': 0.001, 'kernel': 'rbf'}</td>\n",
       "      <td>0.500000</td>\n",
       "      <td>0.500000</td>\n",
       "      <td>0.500000</td>\n",
       "      <td>0.500000</td>\n",
       "      <td>0.500000</td>\n",
       "      <td>0.500000</td>\n",
       "      <td>0.000000</td>\n",
       "      <td>3</td>\n",
       "      <td>NaN</td>\n",
       "      <td>NaN</td>\n",
       "    </tr>\n",
       "    <tr>\n",
       "      <th>9</th>\n",
       "      <td>0.077611</td>\n",
       "      <td>0.006061</td>\n",
       "      <td>0.083698</td>\n",
       "      <td>0.004297</td>\n",
       "      <td>1</td>\n",
       "      <td>0.0001</td>\n",
       "      <td>rbf</td>\n",
       "      <td>{'C': 1, 'gamma': 0.0001, 'kernel': 'rbf'}</td>\n",
       "      <td>0.500000</td>\n",
       "      <td>0.500000</td>\n",
       "      <td>0.500000</td>\n",
       "      <td>0.500000</td>\n",
       "      <td>0.500000</td>\n",
       "      <td>0.500000</td>\n",
       "      <td>0.000000</td>\n",
       "      <td>3</td>\n",
       "      <td>NaN</td>\n",
       "      <td>NaN</td>\n",
       "    </tr>\n",
       "    <tr>\n",
       "      <th>10</th>\n",
       "      <td>0.136183</td>\n",
       "      <td>0.009736</td>\n",
       "      <td>0.103190</td>\n",
       "      <td>0.007469</td>\n",
       "      <td>10</td>\n",
       "      <td>auto</td>\n",
       "      <td>rbf</td>\n",
       "      <td>{'C': 10, 'gamma': 'auto', 'kernel': 'rbf'}</td>\n",
       "      <td>0.500000</td>\n",
       "      <td>0.500000</td>\n",
       "      <td>0.500000</td>\n",
       "      <td>0.500000</td>\n",
       "      <td>0.500000</td>\n",
       "      <td>0.500000</td>\n",
       "      <td>0.000000</td>\n",
       "      <td>3</td>\n",
       "      <td>NaN</td>\n",
       "      <td>NaN</td>\n",
       "    </tr>\n",
       "    <tr>\n",
       "      <th>11</th>\n",
       "      <td>0.158776</td>\n",
       "      <td>0.005471</td>\n",
       "      <td>0.097678</td>\n",
       "      <td>0.006275</td>\n",
       "      <td>10</td>\n",
       "      <td>scale</td>\n",
       "      <td>rbf</td>\n",
       "      <td>{'C': 10, 'gamma': 'scale', 'kernel': 'rbf'}</td>\n",
       "      <td>0.502083</td>\n",
       "      <td>0.516288</td>\n",
       "      <td>0.521780</td>\n",
       "      <td>0.479924</td>\n",
       "      <td>0.508475</td>\n",
       "      <td>0.505710</td>\n",
       "      <td>0.014532</td>\n",
       "      <td>1</td>\n",
       "      <td>NaN</td>\n",
       "      <td>NaN</td>\n",
       "    </tr>\n",
       "    <tr>\n",
       "      <th>12</th>\n",
       "      <td>0.130981</td>\n",
       "      <td>0.005327</td>\n",
       "      <td>0.103909</td>\n",
       "      <td>0.005299</td>\n",
       "      <td>10</td>\n",
       "      <td>0.01</td>\n",
       "      <td>rbf</td>\n",
       "      <td>{'C': 10, 'gamma': 0.01, 'kernel': 'rbf'}</td>\n",
       "      <td>0.500000</td>\n",
       "      <td>0.500000</td>\n",
       "      <td>0.500000</td>\n",
       "      <td>0.500000</td>\n",
       "      <td>0.500000</td>\n",
       "      <td>0.500000</td>\n",
       "      <td>0.000000</td>\n",
       "      <td>3</td>\n",
       "      <td>NaN</td>\n",
       "      <td>NaN</td>\n",
       "    </tr>\n",
       "    <tr>\n",
       "      <th>13</th>\n",
       "      <td>0.099029</td>\n",
       "      <td>0.002734</td>\n",
       "      <td>0.093950</td>\n",
       "      <td>0.008356</td>\n",
       "      <td>10</td>\n",
       "      <td>0.001</td>\n",
       "      <td>rbf</td>\n",
       "      <td>{'C': 10, 'gamma': 0.001, 'kernel': 'rbf'}</td>\n",
       "      <td>0.500000</td>\n",
       "      <td>0.500000</td>\n",
       "      <td>0.500000</td>\n",
       "      <td>0.500000</td>\n",
       "      <td>0.500000</td>\n",
       "      <td>0.500000</td>\n",
       "      <td>0.000000</td>\n",
       "      <td>3</td>\n",
       "      <td>NaN</td>\n",
       "      <td>NaN</td>\n",
       "    </tr>\n",
       "    <tr>\n",
       "      <th>14</th>\n",
       "      <td>0.087130</td>\n",
       "      <td>0.004750</td>\n",
       "      <td>0.085247</td>\n",
       "      <td>0.003027</td>\n",
       "      <td>10</td>\n",
       "      <td>0.0001</td>\n",
       "      <td>rbf</td>\n",
       "      <td>{'C': 10, 'gamma': 0.0001, 'kernel': 'rbf'}</td>\n",
       "      <td>0.500000</td>\n",
       "      <td>0.500000</td>\n",
       "      <td>0.500000</td>\n",
       "      <td>0.500000</td>\n",
       "      <td>0.500000</td>\n",
       "      <td>0.500000</td>\n",
       "      <td>0.000000</td>\n",
       "      <td>3</td>\n",
       "      <td>NaN</td>\n",
       "      <td>NaN</td>\n",
       "    </tr>\n",
       "    <tr>\n",
       "      <th>15</th>\n",
       "      <td>0.178669</td>\n",
       "      <td>0.010156</td>\n",
       "      <td>0.099512</td>\n",
       "      <td>0.011617</td>\n",
       "      <td>100</td>\n",
       "      <td>auto</td>\n",
       "      <td>rbf</td>\n",
       "      <td>{'C': 100, 'gamma': 'auto', 'kernel': 'rbf'}</td>\n",
       "      <td>0.499621</td>\n",
       "      <td>0.497159</td>\n",
       "      <td>0.496970</td>\n",
       "      <td>0.477273</td>\n",
       "      <td>0.494350</td>\n",
       "      <td>0.493075</td>\n",
       "      <td>0.008075</td>\n",
       "      <td>19</td>\n",
       "      <td>NaN</td>\n",
       "      <td>NaN</td>\n",
       "    </tr>\n",
       "    <tr>\n",
       "      <th>16</th>\n",
       "      <td>0.181893</td>\n",
       "      <td>0.011893</td>\n",
       "      <td>0.104014</td>\n",
       "      <td>0.007012</td>\n",
       "      <td>100</td>\n",
       "      <td>scale</td>\n",
       "      <td>rbf</td>\n",
       "      <td>{'C': 100, 'gamma': 'scale', 'kernel': 'rbf'}</td>\n",
       "      <td>0.473674</td>\n",
       "      <td>0.507197</td>\n",
       "      <td>0.521212</td>\n",
       "      <td>0.493182</td>\n",
       "      <td>0.528249</td>\n",
       "      <td>0.504703</td>\n",
       "      <td>0.019640</td>\n",
       "      <td>2</td>\n",
       "      <td>NaN</td>\n",
       "      <td>NaN</td>\n",
       "    </tr>\n",
       "    <tr>\n",
       "      <th>17</th>\n",
       "      <td>0.203360</td>\n",
       "      <td>0.014599</td>\n",
       "      <td>0.096745</td>\n",
       "      <td>0.012082</td>\n",
       "      <td>100</td>\n",
       "      <td>0.01</td>\n",
       "      <td>rbf</td>\n",
       "      <td>{'C': 100, 'gamma': 0.01, 'kernel': 'rbf'}</td>\n",
       "      <td>0.499621</td>\n",
       "      <td>0.497159</td>\n",
       "      <td>0.496970</td>\n",
       "      <td>0.477273</td>\n",
       "      <td>0.494350</td>\n",
       "      <td>0.493075</td>\n",
       "      <td>0.008075</td>\n",
       "      <td>19</td>\n",
       "      <td>NaN</td>\n",
       "      <td>NaN</td>\n",
       "    </tr>\n",
       "    <tr>\n",
       "      <th>18</th>\n",
       "      <td>0.145045</td>\n",
       "      <td>0.006882</td>\n",
       "      <td>0.094704</td>\n",
       "      <td>0.000880</td>\n",
       "      <td>100</td>\n",
       "      <td>0.001</td>\n",
       "      <td>rbf</td>\n",
       "      <td>{'C': 100, 'gamma': 0.001, 'kernel': 'rbf'}</td>\n",
       "      <td>0.500000</td>\n",
       "      <td>0.500000</td>\n",
       "      <td>0.500000</td>\n",
       "      <td>0.500000</td>\n",
       "      <td>0.500000</td>\n",
       "      <td>0.500000</td>\n",
       "      <td>0.000000</td>\n",
       "      <td>3</td>\n",
       "      <td>NaN</td>\n",
       "      <td>NaN</td>\n",
       "    </tr>\n",
       "    <tr>\n",
       "      <th>19</th>\n",
       "      <td>0.087813</td>\n",
       "      <td>0.025571</td>\n",
       "      <td>0.066291</td>\n",
       "      <td>0.025446</td>\n",
       "      <td>100</td>\n",
       "      <td>0.0001</td>\n",
       "      <td>rbf</td>\n",
       "      <td>{'C': 100, 'gamma': 0.0001, 'kernel': 'rbf'}</td>\n",
       "      <td>0.500000</td>\n",
       "      <td>0.500000</td>\n",
       "      <td>0.500000</td>\n",
       "      <td>0.500000</td>\n",
       "      <td>0.500000</td>\n",
       "      <td>0.500000</td>\n",
       "      <td>0.000000</td>\n",
       "      <td>3</td>\n",
       "      <td>NaN</td>\n",
       "      <td>NaN</td>\n",
       "    </tr>\n",
       "    <tr>\n",
       "      <th>20</th>\n",
       "      <td>0.047776</td>\n",
       "      <td>0.006138</td>\n",
       "      <td>0.017882</td>\n",
       "      <td>0.000986</td>\n",
       "      <td>0.5</td>\n",
       "      <td>NaN</td>\n",
       "      <td>linear</td>\n",
       "      <td>{'C': 0.5, 'kernel': 'linear'}</td>\n",
       "      <td>0.500000</td>\n",
       "      <td>0.497159</td>\n",
       "      <td>0.500000</td>\n",
       "      <td>0.500000</td>\n",
       "      <td>0.494350</td>\n",
       "      <td>0.498302</td>\n",
       "      <td>0.002262</td>\n",
       "      <td>1</td>\n",
       "      <td>NaN</td>\n",
       "      <td>NaN</td>\n",
       "    </tr>\n",
       "    <tr>\n",
       "      <th>21</th>\n",
       "      <td>0.058411</td>\n",
       "      <td>0.008032</td>\n",
       "      <td>0.018910</td>\n",
       "      <td>0.003009</td>\n",
       "      <td>1</td>\n",
       "      <td>NaN</td>\n",
       "      <td>linear</td>\n",
       "      <td>{'C': 1, 'kernel': 'linear'}</td>\n",
       "      <td>0.499621</td>\n",
       "      <td>0.497159</td>\n",
       "      <td>0.496970</td>\n",
       "      <td>0.477273</td>\n",
       "      <td>0.494350</td>\n",
       "      <td>0.493075</td>\n",
       "      <td>0.008075</td>\n",
       "      <td>2</td>\n",
       "      <td>NaN</td>\n",
       "      <td>NaN</td>\n",
       "    </tr>\n",
       "    <tr>\n",
       "      <th>22</th>\n",
       "      <td>0.080749</td>\n",
       "      <td>0.014506</td>\n",
       "      <td>0.028778</td>\n",
       "      <td>0.008244</td>\n",
       "      <td>10</td>\n",
       "      <td>NaN</td>\n",
       "      <td>linear</td>\n",
       "      <td>{'C': 10, 'kernel': 'linear'}</td>\n",
       "      <td>0.499621</td>\n",
       "      <td>0.497159</td>\n",
       "      <td>0.496970</td>\n",
       "      <td>0.477273</td>\n",
       "      <td>0.494350</td>\n",
       "      <td>0.493075</td>\n",
       "      <td>0.008075</td>\n",
       "      <td>2</td>\n",
       "      <td>NaN</td>\n",
       "      <td>NaN</td>\n",
       "    </tr>\n",
       "    <tr>\n",
       "      <th>23</th>\n",
       "      <td>0.109807</td>\n",
       "      <td>0.007051</td>\n",
       "      <td>0.013517</td>\n",
       "      <td>0.002524</td>\n",
       "      <td>100</td>\n",
       "      <td>NaN</td>\n",
       "      <td>linear</td>\n",
       "      <td>{'C': 100, 'kernel': 'linear'}</td>\n",
       "      <td>0.499621</td>\n",
       "      <td>0.497159</td>\n",
       "      <td>0.496970</td>\n",
       "      <td>0.477273</td>\n",
       "      <td>0.494350</td>\n",
       "      <td>0.493075</td>\n",
       "      <td>0.008075</td>\n",
       "      <td>2</td>\n",
       "      <td>NaN</td>\n",
       "      <td>NaN</td>\n",
       "    </tr>\n",
       "    <tr>\n",
       "      <th>24</th>\n",
       "      <td>0.088521</td>\n",
       "      <td>0.030630</td>\n",
       "      <td>0.022226</td>\n",
       "      <td>0.004460</td>\n",
       "      <td>0.5</td>\n",
       "      <td>NaN</td>\n",
       "      <td>poly</td>\n",
       "      <td>{'C': 0.5, 'coef0': 0.5, 'degree': 2, 'kernel'...</td>\n",
       "      <td>0.500000</td>\n",
       "      <td>0.497159</td>\n",
       "      <td>0.497159</td>\n",
       "      <td>0.500000</td>\n",
       "      <td>0.494350</td>\n",
       "      <td>0.497734</td>\n",
       "      <td>0.002116</td>\n",
       "      <td>27</td>\n",
       "      <td>0.5</td>\n",
       "      <td>2</td>\n",
       "    </tr>\n",
       "    <tr>\n",
       "      <th>25</th>\n",
       "      <td>0.093995</td>\n",
       "      <td>0.017896</td>\n",
       "      <td>0.027478</td>\n",
       "      <td>0.004587</td>\n",
       "      <td>0.5</td>\n",
       "      <td>NaN</td>\n",
       "      <td>poly</td>\n",
       "      <td>{'C': 0.5, 'coef0': 0.5, 'degree': 3, 'kernel'...</td>\n",
       "      <td>0.493939</td>\n",
       "      <td>0.499811</td>\n",
       "      <td>0.502652</td>\n",
       "      <td>0.474432</td>\n",
       "      <td>0.491525</td>\n",
       "      <td>0.492472</td>\n",
       "      <td>0.009859</td>\n",
       "      <td>36</td>\n",
       "      <td>0.5</td>\n",
       "      <td>3</td>\n",
       "    </tr>\n",
       "    <tr>\n",
       "      <th>26</th>\n",
       "      <td>0.117987</td>\n",
       "      <td>0.027775</td>\n",
       "      <td>0.025291</td>\n",
       "      <td>0.005285</td>\n",
       "      <td>0.5</td>\n",
       "      <td>NaN</td>\n",
       "      <td>poly</td>\n",
       "      <td>{'C': 0.5, 'coef0': 0.5, 'degree': 4, 'kernel'...</td>\n",
       "      <td>0.502273</td>\n",
       "      <td>0.508144</td>\n",
       "      <td>0.493939</td>\n",
       "      <td>0.482765</td>\n",
       "      <td>0.485876</td>\n",
       "      <td>0.494599</td>\n",
       "      <td>0.009580</td>\n",
       "      <td>29</td>\n",
       "      <td>0.5</td>\n",
       "      <td>4</td>\n",
       "    </tr>\n",
       "    <tr>\n",
       "      <th>27</th>\n",
       "      <td>0.131329</td>\n",
       "      <td>0.008233</td>\n",
       "      <td>0.027830</td>\n",
       "      <td>0.004439</td>\n",
       "      <td>0.5</td>\n",
       "      <td>NaN</td>\n",
       "      <td>poly</td>\n",
       "      <td>{'C': 0.5, 'coef0': 1, 'degree': 2, 'kernel': ...</td>\n",
       "      <td>0.499621</td>\n",
       "      <td>0.497159</td>\n",
       "      <td>0.502652</td>\n",
       "      <td>0.477273</td>\n",
       "      <td>0.494350</td>\n",
       "      <td>0.494211</td>\n",
       "      <td>0.008901</td>\n",
       "      <td>30</td>\n",
       "      <td>1</td>\n",
       "      <td>2</td>\n",
       "    </tr>\n",
       "    <tr>\n",
       "      <th>28</th>\n",
       "      <td>0.133563</td>\n",
       "      <td>0.009782</td>\n",
       "      <td>0.029611</td>\n",
       "      <td>0.005706</td>\n",
       "      <td>0.5</td>\n",
       "      <td>NaN</td>\n",
       "      <td>poly</td>\n",
       "      <td>{'C': 0.5, 'coef0': 1, 'degree': 3, 'kernel': ...</td>\n",
       "      <td>0.493939</td>\n",
       "      <td>0.508144</td>\n",
       "      <td>0.502652</td>\n",
       "      <td>0.474432</td>\n",
       "      <td>0.497175</td>\n",
       "      <td>0.495268</td>\n",
       "      <td>0.011488</td>\n",
       "      <td>28</td>\n",
       "      <td>1</td>\n",
       "      <td>3</td>\n",
       "    </tr>\n",
       "    <tr>\n",
       "      <th>29</th>\n",
       "      <td>0.146674</td>\n",
       "      <td>0.011275</td>\n",
       "      <td>0.023071</td>\n",
       "      <td>0.005088</td>\n",
       "      <td>0.5</td>\n",
       "      <td>NaN</td>\n",
       "      <td>poly</td>\n",
       "      <td>{'C': 0.5, 'coef0': 1, 'degree': 4, 'kernel': ...</td>\n",
       "      <td>0.504924</td>\n",
       "      <td>0.527462</td>\n",
       "      <td>0.502083</td>\n",
       "      <td>0.491098</td>\n",
       "      <td>0.519774</td>\n",
       "      <td>0.509068</td>\n",
       "      <td>0.012976</td>\n",
       "      <td>19</td>\n",
       "      <td>1</td>\n",
       "      <td>4</td>\n",
       "    </tr>\n",
       "    <tr>\n",
       "      <th>30</th>\n",
       "      <td>0.149218</td>\n",
       "      <td>0.015311</td>\n",
       "      <td>0.026077</td>\n",
       "      <td>0.008507</td>\n",
       "      <td>0.5</td>\n",
       "      <td>NaN</td>\n",
       "      <td>poly</td>\n",
       "      <td>{'C': 0.5, 'coef0': 5, 'degree': 2, 'kernel': ...</td>\n",
       "      <td>0.499621</td>\n",
       "      <td>0.497159</td>\n",
       "      <td>0.496970</td>\n",
       "      <td>0.477273</td>\n",
       "      <td>0.494350</td>\n",
       "      <td>0.493075</td>\n",
       "      <td>0.008075</td>\n",
       "      <td>32</td>\n",
       "      <td>5</td>\n",
       "      <td>2</td>\n",
       "    </tr>\n",
       "    <tr>\n",
       "      <th>31</th>\n",
       "      <td>0.185191</td>\n",
       "      <td>0.018366</td>\n",
       "      <td>0.024941</td>\n",
       "      <td>0.001708</td>\n",
       "      <td>0.5</td>\n",
       "      <td>NaN</td>\n",
       "      <td>poly</td>\n",
       "      <td>{'C': 0.5, 'coef0': 5, 'degree': 3, 'kernel': ...</td>\n",
       "      <td>0.507765</td>\n",
       "      <td>0.519129</td>\n",
       "      <td>0.513258</td>\n",
       "      <td>0.491098</td>\n",
       "      <td>0.516949</td>\n",
       "      <td>0.509640</td>\n",
       "      <td>0.010038</td>\n",
       "      <td>15</td>\n",
       "      <td>5</td>\n",
       "      <td>3</td>\n",
       "    </tr>\n",
       "    <tr>\n",
       "      <th>32</th>\n",
       "      <td>0.355621</td>\n",
       "      <td>0.045945</td>\n",
       "      <td>0.025533</td>\n",
       "      <td>0.004800</td>\n",
       "      <td>0.5</td>\n",
       "      <td>NaN</td>\n",
       "      <td>poly</td>\n",
       "      <td>{'C': 0.5, 'coef0': 5, 'degree': 4, 'kernel': ...</td>\n",
       "      <td>0.482197</td>\n",
       "      <td>0.504545</td>\n",
       "      <td>0.527083</td>\n",
       "      <td>0.507386</td>\n",
       "      <td>0.539548</td>\n",
       "      <td>0.512152</td>\n",
       "      <td>0.019755</td>\n",
       "      <td>11</td>\n",
       "      <td>5</td>\n",
       "      <td>4</td>\n",
       "    </tr>\n",
       "    <tr>\n",
       "      <th>33</th>\n",
       "      <td>0.117960</td>\n",
       "      <td>0.010747</td>\n",
       "      <td>0.028057</td>\n",
       "      <td>0.004763</td>\n",
       "      <td>1</td>\n",
       "      <td>NaN</td>\n",
       "      <td>poly</td>\n",
       "      <td>{'C': 1, 'coef0': 0.5, 'degree': 2, 'kernel': ...</td>\n",
       "      <td>0.499621</td>\n",
       "      <td>0.497159</td>\n",
       "      <td>0.496970</td>\n",
       "      <td>0.477273</td>\n",
       "      <td>0.491525</td>\n",
       "      <td>0.492510</td>\n",
       "      <td>0.008065</td>\n",
       "      <td>33</td>\n",
       "      <td>0.5</td>\n",
       "      <td>2</td>\n",
       "    </tr>\n",
       "    <tr>\n",
       "      <th>34</th>\n",
       "      <td>0.110692</td>\n",
       "      <td>0.008022</td>\n",
       "      <td>0.031274</td>\n",
       "      <td>0.006718</td>\n",
       "      <td>1</td>\n",
       "      <td>NaN</td>\n",
       "      <td>poly</td>\n",
       "      <td>{'C': 1, 'coef0': 0.5, 'degree': 3, 'kernel': ...</td>\n",
       "      <td>0.493939</td>\n",
       "      <td>0.505303</td>\n",
       "      <td>0.505114</td>\n",
       "      <td>0.474432</td>\n",
       "      <td>0.491525</td>\n",
       "      <td>0.494063</td>\n",
       "      <td>0.011316</td>\n",
       "      <td>31</td>\n",
       "      <td>0.5</td>\n",
       "      <td>3</td>\n",
       "    </tr>\n",
       "    <tr>\n",
       "      <th>35</th>\n",
       "      <td>0.132286</td>\n",
       "      <td>0.013483</td>\n",
       "      <td>0.021019</td>\n",
       "      <td>0.002941</td>\n",
       "      <td>1</td>\n",
       "      <td>NaN</td>\n",
       "      <td>poly</td>\n",
       "      <td>{'C': 1, 'coef0': 0.5, 'degree': 4, 'kernel': ...</td>\n",
       "      <td>0.504924</td>\n",
       "      <td>0.530303</td>\n",
       "      <td>0.490909</td>\n",
       "      <td>0.482765</td>\n",
       "      <td>0.528249</td>\n",
       "      <td>0.507430</td>\n",
       "      <td>0.019205</td>\n",
       "      <td>20</td>\n",
       "      <td>0.5</td>\n",
       "      <td>4</td>\n",
       "    </tr>\n",
       "    <tr>\n",
       "      <th>36</th>\n",
       "      <td>0.118771</td>\n",
       "      <td>0.003163</td>\n",
       "      <td>0.025609</td>\n",
       "      <td>0.006388</td>\n",
       "      <td>1</td>\n",
       "      <td>NaN</td>\n",
       "      <td>poly</td>\n",
       "      <td>{'C': 1, 'coef0': 1, 'degree': 2, 'kernel': 'p...</td>\n",
       "      <td>0.499621</td>\n",
       "      <td>0.497159</td>\n",
       "      <td>0.496970</td>\n",
       "      <td>0.477273</td>\n",
       "      <td>0.491525</td>\n",
       "      <td>0.492510</td>\n",
       "      <td>0.008065</td>\n",
       "      <td>33</td>\n",
       "      <td>1</td>\n",
       "      <td>2</td>\n",
       "    </tr>\n",
       "    <tr>\n",
       "      <th>37</th>\n",
       "      <td>0.119108</td>\n",
       "      <td>0.005563</td>\n",
       "      <td>0.025921</td>\n",
       "      <td>0.003361</td>\n",
       "      <td>1</td>\n",
       "      <td>NaN</td>\n",
       "      <td>poly</td>\n",
       "      <td>{'C': 1, 'coef0': 1, 'degree': 3, 'kernel': 'p...</td>\n",
       "      <td>0.510606</td>\n",
       "      <td>0.510795</td>\n",
       "      <td>0.499432</td>\n",
       "      <td>0.482765</td>\n",
       "      <td>0.505650</td>\n",
       "      <td>0.501850</td>\n",
       "      <td>0.010404</td>\n",
       "      <td>26</td>\n",
       "      <td>1</td>\n",
       "      <td>3</td>\n",
       "    </tr>\n",
       "    <tr>\n",
       "      <th>38</th>\n",
       "      <td>0.141966</td>\n",
       "      <td>0.008398</td>\n",
       "      <td>0.024119</td>\n",
       "      <td>0.005517</td>\n",
       "      <td>1</td>\n",
       "      <td>NaN</td>\n",
       "      <td>poly</td>\n",
       "      <td>{'C': 1, 'coef0': 1, 'degree': 4, 'kernel': 'p...</td>\n",
       "      <td>0.504924</td>\n",
       "      <td>0.524621</td>\n",
       "      <td>0.510417</td>\n",
       "      <td>0.496591</td>\n",
       "      <td>0.522599</td>\n",
       "      <td>0.511830</td>\n",
       "      <td>0.010597</td>\n",
       "      <td>12</td>\n",
       "      <td>1</td>\n",
       "      <td>4</td>\n",
       "    </tr>\n",
       "    <tr>\n",
       "      <th>39</th>\n",
       "      <td>0.134412</td>\n",
       "      <td>0.008882</td>\n",
       "      <td>0.026885</td>\n",
       "      <td>0.005022</td>\n",
       "      <td>1</td>\n",
       "      <td>NaN</td>\n",
       "      <td>poly</td>\n",
       "      <td>{'C': 1, 'coef0': 5, 'degree': 2, 'kernel': 'p...</td>\n",
       "      <td>0.499621</td>\n",
       "      <td>0.497159</td>\n",
       "      <td>0.496970</td>\n",
       "      <td>0.477273</td>\n",
       "      <td>0.491525</td>\n",
       "      <td>0.492510</td>\n",
       "      <td>0.008065</td>\n",
       "      <td>33</td>\n",
       "      <td>5</td>\n",
       "      <td>2</td>\n",
       "    </tr>\n",
       "    <tr>\n",
       "      <th>40</th>\n",
       "      <td>0.214900</td>\n",
       "      <td>0.038729</td>\n",
       "      <td>0.022260</td>\n",
       "      <td>0.002462</td>\n",
       "      <td>1</td>\n",
       "      <td>NaN</td>\n",
       "      <td>poly</td>\n",
       "      <td>{'C': 1, 'coef0': 5, 'degree': 3, 'kernel': 'p...</td>\n",
       "      <td>0.504924</td>\n",
       "      <td>0.510606</td>\n",
       "      <td>0.513258</td>\n",
       "      <td>0.488258</td>\n",
       "      <td>0.516949</td>\n",
       "      <td>0.506799</td>\n",
       "      <td>0.010065</td>\n",
       "      <td>21</td>\n",
       "      <td>5</td>\n",
       "      <td>3</td>\n",
       "    </tr>\n",
       "    <tr>\n",
       "      <th>41</th>\n",
       "      <td>0.507958</td>\n",
       "      <td>0.066704</td>\n",
       "      <td>0.028067</td>\n",
       "      <td>0.007133</td>\n",
       "      <td>1</td>\n",
       "      <td>NaN</td>\n",
       "      <td>poly</td>\n",
       "      <td>{'C': 1, 'coef0': 5, 'degree': 4, 'kernel': 'p...</td>\n",
       "      <td>0.498485</td>\n",
       "      <td>0.510038</td>\n",
       "      <td>0.540909</td>\n",
       "      <td>0.496023</td>\n",
       "      <td>0.533898</td>\n",
       "      <td>0.515871</td>\n",
       "      <td>0.018342</td>\n",
       "      <td>6</td>\n",
       "      <td>5</td>\n",
       "      <td>4</td>\n",
       "    </tr>\n",
       "    <tr>\n",
       "      <th>42</th>\n",
       "      <td>0.141644</td>\n",
       "      <td>0.011828</td>\n",
       "      <td>0.024885</td>\n",
       "      <td>0.006412</td>\n",
       "      <td>10</td>\n",
       "      <td>NaN</td>\n",
       "      <td>poly</td>\n",
       "      <td>{'C': 10, 'coef0': 0.5, 'degree': 2, 'kernel':...</td>\n",
       "      <td>0.507765</td>\n",
       "      <td>0.516288</td>\n",
       "      <td>0.502083</td>\n",
       "      <td>0.482765</td>\n",
       "      <td>0.519774</td>\n",
       "      <td>0.505735</td>\n",
       "      <td>0.013065</td>\n",
       "      <td>24</td>\n",
       "      <td>0.5</td>\n",
       "      <td>2</td>\n",
       "    </tr>\n",
       "    <tr>\n",
       "      <th>43</th>\n",
       "      <td>0.168417</td>\n",
       "      <td>0.022080</td>\n",
       "      <td>0.025615</td>\n",
       "      <td>0.004044</td>\n",
       "      <td>10</td>\n",
       "      <td>NaN</td>\n",
       "      <td>poly</td>\n",
       "      <td>{'C': 10, 'coef0': 0.5, 'degree': 3, 'kernel':...</td>\n",
       "      <td>0.496402</td>\n",
       "      <td>0.515909</td>\n",
       "      <td>0.507576</td>\n",
       "      <td>0.488068</td>\n",
       "      <td>0.522599</td>\n",
       "      <td>0.506111</td>\n",
       "      <td>0.012568</td>\n",
       "      <td>23</td>\n",
       "      <td>0.5</td>\n",
       "      <td>3</td>\n",
       "    </tr>\n",
       "    <tr>\n",
       "      <th>44</th>\n",
       "      <td>0.188669</td>\n",
       "      <td>0.016061</td>\n",
       "      <td>0.024680</td>\n",
       "      <td>0.001741</td>\n",
       "      <td>10</td>\n",
       "      <td>NaN</td>\n",
       "      <td>poly</td>\n",
       "      <td>{'C': 10, 'coef0': 0.5, 'degree': 4, 'kernel':...</td>\n",
       "      <td>0.487689</td>\n",
       "      <td>0.501705</td>\n",
       "      <td>0.518561</td>\n",
       "      <td>0.510227</td>\n",
       "      <td>0.528249</td>\n",
       "      <td>0.509286</td>\n",
       "      <td>0.013931</td>\n",
       "      <td>18</td>\n",
       "      <td>0.5</td>\n",
       "      <td>4</td>\n",
       "    </tr>\n",
       "    <tr>\n",
       "      <th>45</th>\n",
       "      <td>0.166244</td>\n",
       "      <td>0.010877</td>\n",
       "      <td>0.024890</td>\n",
       "      <td>0.004294</td>\n",
       "      <td>10</td>\n",
       "      <td>NaN</td>\n",
       "      <td>poly</td>\n",
       "      <td>{'C': 10, 'coef0': 1, 'degree': 2, 'kernel': '...</td>\n",
       "      <td>0.507765</td>\n",
       "      <td>0.516288</td>\n",
       "      <td>0.502083</td>\n",
       "      <td>0.482765</td>\n",
       "      <td>0.519774</td>\n",
       "      <td>0.505735</td>\n",
       "      <td>0.013065</td>\n",
       "      <td>24</td>\n",
       "      <td>1</td>\n",
       "      <td>2</td>\n",
       "    </tr>\n",
       "    <tr>\n",
       "      <th>46</th>\n",
       "      <td>0.215577</td>\n",
       "      <td>0.038196</td>\n",
       "      <td>0.027581</td>\n",
       "      <td>0.007606</td>\n",
       "      <td>10</td>\n",
       "      <td>NaN</td>\n",
       "      <td>poly</td>\n",
       "      <td>{'C': 10, 'coef0': 1, 'degree': 3, 'kernel': '...</td>\n",
       "      <td>0.496402</td>\n",
       "      <td>0.513068</td>\n",
       "      <td>0.518750</td>\n",
       "      <td>0.488068</td>\n",
       "      <td>0.531073</td>\n",
       "      <td>0.509472</td>\n",
       "      <td>0.015457</td>\n",
       "      <td>16</td>\n",
       "      <td>1</td>\n",
       "      <td>3</td>\n",
       "    </tr>\n",
       "    <tr>\n",
       "      <th>47</th>\n",
       "      <td>0.275577</td>\n",
       "      <td>0.029448</td>\n",
       "      <td>0.026621</td>\n",
       "      <td>0.003607</td>\n",
       "      <td>10</td>\n",
       "      <td>NaN</td>\n",
       "      <td>poly</td>\n",
       "      <td>{'C': 10, 'coef0': 1, 'degree': 4, 'kernel': '...</td>\n",
       "      <td>0.503977</td>\n",
       "      <td>0.501705</td>\n",
       "      <td>0.518371</td>\n",
       "      <td>0.501705</td>\n",
       "      <td>0.550847</td>\n",
       "      <td>0.515321</td>\n",
       "      <td>0.018820</td>\n",
       "      <td>7</td>\n",
       "      <td>1</td>\n",
       "      <td>4</td>\n",
       "    </tr>\n",
       "    <tr>\n",
       "      <th>48</th>\n",
       "      <td>0.243978</td>\n",
       "      <td>0.023015</td>\n",
       "      <td>0.026708</td>\n",
       "      <td>0.004706</td>\n",
       "      <td>10</td>\n",
       "      <td>NaN</td>\n",
       "      <td>poly</td>\n",
       "      <td>{'C': 10, 'coef0': 5, 'degree': 2, 'kernel': '...</td>\n",
       "      <td>0.507765</td>\n",
       "      <td>0.516288</td>\n",
       "      <td>0.504924</td>\n",
       "      <td>0.491098</td>\n",
       "      <td>0.511299</td>\n",
       "      <td>0.506275</td>\n",
       "      <td>0.008484</td>\n",
       "      <td>22</td>\n",
       "      <td>5</td>\n",
       "      <td>2</td>\n",
       "    </tr>\n",
       "    <tr>\n",
       "      <th>49</th>\n",
       "      <td>0.648391</td>\n",
       "      <td>0.121703</td>\n",
       "      <td>0.027189</td>\n",
       "      <td>0.004741</td>\n",
       "      <td>10</td>\n",
       "      <td>NaN</td>\n",
       "      <td>poly</td>\n",
       "      <td>{'C': 10, 'coef0': 5, 'degree': 3, 'kernel': '...</td>\n",
       "      <td>0.495833</td>\n",
       "      <td>0.512879</td>\n",
       "      <td>0.521402</td>\n",
       "      <td>0.507197</td>\n",
       "      <td>0.533898</td>\n",
       "      <td>0.514242</td>\n",
       "      <td>0.012869</td>\n",
       "      <td>9</td>\n",
       "      <td>5</td>\n",
       "      <td>3</td>\n",
       "    </tr>\n",
       "    <tr>\n",
       "      <th>50</th>\n",
       "      <td>2.660924</td>\n",
       "      <td>0.440128</td>\n",
       "      <td>0.023960</td>\n",
       "      <td>0.002637</td>\n",
       "      <td>10</td>\n",
       "      <td>NaN</td>\n",
       "      <td>poly</td>\n",
       "      <td>{'C': 10, 'coef0': 5, 'degree': 4, 'kernel': '...</td>\n",
       "      <td>0.514583</td>\n",
       "      <td>0.532008</td>\n",
       "      <td>0.523295</td>\n",
       "      <td>0.503788</td>\n",
       "      <td>0.564972</td>\n",
       "      <td>0.527729</td>\n",
       "      <td>0.020837</td>\n",
       "      <td>3</td>\n",
       "      <td>5</td>\n",
       "      <td>4</td>\n",
       "    </tr>\n",
       "    <tr>\n",
       "      <th>51</th>\n",
       "      <td>0.367542</td>\n",
       "      <td>0.049427</td>\n",
       "      <td>0.023382</td>\n",
       "      <td>0.003426</td>\n",
       "      <td>100</td>\n",
       "      <td>NaN</td>\n",
       "      <td>poly</td>\n",
       "      <td>{'C': 100, 'coef0': 0.5, 'degree': 2, 'kernel'...</td>\n",
       "      <td>0.485038</td>\n",
       "      <td>0.504545</td>\n",
       "      <td>0.524053</td>\n",
       "      <td>0.499242</td>\n",
       "      <td>0.533898</td>\n",
       "      <td>0.509355</td>\n",
       "      <td>0.017522</td>\n",
       "      <td>17</td>\n",
       "      <td>0.5</td>\n",
       "      <td>2</td>\n",
       "    </tr>\n",
       "    <tr>\n",
       "      <th>52</th>\n",
       "      <td>0.365867</td>\n",
       "      <td>0.047430</td>\n",
       "      <td>0.024034</td>\n",
       "      <td>0.004033</td>\n",
       "      <td>100</td>\n",
       "      <td>NaN</td>\n",
       "      <td>poly</td>\n",
       "      <td>{'C': 100, 'coef0': 0.5, 'degree': 3, 'kernel'...</td>\n",
       "      <td>0.520644</td>\n",
       "      <td>0.510038</td>\n",
       "      <td>0.521023</td>\n",
       "      <td>0.509848</td>\n",
       "      <td>0.559322</td>\n",
       "      <td>0.524175</td>\n",
       "      <td>0.018236</td>\n",
       "      <td>4</td>\n",
       "      <td>0.5</td>\n",
       "      <td>3</td>\n",
       "    </tr>\n",
       "    <tr>\n",
       "      <th>53</th>\n",
       "      <td>0.542611</td>\n",
       "      <td>0.090117</td>\n",
       "      <td>0.031827</td>\n",
       "      <td>0.005638</td>\n",
       "      <td>100</td>\n",
       "      <td>NaN</td>\n",
       "      <td>poly</td>\n",
       "      <td>{'C': 100, 'coef0': 0.5, 'degree': 4, 'kernel'...</td>\n",
       "      <td>0.514773</td>\n",
       "      <td>0.523674</td>\n",
       "      <td>0.512121</td>\n",
       "      <td>0.478788</td>\n",
       "      <td>0.539548</td>\n",
       "      <td>0.513781</td>\n",
       "      <td>0.019950</td>\n",
       "      <td>10</td>\n",
       "      <td>0.5</td>\n",
       "      <td>4</td>\n",
       "    </tr>\n",
       "    <tr>\n",
       "      <th>54</th>\n",
       "      <td>0.472224</td>\n",
       "      <td>0.136278</td>\n",
       "      <td>0.024841</td>\n",
       "      <td>0.005058</td>\n",
       "      <td>100</td>\n",
       "      <td>NaN</td>\n",
       "      <td>poly</td>\n",
       "      <td>{'C': 100, 'coef0': 1, 'degree': 2, 'kernel': ...</td>\n",
       "      <td>0.485038</td>\n",
       "      <td>0.504545</td>\n",
       "      <td>0.529735</td>\n",
       "      <td>0.496402</td>\n",
       "      <td>0.533898</td>\n",
       "      <td>0.509924</td>\n",
       "      <td>0.018965</td>\n",
       "      <td>14</td>\n",
       "      <td>1</td>\n",
       "      <td>2</td>\n",
       "    </tr>\n",
       "    <tr>\n",
       "      <th>55</th>\n",
       "      <td>0.540095</td>\n",
       "      <td>0.060072</td>\n",
       "      <td>0.030640</td>\n",
       "      <td>0.010949</td>\n",
       "      <td>100</td>\n",
       "      <td>NaN</td>\n",
       "      <td>poly</td>\n",
       "      <td>{'C': 100, 'coef0': 1, 'degree': 3, 'kernel': ...</td>\n",
       "      <td>0.523295</td>\n",
       "      <td>0.507197</td>\n",
       "      <td>0.495644</td>\n",
       "      <td>0.498485</td>\n",
       "      <td>0.548023</td>\n",
       "      <td>0.514529</td>\n",
       "      <td>0.019321</td>\n",
       "      <td>8</td>\n",
       "      <td>1</td>\n",
       "      <td>3</td>\n",
       "    </tr>\n",
       "    <tr>\n",
       "      <th>56</th>\n",
       "      <td>0.983492</td>\n",
       "      <td>0.258224</td>\n",
       "      <td>0.031179</td>\n",
       "      <td>0.009472</td>\n",
       "      <td>100</td>\n",
       "      <td>NaN</td>\n",
       "      <td>poly</td>\n",
       "      <td>{'C': 100, 'coef0': 1, 'degree': 4, 'kernel': ...</td>\n",
       "      <td>0.531250</td>\n",
       "      <td>0.526515</td>\n",
       "      <td>0.506439</td>\n",
       "      <td>0.500947</td>\n",
       "      <td>0.531073</td>\n",
       "      <td>0.519245</td>\n",
       "      <td>0.012928</td>\n",
       "      <td>5</td>\n",
       "      <td>1</td>\n",
       "      <td>4</td>\n",
       "    </tr>\n",
       "    <tr>\n",
       "      <th>57</th>\n",
       "      <td>1.242907</td>\n",
       "      <td>0.388460</td>\n",
       "      <td>0.033038</td>\n",
       "      <td>0.012405</td>\n",
       "      <td>100</td>\n",
       "      <td>NaN</td>\n",
       "      <td>poly</td>\n",
       "      <td>{'C': 100, 'coef0': 5, 'degree': 2, 'kernel': ...</td>\n",
       "      <td>0.482197</td>\n",
       "      <td>0.504545</td>\n",
       "      <td>0.529735</td>\n",
       "      <td>0.496402</td>\n",
       "      <td>0.539548</td>\n",
       "      <td>0.510485</td>\n",
       "      <td>0.021209</td>\n",
       "      <td>13</td>\n",
       "      <td>5</td>\n",
       "      <td>2</td>\n",
       "    </tr>\n",
       "    <tr>\n",
       "      <th>58</th>\n",
       "      <td>3.729711</td>\n",
       "      <td>0.397691</td>\n",
       "      <td>0.017053</td>\n",
       "      <td>0.003051</td>\n",
       "      <td>100</td>\n",
       "      <td>NaN</td>\n",
       "      <td>poly</td>\n",
       "      <td>{'C': 100, 'coef0': 5, 'degree': 3, 'kernel': ...</td>\n",
       "      <td>0.528788</td>\n",
       "      <td>0.523674</td>\n",
       "      <td>0.514962</td>\n",
       "      <td>0.509470</td>\n",
       "      <td>0.562147</td>\n",
       "      <td>0.527808</td>\n",
       "      <td>0.018431</td>\n",
       "      <td>2</td>\n",
       "      <td>5</td>\n",
       "      <td>3</td>\n",
       "    </tr>\n",
       "    <tr>\n",
       "      <th>59</th>\n",
       "      <td>8.918959</td>\n",
       "      <td>1.305963</td>\n",
       "      <td>0.011098</td>\n",
       "      <td>0.002550</td>\n",
       "      <td>100</td>\n",
       "      <td>NaN</td>\n",
       "      <td>poly</td>\n",
       "      <td>{'C': 100, 'coef0': 5, 'degree': 4, 'kernel': ...</td>\n",
       "      <td>0.525758</td>\n",
       "      <td>0.565152</td>\n",
       "      <td>0.514962</td>\n",
       "      <td>0.506250</td>\n",
       "      <td>0.556497</td>\n",
       "      <td>0.533724</td>\n",
       "      <td>0.023137</td>\n",
       "      <td>1</td>\n",
       "      <td>5</td>\n",
       "      <td>4</td>\n",
       "    </tr>\n",
       "  </tbody>\n",
       "</table>\n",
       "</div>"
      ],
      "text/plain": [
       "    mean_fit_time  std_fit_time  mean_score_time  std_score_time param_C   \n",
       "0        0.149385      0.017917         0.114074        0.014798     0.5  \\\n",
       "1        0.146281      0.014873         0.092659        0.010168     0.5   \n",
       "2        0.090047      0.010131         0.093123        0.004821     0.5   \n",
       "3        0.088208      0.008466         0.080050        0.005552     0.5   \n",
       "4        0.079076      0.006827         0.080452        0.003627     0.5   \n",
       "5        0.105468      0.003940         0.092402        0.004420       1   \n",
       "6        0.125181      0.006894         0.096022        0.008877       1   \n",
       "7        0.096763      0.005311         0.086377        0.007161       1   \n",
       "8        0.078800      0.006093         0.080873        0.008452       1   \n",
       "9        0.077611      0.006061         0.083698        0.004297       1   \n",
       "10       0.136183      0.009736         0.103190        0.007469      10   \n",
       "11       0.158776      0.005471         0.097678        0.006275      10   \n",
       "12       0.130981      0.005327         0.103909        0.005299      10   \n",
       "13       0.099029      0.002734         0.093950        0.008356      10   \n",
       "14       0.087130      0.004750         0.085247        0.003027      10   \n",
       "15       0.178669      0.010156         0.099512        0.011617     100   \n",
       "16       0.181893      0.011893         0.104014        0.007012     100   \n",
       "17       0.203360      0.014599         0.096745        0.012082     100   \n",
       "18       0.145045      0.006882         0.094704        0.000880     100   \n",
       "19       0.087813      0.025571         0.066291        0.025446     100   \n",
       "20       0.047776      0.006138         0.017882        0.000986     0.5   \n",
       "21       0.058411      0.008032         0.018910        0.003009       1   \n",
       "22       0.080749      0.014506         0.028778        0.008244      10   \n",
       "23       0.109807      0.007051         0.013517        0.002524     100   \n",
       "24       0.088521      0.030630         0.022226        0.004460     0.5   \n",
       "25       0.093995      0.017896         0.027478        0.004587     0.5   \n",
       "26       0.117987      0.027775         0.025291        0.005285     0.5   \n",
       "27       0.131329      0.008233         0.027830        0.004439     0.5   \n",
       "28       0.133563      0.009782         0.029611        0.005706     0.5   \n",
       "29       0.146674      0.011275         0.023071        0.005088     0.5   \n",
       "30       0.149218      0.015311         0.026077        0.008507     0.5   \n",
       "31       0.185191      0.018366         0.024941        0.001708     0.5   \n",
       "32       0.355621      0.045945         0.025533        0.004800     0.5   \n",
       "33       0.117960      0.010747         0.028057        0.004763       1   \n",
       "34       0.110692      0.008022         0.031274        0.006718       1   \n",
       "35       0.132286      0.013483         0.021019        0.002941       1   \n",
       "36       0.118771      0.003163         0.025609        0.006388       1   \n",
       "37       0.119108      0.005563         0.025921        0.003361       1   \n",
       "38       0.141966      0.008398         0.024119        0.005517       1   \n",
       "39       0.134412      0.008882         0.026885        0.005022       1   \n",
       "40       0.214900      0.038729         0.022260        0.002462       1   \n",
       "41       0.507958      0.066704         0.028067        0.007133       1   \n",
       "42       0.141644      0.011828         0.024885        0.006412      10   \n",
       "43       0.168417      0.022080         0.025615        0.004044      10   \n",
       "44       0.188669      0.016061         0.024680        0.001741      10   \n",
       "45       0.166244      0.010877         0.024890        0.004294      10   \n",
       "46       0.215577      0.038196         0.027581        0.007606      10   \n",
       "47       0.275577      0.029448         0.026621        0.003607      10   \n",
       "48       0.243978      0.023015         0.026708        0.004706      10   \n",
       "49       0.648391      0.121703         0.027189        0.004741      10   \n",
       "50       2.660924      0.440128         0.023960        0.002637      10   \n",
       "51       0.367542      0.049427         0.023382        0.003426     100   \n",
       "52       0.365867      0.047430         0.024034        0.004033     100   \n",
       "53       0.542611      0.090117         0.031827        0.005638     100   \n",
       "54       0.472224      0.136278         0.024841        0.005058     100   \n",
       "55       0.540095      0.060072         0.030640        0.010949     100   \n",
       "56       0.983492      0.258224         0.031179        0.009472     100   \n",
       "57       1.242907      0.388460         0.033038        0.012405     100   \n",
       "58       3.729711      0.397691         0.017053        0.003051     100   \n",
       "59       8.918959      1.305963         0.011098        0.002550     100   \n",
       "\n",
       "   param_gamma param_kernel   \n",
       "0         auto          rbf  \\\n",
       "1        scale          rbf   \n",
       "2         0.01          rbf   \n",
       "3        0.001          rbf   \n",
       "4       0.0001          rbf   \n",
       "5         auto          rbf   \n",
       "6        scale          rbf   \n",
       "7         0.01          rbf   \n",
       "8        0.001          rbf   \n",
       "9       0.0001          rbf   \n",
       "10        auto          rbf   \n",
       "11       scale          rbf   \n",
       "12        0.01          rbf   \n",
       "13       0.001          rbf   \n",
       "14      0.0001          rbf   \n",
       "15        auto          rbf   \n",
       "16       scale          rbf   \n",
       "17        0.01          rbf   \n",
       "18       0.001          rbf   \n",
       "19      0.0001          rbf   \n",
       "20         NaN       linear   \n",
       "21         NaN       linear   \n",
       "22         NaN       linear   \n",
       "23         NaN       linear   \n",
       "24         NaN         poly   \n",
       "25         NaN         poly   \n",
       "26         NaN         poly   \n",
       "27         NaN         poly   \n",
       "28         NaN         poly   \n",
       "29         NaN         poly   \n",
       "30         NaN         poly   \n",
       "31         NaN         poly   \n",
       "32         NaN         poly   \n",
       "33         NaN         poly   \n",
       "34         NaN         poly   \n",
       "35         NaN         poly   \n",
       "36         NaN         poly   \n",
       "37         NaN         poly   \n",
       "38         NaN         poly   \n",
       "39         NaN         poly   \n",
       "40         NaN         poly   \n",
       "41         NaN         poly   \n",
       "42         NaN         poly   \n",
       "43         NaN         poly   \n",
       "44         NaN         poly   \n",
       "45         NaN         poly   \n",
       "46         NaN         poly   \n",
       "47         NaN         poly   \n",
       "48         NaN         poly   \n",
       "49         NaN         poly   \n",
       "50         NaN         poly   \n",
       "51         NaN         poly   \n",
       "52         NaN         poly   \n",
       "53         NaN         poly   \n",
       "54         NaN         poly   \n",
       "55         NaN         poly   \n",
       "56         NaN         poly   \n",
       "57         NaN         poly   \n",
       "58         NaN         poly   \n",
       "59         NaN         poly   \n",
       "\n",
       "                                               params  split0_test_score   \n",
       "0        {'C': 0.5, 'gamma': 'auto', 'kernel': 'rbf'}           0.500000  \\\n",
       "1       {'C': 0.5, 'gamma': 'scale', 'kernel': 'rbf'}           0.500000   \n",
       "2          {'C': 0.5, 'gamma': 0.01, 'kernel': 'rbf'}           0.500000   \n",
       "3         {'C': 0.5, 'gamma': 0.001, 'kernel': 'rbf'}           0.500000   \n",
       "4        {'C': 0.5, 'gamma': 0.0001, 'kernel': 'rbf'}           0.500000   \n",
       "5          {'C': 1, 'gamma': 'auto', 'kernel': 'rbf'}           0.500000   \n",
       "6         {'C': 1, 'gamma': 'scale', 'kernel': 'rbf'}           0.500000   \n",
       "7            {'C': 1, 'gamma': 0.01, 'kernel': 'rbf'}           0.500000   \n",
       "8           {'C': 1, 'gamma': 0.001, 'kernel': 'rbf'}           0.500000   \n",
       "9          {'C': 1, 'gamma': 0.0001, 'kernel': 'rbf'}           0.500000   \n",
       "10        {'C': 10, 'gamma': 'auto', 'kernel': 'rbf'}           0.500000   \n",
       "11       {'C': 10, 'gamma': 'scale', 'kernel': 'rbf'}           0.502083   \n",
       "12          {'C': 10, 'gamma': 0.01, 'kernel': 'rbf'}           0.500000   \n",
       "13         {'C': 10, 'gamma': 0.001, 'kernel': 'rbf'}           0.500000   \n",
       "14        {'C': 10, 'gamma': 0.0001, 'kernel': 'rbf'}           0.500000   \n",
       "15       {'C': 100, 'gamma': 'auto', 'kernel': 'rbf'}           0.499621   \n",
       "16      {'C': 100, 'gamma': 'scale', 'kernel': 'rbf'}           0.473674   \n",
       "17         {'C': 100, 'gamma': 0.01, 'kernel': 'rbf'}           0.499621   \n",
       "18        {'C': 100, 'gamma': 0.001, 'kernel': 'rbf'}           0.500000   \n",
       "19       {'C': 100, 'gamma': 0.0001, 'kernel': 'rbf'}           0.500000   \n",
       "20                     {'C': 0.5, 'kernel': 'linear'}           0.500000   \n",
       "21                       {'C': 1, 'kernel': 'linear'}           0.499621   \n",
       "22                      {'C': 10, 'kernel': 'linear'}           0.499621   \n",
       "23                     {'C': 100, 'kernel': 'linear'}           0.499621   \n",
       "24  {'C': 0.5, 'coef0': 0.5, 'degree': 2, 'kernel'...           0.500000   \n",
       "25  {'C': 0.5, 'coef0': 0.5, 'degree': 3, 'kernel'...           0.493939   \n",
       "26  {'C': 0.5, 'coef0': 0.5, 'degree': 4, 'kernel'...           0.502273   \n",
       "27  {'C': 0.5, 'coef0': 1, 'degree': 2, 'kernel': ...           0.499621   \n",
       "28  {'C': 0.5, 'coef0': 1, 'degree': 3, 'kernel': ...           0.493939   \n",
       "29  {'C': 0.5, 'coef0': 1, 'degree': 4, 'kernel': ...           0.504924   \n",
       "30  {'C': 0.5, 'coef0': 5, 'degree': 2, 'kernel': ...           0.499621   \n",
       "31  {'C': 0.5, 'coef0': 5, 'degree': 3, 'kernel': ...           0.507765   \n",
       "32  {'C': 0.5, 'coef0': 5, 'degree': 4, 'kernel': ...           0.482197   \n",
       "33  {'C': 1, 'coef0': 0.5, 'degree': 2, 'kernel': ...           0.499621   \n",
       "34  {'C': 1, 'coef0': 0.5, 'degree': 3, 'kernel': ...           0.493939   \n",
       "35  {'C': 1, 'coef0': 0.5, 'degree': 4, 'kernel': ...           0.504924   \n",
       "36  {'C': 1, 'coef0': 1, 'degree': 2, 'kernel': 'p...           0.499621   \n",
       "37  {'C': 1, 'coef0': 1, 'degree': 3, 'kernel': 'p...           0.510606   \n",
       "38  {'C': 1, 'coef0': 1, 'degree': 4, 'kernel': 'p...           0.504924   \n",
       "39  {'C': 1, 'coef0': 5, 'degree': 2, 'kernel': 'p...           0.499621   \n",
       "40  {'C': 1, 'coef0': 5, 'degree': 3, 'kernel': 'p...           0.504924   \n",
       "41  {'C': 1, 'coef0': 5, 'degree': 4, 'kernel': 'p...           0.498485   \n",
       "42  {'C': 10, 'coef0': 0.5, 'degree': 2, 'kernel':...           0.507765   \n",
       "43  {'C': 10, 'coef0': 0.5, 'degree': 3, 'kernel':...           0.496402   \n",
       "44  {'C': 10, 'coef0': 0.5, 'degree': 4, 'kernel':...           0.487689   \n",
       "45  {'C': 10, 'coef0': 1, 'degree': 2, 'kernel': '...           0.507765   \n",
       "46  {'C': 10, 'coef0': 1, 'degree': 3, 'kernel': '...           0.496402   \n",
       "47  {'C': 10, 'coef0': 1, 'degree': 4, 'kernel': '...           0.503977   \n",
       "48  {'C': 10, 'coef0': 5, 'degree': 2, 'kernel': '...           0.507765   \n",
       "49  {'C': 10, 'coef0': 5, 'degree': 3, 'kernel': '...           0.495833   \n",
       "50  {'C': 10, 'coef0': 5, 'degree': 4, 'kernel': '...           0.514583   \n",
       "51  {'C': 100, 'coef0': 0.5, 'degree': 2, 'kernel'...           0.485038   \n",
       "52  {'C': 100, 'coef0': 0.5, 'degree': 3, 'kernel'...           0.520644   \n",
       "53  {'C': 100, 'coef0': 0.5, 'degree': 4, 'kernel'...           0.514773   \n",
       "54  {'C': 100, 'coef0': 1, 'degree': 2, 'kernel': ...           0.485038   \n",
       "55  {'C': 100, 'coef0': 1, 'degree': 3, 'kernel': ...           0.523295   \n",
       "56  {'C': 100, 'coef0': 1, 'degree': 4, 'kernel': ...           0.531250   \n",
       "57  {'C': 100, 'coef0': 5, 'degree': 2, 'kernel': ...           0.482197   \n",
       "58  {'C': 100, 'coef0': 5, 'degree': 3, 'kernel': ...           0.528788   \n",
       "59  {'C': 100, 'coef0': 5, 'degree': 4, 'kernel': ...           0.525758   \n",
       "\n",
       "    split1_test_score  split2_test_score  split3_test_score   \n",
       "0            0.500000           0.500000           0.500000  \\\n",
       "1            0.500000           0.500000           0.500000   \n",
       "2            0.500000           0.500000           0.500000   \n",
       "3            0.500000           0.500000           0.500000   \n",
       "4            0.500000           0.500000           0.500000   \n",
       "5            0.500000           0.500000           0.500000   \n",
       "6            0.497159           0.500000           0.497159   \n",
       "7            0.500000           0.500000           0.500000   \n",
       "8            0.500000           0.500000           0.500000   \n",
       "9            0.500000           0.500000           0.500000   \n",
       "10           0.500000           0.500000           0.500000   \n",
       "11           0.516288           0.521780           0.479924   \n",
       "12           0.500000           0.500000           0.500000   \n",
       "13           0.500000           0.500000           0.500000   \n",
       "14           0.500000           0.500000           0.500000   \n",
       "15           0.497159           0.496970           0.477273   \n",
       "16           0.507197           0.521212           0.493182   \n",
       "17           0.497159           0.496970           0.477273   \n",
       "18           0.500000           0.500000           0.500000   \n",
       "19           0.500000           0.500000           0.500000   \n",
       "20           0.497159           0.500000           0.500000   \n",
       "21           0.497159           0.496970           0.477273   \n",
       "22           0.497159           0.496970           0.477273   \n",
       "23           0.497159           0.496970           0.477273   \n",
       "24           0.497159           0.497159           0.500000   \n",
       "25           0.499811           0.502652           0.474432   \n",
       "26           0.508144           0.493939           0.482765   \n",
       "27           0.497159           0.502652           0.477273   \n",
       "28           0.508144           0.502652           0.474432   \n",
       "29           0.527462           0.502083           0.491098   \n",
       "30           0.497159           0.496970           0.477273   \n",
       "31           0.519129           0.513258           0.491098   \n",
       "32           0.504545           0.527083           0.507386   \n",
       "33           0.497159           0.496970           0.477273   \n",
       "34           0.505303           0.505114           0.474432   \n",
       "35           0.530303           0.490909           0.482765   \n",
       "36           0.497159           0.496970           0.477273   \n",
       "37           0.510795           0.499432           0.482765   \n",
       "38           0.524621           0.510417           0.496591   \n",
       "39           0.497159           0.496970           0.477273   \n",
       "40           0.510606           0.513258           0.488258   \n",
       "41           0.510038           0.540909           0.496023   \n",
       "42           0.516288           0.502083           0.482765   \n",
       "43           0.515909           0.507576           0.488068   \n",
       "44           0.501705           0.518561           0.510227   \n",
       "45           0.516288           0.502083           0.482765   \n",
       "46           0.513068           0.518750           0.488068   \n",
       "47           0.501705           0.518371           0.501705   \n",
       "48           0.516288           0.504924           0.491098   \n",
       "49           0.512879           0.521402           0.507197   \n",
       "50           0.532008           0.523295           0.503788   \n",
       "51           0.504545           0.524053           0.499242   \n",
       "52           0.510038           0.521023           0.509848   \n",
       "53           0.523674           0.512121           0.478788   \n",
       "54           0.504545           0.529735           0.496402   \n",
       "55           0.507197           0.495644           0.498485   \n",
       "56           0.526515           0.506439           0.500947   \n",
       "57           0.504545           0.529735           0.496402   \n",
       "58           0.523674           0.514962           0.509470   \n",
       "59           0.565152           0.514962           0.506250   \n",
       "\n",
       "    split4_test_score  mean_test_score  std_test_score  rank_test_score   \n",
       "0            0.500000         0.500000        0.000000                3  \\\n",
       "1            0.500000         0.500000        0.000000                3   \n",
       "2            0.500000         0.500000        0.000000                3   \n",
       "3            0.500000         0.500000        0.000000                3   \n",
       "4            0.500000         0.500000        0.000000                3   \n",
       "5            0.500000         0.500000        0.000000                3   \n",
       "6            0.494350         0.497734        0.002116               18   \n",
       "7            0.500000         0.500000        0.000000                3   \n",
       "8            0.500000         0.500000        0.000000                3   \n",
       "9            0.500000         0.500000        0.000000                3   \n",
       "10           0.500000         0.500000        0.000000                3   \n",
       "11           0.508475         0.505710        0.014532                1   \n",
       "12           0.500000         0.500000        0.000000                3   \n",
       "13           0.500000         0.500000        0.000000                3   \n",
       "14           0.500000         0.500000        0.000000                3   \n",
       "15           0.494350         0.493075        0.008075               19   \n",
       "16           0.528249         0.504703        0.019640                2   \n",
       "17           0.494350         0.493075        0.008075               19   \n",
       "18           0.500000         0.500000        0.000000                3   \n",
       "19           0.500000         0.500000        0.000000                3   \n",
       "20           0.494350         0.498302        0.002262                1   \n",
       "21           0.494350         0.493075        0.008075                2   \n",
       "22           0.494350         0.493075        0.008075                2   \n",
       "23           0.494350         0.493075        0.008075                2   \n",
       "24           0.494350         0.497734        0.002116               27   \n",
       "25           0.491525         0.492472        0.009859               36   \n",
       "26           0.485876         0.494599        0.009580               29   \n",
       "27           0.494350         0.494211        0.008901               30   \n",
       "28           0.497175         0.495268        0.011488               28   \n",
       "29           0.519774         0.509068        0.012976               19   \n",
       "30           0.494350         0.493075        0.008075               32   \n",
       "31           0.516949         0.509640        0.010038               15   \n",
       "32           0.539548         0.512152        0.019755               11   \n",
       "33           0.491525         0.492510        0.008065               33   \n",
       "34           0.491525         0.494063        0.011316               31   \n",
       "35           0.528249         0.507430        0.019205               20   \n",
       "36           0.491525         0.492510        0.008065               33   \n",
       "37           0.505650         0.501850        0.010404               26   \n",
       "38           0.522599         0.511830        0.010597               12   \n",
       "39           0.491525         0.492510        0.008065               33   \n",
       "40           0.516949         0.506799        0.010065               21   \n",
       "41           0.533898         0.515871        0.018342                6   \n",
       "42           0.519774         0.505735        0.013065               24   \n",
       "43           0.522599         0.506111        0.012568               23   \n",
       "44           0.528249         0.509286        0.013931               18   \n",
       "45           0.519774         0.505735        0.013065               24   \n",
       "46           0.531073         0.509472        0.015457               16   \n",
       "47           0.550847         0.515321        0.018820                7   \n",
       "48           0.511299         0.506275        0.008484               22   \n",
       "49           0.533898         0.514242        0.012869                9   \n",
       "50           0.564972         0.527729        0.020837                3   \n",
       "51           0.533898         0.509355        0.017522               17   \n",
       "52           0.559322         0.524175        0.018236                4   \n",
       "53           0.539548         0.513781        0.019950               10   \n",
       "54           0.533898         0.509924        0.018965               14   \n",
       "55           0.548023         0.514529        0.019321                8   \n",
       "56           0.531073         0.519245        0.012928                5   \n",
       "57           0.539548         0.510485        0.021209               13   \n",
       "58           0.562147         0.527808        0.018431                2   \n",
       "59           0.556497         0.533724        0.023137                1   \n",
       "\n",
       "   param_coef0 param_degree  \n",
       "0          NaN          NaN  \n",
       "1          NaN          NaN  \n",
       "2          NaN          NaN  \n",
       "3          NaN          NaN  \n",
       "4          NaN          NaN  \n",
       "5          NaN          NaN  \n",
       "6          NaN          NaN  \n",
       "7          NaN          NaN  \n",
       "8          NaN          NaN  \n",
       "9          NaN          NaN  \n",
       "10         NaN          NaN  \n",
       "11         NaN          NaN  \n",
       "12         NaN          NaN  \n",
       "13         NaN          NaN  \n",
       "14         NaN          NaN  \n",
       "15         NaN          NaN  \n",
       "16         NaN          NaN  \n",
       "17         NaN          NaN  \n",
       "18         NaN          NaN  \n",
       "19         NaN          NaN  \n",
       "20         NaN          NaN  \n",
       "21         NaN          NaN  \n",
       "22         NaN          NaN  \n",
       "23         NaN          NaN  \n",
       "24         0.5            2  \n",
       "25         0.5            3  \n",
       "26         0.5            4  \n",
       "27           1            2  \n",
       "28           1            3  \n",
       "29           1            4  \n",
       "30           5            2  \n",
       "31           5            3  \n",
       "32           5            4  \n",
       "33         0.5            2  \n",
       "34         0.5            3  \n",
       "35         0.5            4  \n",
       "36           1            2  \n",
       "37           1            3  \n",
       "38           1            4  \n",
       "39           5            2  \n",
       "40           5            3  \n",
       "41           5            4  \n",
       "42         0.5            2  \n",
       "43         0.5            3  \n",
       "44         0.5            4  \n",
       "45           1            2  \n",
       "46           1            3  \n",
       "47           1            4  \n",
       "48           5            2  \n",
       "49           5            3  \n",
       "50           5            4  \n",
       "51         0.5            2  \n",
       "52         0.5            3  \n",
       "53         0.5            4  \n",
       "54           1            2  \n",
       "55           1            3  \n",
       "56           1            4  \n",
       "57           5            2  \n",
       "58           5            3  \n",
       "59           5            4  "
      ]
     },
     "execution_count": 7,
     "metadata": {},
     "output_type": "execute_result"
    }
   ],
   "source": [
    "rbf_params = {\"kernel\": [\"rbf\"], \"C\": [0.5, 1, 10, 100], \"gamma\": [\"auto\", \"scale\", 0.01, 0.001, 0.0001]}\n",
    "poly_params = {\"kernel\": [\"poly\"], \"C\": [0.5, 1, 10, 100], \"degree\": [2, 3, 4], \"coef0\": [0.5, 1, 5]}\n",
    "lin_params = {\"kernel\": [\"linear\"], \"C\": [0.5, 1, 10, 100]}\n",
    "\n",
    "gs_rbf = GridSearchCV(estimator=SVC(random_state=42), param_grid=rbf_params, n_jobs=-1, scoring=\"balanced_accuracy\")\n",
    "gs_poly = GridSearchCV(estimator=SVC(random_state=42), param_grid=poly_params, n_jobs=-1, scoring=\"balanced_accuracy\")\n",
    "gs_lin = GridSearchCV(estimator=SVC(random_state=42), param_grid=lin_params, n_jobs=-1, scoring=\"balanced_accuracy\")\n",
    "\n",
    "all_gs = [gs_rbf, gs_lin, gs_poly]\n",
    "results = pd.DataFrame()\n",
    "\n",
    "for gs in all_gs:\n",
    "    print(f\"fitting {gs}\")\n",
    "    gs.fit(X_train, y_train)\n",
    "    results = pd.concat([results, pd.DataFrame(gs.cv_results_)], ignore_index=True)\n",
    "\n",
    "results"
   ]
  },
  {
   "cell_type": "markdown",
   "id": "8105a36e-3dfc-4e80-92f5-50bd3366d02e",
   "metadata": {},
   "source": [
    "## Results"
   ]
  },
  {
   "cell_type": "code",
   "execution_count": 8,
   "id": "48ef5dac-9347-4dca-9d7c-c136ba0e3832",
   "metadata": {
    "execution": {
     "iopub.execute_input": "2024-04-30T04:48:23.832398Z",
     "iopub.status.busy": "2024-04-30T04:48:23.831861Z",
     "iopub.status.idle": "2024-04-30T04:48:23.849143Z",
     "shell.execute_reply": "2024-04-30T04:48:23.847840Z",
     "shell.execute_reply.started": "2024-04-30T04:48:23.832355Z"
    }
   },
   "outputs": [
    {
     "name": "stdout",
     "output_type": "stream",
     "text": [
      "| Kernel   |     C | Gamma   | Degree   | R   |   Accuracy Score |\n",
      "|:---------|------:|:--------|:---------|:----|-----------------:|\n",
      "| rbf      | 100   | scale   |          |     |         0.504703 |\n",
      "| rbf      |  10   | scale   |          |     |         0.50571  |\n",
      "| rbf      |   1   | auto    |          |     |         0.5      |\n",
      "| rbf      |   0.5 | auto    |          |     |         0.5      |\n",
      "| poly     | 100   |         | 4        | 5   |         0.533724 |\n",
      "| poly     |  10   |         | 4        | 5   |         0.527729 |\n",
      "| poly     |   1   |         | 4        | 5   |         0.515871 |\n",
      "| poly     |   0.5 |         | 4        | 5   |         0.512152 |\n",
      "| linear   | 100   |         |          |     |         0.493075 |\n",
      "| linear   |  10   |         |          |     |         0.493075 |\n",
      "| linear   |   1   |         |          |     |         0.493075 |\n",
      "| linear   |   0.5 |         |          |     |         0.498302 |\n"
     ]
    }
   ],
   "source": [
    "results_pr = results[[\"param_kernel\", \"param_C\", \"param_gamma\", \"param_degree\", \"param_coef0\", \"mean_test_score\"]]\n",
    "results_pr.columns = [\"Kernel\", \"C\", \"Gamma\", \"Degree\", \"R\", \"Accuracy Score\"]\n",
    "print(results_pr.sort_values([\"Kernel\", \"C\", \"Accuracy Score\"], ascending=False).groupby([\"Kernel\", \"C\"]).head(1).fillna(\"\").to_markdown(index=False))"
   ]
  },
  {
   "cell_type": "code",
   "execution_count": 129,
   "id": "64a6f183-dfa1-4d8e-9a0d-d79bb8944d20",
   "metadata": {
    "execution": {
     "iopub.execute_input": "2024-04-28T07:11:12.545380Z",
     "iopub.status.busy": "2024-04-28T07:11:12.545006Z",
     "iopub.status.idle": "2024-04-28T07:11:12.552066Z",
     "shell.execute_reply": "2024-04-28T07:11:12.550979Z",
     "shell.execute_reply.started": "2024-04-28T07:11:12.545352Z"
    }
   },
   "outputs": [
    {
     "data": {
      "text/plain": [
       "[array([1., 1.]), array([1., 1.]), array([1., 1.])]"
      ]
     },
     "execution_count": 129,
     "metadata": {},
     "output_type": "execute_result"
    }
   ],
   "source": [
    "[gs.best_estimator_.class_weight_ for gs in all_gs]"
   ]
  },
  {
   "cell_type": "code",
   "execution_count": 9,
   "id": "07f98a3f-71b0-4364-9a38-169e2638b0cb",
   "metadata": {
    "execution": {
     "iopub.execute_input": "2024-04-30T04:48:31.338720Z",
     "iopub.status.busy": "2024-04-30T04:48:31.338310Z",
     "iopub.status.idle": "2024-04-30T04:48:33.308912Z",
     "shell.execute_reply": "2024-04-30T04:48:33.307904Z",
     "shell.execute_reply.started": "2024-04-30T04:48:31.338693Z"
    }
   },
   "outputs": [
    {
     "data": {
      "text/html": [
       "        <script type=\"text/javascript\">\n",
       "        window.PlotlyConfig = {MathJaxConfig: 'local'};\n",
       "        if (window.MathJax && window.MathJax.Hub && window.MathJax.Hub.Config) {window.MathJax.Hub.Config({SVG: {font: \"STIX-Web\"}});}\n",
       "        if (typeof require !== 'undefined') {\n",
       "        require.undef(\"plotly\");\n",
       "        requirejs.config({\n",
       "            paths: {\n",
       "                'plotly': ['https://cdn.plot.ly/plotly-2.25.2.min']\n",
       "            }\n",
       "        });\n",
       "        require(['plotly'], function(Plotly) {\n",
       "            window._Plotly = Plotly;\n",
       "        });\n",
       "        }\n",
       "        </script>\n",
       "        "
      ]
     },
     "metadata": {},
     "output_type": "display_data"
    },
    {
     "data": {
      "application/vnd.plotly.v1+json": {
       "config": {
        "plotlyServerURL": "https://plot.ly"
       },
       "data": [
        {
         "coloraxis": "coloraxis",
         "hovertemplate": "x: %{x}<br>y: %{y}<br>color: %{z}<extra></extra>",
         "name": "0",
         "texttemplate": "%{z}",
         "type": "heatmap",
         "x": [
          "Price Decreased",
          "Price Increased"
         ],
         "xaxis": "x",
         "y": [
          "Price Decreased",
          "Price Increased"
         ],
         "yaxis": "y",
         "z": [
          [
           283,
           11
          ],
          [
           98,
           2
          ]
         ]
        }
       ],
       "layout": {
        "autosize": true,
        "coloraxis": {
         "colorscale": [
          [
           0,
           "#440154"
          ],
          [
           0.1111111111111111,
           "#482878"
          ],
          [
           0.2222222222222222,
           "#3e4989"
          ],
          [
           0.3333333333333333,
           "#31688e"
          ],
          [
           0.4444444444444444,
           "#26828e"
          ],
          [
           0.5555555555555556,
           "#1f9e89"
          ],
          [
           0.6666666666666666,
           "#35b779"
          ],
          [
           0.7777777777777778,
           "#6ece58"
          ],
          [
           0.8888888888888888,
           "#b5de2b"
          ],
          [
           1,
           "#fde725"
          ]
         ],
         "showscale": false
        },
        "margin": {
         "t": 60
        },
        "template": {
         "data": {
          "bar": [
           {
            "error_x": {
             "color": "#2a3f5f"
            },
            "error_y": {
             "color": "#2a3f5f"
            },
            "marker": {
             "line": {
              "color": "#E5ECF6",
              "width": 0.5
             },
             "pattern": {
              "fillmode": "overlay",
              "size": 10,
              "solidity": 0.2
             }
            },
            "type": "bar"
           }
          ],
          "barpolar": [
           {
            "marker": {
             "line": {
              "color": "#E5ECF6",
              "width": 0.5
             },
             "pattern": {
              "fillmode": "overlay",
              "size": 10,
              "solidity": 0.2
             }
            },
            "type": "barpolar"
           }
          ],
          "carpet": [
           {
            "aaxis": {
             "endlinecolor": "#2a3f5f",
             "gridcolor": "white",
             "linecolor": "white",
             "minorgridcolor": "white",
             "startlinecolor": "#2a3f5f"
            },
            "baxis": {
             "endlinecolor": "#2a3f5f",
             "gridcolor": "white",
             "linecolor": "white",
             "minorgridcolor": "white",
             "startlinecolor": "#2a3f5f"
            },
            "type": "carpet"
           }
          ],
          "choropleth": [
           {
            "colorbar": {
             "outlinewidth": 0,
             "ticks": ""
            },
            "type": "choropleth"
           }
          ],
          "contour": [
           {
            "colorbar": {
             "outlinewidth": 0,
             "ticks": ""
            },
            "colorscale": [
             [
              0,
              "#0d0887"
             ],
             [
              0.1111111111111111,
              "#46039f"
             ],
             [
              0.2222222222222222,
              "#7201a8"
             ],
             [
              0.3333333333333333,
              "#9c179e"
             ],
             [
              0.4444444444444444,
              "#bd3786"
             ],
             [
              0.5555555555555556,
              "#d8576b"
             ],
             [
              0.6666666666666666,
              "#ed7953"
             ],
             [
              0.7777777777777778,
              "#fb9f3a"
             ],
             [
              0.8888888888888888,
              "#fdca26"
             ],
             [
              1,
              "#f0f921"
             ]
            ],
            "type": "contour"
           }
          ],
          "contourcarpet": [
           {
            "colorbar": {
             "outlinewidth": 0,
             "ticks": ""
            },
            "type": "contourcarpet"
           }
          ],
          "heatmap": [
           {
            "colorbar": {
             "outlinewidth": 0,
             "ticks": ""
            },
            "colorscale": [
             [
              0,
              "#0d0887"
             ],
             [
              0.1111111111111111,
              "#46039f"
             ],
             [
              0.2222222222222222,
              "#7201a8"
             ],
             [
              0.3333333333333333,
              "#9c179e"
             ],
             [
              0.4444444444444444,
              "#bd3786"
             ],
             [
              0.5555555555555556,
              "#d8576b"
             ],
             [
              0.6666666666666666,
              "#ed7953"
             ],
             [
              0.7777777777777778,
              "#fb9f3a"
             ],
             [
              0.8888888888888888,
              "#fdca26"
             ],
             [
              1,
              "#f0f921"
             ]
            ],
            "type": "heatmap"
           }
          ],
          "heatmapgl": [
           {
            "colorbar": {
             "outlinewidth": 0,
             "ticks": ""
            },
            "colorscale": [
             [
              0,
              "#0d0887"
             ],
             [
              0.1111111111111111,
              "#46039f"
             ],
             [
              0.2222222222222222,
              "#7201a8"
             ],
             [
              0.3333333333333333,
              "#9c179e"
             ],
             [
              0.4444444444444444,
              "#bd3786"
             ],
             [
              0.5555555555555556,
              "#d8576b"
             ],
             [
              0.6666666666666666,
              "#ed7953"
             ],
             [
              0.7777777777777778,
              "#fb9f3a"
             ],
             [
              0.8888888888888888,
              "#fdca26"
             ],
             [
              1,
              "#f0f921"
             ]
            ],
            "type": "heatmapgl"
           }
          ],
          "histogram": [
           {
            "marker": {
             "pattern": {
              "fillmode": "overlay",
              "size": 10,
              "solidity": 0.2
             }
            },
            "type": "histogram"
           }
          ],
          "histogram2d": [
           {
            "colorbar": {
             "outlinewidth": 0,
             "ticks": ""
            },
            "colorscale": [
             [
              0,
              "#0d0887"
             ],
             [
              0.1111111111111111,
              "#46039f"
             ],
             [
              0.2222222222222222,
              "#7201a8"
             ],
             [
              0.3333333333333333,
              "#9c179e"
             ],
             [
              0.4444444444444444,
              "#bd3786"
             ],
             [
              0.5555555555555556,
              "#d8576b"
             ],
             [
              0.6666666666666666,
              "#ed7953"
             ],
             [
              0.7777777777777778,
              "#fb9f3a"
             ],
             [
              0.8888888888888888,
              "#fdca26"
             ],
             [
              1,
              "#f0f921"
             ]
            ],
            "type": "histogram2d"
           }
          ],
          "histogram2dcontour": [
           {
            "colorbar": {
             "outlinewidth": 0,
             "ticks": ""
            },
            "colorscale": [
             [
              0,
              "#0d0887"
             ],
             [
              0.1111111111111111,
              "#46039f"
             ],
             [
              0.2222222222222222,
              "#7201a8"
             ],
             [
              0.3333333333333333,
              "#9c179e"
             ],
             [
              0.4444444444444444,
              "#bd3786"
             ],
             [
              0.5555555555555556,
              "#d8576b"
             ],
             [
              0.6666666666666666,
              "#ed7953"
             ],
             [
              0.7777777777777778,
              "#fb9f3a"
             ],
             [
              0.8888888888888888,
              "#fdca26"
             ],
             [
              1,
              "#f0f921"
             ]
            ],
            "type": "histogram2dcontour"
           }
          ],
          "mesh3d": [
           {
            "colorbar": {
             "outlinewidth": 0,
             "ticks": ""
            },
            "type": "mesh3d"
           }
          ],
          "parcoords": [
           {
            "line": {
             "colorbar": {
              "outlinewidth": 0,
              "ticks": ""
             }
            },
            "type": "parcoords"
           }
          ],
          "pie": [
           {
            "automargin": true,
            "type": "pie"
           }
          ],
          "scatter": [
           {
            "fillpattern": {
             "fillmode": "overlay",
             "size": 10,
             "solidity": 0.2
            },
            "type": "scatter"
           }
          ],
          "scatter3d": [
           {
            "line": {
             "colorbar": {
              "outlinewidth": 0,
              "ticks": ""
             }
            },
            "marker": {
             "colorbar": {
              "outlinewidth": 0,
              "ticks": ""
             }
            },
            "type": "scatter3d"
           }
          ],
          "scattercarpet": [
           {
            "marker": {
             "colorbar": {
              "outlinewidth": 0,
              "ticks": ""
             }
            },
            "type": "scattercarpet"
           }
          ],
          "scattergeo": [
           {
            "marker": {
             "colorbar": {
              "outlinewidth": 0,
              "ticks": ""
             }
            },
            "type": "scattergeo"
           }
          ],
          "scattergl": [
           {
            "marker": {
             "colorbar": {
              "outlinewidth": 0,
              "ticks": ""
             }
            },
            "type": "scattergl"
           }
          ],
          "scattermapbox": [
           {
            "marker": {
             "colorbar": {
              "outlinewidth": 0,
              "ticks": ""
             }
            },
            "type": "scattermapbox"
           }
          ],
          "scatterpolar": [
           {
            "marker": {
             "colorbar": {
              "outlinewidth": 0,
              "ticks": ""
             }
            },
            "type": "scatterpolar"
           }
          ],
          "scatterpolargl": [
           {
            "marker": {
             "colorbar": {
              "outlinewidth": 0,
              "ticks": ""
             }
            },
            "type": "scatterpolargl"
           }
          ],
          "scatterternary": [
           {
            "marker": {
             "colorbar": {
              "outlinewidth": 0,
              "ticks": ""
             }
            },
            "type": "scatterternary"
           }
          ],
          "surface": [
           {
            "colorbar": {
             "outlinewidth": 0,
             "ticks": ""
            },
            "colorscale": [
             [
              0,
              "#0d0887"
             ],
             [
              0.1111111111111111,
              "#46039f"
             ],
             [
              0.2222222222222222,
              "#7201a8"
             ],
             [
              0.3333333333333333,
              "#9c179e"
             ],
             [
              0.4444444444444444,
              "#bd3786"
             ],
             [
              0.5555555555555556,
              "#d8576b"
             ],
             [
              0.6666666666666666,
              "#ed7953"
             ],
             [
              0.7777777777777778,
              "#fb9f3a"
             ],
             [
              0.8888888888888888,
              "#fdca26"
             ],
             [
              1,
              "#f0f921"
             ]
            ],
            "type": "surface"
           }
          ],
          "table": [
           {
            "cells": {
             "fill": {
              "color": "#EBF0F8"
             },
             "line": {
              "color": "white"
             }
            },
            "header": {
             "fill": {
              "color": "#C8D4E3"
             },
             "line": {
              "color": "white"
             }
            },
            "type": "table"
           }
          ]
         },
         "layout": {
          "annotationdefaults": {
           "arrowcolor": "#2a3f5f",
           "arrowhead": 0,
           "arrowwidth": 1
          },
          "autotypenumbers": "strict",
          "coloraxis": {
           "colorbar": {
            "outlinewidth": 0,
            "ticks": ""
           }
          },
          "colorscale": {
           "diverging": [
            [
             0,
             "#8e0152"
            ],
            [
             0.1,
             "#c51b7d"
            ],
            [
             0.2,
             "#de77ae"
            ],
            [
             0.3,
             "#f1b6da"
            ],
            [
             0.4,
             "#fde0ef"
            ],
            [
             0.5,
             "#f7f7f7"
            ],
            [
             0.6,
             "#e6f5d0"
            ],
            [
             0.7,
             "#b8e186"
            ],
            [
             0.8,
             "#7fbc41"
            ],
            [
             0.9,
             "#4d9221"
            ],
            [
             1,
             "#276419"
            ]
           ],
           "sequential": [
            [
             0,
             "#440154"
            ],
            [
             0.1111111111111111,
             "#482878"
            ],
            [
             0.2222222222222222,
             "#3e4989"
            ],
            [
             0.3333333333333333,
             "#31688e"
            ],
            [
             0.4444444444444444,
             "#26828e"
            ],
            [
             0.5555555555555556,
             "#1f9e89"
            ],
            [
             0.6666666666666666,
             "#35b779"
            ],
            [
             0.7777777777777778,
             "#6ece58"
            ],
            [
             0.8888888888888888,
             "#b5de2b"
            ],
            [
             1,
             "#fde725"
            ]
           ],
           "sequentialminus": [
            [
             0,
             "#0d0887"
            ],
            [
             0.1111111111111111,
             "#46039f"
            ],
            [
             0.2222222222222222,
             "#7201a8"
            ],
            [
             0.3333333333333333,
             "#9c179e"
            ],
            [
             0.4444444444444444,
             "#bd3786"
            ],
            [
             0.5555555555555556,
             "#d8576b"
            ],
            [
             0.6666666666666666,
             "#ed7953"
            ],
            [
             0.7777777777777778,
             "#fb9f3a"
            ],
            [
             0.8888888888888888,
             "#fdca26"
            ],
            [
             1,
             "#f0f921"
            ]
           ]
          },
          "colorway": [
           "#636EFA",
           "#00CC96",
           "#AB63FA",
           "#FFA15A",
           "#19D3F3",
           "#FF6692",
           "#B6E880",
           "#FF97FF",
           "#FECB52"
          ],
          "font": {
           "color": "lightgreen"
          },
          "geo": {
           "bgcolor": "white",
           "lakecolor": "white",
           "landcolor": "#E5ECF6",
           "showlakes": true,
           "showland": true,
           "subunitcolor": "white"
          },
          "hoverlabel": {
           "align": "left"
          },
          "hovermode": "closest",
          "mapbox": {
           "style": "light"
          },
          "paper_bgcolor": "rgba(0, 0, 0, 0)",
          "plot_bgcolor": "#E5ECF6",
          "polar": {
           "angularaxis": {
            "gridcolor": "white",
            "linecolor": "white",
            "ticks": ""
           },
           "bgcolor": "#E5ECF6",
           "radialaxis": {
            "gridcolor": "white",
            "linecolor": "white",
            "ticks": ""
           }
          },
          "scene": {
           "xaxis": {
            "backgroundcolor": "#E5ECF6",
            "gridcolor": "white",
            "gridwidth": 2,
            "linecolor": "white",
            "showbackground": true,
            "ticks": "",
            "zerolinecolor": "white"
           },
           "yaxis": {
            "backgroundcolor": "#E5ECF6",
            "gridcolor": "white",
            "gridwidth": 2,
            "linecolor": "white",
            "showbackground": true,
            "ticks": "",
            "zerolinecolor": "white"
           },
           "zaxis": {
            "backgroundcolor": "#E5ECF6",
            "gridcolor": "white",
            "gridwidth": 2,
            "linecolor": "white",
            "showbackground": true,
            "ticks": "",
            "zerolinecolor": "white"
           }
          },
          "shapedefaults": {
           "line": {
            "color": "#2a3f5f"
           }
          },
          "ternary": {
           "aaxis": {
            "gridcolor": "white",
            "linecolor": "white",
            "ticks": ""
           },
           "baxis": {
            "gridcolor": "white",
            "linecolor": "white",
            "ticks": ""
           },
           "bgcolor": "#E5ECF6",
           "caxis": {
            "gridcolor": "white",
            "linecolor": "white",
            "ticks": ""
           }
          },
          "title": {
           "x": 0.05
          },
          "xaxis": {
           "automargin": true,
           "gridcolor": "white",
           "linecolor": "white",
           "ticks": "",
           "title": {
            "standoff": 15
           },
           "zerolinecolor": "white",
           "zerolinewidth": 2
          },
          "yaxis": {
           "automargin": true,
           "gridcolor": "white",
           "linecolor": "white",
           "ticks": "",
           "title": {
            "standoff": 15
           },
           "zerolinecolor": "white",
           "zerolinewidth": 2
          }
         }
        },
        "title": {
         "text": "RBF"
        },
        "xaxis": {
         "anchor": "y",
         "autorange": true,
         "constrain": "domain",
         "domain": [
          0.39299610894941633,
          0.6070038910505836
         ],
         "range": [
          -0.5,
          1.5
         ],
         "scaleanchor": "y",
         "title": {
          "text": "Predicted"
         },
         "type": "category"
        },
        "yaxis": {
         "anchor": "x",
         "autorange": true,
         "constrain": "domain",
         "domain": [
          0.16196498054474712,
          0.8380350194552528
         ],
         "range": [
          1.5,
          -0.5
         ],
         "title": {
          "text": "True Label"
         },
         "type": "category"
        }
       }
      },
      "image/png": "[encoded data removed]",
      "text/html": [
       "<div>                            <div id=\"c43e9542-7e35-49f2-8a48-047f199eea12\" class=\"plotly-graph-div\" style=\"height:525px; width:100%;\"></div>            <script type=\"text/javascript\">                require([\"plotly\"], function(Plotly) {                    window.PLOTLYENV=window.PLOTLYENV || {};                                    if (document.getElementById(\"c43e9542-7e35-49f2-8a48-047f199eea12\")) {                    Plotly.newPlot(                        \"c43e9542-7e35-49f2-8a48-047f199eea12\",                        [{\"coloraxis\":\"coloraxis\",\"name\":\"0\",\"texttemplate\":\"%{z}\",\"x\":[\"Price Decreased\",\"Price Increased\"],\"y\":[\"Price Decreased\",\"Price Increased\"],\"z\":[[283,11],[98,2]],\"type\":\"heatmap\",\"xaxis\":\"x\",\"yaxis\":\"y\",\"hovertemplate\":\"x: %{x}\\u003cbr\\u003ey: %{y}\\u003cbr\\u003ecolor: %{z}\\u003cextra\\u003e\\u003c\\u002fextra\\u003e\"}],                        {\"template\":{\"data\":{\"barpolar\":[{\"marker\":{\"line\":{\"color\":\"#E5ECF6\",\"width\":0.5},\"pattern\":{\"fillmode\":\"overlay\",\"size\":10,\"solidity\":0.2}},\"type\":\"barpolar\"}],\"bar\":[{\"error_x\":{\"color\":\"#2a3f5f\"},\"error_y\":{\"color\":\"#2a3f5f\"},\"marker\":{\"line\":{\"color\":\"#E5ECF6\",\"width\":0.5},\"pattern\":{\"fillmode\":\"overlay\",\"size\":10,\"solidity\":0.2}},\"type\":\"bar\"}],\"carpet\":[{\"aaxis\":{\"endlinecolor\":\"#2a3f5f\",\"gridcolor\":\"white\",\"linecolor\":\"white\",\"minorgridcolor\":\"white\",\"startlinecolor\":\"#2a3f5f\"},\"baxis\":{\"endlinecolor\":\"#2a3f5f\",\"gridcolor\":\"white\",\"linecolor\":\"white\",\"minorgridcolor\":\"white\",\"startlinecolor\":\"#2a3f5f\"},\"type\":\"carpet\"}],\"choropleth\":[{\"colorbar\":{\"outlinewidth\":0,\"ticks\":\"\"},\"type\":\"choropleth\"}],\"contourcarpet\":[{\"colorbar\":{\"outlinewidth\":0,\"ticks\":\"\"},\"type\":\"contourcarpet\"}],\"contour\":[{\"colorbar\":{\"outlinewidth\":0,\"ticks\":\"\"},\"colorscale\":[[0.0,\"#0d0887\"],[0.1111111111111111,\"#46039f\"],[0.2222222222222222,\"#7201a8\"],[0.3333333333333333,\"#9c179e\"],[0.4444444444444444,\"#bd3786\"],[0.5555555555555556,\"#d8576b\"],[0.6666666666666666,\"#ed7953\"],[0.7777777777777778,\"#fb9f3a\"],[0.8888888888888888,\"#fdca26\"],[1.0,\"#f0f921\"]],\"type\":\"contour\"}],\"heatmapgl\":[{\"colorbar\":{\"outlinewidth\":0,\"ticks\":\"\"},\"colorscale\":[[0.0,\"#0d0887\"],[0.1111111111111111,\"#46039f\"],[0.2222222222222222,\"#7201a8\"],[0.3333333333333333,\"#9c179e\"],[0.4444444444444444,\"#bd3786\"],[0.5555555555555556,\"#d8576b\"],[0.6666666666666666,\"#ed7953\"],[0.7777777777777778,\"#fb9f3a\"],[0.8888888888888888,\"#fdca26\"],[1.0,\"#f0f921\"]],\"type\":\"heatmapgl\"}],\"heatmap\":[{\"colorbar\":{\"outlinewidth\":0,\"ticks\":\"\"},\"colorscale\":[[0.0,\"#0d0887\"],[0.1111111111111111,\"#46039f\"],[0.2222222222222222,\"#7201a8\"],[0.3333333333333333,\"#9c179e\"],[0.4444444444444444,\"#bd3786\"],[0.5555555555555556,\"#d8576b\"],[0.6666666666666666,\"#ed7953\"],[0.7777777777777778,\"#fb9f3a\"],[0.8888888888888888,\"#fdca26\"],[1.0,\"#f0f921\"]],\"type\":\"heatmap\"}],\"histogram2dcontour\":[{\"colorbar\":{\"outlinewidth\":0,\"ticks\":\"\"},\"colorscale\":[[0.0,\"#0d0887\"],[0.1111111111111111,\"#46039f\"],[0.2222222222222222,\"#7201a8\"],[0.3333333333333333,\"#9c179e\"],[0.4444444444444444,\"#bd3786\"],[0.5555555555555556,\"#d8576b\"],[0.6666666666666666,\"#ed7953\"],[0.7777777777777778,\"#fb9f3a\"],[0.8888888888888888,\"#fdca26\"],[1.0,\"#f0f921\"]],\"type\":\"histogram2dcontour\"}],\"histogram2d\":[{\"colorbar\":{\"outlinewidth\":0,\"ticks\":\"\"},\"colorscale\":[[0.0,\"#0d0887\"],[0.1111111111111111,\"#46039f\"],[0.2222222222222222,\"#7201a8\"],[0.3333333333333333,\"#9c179e\"],[0.4444444444444444,\"#bd3786\"],[0.5555555555555556,\"#d8576b\"],[0.6666666666666666,\"#ed7953\"],[0.7777777777777778,\"#fb9f3a\"],[0.8888888888888888,\"#fdca26\"],[1.0,\"#f0f921\"]],\"type\":\"histogram2d\"}],\"histogram\":[{\"marker\":{\"pattern\":{\"fillmode\":\"overlay\",\"size\":10,\"solidity\":0.2}},\"type\":\"histogram\"}],\"mesh3d\":[{\"colorbar\":{\"outlinewidth\":0,\"ticks\":\"\"},\"type\":\"mesh3d\"}],\"parcoords\":[{\"line\":{\"colorbar\":{\"outlinewidth\":0,\"ticks\":\"\"}},\"type\":\"parcoords\"}],\"pie\":[{\"automargin\":true,\"type\":\"pie\"}],\"scatter3d\":[{\"line\":{\"colorbar\":{\"outlinewidth\":0,\"ticks\":\"\"}},\"marker\":{\"colorbar\":{\"outlinewidth\":0,\"ticks\":\"\"}},\"type\":\"scatter3d\"}],\"scattercarpet\":[{\"marker\":{\"colorbar\":{\"outlinewidth\":0,\"ticks\":\"\"}},\"type\":\"scattercarpet\"}],\"scattergeo\":[{\"marker\":{\"colorbar\":{\"outlinewidth\":0,\"ticks\":\"\"}},\"type\":\"scattergeo\"}],\"scattergl\":[{\"marker\":{\"colorbar\":{\"outlinewidth\":0,\"ticks\":\"\"}},\"type\":\"scattergl\"}],\"scattermapbox\":[{\"marker\":{\"colorbar\":{\"outlinewidth\":0,\"ticks\":\"\"}},\"type\":\"scattermapbox\"}],\"scatterpolargl\":[{\"marker\":{\"colorbar\":{\"outlinewidth\":0,\"ticks\":\"\"}},\"type\":\"scatterpolargl\"}],\"scatterpolar\":[{\"marker\":{\"colorbar\":{\"outlinewidth\":0,\"ticks\":\"\"}},\"type\":\"scatterpolar\"}],\"scatter\":[{\"fillpattern\":{\"fillmode\":\"overlay\",\"size\":10,\"solidity\":0.2},\"type\":\"scatter\"}],\"scatterternary\":[{\"marker\":{\"colorbar\":{\"outlinewidth\":0,\"ticks\":\"\"}},\"type\":\"scatterternary\"}],\"surface\":[{\"colorbar\":{\"outlinewidth\":0,\"ticks\":\"\"},\"colorscale\":[[0.0,\"#0d0887\"],[0.1111111111111111,\"#46039f\"],[0.2222222222222222,\"#7201a8\"],[0.3333333333333333,\"#9c179e\"],[0.4444444444444444,\"#bd3786\"],[0.5555555555555556,\"#d8576b\"],[0.6666666666666666,\"#ed7953\"],[0.7777777777777778,\"#fb9f3a\"],[0.8888888888888888,\"#fdca26\"],[1.0,\"#f0f921\"]],\"type\":\"surface\"}],\"table\":[{\"cells\":{\"fill\":{\"color\":\"#EBF0F8\"},\"line\":{\"color\":\"white\"}},\"header\":{\"fill\":{\"color\":\"#C8D4E3\"},\"line\":{\"color\":\"white\"}},\"type\":\"table\"}]},\"layout\":{\"annotationdefaults\":{\"arrowcolor\":\"#2a3f5f\",\"arrowhead\":0,\"arrowwidth\":1},\"autotypenumbers\":\"strict\",\"coloraxis\":{\"colorbar\":{\"outlinewidth\":0,\"ticks\":\"\"}},\"colorscale\":{\"diverging\":[[0,\"#8e0152\"],[0.1,\"#c51b7d\"],[0.2,\"#de77ae\"],[0.3,\"#f1b6da\"],[0.4,\"#fde0ef\"],[0.5,\"#f7f7f7\"],[0.6,\"#e6f5d0\"],[0.7,\"#b8e186\"],[0.8,\"#7fbc41\"],[0.9,\"#4d9221\"],[1,\"#276419\"]],\"sequential\":[[0.0,\"#440154\"],[0.1111111111111111,\"#482878\"],[0.2222222222222222,\"#3e4989\"],[0.3333333333333333,\"#31688e\"],[0.4444444444444444,\"#26828e\"],[0.5555555555555556,\"#1f9e89\"],[0.6666666666666666,\"#35b779\"],[0.7777777777777778,\"#6ece58\"],[0.8888888888888888,\"#b5de2b\"],[1.0,\"#fde725\"]],\"sequentialminus\":[[0.0,\"#0d0887\"],[0.1111111111111111,\"#46039f\"],[0.2222222222222222,\"#7201a8\"],[0.3333333333333333,\"#9c179e\"],[0.4444444444444444,\"#bd3786\"],[0.5555555555555556,\"#d8576b\"],[0.6666666666666666,\"#ed7953\"],[0.7777777777777778,\"#fb9f3a\"],[0.8888888888888888,\"#fdca26\"],[1.0,\"#f0f921\"]]},\"colorway\":[\"#636EFA\",\"#00CC96\",\"#AB63FA\",\"#FFA15A\",\"#19D3F3\",\"#FF6692\",\"#B6E880\",\"#FF97FF\",\"#FECB52\"],\"font\":{\"color\":\"lightgreen\"},\"geo\":{\"bgcolor\":\"white\",\"lakecolor\":\"white\",\"landcolor\":\"#E5ECF6\",\"showlakes\":true,\"showland\":true,\"subunitcolor\":\"white\"},\"hoverlabel\":{\"align\":\"left\"},\"hovermode\":\"closest\",\"mapbox\":{\"style\":\"light\"},\"paper_bgcolor\":\"rgba(0, 0, 0, 0)\",\"plot_bgcolor\":\"#E5ECF6\",\"polar\":{\"angularaxis\":{\"gridcolor\":\"white\",\"linecolor\":\"white\",\"ticks\":\"\"},\"bgcolor\":\"#E5ECF6\",\"radialaxis\":{\"gridcolor\":\"white\",\"linecolor\":\"white\",\"ticks\":\"\"}},\"scene\":{\"xaxis\":{\"backgroundcolor\":\"#E5ECF6\",\"gridcolor\":\"white\",\"gridwidth\":2,\"linecolor\":\"white\",\"showbackground\":true,\"ticks\":\"\",\"zerolinecolor\":\"white\"},\"yaxis\":{\"backgroundcolor\":\"#E5ECF6\",\"gridcolor\":\"white\",\"gridwidth\":2,\"linecolor\":\"white\",\"showbackground\":true,\"ticks\":\"\",\"zerolinecolor\":\"white\"},\"zaxis\":{\"backgroundcolor\":\"#E5ECF6\",\"gridcolor\":\"white\",\"gridwidth\":2,\"linecolor\":\"white\",\"showbackground\":true,\"ticks\":\"\",\"zerolinecolor\":\"white\"}},\"shapedefaults\":{\"line\":{\"color\":\"#2a3f5f\"}},\"ternary\":{\"aaxis\":{\"gridcolor\":\"white\",\"linecolor\":\"white\",\"ticks\":\"\"},\"baxis\":{\"gridcolor\":\"white\",\"linecolor\":\"white\",\"ticks\":\"\"},\"bgcolor\":\"#E5ECF6\",\"caxis\":{\"gridcolor\":\"white\",\"linecolor\":\"white\",\"ticks\":\"\"}},\"title\":{\"x\":0.05},\"xaxis\":{\"automargin\":true,\"gridcolor\":\"white\",\"linecolor\":\"white\",\"ticks\":\"\",\"title\":{\"standoff\":15},\"zerolinecolor\":\"white\",\"zerolinewidth\":2},\"yaxis\":{\"automargin\":true,\"gridcolor\":\"white\",\"linecolor\":\"white\",\"ticks\":\"\",\"title\":{\"standoff\":15},\"zerolinecolor\":\"white\",\"zerolinewidth\":2}}},\"xaxis\":{\"anchor\":\"y\",\"domain\":[0.0,1.0],\"scaleanchor\":\"y\",\"constrain\":\"domain\",\"title\":{\"text\":\"Predicted\"}},\"yaxis\":{\"anchor\":\"x\",\"domain\":[0.0,1.0],\"autorange\":\"reversed\",\"constrain\":\"domain\",\"title\":{\"text\":\"True Label\"}},\"coloraxis\":{\"colorscale\":[[0.0,\"#440154\"],[0.1111111111111111,\"#482878\"],[0.2222222222222222,\"#3e4989\"],[0.3333333333333333,\"#31688e\"],[0.4444444444444444,\"#26828e\"],[0.5555555555555556,\"#1f9e89\"],[0.6666666666666666,\"#35b779\"],[0.7777777777777778,\"#6ece58\"],[0.8888888888888888,\"#b5de2b\"],[1.0,\"#fde725\"]],\"showscale\":false},\"margin\":{\"t\":60},\"title\":{\"text\":\"RBF\"}},                        {\"responsive\": true}                    ).then(function(){\n",
       "                            \n",
       "var gd = document.getElementById('c43e9542-7e35-49f2-8a48-047f199eea12');\n",
       "var x = new MutationObserver(function (mutations, observer) {{\n",
       "        var display = window.getComputedStyle(gd).display;\n",
       "        if (!display || display === 'none') {{\n",
       "            console.log([gd, 'removed!']);\n",
       "            Plotly.purge(gd);\n",
       "            observer.disconnect();\n",
       "        }}\n",
       "}});\n",
       "\n",
       "// Listen for the removal of the full notebook cells\n",
       "var notebookContainer = gd.closest('#notebook-container');\n",
       "if (notebookContainer) {{\n",
       "    x.observe(notebookContainer, {childList: true});\n",
       "}}\n",
       "\n",
       "// Listen for the clearing of the current output cell\n",
       "var outputEl = gd.closest('.output');\n",
       "if (outputEl) {{\n",
       "    x.observe(outputEl, {childList: true});\n",
       "}}\n",
       "\n",
       "                        })                };                });            </script>        </div>"
      ]
     },
     "metadata": {},
     "output_type": "display_data"
    },
    {
     "data": {
      "application/vnd.plotly.v1+json": {
       "config": {
        "plotlyServerURL": "https://plot.ly"
       },
       "data": [
        {
         "coloraxis": "coloraxis",
         "hovertemplate": "x: %{x}<br>y: %{y}<br>color: %{z}<extra></extra>",
         "name": "0",
         "texttemplate": "%{z}",
         "type": "heatmap",
         "x": [
          "Price Decreased",
          "Price Increased"
         ],
         "xaxis": "x",
         "y": [
          "Price Decreased",
          "Price Increased"
         ],
         "yaxis": "y",
         "z": [
          [
           293,
           1
          ],
          [
           100,
           0
          ]
         ]
        }
       ],
       "layout": {
        "autosize": true,
        "coloraxis": {
         "colorscale": [
          [
           0,
           "#440154"
          ],
          [
           0.1111111111111111,
           "#482878"
          ],
          [
           0.2222222222222222,
           "#3e4989"
          ],
          [
           0.3333333333333333,
           "#31688e"
          ],
          [
           0.4444444444444444,
           "#26828e"
          ],
          [
           0.5555555555555556,
           "#1f9e89"
          ],
          [
           0.6666666666666666,
           "#35b779"
          ],
          [
           0.7777777777777778,
           "#6ece58"
          ],
          [
           0.8888888888888888,
           "#b5de2b"
          ],
          [
           1,
           "#fde725"
          ]
         ],
         "showscale": false
        },
        "margin": {
         "t": 60
        },
        "template": {
         "data": {
          "bar": [
           {
            "error_x": {
             "color": "#2a3f5f"
            },
            "error_y": {
             "color": "#2a3f5f"
            },
            "marker": {
             "line": {
              "color": "#E5ECF6",
              "width": 0.5
             },
             "pattern": {
              "fillmode": "overlay",
              "size": 10,
              "solidity": 0.2
             }
            },
            "type": "bar"
           }
          ],
          "barpolar": [
           {
            "marker": {
             "line": {
              "color": "#E5ECF6",
              "width": 0.5
             },
             "pattern": {
              "fillmode": "overlay",
              "size": 10,
              "solidity": 0.2
             }
            },
            "type": "barpolar"
           }
          ],
          "carpet": [
           {
            "aaxis": {
             "endlinecolor": "#2a3f5f",
             "gridcolor": "white",
             "linecolor": "white",
             "minorgridcolor": "white",
             "startlinecolor": "#2a3f5f"
            },
            "baxis": {
             "endlinecolor": "#2a3f5f",
             "gridcolor": "white",
             "linecolor": "white",
             "minorgridcolor": "white",
             "startlinecolor": "#2a3f5f"
            },
            "type": "carpet"
           }
          ],
          "choropleth": [
           {
            "colorbar": {
             "outlinewidth": 0,
             "ticks": ""
            },
            "type": "choropleth"
           }
          ],
          "contour": [
           {
            "colorbar": {
             "outlinewidth": 0,
             "ticks": ""
            },
            "colorscale": [
             [
              0,
              "#0d0887"
             ],
             [
              0.1111111111111111,
              "#46039f"
             ],
             [
              0.2222222222222222,
              "#7201a8"
             ],
             [
              0.3333333333333333,
              "#9c179e"
             ],
             [
              0.4444444444444444,
              "#bd3786"
             ],
             [
              0.5555555555555556,
              "#d8576b"
             ],
             [
              0.6666666666666666,
              "#ed7953"
             ],
             [
              0.7777777777777778,
              "#fb9f3a"
             ],
             [
              0.8888888888888888,
              "#fdca26"
             ],
             [
              1,
              "#f0f921"
             ]
            ],
            "type": "contour"
           }
          ],
          "contourcarpet": [
           {
            "colorbar": {
             "outlinewidth": 0,
             "ticks": ""
            },
            "type": "contourcarpet"
           }
          ],
          "heatmap": [
           {
            "colorbar": {
             "outlinewidth": 0,
             "ticks": ""
            },
            "colorscale": [
             [
              0,
              "#0d0887"
             ],
             [
              0.1111111111111111,
              "#46039f"
             ],
             [
              0.2222222222222222,
              "#7201a8"
             ],
             [
              0.3333333333333333,
              "#9c179e"
             ],
             [
              0.4444444444444444,
              "#bd3786"
             ],
             [
              0.5555555555555556,
              "#d8576b"
             ],
             [
              0.6666666666666666,
              "#ed7953"
             ],
             [
              0.7777777777777778,
              "#fb9f3a"
             ],
             [
              0.8888888888888888,
              "#fdca26"
             ],
             [
              1,
              "#f0f921"
             ]
            ],
            "type": "heatmap"
           }
          ],
          "heatmapgl": [
           {
            "colorbar": {
             "outlinewidth": 0,
             "ticks": ""
            },
            "colorscale": [
             [
              0,
              "#0d0887"
             ],
             [
              0.1111111111111111,
              "#46039f"
             ],
             [
              0.2222222222222222,
              "#7201a8"
             ],
             [
              0.3333333333333333,
              "#9c179e"
             ],
             [
              0.4444444444444444,
              "#bd3786"
             ],
             [
              0.5555555555555556,
              "#d8576b"
             ],
             [
              0.6666666666666666,
              "#ed7953"
             ],
             [
              0.7777777777777778,
              "#fb9f3a"
             ],
             [
              0.8888888888888888,
              "#fdca26"
             ],
             [
              1,
              "#f0f921"
             ]
            ],
            "type": "heatmapgl"
           }
          ],
          "histogram": [
           {
            "marker": {
             "pattern": {
              "fillmode": "overlay",
              "size": 10,
              "solidity": 0.2
             }
            },
            "type": "histogram"
           }
          ],
          "histogram2d": [
           {
            "colorbar": {
             "outlinewidth": 0,
             "ticks": ""
            },
            "colorscale": [
             [
              0,
              "#0d0887"
             ],
             [
              0.1111111111111111,
              "#46039f"
             ],
             [
              0.2222222222222222,
              "#7201a8"
             ],
             [
              0.3333333333333333,
              "#9c179e"
             ],
             [
              0.4444444444444444,
              "#bd3786"
             ],
             [
              0.5555555555555556,
              "#d8576b"
             ],
             [
              0.6666666666666666,
              "#ed7953"
             ],
             [
              0.7777777777777778,
              "#fb9f3a"
             ],
             [
              0.8888888888888888,
              "#fdca26"
             ],
             [
              1,
              "#f0f921"
             ]
            ],
            "type": "histogram2d"
           }
          ],
          "histogram2dcontour": [
           {
            "colorbar": {
             "outlinewidth": 0,
             "ticks": ""
            },
            "colorscale": [
             [
              0,
              "#0d0887"
             ],
             [
              0.1111111111111111,
              "#46039f"
             ],
             [
              0.2222222222222222,
              "#7201a8"
             ],
             [
              0.3333333333333333,
              "#9c179e"
             ],
             [
              0.4444444444444444,
              "#bd3786"
             ],
             [
              0.5555555555555556,
              "#d8576b"
             ],
             [
              0.6666666666666666,
              "#ed7953"
             ],
             [
              0.7777777777777778,
              "#fb9f3a"
             ],
             [
              0.8888888888888888,
              "#fdca26"
             ],
             [
              1,
              "#f0f921"
             ]
            ],
            "type": "histogram2dcontour"
           }
          ],
          "mesh3d": [
           {
            "colorbar": {
             "outlinewidth": 0,
             "ticks": ""
            },
            "type": "mesh3d"
           }
          ],
          "parcoords": [
           {
            "line": {
             "colorbar": {
              "outlinewidth": 0,
              "ticks": ""
             }
            },
            "type": "parcoords"
           }
          ],
          "pie": [
           {
            "automargin": true,
            "type": "pie"
           }
          ],
          "scatter": [
           {
            "fillpattern": {
             "fillmode": "overlay",
             "size": 10,
             "solidity": 0.2
            },
            "type": "scatter"
           }
          ],
          "scatter3d": [
           {
            "line": {
             "colorbar": {
              "outlinewidth": 0,
              "ticks": ""
             }
            },
            "marker": {
             "colorbar": {
              "outlinewidth": 0,
              "ticks": ""
             }
            },
            "type": "scatter3d"
           }
          ],
          "scattercarpet": [
           {
            "marker": {
             "colorbar": {
              "outlinewidth": 0,
              "ticks": ""
             }
            },
            "type": "scattercarpet"
           }
          ],
          "scattergeo": [
           {
            "marker": {
             "colorbar": {
              "outlinewidth": 0,
              "ticks": ""
             }
            },
            "type": "scattergeo"
           }
          ],
          "scattergl": [
           {
            "marker": {
             "colorbar": {
              "outlinewidth": 0,
              "ticks": ""
             }
            },
            "type": "scattergl"
           }
          ],
          "scattermapbox": [
           {
            "marker": {
             "colorbar": {
              "outlinewidth": 0,
              "ticks": ""
             }
            },
            "type": "scattermapbox"
           }
          ],
          "scatterpolar": [
           {
            "marker": {
             "colorbar": {
              "outlinewidth": 0,
              "ticks": ""
             }
            },
            "type": "scatterpolar"
           }
          ],
          "scatterpolargl": [
           {
            "marker": {
             "colorbar": {
              "outlinewidth": 0,
              "ticks": ""
             }
            },
            "type": "scatterpolargl"
           }
          ],
          "scatterternary": [
           {
            "marker": {
             "colorbar": {
              "outlinewidth": 0,
              "ticks": ""
             }
            },
            "type": "scatterternary"
           }
          ],
          "surface": [
           {
            "colorbar": {
             "outlinewidth": 0,
             "ticks": ""
            },
            "colorscale": [
             [
              0,
              "#0d0887"
             ],
             [
              0.1111111111111111,
              "#46039f"
             ],
             [
              0.2222222222222222,
              "#7201a8"
             ],
             [
              0.3333333333333333,
              "#9c179e"
             ],
             [
              0.4444444444444444,
              "#bd3786"
             ],
             [
              0.5555555555555556,
              "#d8576b"
             ],
             [
              0.6666666666666666,
              "#ed7953"
             ],
             [
              0.7777777777777778,
              "#fb9f3a"
             ],
             [
              0.8888888888888888,
              "#fdca26"
             ],
             [
              1,
              "#f0f921"
             ]
            ],
            "type": "surface"
           }
          ],
          "table": [
           {
            "cells": {
             "fill": {
              "color": "#EBF0F8"
             },
             "line": {
              "color": "white"
             }
            },
            "header": {
             "fill": {
              "color": "#C8D4E3"
             },
             "line": {
              "color": "white"
             }
            },
            "type": "table"
           }
          ]
         },
         "layout": {
          "annotationdefaults": {
           "arrowcolor": "#2a3f5f",
           "arrowhead": 0,
           "arrowwidth": 1
          },
          "autotypenumbers": "strict",
          "coloraxis": {
           "colorbar": {
            "outlinewidth": 0,
            "ticks": ""
           }
          },
          "colorscale": {
           "diverging": [
            [
             0,
             "#8e0152"
            ],
            [
             0.1,
             "#c51b7d"
            ],
            [
             0.2,
             "#de77ae"
            ],
            [
             0.3,
             "#f1b6da"
            ],
            [
             0.4,
             "#fde0ef"
            ],
            [
             0.5,
             "#f7f7f7"
            ],
            [
             0.6,
             "#e6f5d0"
            ],
            [
             0.7,
             "#b8e186"
            ],
            [
             0.8,
             "#7fbc41"
            ],
            [
             0.9,
             "#4d9221"
            ],
            [
             1,
             "#276419"
            ]
           ],
           "sequential": [
            [
             0,
             "#440154"
            ],
            [
             0.1111111111111111,
             "#482878"
            ],
            [
             0.2222222222222222,
             "#3e4989"
            ],
            [
             0.3333333333333333,
             "#31688e"
            ],
            [
             0.4444444444444444,
             "#26828e"
            ],
            [
             0.5555555555555556,
             "#1f9e89"
            ],
            [
             0.6666666666666666,
             "#35b779"
            ],
            [
             0.7777777777777778,
             "#6ece58"
            ],
            [
             0.8888888888888888,
             "#b5de2b"
            ],
            [
             1,
             "#fde725"
            ]
           ],
           "sequentialminus": [
            [
             0,
             "#0d0887"
            ],
            [
             0.1111111111111111,
             "#46039f"
            ],
            [
             0.2222222222222222,
             "#7201a8"
            ],
            [
             0.3333333333333333,
             "#9c179e"
            ],
            [
             0.4444444444444444,
             "#bd3786"
            ],
            [
             0.5555555555555556,
             "#d8576b"
            ],
            [
             0.6666666666666666,
             "#ed7953"
            ],
            [
             0.7777777777777778,
             "#fb9f3a"
            ],
            [
             0.8888888888888888,
             "#fdca26"
            ],
            [
             1,
             "#f0f921"
            ]
           ]
          },
          "colorway": [
           "#636EFA",
           "#00CC96",
           "#AB63FA",
           "#FFA15A",
           "#19D3F3",
           "#FF6692",
           "#B6E880",
           "#FF97FF",
           "#FECB52"
          ],
          "font": {
           "color": "lightgreen"
          },
          "geo": {
           "bgcolor": "white",
           "lakecolor": "white",
           "landcolor": "#E5ECF6",
           "showlakes": true,
           "showland": true,
           "subunitcolor": "white"
          },
          "hoverlabel": {
           "align": "left"
          },
          "hovermode": "closest",
          "mapbox": {
           "style": "light"
          },
          "paper_bgcolor": "rgba(0, 0, 0, 0)",
          "plot_bgcolor": "#E5ECF6",
          "polar": {
           "angularaxis": {
            "gridcolor": "white",
            "linecolor": "white",
            "ticks": ""
           },
           "bgcolor": "#E5ECF6",
           "radialaxis": {
            "gridcolor": "white",
            "linecolor": "white",
            "ticks": ""
           }
          },
          "scene": {
           "xaxis": {
            "backgroundcolor": "#E5ECF6",
            "gridcolor": "white",
            "gridwidth": 2,
            "linecolor": "white",
            "showbackground": true,
            "ticks": "",
            "zerolinecolor": "white"
           },
           "yaxis": {
            "backgroundcolor": "#E5ECF6",
            "gridcolor": "white",
            "gridwidth": 2,
            "linecolor": "white",
            "showbackground": true,
            "ticks": "",
            "zerolinecolor": "white"
           },
           "zaxis": {
            "backgroundcolor": "#E5ECF6",
            "gridcolor": "white",
            "gridwidth": 2,
            "linecolor": "white",
            "showbackground": true,
            "ticks": "",
            "zerolinecolor": "white"
           }
          },
          "shapedefaults": {
           "line": {
            "color": "#2a3f5f"
           }
          },
          "ternary": {
           "aaxis": {
            "gridcolor": "white",
            "linecolor": "white",
            "ticks": ""
           },
           "baxis": {
            "gridcolor": "white",
            "linecolor": "white",
            "ticks": ""
           },
           "bgcolor": "#E5ECF6",
           "caxis": {
            "gridcolor": "white",
            "linecolor": "white",
            "ticks": ""
           }
          },
          "title": {
           "x": 0.05
          },
          "xaxis": {
           "automargin": true,
           "gridcolor": "white",
           "linecolor": "white",
           "ticks": "",
           "title": {
            "standoff": 15
           },
           "zerolinecolor": "white",
           "zerolinewidth": 2
          },
          "yaxis": {
           "automargin": true,
           "gridcolor": "white",
           "linecolor": "white",
           "ticks": "",
           "title": {
            "standoff": 15
           },
           "zerolinecolor": "white",
           "zerolinewidth": 2
          }
         }
        },
        "title": {
         "text": "Linear"
        },
        "xaxis": {
         "anchor": "y",
         "autorange": true,
         "constrain": "domain",
         "domain": [
          0.39299610894941633,
          0.6070038910505836
         ],
         "range": [
          -0.5,
          1.5
         ],
         "scaleanchor": "y",
         "title": {
          "text": "Predicted"
         },
         "type": "category"
        },
        "yaxis": {
         "anchor": "x",
         "autorange": true,
         "constrain": "domain",
         "domain": [
          0.16196498054474712,
          0.8380350194552528
         ],
         "range": [
          1.5,
          -0.5
         ],
         "title": {
          "text": "True Label"
         },
         "type": "category"
        }
       }
      },
      "image/png": "[encoded data removed]",
      "text/html": [
       "<div>                            <div id=\"3b287a6f-1d22-480e-b655-806c208f76c6\" class=\"plotly-graph-div\" style=\"height:525px; width:100%;\"></div>            <script type=\"text/javascript\">                require([\"plotly\"], function(Plotly) {                    window.PLOTLYENV=window.PLOTLYENV || {};                                    if (document.getElementById(\"3b287a6f-1d22-480e-b655-806c208f76c6\")) {                    Plotly.newPlot(                        \"3b287a6f-1d22-480e-b655-806c208f76c6\",                        [{\"coloraxis\":\"coloraxis\",\"name\":\"0\",\"texttemplate\":\"%{z}\",\"x\":[\"Price Decreased\",\"Price Increased\"],\"y\":[\"Price Decreased\",\"Price Increased\"],\"z\":[[293,1],[100,0]],\"type\":\"heatmap\",\"xaxis\":\"x\",\"yaxis\":\"y\",\"hovertemplate\":\"x: %{x}\\u003cbr\\u003ey: %{y}\\u003cbr\\u003ecolor: %{z}\\u003cextra\\u003e\\u003c\\u002fextra\\u003e\"}],                        {\"template\":{\"data\":{\"barpolar\":[{\"marker\":{\"line\":{\"color\":\"#E5ECF6\",\"width\":0.5},\"pattern\":{\"fillmode\":\"overlay\",\"size\":10,\"solidity\":0.2}},\"type\":\"barpolar\"}],\"bar\":[{\"error_x\":{\"color\":\"#2a3f5f\"},\"error_y\":{\"color\":\"#2a3f5f\"},\"marker\":{\"line\":{\"color\":\"#E5ECF6\",\"width\":0.5},\"pattern\":{\"fillmode\":\"overlay\",\"size\":10,\"solidity\":0.2}},\"type\":\"bar\"}],\"carpet\":[{\"aaxis\":{\"endlinecolor\":\"#2a3f5f\",\"gridcolor\":\"white\",\"linecolor\":\"white\",\"minorgridcolor\":\"white\",\"startlinecolor\":\"#2a3f5f\"},\"baxis\":{\"endlinecolor\":\"#2a3f5f\",\"gridcolor\":\"white\",\"linecolor\":\"white\",\"minorgridcolor\":\"white\",\"startlinecolor\":\"#2a3f5f\"},\"type\":\"carpet\"}],\"choropleth\":[{\"colorbar\":{\"outlinewidth\":0,\"ticks\":\"\"},\"type\":\"choropleth\"}],\"contourcarpet\":[{\"colorbar\":{\"outlinewidth\":0,\"ticks\":\"\"},\"type\":\"contourcarpet\"}],\"contour\":[{\"colorbar\":{\"outlinewidth\":0,\"ticks\":\"\"},\"colorscale\":[[0.0,\"#0d0887\"],[0.1111111111111111,\"#46039f\"],[0.2222222222222222,\"#7201a8\"],[0.3333333333333333,\"#9c179e\"],[0.4444444444444444,\"#bd3786\"],[0.5555555555555556,\"#d8576b\"],[0.6666666666666666,\"#ed7953\"],[0.7777777777777778,\"#fb9f3a\"],[0.8888888888888888,\"#fdca26\"],[1.0,\"#f0f921\"]],\"type\":\"contour\"}],\"heatmapgl\":[{\"colorbar\":{\"outlinewidth\":0,\"ticks\":\"\"},\"colorscale\":[[0.0,\"#0d0887\"],[0.1111111111111111,\"#46039f\"],[0.2222222222222222,\"#7201a8\"],[0.3333333333333333,\"#9c179e\"],[0.4444444444444444,\"#bd3786\"],[0.5555555555555556,\"#d8576b\"],[0.6666666666666666,\"#ed7953\"],[0.7777777777777778,\"#fb9f3a\"],[0.8888888888888888,\"#fdca26\"],[1.0,\"#f0f921\"]],\"type\":\"heatmapgl\"}],\"heatmap\":[{\"colorbar\":{\"outlinewidth\":0,\"ticks\":\"\"},\"colorscale\":[[0.0,\"#0d0887\"],[0.1111111111111111,\"#46039f\"],[0.2222222222222222,\"#7201a8\"],[0.3333333333333333,\"#9c179e\"],[0.4444444444444444,\"#bd3786\"],[0.5555555555555556,\"#d8576b\"],[0.6666666666666666,\"#ed7953\"],[0.7777777777777778,\"#fb9f3a\"],[0.8888888888888888,\"#fdca26\"],[1.0,\"#f0f921\"]],\"type\":\"heatmap\"}],\"histogram2dcontour\":[{\"colorbar\":{\"outlinewidth\":0,\"ticks\":\"\"},\"colorscale\":[[0.0,\"#0d0887\"],[0.1111111111111111,\"#46039f\"],[0.2222222222222222,\"#7201a8\"],[0.3333333333333333,\"#9c179e\"],[0.4444444444444444,\"#bd3786\"],[0.5555555555555556,\"#d8576b\"],[0.6666666666666666,\"#ed7953\"],[0.7777777777777778,\"#fb9f3a\"],[0.8888888888888888,\"#fdca26\"],[1.0,\"#f0f921\"]],\"type\":\"histogram2dcontour\"}],\"histogram2d\":[{\"colorbar\":{\"outlinewidth\":0,\"ticks\":\"\"},\"colorscale\":[[0.0,\"#0d0887\"],[0.1111111111111111,\"#46039f\"],[0.2222222222222222,\"#7201a8\"],[0.3333333333333333,\"#9c179e\"],[0.4444444444444444,\"#bd3786\"],[0.5555555555555556,\"#d8576b\"],[0.6666666666666666,\"#ed7953\"],[0.7777777777777778,\"#fb9f3a\"],[0.8888888888888888,\"#fdca26\"],[1.0,\"#f0f921\"]],\"type\":\"histogram2d\"}],\"histogram\":[{\"marker\":{\"pattern\":{\"fillmode\":\"overlay\",\"size\":10,\"solidity\":0.2}},\"type\":\"histogram\"}],\"mesh3d\":[{\"colorbar\":{\"outlinewidth\":0,\"ticks\":\"\"},\"type\":\"mesh3d\"}],\"parcoords\":[{\"line\":{\"colorbar\":{\"outlinewidth\":0,\"ticks\":\"\"}},\"type\":\"parcoords\"}],\"pie\":[{\"automargin\":true,\"type\":\"pie\"}],\"scatter3d\":[{\"line\":{\"colorbar\":{\"outlinewidth\":0,\"ticks\":\"\"}},\"marker\":{\"colorbar\":{\"outlinewidth\":0,\"ticks\":\"\"}},\"type\":\"scatter3d\"}],\"scattercarpet\":[{\"marker\":{\"colorbar\":{\"outlinewidth\":0,\"ticks\":\"\"}},\"type\":\"scattercarpet\"}],\"scattergeo\":[{\"marker\":{\"colorbar\":{\"outlinewidth\":0,\"ticks\":\"\"}},\"type\":\"scattergeo\"}],\"scattergl\":[{\"marker\":{\"colorbar\":{\"outlinewidth\":0,\"ticks\":\"\"}},\"type\":\"scattergl\"}],\"scattermapbox\":[{\"marker\":{\"colorbar\":{\"outlinewidth\":0,\"ticks\":\"\"}},\"type\":\"scattermapbox\"}],\"scatterpolargl\":[{\"marker\":{\"colorbar\":{\"outlinewidth\":0,\"ticks\":\"\"}},\"type\":\"scatterpolargl\"}],\"scatterpolar\":[{\"marker\":{\"colorbar\":{\"outlinewidth\":0,\"ticks\":\"\"}},\"type\":\"scatterpolar\"}],\"scatter\":[{\"fillpattern\":{\"fillmode\":\"overlay\",\"size\":10,\"solidity\":0.2},\"type\":\"scatter\"}],\"scatterternary\":[{\"marker\":{\"colorbar\":{\"outlinewidth\":0,\"ticks\":\"\"}},\"type\":\"scatterternary\"}],\"surface\":[{\"colorbar\":{\"outlinewidth\":0,\"ticks\":\"\"},\"colorscale\":[[0.0,\"#0d0887\"],[0.1111111111111111,\"#46039f\"],[0.2222222222222222,\"#7201a8\"],[0.3333333333333333,\"#9c179e\"],[0.4444444444444444,\"#bd3786\"],[0.5555555555555556,\"#d8576b\"],[0.6666666666666666,\"#ed7953\"],[0.7777777777777778,\"#fb9f3a\"],[0.8888888888888888,\"#fdca26\"],[1.0,\"#f0f921\"]],\"type\":\"surface\"}],\"table\":[{\"cells\":{\"fill\":{\"color\":\"#EBF0F8\"},\"line\":{\"color\":\"white\"}},\"header\":{\"fill\":{\"color\":\"#C8D4E3\"},\"line\":{\"color\":\"white\"}},\"type\":\"table\"}]},\"layout\":{\"annotationdefaults\":{\"arrowcolor\":\"#2a3f5f\",\"arrowhead\":0,\"arrowwidth\":1},\"autotypenumbers\":\"strict\",\"coloraxis\":{\"colorbar\":{\"outlinewidth\":0,\"ticks\":\"\"}},\"colorscale\":{\"diverging\":[[0,\"#8e0152\"],[0.1,\"#c51b7d\"],[0.2,\"#de77ae\"],[0.3,\"#f1b6da\"],[0.4,\"#fde0ef\"],[0.5,\"#f7f7f7\"],[0.6,\"#e6f5d0\"],[0.7,\"#b8e186\"],[0.8,\"#7fbc41\"],[0.9,\"#4d9221\"],[1,\"#276419\"]],\"sequential\":[[0.0,\"#440154\"],[0.1111111111111111,\"#482878\"],[0.2222222222222222,\"#3e4989\"],[0.3333333333333333,\"#31688e\"],[0.4444444444444444,\"#26828e\"],[0.5555555555555556,\"#1f9e89\"],[0.6666666666666666,\"#35b779\"],[0.7777777777777778,\"#6ece58\"],[0.8888888888888888,\"#b5de2b\"],[1.0,\"#fde725\"]],\"sequentialminus\":[[0.0,\"#0d0887\"],[0.1111111111111111,\"#46039f\"],[0.2222222222222222,\"#7201a8\"],[0.3333333333333333,\"#9c179e\"],[0.4444444444444444,\"#bd3786\"],[0.5555555555555556,\"#d8576b\"],[0.6666666666666666,\"#ed7953\"],[0.7777777777777778,\"#fb9f3a\"],[0.8888888888888888,\"#fdca26\"],[1.0,\"#f0f921\"]]},\"colorway\":[\"#636EFA\",\"#00CC96\",\"#AB63FA\",\"#FFA15A\",\"#19D3F3\",\"#FF6692\",\"#B6E880\",\"#FF97FF\",\"#FECB52\"],\"font\":{\"color\":\"lightgreen\"},\"geo\":{\"bgcolor\":\"white\",\"lakecolor\":\"white\",\"landcolor\":\"#E5ECF6\",\"showlakes\":true,\"showland\":true,\"subunitcolor\":\"white\"},\"hoverlabel\":{\"align\":\"left\"},\"hovermode\":\"closest\",\"mapbox\":{\"style\":\"light\"},\"paper_bgcolor\":\"rgba(0, 0, 0, 0)\",\"plot_bgcolor\":\"#E5ECF6\",\"polar\":{\"angularaxis\":{\"gridcolor\":\"white\",\"linecolor\":\"white\",\"ticks\":\"\"},\"bgcolor\":\"#E5ECF6\",\"radialaxis\":{\"gridcolor\":\"white\",\"linecolor\":\"white\",\"ticks\":\"\"}},\"scene\":{\"xaxis\":{\"backgroundcolor\":\"#E5ECF6\",\"gridcolor\":\"white\",\"gridwidth\":2,\"linecolor\":\"white\",\"showbackground\":true,\"ticks\":\"\",\"zerolinecolor\":\"white\"},\"yaxis\":{\"backgroundcolor\":\"#E5ECF6\",\"gridcolor\":\"white\",\"gridwidth\":2,\"linecolor\":\"white\",\"showbackground\":true,\"ticks\":\"\",\"zerolinecolor\":\"white\"},\"zaxis\":{\"backgroundcolor\":\"#E5ECF6\",\"gridcolor\":\"white\",\"gridwidth\":2,\"linecolor\":\"white\",\"showbackground\":true,\"ticks\":\"\",\"zerolinecolor\":\"white\"}},\"shapedefaults\":{\"line\":{\"color\":\"#2a3f5f\"}},\"ternary\":{\"aaxis\":{\"gridcolor\":\"white\",\"linecolor\":\"white\",\"ticks\":\"\"},\"baxis\":{\"gridcolor\":\"white\",\"linecolor\":\"white\",\"ticks\":\"\"},\"bgcolor\":\"#E5ECF6\",\"caxis\":{\"gridcolor\":\"white\",\"linecolor\":\"white\",\"ticks\":\"\"}},\"title\":{\"x\":0.05},\"xaxis\":{\"automargin\":true,\"gridcolor\":\"white\",\"linecolor\":\"white\",\"ticks\":\"\",\"title\":{\"standoff\":15},\"zerolinecolor\":\"white\",\"zerolinewidth\":2},\"yaxis\":{\"automargin\":true,\"gridcolor\":\"white\",\"linecolor\":\"white\",\"ticks\":\"\",\"title\":{\"standoff\":15},\"zerolinecolor\":\"white\",\"zerolinewidth\":2}}},\"xaxis\":{\"anchor\":\"y\",\"domain\":[0.0,1.0],\"scaleanchor\":\"y\",\"constrain\":\"domain\",\"title\":{\"text\":\"Predicted\"}},\"yaxis\":{\"anchor\":\"x\",\"domain\":[0.0,1.0],\"autorange\":\"reversed\",\"constrain\":\"domain\",\"title\":{\"text\":\"True Label\"}},\"coloraxis\":{\"colorscale\":[[0.0,\"#440154\"],[0.1111111111111111,\"#482878\"],[0.2222222222222222,\"#3e4989\"],[0.3333333333333333,\"#31688e\"],[0.4444444444444444,\"#26828e\"],[0.5555555555555556,\"#1f9e89\"],[0.6666666666666666,\"#35b779\"],[0.7777777777777778,\"#6ece58\"],[0.8888888888888888,\"#b5de2b\"],[1.0,\"#fde725\"]],\"showscale\":false},\"margin\":{\"t\":60},\"title\":{\"text\":\"Linear\"}},                        {\"responsive\": true}                    ).then(function(){\n",
       "                            \n",
       "var gd = document.getElementById('3b287a6f-1d22-480e-b655-806c208f76c6');\n",
       "var x = new MutationObserver(function (mutations, observer) {{\n",
       "        var display = window.getComputedStyle(gd).display;\n",
       "        if (!display || display === 'none') {{\n",
       "            console.log([gd, 'removed!']);\n",
       "            Plotly.purge(gd);\n",
       "            observer.disconnect();\n",
       "        }}\n",
       "}});\n",
       "\n",
       "// Listen for the removal of the full notebook cells\n",
       "var notebookContainer = gd.closest('#notebook-container');\n",
       "if (notebookContainer) {{\n",
       "    x.observe(notebookContainer, {childList: true});\n",
       "}}\n",
       "\n",
       "// Listen for the clearing of the current output cell\n",
       "var outputEl = gd.closest('.output');\n",
       "if (outputEl) {{\n",
       "    x.observe(outputEl, {childList: true});\n",
       "}}\n",
       "\n",
       "                        })                };                });            </script>        </div>"
      ]
     },
     "metadata": {},
     "output_type": "display_data"
    },
    {
     "data": {
      "application/vnd.plotly.v1+json": {
       "config": {
        "plotlyServerURL": "https://plot.ly"
       },
       "data": [
        {
         "coloraxis": "coloraxis",
         "hovertemplate": "x: %{x}<br>y: %{y}<br>color: %{z}<extra></extra>",
         "name": "0",
         "texttemplate": "%{z}",
         "type": "heatmap",
         "x": [
          "Price Decreased",
          "Price Increased"
         ],
         "xaxis": "x",
         "y": [
          "Price Decreased",
          "Price Increased"
         ],
         "yaxis": "y",
         "z": [
          [
           248,
           46
          ],
          [
           80,
           20
          ]
         ]
        }
       ],
       "layout": {
        "autosize": true,
        "coloraxis": {
         "colorscale": [
          [
           0,
           "#440154"
          ],
          [
           0.1111111111111111,
           "#482878"
          ],
          [
           0.2222222222222222,
           "#3e4989"
          ],
          [
           0.3333333333333333,
           "#31688e"
          ],
          [
           0.4444444444444444,
           "#26828e"
          ],
          [
           0.5555555555555556,
           "#1f9e89"
          ],
          [
           0.6666666666666666,
           "#35b779"
          ],
          [
           0.7777777777777778,
           "#6ece58"
          ],
          [
           0.8888888888888888,
           "#b5de2b"
          ],
          [
           1,
           "#fde725"
          ]
         ],
         "showscale": false
        },
        "margin": {
         "t": 60
        },
        "template": {
         "data": {
          "bar": [
           {
            "error_x": {
             "color": "#2a3f5f"
            },
            "error_y": {
             "color": "#2a3f5f"
            },
            "marker": {
             "line": {
              "color": "#E5ECF6",
              "width": 0.5
             },
             "pattern": {
              "fillmode": "overlay",
              "size": 10,
              "solidity": 0.2
             }
            },
            "type": "bar"
           }
          ],
          "barpolar": [
           {
            "marker": {
             "line": {
              "color": "#E5ECF6",
              "width": 0.5
             },
             "pattern": {
              "fillmode": "overlay",
              "size": 10,
              "solidity": 0.2
             }
            },
            "type": "barpolar"
           }
          ],
          "carpet": [
           {
            "aaxis": {
             "endlinecolor": "#2a3f5f",
             "gridcolor": "white",
             "linecolor": "white",
             "minorgridcolor": "white",
             "startlinecolor": "#2a3f5f"
            },
            "baxis": {
             "endlinecolor": "#2a3f5f",
             "gridcolor": "white",
             "linecolor": "white",
             "minorgridcolor": "white",
             "startlinecolor": "#2a3f5f"
            },
            "type": "carpet"
           }
          ],
          "choropleth": [
           {
            "colorbar": {
             "outlinewidth": 0,
             "ticks": ""
            },
            "type": "choropleth"
           }
          ],
          "contour": [
           {
            "colorbar": {
             "outlinewidth": 0,
             "ticks": ""
            },
            "colorscale": [
             [
              0,
              "#0d0887"
             ],
             [
              0.1111111111111111,
              "#46039f"
             ],
             [
              0.2222222222222222,
              "#7201a8"
             ],
             [
              0.3333333333333333,
              "#9c179e"
             ],
             [
              0.4444444444444444,
              "#bd3786"
             ],
             [
              0.5555555555555556,
              "#d8576b"
             ],
             [
              0.6666666666666666,
              "#ed7953"
             ],
             [
              0.7777777777777778,
              "#fb9f3a"
             ],
             [
              0.8888888888888888,
              "#fdca26"
             ],
             [
              1,
              "#f0f921"
             ]
            ],
            "type": "contour"
           }
          ],
          "contourcarpet": [
           {
            "colorbar": {
             "outlinewidth": 0,
             "ticks": ""
            },
            "type": "contourcarpet"
           }
          ],
          "heatmap": [
           {
            "colorbar": {
             "outlinewidth": 0,
             "ticks": ""
            },
            "colorscale": [
             [
              0,
              "#0d0887"
             ],
             [
              0.1111111111111111,
              "#46039f"
             ],
             [
              0.2222222222222222,
              "#7201a8"
             ],
             [
              0.3333333333333333,
              "#9c179e"
             ],
             [
              0.4444444444444444,
              "#bd3786"
             ],
             [
              0.5555555555555556,
              "#d8576b"
             ],
             [
              0.6666666666666666,
              "#ed7953"
             ],
             [
              0.7777777777777778,
              "#fb9f3a"
             ],
             [
              0.8888888888888888,
              "#fdca26"
             ],
             [
              1,
              "#f0f921"
             ]
            ],
            "type": "heatmap"
           }
          ],
          "heatmapgl": [
           {
            "colorbar": {
             "outlinewidth": 0,
             "ticks": ""
            },
            "colorscale": [
             [
              0,
              "#0d0887"
             ],
             [
              0.1111111111111111,
              "#46039f"
             ],
             [
              0.2222222222222222,
              "#7201a8"
             ],
             [
              0.3333333333333333,
              "#9c179e"
             ],
             [
              0.4444444444444444,
              "#bd3786"
             ],
             [
              0.5555555555555556,
              "#d8576b"
             ],
             [
              0.6666666666666666,
              "#ed7953"
             ],
             [
              0.7777777777777778,
              "#fb9f3a"
             ],
             [
              0.8888888888888888,
              "#fdca26"
             ],
             [
              1,
              "#f0f921"
             ]
            ],
            "type": "heatmapgl"
           }
          ],
          "histogram": [
           {
            "marker": {
             "pattern": {
              "fillmode": "overlay",
              "size": 10,
              "solidity": 0.2
             }
            },
            "type": "histogram"
           }
          ],
          "histogram2d": [
           {
            "colorbar": {
             "outlinewidth": 0,
             "ticks": ""
            },
            "colorscale": [
             [
              0,
              "#0d0887"
             ],
             [
              0.1111111111111111,
              "#46039f"
             ],
             [
              0.2222222222222222,
              "#7201a8"
             ],
             [
              0.3333333333333333,
              "#9c179e"
             ],
             [
              0.4444444444444444,
              "#bd3786"
             ],
             [
              0.5555555555555556,
              "#d8576b"
             ],
             [
              0.6666666666666666,
              "#ed7953"
             ],
             [
              0.7777777777777778,
              "#fb9f3a"
             ],
             [
              0.8888888888888888,
              "#fdca26"
             ],
             [
              1,
              "#f0f921"
             ]
            ],
            "type": "histogram2d"
           }
          ],
          "histogram2dcontour": [
           {
            "colorbar": {
             "outlinewidth": 0,
             "ticks": ""
            },
            "colorscale": [
             [
              0,
              "#0d0887"
             ],
             [
              0.1111111111111111,
              "#46039f"
             ],
             [
              0.2222222222222222,
              "#7201a8"
             ],
             [
              0.3333333333333333,
              "#9c179e"
             ],
             [
              0.4444444444444444,
              "#bd3786"
             ],
             [
              0.5555555555555556,
              "#d8576b"
             ],
             [
              0.6666666666666666,
              "#ed7953"
             ],
             [
              0.7777777777777778,
              "#fb9f3a"
             ],
             [
              0.8888888888888888,
              "#fdca26"
             ],
             [
              1,
              "#f0f921"
             ]
            ],
            "type": "histogram2dcontour"
           }
          ],
          "mesh3d": [
           {
            "colorbar": {
             "outlinewidth": 0,
             "ticks": ""
            },
            "type": "mesh3d"
           }
          ],
          "parcoords": [
           {
            "line": {
             "colorbar": {
              "outlinewidth": 0,
              "ticks": ""
             }
            },
            "type": "parcoords"
           }
          ],
          "pie": [
           {
            "automargin": true,
            "type": "pie"
           }
          ],
          "scatter": [
           {
            "fillpattern": {
             "fillmode": "overlay",
             "size": 10,
             "solidity": 0.2
            },
            "type": "scatter"
           }
          ],
          "scatter3d": [
           {
            "line": {
             "colorbar": {
              "outlinewidth": 0,
              "ticks": ""
             }
            },
            "marker": {
             "colorbar": {
              "outlinewidth": 0,
              "ticks": ""
             }
            },
            "type": "scatter3d"
           }
          ],
          "scattercarpet": [
           {
            "marker": {
             "colorbar": {
              "outlinewidth": 0,
              "ticks": ""
             }
            },
            "type": "scattercarpet"
           }
          ],
          "scattergeo": [
           {
            "marker": {
             "colorbar": {
              "outlinewidth": 0,
              "ticks": ""
             }
            },
            "type": "scattergeo"
           }
          ],
          "scattergl": [
           {
            "marker": {
             "colorbar": {
              "outlinewidth": 0,
              "ticks": ""
             }
            },
            "type": "scattergl"
           }
          ],
          "scattermapbox": [
           {
            "marker": {
             "colorbar": {
              "outlinewidth": 0,
              "ticks": ""
             }
            },
            "type": "scattermapbox"
           }
          ],
          "scatterpolar": [
           {
            "marker": {
             "colorbar": {
              "outlinewidth": 0,
              "ticks": ""
             }
            },
            "type": "scatterpolar"
           }
          ],
          "scatterpolargl": [
           {
            "marker": {
             "colorbar": {
              "outlinewidth": 0,
              "ticks": ""
             }
            },
            "type": "scatterpolargl"
           }
          ],
          "scatterternary": [
           {
            "marker": {
             "colorbar": {
              "outlinewidth": 0,
              "ticks": ""
             }
            },
            "type": "scatterternary"
           }
          ],
          "surface": [
           {
            "colorbar": {
             "outlinewidth": 0,
             "ticks": ""
            },
            "colorscale": [
             [
              0,
              "#0d0887"
             ],
             [
              0.1111111111111111,
              "#46039f"
             ],
             [
              0.2222222222222222,
              "#7201a8"
             ],
             [
              0.3333333333333333,
              "#9c179e"
             ],
             [
              0.4444444444444444,
              "#bd3786"
             ],
             [
              0.5555555555555556,
              "#d8576b"
             ],
             [
              0.6666666666666666,
              "#ed7953"
             ],
             [
              0.7777777777777778,
              "#fb9f3a"
             ],
             [
              0.8888888888888888,
              "#fdca26"
             ],
             [
              1,
              "#f0f921"
             ]
            ],
            "type": "surface"
           }
          ],
          "table": [
           {
            "cells": {
             "fill": {
              "color": "#EBF0F8"
             },
             "line": {
              "color": "white"
             }
            },
            "header": {
             "fill": {
              "color": "#C8D4E3"
             },
             "line": {
              "color": "white"
             }
            },
            "type": "table"
           }
          ]
         },
         "layout": {
          "annotationdefaults": {
           "arrowcolor": "#2a3f5f",
           "arrowhead": 0,
           "arrowwidth": 1
          },
          "autotypenumbers": "strict",
          "coloraxis": {
           "colorbar": {
            "outlinewidth": 0,
            "ticks": ""
           }
          },
          "colorscale": {
           "diverging": [
            [
             0,
             "#8e0152"
            ],
            [
             0.1,
             "#c51b7d"
            ],
            [
             0.2,
             "#de77ae"
            ],
            [
             0.3,
             "#f1b6da"
            ],
            [
             0.4,
             "#fde0ef"
            ],
            [
             0.5,
             "#f7f7f7"
            ],
            [
             0.6,
             "#e6f5d0"
            ],
            [
             0.7,
             "#b8e186"
            ],
            [
             0.8,
             "#7fbc41"
            ],
            [
             0.9,
             "#4d9221"
            ],
            [
             1,
             "#276419"
            ]
           ],
           "sequential": [
            [
             0,
             "#440154"
            ],
            [
             0.1111111111111111,
             "#482878"
            ],
            [
             0.2222222222222222,
             "#3e4989"
            ],
            [
             0.3333333333333333,
             "#31688e"
            ],
            [
             0.4444444444444444,
             "#26828e"
            ],
            [
             0.5555555555555556,
             "#1f9e89"
            ],
            [
             0.6666666666666666,
             "#35b779"
            ],
            [
             0.7777777777777778,
             "#6ece58"
            ],
            [
             0.8888888888888888,
             "#b5de2b"
            ],
            [
             1,
             "#fde725"
            ]
           ],
           "sequentialminus": [
            [
             0,
             "#0d0887"
            ],
            [
             0.1111111111111111,
             "#46039f"
            ],
            [
             0.2222222222222222,
             "#7201a8"
            ],
            [
             0.3333333333333333,
             "#9c179e"
            ],
            [
             0.4444444444444444,
             "#bd3786"
            ],
            [
             0.5555555555555556,
             "#d8576b"
            ],
            [
             0.6666666666666666,
             "#ed7953"
            ],
            [
             0.7777777777777778,
             "#fb9f3a"
            ],
            [
             0.8888888888888888,
             "#fdca26"
            ],
            [
             1,
             "#f0f921"
            ]
           ]
          },
          "colorway": [
           "#636EFA",
           "#00CC96",
           "#AB63FA",
           "#FFA15A",
           "#19D3F3",
           "#FF6692",
           "#B6E880",
           "#FF97FF",
           "#FECB52"
          ],
          "font": {
           "color": "lightgreen"
          },
          "geo": {
           "bgcolor": "white",
           "lakecolor": "white",
           "landcolor": "#E5ECF6",
           "showlakes": true,
           "showland": true,
           "subunitcolor": "white"
          },
          "hoverlabel": {
           "align": "left"
          },
          "hovermode": "closest",
          "mapbox": {
           "style": "light"
          },
          "paper_bgcolor": "rgba(0, 0, 0, 0)",
          "plot_bgcolor": "#E5ECF6",
          "polar": {
           "angularaxis": {
            "gridcolor": "white",
            "linecolor": "white",
            "ticks": ""
           },
           "bgcolor": "#E5ECF6",
           "radialaxis": {
            "gridcolor": "white",
            "linecolor": "white",
            "ticks": ""
           }
          },
          "scene": {
           "xaxis": {
            "backgroundcolor": "#E5ECF6",
            "gridcolor": "white",
            "gridwidth": 2,
            "linecolor": "white",
            "showbackground": true,
            "ticks": "",
            "zerolinecolor": "white"
           },
           "yaxis": {
            "backgroundcolor": "#E5ECF6",
            "gridcolor": "white",
            "gridwidth": 2,
            "linecolor": "white",
            "showbackground": true,
            "ticks": "",
            "zerolinecolor": "white"
           },
           "zaxis": {
            "backgroundcolor": "#E5ECF6",
            "gridcolor": "white",
            "gridwidth": 2,
            "linecolor": "white",
            "showbackground": true,
            "ticks": "",
            "zerolinecolor": "white"
           }
          },
          "shapedefaults": {
           "line": {
            "color": "#2a3f5f"
           }
          },
          "ternary": {
           "aaxis": {
            "gridcolor": "white",
            "linecolor": "white",
            "ticks": ""
           },
           "baxis": {
            "gridcolor": "white",
            "linecolor": "white",
            "ticks": ""
           },
           "bgcolor": "#E5ECF6",
           "caxis": {
            "gridcolor": "white",
            "linecolor": "white",
            "ticks": ""
           }
          },
          "title": {
           "x": 0.05
          },
          "xaxis": {
           "automargin": true,
           "gridcolor": "white",
           "linecolor": "white",
           "ticks": "",
           "title": {
            "standoff": 15
           },
           "zerolinecolor": "white",
           "zerolinewidth": 2
          },
          "yaxis": {
           "automargin": true,
           "gridcolor": "white",
           "linecolor": "white",
           "ticks": "",
           "title": {
            "standoff": 15
           },
           "zerolinecolor": "white",
           "zerolinewidth": 2
          }
         }
        },
        "title": {
         "text": "Polynomial"
        },
        "xaxis": {
         "anchor": "y",
         "autorange": true,
         "constrain": "domain",
         "domain": [
          0.39299610894941633,
          0.6070038910505836
         ],
         "range": [
          -0.5,
          1.5
         ],
         "scaleanchor": "y",
         "title": {
          "text": "Predicted"
         },
         "type": "category"
        },
        "yaxis": {
         "anchor": "x",
         "autorange": true,
         "constrain": "domain",
         "domain": [
          0.16196498054474712,
          0.8380350194552528
         ],
         "range": [
          1.5,
          -0.5
         ],
         "title": {
          "text": "True Label"
         },
         "type": "category"
        }
       }
      },
      "image/png": "[encoded data removed]",
      "text/html": [
       "<div>                            <div id=\"a009d899-af18-47d4-a82b-2b7629d8be8f\" class=\"plotly-graph-div\" style=\"height:525px; width:100%;\"></div>            <script type=\"text/javascript\">                require([\"plotly\"], function(Plotly) {                    window.PLOTLYENV=window.PLOTLYENV || {};                                    if (document.getElementById(\"a009d899-af18-47d4-a82b-2b7629d8be8f\")) {                    Plotly.newPlot(                        \"a009d899-af18-47d4-a82b-2b7629d8be8f\",                        [{\"coloraxis\":\"coloraxis\",\"name\":\"0\",\"texttemplate\":\"%{z}\",\"x\":[\"Price Decreased\",\"Price Increased\"],\"y\":[\"Price Decreased\",\"Price Increased\"],\"z\":[[248,46],[80,20]],\"type\":\"heatmap\",\"xaxis\":\"x\",\"yaxis\":\"y\",\"hovertemplate\":\"x: %{x}\\u003cbr\\u003ey: %{y}\\u003cbr\\u003ecolor: %{z}\\u003cextra\\u003e\\u003c\\u002fextra\\u003e\"}],                        {\"template\":{\"data\":{\"barpolar\":[{\"marker\":{\"line\":{\"color\":\"#E5ECF6\",\"width\":0.5},\"pattern\":{\"fillmode\":\"overlay\",\"size\":10,\"solidity\":0.2}},\"type\":\"barpolar\"}],\"bar\":[{\"error_x\":{\"color\":\"#2a3f5f\"},\"error_y\":{\"color\":\"#2a3f5f\"},\"marker\":{\"line\":{\"color\":\"#E5ECF6\",\"width\":0.5},\"pattern\":{\"fillmode\":\"overlay\",\"size\":10,\"solidity\":0.2}},\"type\":\"bar\"}],\"carpet\":[{\"aaxis\":{\"endlinecolor\":\"#2a3f5f\",\"gridcolor\":\"white\",\"linecolor\":\"white\",\"minorgridcolor\":\"white\",\"startlinecolor\":\"#2a3f5f\"},\"baxis\":{\"endlinecolor\":\"#2a3f5f\",\"gridcolor\":\"white\",\"linecolor\":\"white\",\"minorgridcolor\":\"white\",\"startlinecolor\":\"#2a3f5f\"},\"type\":\"carpet\"}],\"choropleth\":[{\"colorbar\":{\"outlinewidth\":0,\"ticks\":\"\"},\"type\":\"choropleth\"}],\"contourcarpet\":[{\"colorbar\":{\"outlinewidth\":0,\"ticks\":\"\"},\"type\":\"contourcarpet\"}],\"contour\":[{\"colorbar\":{\"outlinewidth\":0,\"ticks\":\"\"},\"colorscale\":[[0.0,\"#0d0887\"],[0.1111111111111111,\"#46039f\"],[0.2222222222222222,\"#7201a8\"],[0.3333333333333333,\"#9c179e\"],[0.4444444444444444,\"#bd3786\"],[0.5555555555555556,\"#d8576b\"],[0.6666666666666666,\"#ed7953\"],[0.7777777777777778,\"#fb9f3a\"],[0.8888888888888888,\"#fdca26\"],[1.0,\"#f0f921\"]],\"type\":\"contour\"}],\"heatmapgl\":[{\"colorbar\":{\"outlinewidth\":0,\"ticks\":\"\"},\"colorscale\":[[0.0,\"#0d0887\"],[0.1111111111111111,\"#46039f\"],[0.2222222222222222,\"#7201a8\"],[0.3333333333333333,\"#9c179e\"],[0.4444444444444444,\"#bd3786\"],[0.5555555555555556,\"#d8576b\"],[0.6666666666666666,\"#ed7953\"],[0.7777777777777778,\"#fb9f3a\"],[0.8888888888888888,\"#fdca26\"],[1.0,\"#f0f921\"]],\"type\":\"heatmapgl\"}],\"heatmap\":[{\"colorbar\":{\"outlinewidth\":0,\"ticks\":\"\"},\"colorscale\":[[0.0,\"#0d0887\"],[0.1111111111111111,\"#46039f\"],[0.2222222222222222,\"#7201a8\"],[0.3333333333333333,\"#9c179e\"],[0.4444444444444444,\"#bd3786\"],[0.5555555555555556,\"#d8576b\"],[0.6666666666666666,\"#ed7953\"],[0.7777777777777778,\"#fb9f3a\"],[0.8888888888888888,\"#fdca26\"],[1.0,\"#f0f921\"]],\"type\":\"heatmap\"}],\"histogram2dcontour\":[{\"colorbar\":{\"outlinewidth\":0,\"ticks\":\"\"},\"colorscale\":[[0.0,\"#0d0887\"],[0.1111111111111111,\"#46039f\"],[0.2222222222222222,\"#7201a8\"],[0.3333333333333333,\"#9c179e\"],[0.4444444444444444,\"#bd3786\"],[0.5555555555555556,\"#d8576b\"],[0.6666666666666666,\"#ed7953\"],[0.7777777777777778,\"#fb9f3a\"],[0.8888888888888888,\"#fdca26\"],[1.0,\"#f0f921\"]],\"type\":\"histogram2dcontour\"}],\"histogram2d\":[{\"colorbar\":{\"outlinewidth\":0,\"ticks\":\"\"},\"colorscale\":[[0.0,\"#0d0887\"],[0.1111111111111111,\"#46039f\"],[0.2222222222222222,\"#7201a8\"],[0.3333333333333333,\"#9c179e\"],[0.4444444444444444,\"#bd3786\"],[0.5555555555555556,\"#d8576b\"],[0.6666666666666666,\"#ed7953\"],[0.7777777777777778,\"#fb9f3a\"],[0.8888888888888888,\"#fdca26\"],[1.0,\"#f0f921\"]],\"type\":\"histogram2d\"}],\"histogram\":[{\"marker\":{\"pattern\":{\"fillmode\":\"overlay\",\"size\":10,\"solidity\":0.2}},\"type\":\"histogram\"}],\"mesh3d\":[{\"colorbar\":{\"outlinewidth\":0,\"ticks\":\"\"},\"type\":\"mesh3d\"}],\"parcoords\":[{\"line\":{\"colorbar\":{\"outlinewidth\":0,\"ticks\":\"\"}},\"type\":\"parcoords\"}],\"pie\":[{\"automargin\":true,\"type\":\"pie\"}],\"scatter3d\":[{\"line\":{\"colorbar\":{\"outlinewidth\":0,\"ticks\":\"\"}},\"marker\":{\"colorbar\":{\"outlinewidth\":0,\"ticks\":\"\"}},\"type\":\"scatter3d\"}],\"scattercarpet\":[{\"marker\":{\"colorbar\":{\"outlinewidth\":0,\"ticks\":\"\"}},\"type\":\"scattercarpet\"}],\"scattergeo\":[{\"marker\":{\"colorbar\":{\"outlinewidth\":0,\"ticks\":\"\"}},\"type\":\"scattergeo\"}],\"scattergl\":[{\"marker\":{\"colorbar\":{\"outlinewidth\":0,\"ticks\":\"\"}},\"type\":\"scattergl\"}],\"scattermapbox\":[{\"marker\":{\"colorbar\":{\"outlinewidth\":0,\"ticks\":\"\"}},\"type\":\"scattermapbox\"}],\"scatterpolargl\":[{\"marker\":{\"colorbar\":{\"outlinewidth\":0,\"ticks\":\"\"}},\"type\":\"scatterpolargl\"}],\"scatterpolar\":[{\"marker\":{\"colorbar\":{\"outlinewidth\":0,\"ticks\":\"\"}},\"type\":\"scatterpolar\"}],\"scatter\":[{\"fillpattern\":{\"fillmode\":\"overlay\",\"size\":10,\"solidity\":0.2},\"type\":\"scatter\"}],\"scatterternary\":[{\"marker\":{\"colorbar\":{\"outlinewidth\":0,\"ticks\":\"\"}},\"type\":\"scatterternary\"}],\"surface\":[{\"colorbar\":{\"outlinewidth\":0,\"ticks\":\"\"},\"colorscale\":[[0.0,\"#0d0887\"],[0.1111111111111111,\"#46039f\"],[0.2222222222222222,\"#7201a8\"],[0.3333333333333333,\"#9c179e\"],[0.4444444444444444,\"#bd3786\"],[0.5555555555555556,\"#d8576b\"],[0.6666666666666666,\"#ed7953\"],[0.7777777777777778,\"#fb9f3a\"],[0.8888888888888888,\"#fdca26\"],[1.0,\"#f0f921\"]],\"type\":\"surface\"}],\"table\":[{\"cells\":{\"fill\":{\"color\":\"#EBF0F8\"},\"line\":{\"color\":\"white\"}},\"header\":{\"fill\":{\"color\":\"#C8D4E3\"},\"line\":{\"color\":\"white\"}},\"type\":\"table\"}]},\"layout\":{\"annotationdefaults\":{\"arrowcolor\":\"#2a3f5f\",\"arrowhead\":0,\"arrowwidth\":1},\"autotypenumbers\":\"strict\",\"coloraxis\":{\"colorbar\":{\"outlinewidth\":0,\"ticks\":\"\"}},\"colorscale\":{\"diverging\":[[0,\"#8e0152\"],[0.1,\"#c51b7d\"],[0.2,\"#de77ae\"],[0.3,\"#f1b6da\"],[0.4,\"#fde0ef\"],[0.5,\"#f7f7f7\"],[0.6,\"#e6f5d0\"],[0.7,\"#b8e186\"],[0.8,\"#7fbc41\"],[0.9,\"#4d9221\"],[1,\"#276419\"]],\"sequential\":[[0.0,\"#440154\"],[0.1111111111111111,\"#482878\"],[0.2222222222222222,\"#3e4989\"],[0.3333333333333333,\"#31688e\"],[0.4444444444444444,\"#26828e\"],[0.5555555555555556,\"#1f9e89\"],[0.6666666666666666,\"#35b779\"],[0.7777777777777778,\"#6ece58\"],[0.8888888888888888,\"#b5de2b\"],[1.0,\"#fde725\"]],\"sequentialminus\":[[0.0,\"#0d0887\"],[0.1111111111111111,\"#46039f\"],[0.2222222222222222,\"#7201a8\"],[0.3333333333333333,\"#9c179e\"],[0.4444444444444444,\"#bd3786\"],[0.5555555555555556,\"#d8576b\"],[0.6666666666666666,\"#ed7953\"],[0.7777777777777778,\"#fb9f3a\"],[0.8888888888888888,\"#fdca26\"],[1.0,\"#f0f921\"]]},\"colorway\":[\"#636EFA\",\"#00CC96\",\"#AB63FA\",\"#FFA15A\",\"#19D3F3\",\"#FF6692\",\"#B6E880\",\"#FF97FF\",\"#FECB52\"],\"font\":{\"color\":\"lightgreen\"},\"geo\":{\"bgcolor\":\"white\",\"lakecolor\":\"white\",\"landcolor\":\"#E5ECF6\",\"showlakes\":true,\"showland\":true,\"subunitcolor\":\"white\"},\"hoverlabel\":{\"align\":\"left\"},\"hovermode\":\"closest\",\"mapbox\":{\"style\":\"light\"},\"paper_bgcolor\":\"rgba(0, 0, 0, 0)\",\"plot_bgcolor\":\"#E5ECF6\",\"polar\":{\"angularaxis\":{\"gridcolor\":\"white\",\"linecolor\":\"white\",\"ticks\":\"\"},\"bgcolor\":\"#E5ECF6\",\"radialaxis\":{\"gridcolor\":\"white\",\"linecolor\":\"white\",\"ticks\":\"\"}},\"scene\":{\"xaxis\":{\"backgroundcolor\":\"#E5ECF6\",\"gridcolor\":\"white\",\"gridwidth\":2,\"linecolor\":\"white\",\"showbackground\":true,\"ticks\":\"\",\"zerolinecolor\":\"white\"},\"yaxis\":{\"backgroundcolor\":\"#E5ECF6\",\"gridcolor\":\"white\",\"gridwidth\":2,\"linecolor\":\"white\",\"showbackground\":true,\"ticks\":\"\",\"zerolinecolor\":\"white\"},\"zaxis\":{\"backgroundcolor\":\"#E5ECF6\",\"gridcolor\":\"white\",\"gridwidth\":2,\"linecolor\":\"white\",\"showbackground\":true,\"ticks\":\"\",\"zerolinecolor\":\"white\"}},\"shapedefaults\":{\"line\":{\"color\":\"#2a3f5f\"}},\"ternary\":{\"aaxis\":{\"gridcolor\":\"white\",\"linecolor\":\"white\",\"ticks\":\"\"},\"baxis\":{\"gridcolor\":\"white\",\"linecolor\":\"white\",\"ticks\":\"\"},\"bgcolor\":\"#E5ECF6\",\"caxis\":{\"gridcolor\":\"white\",\"linecolor\":\"white\",\"ticks\":\"\"}},\"title\":{\"x\":0.05},\"xaxis\":{\"automargin\":true,\"gridcolor\":\"white\",\"linecolor\":\"white\",\"ticks\":\"\",\"title\":{\"standoff\":15},\"zerolinecolor\":\"white\",\"zerolinewidth\":2},\"yaxis\":{\"automargin\":true,\"gridcolor\":\"white\",\"linecolor\":\"white\",\"ticks\":\"\",\"title\":{\"standoff\":15},\"zerolinecolor\":\"white\",\"zerolinewidth\":2}}},\"xaxis\":{\"anchor\":\"y\",\"domain\":[0.0,1.0],\"scaleanchor\":\"y\",\"constrain\":\"domain\",\"title\":{\"text\":\"Predicted\"}},\"yaxis\":{\"anchor\":\"x\",\"domain\":[0.0,1.0],\"autorange\":\"reversed\",\"constrain\":\"domain\",\"title\":{\"text\":\"True Label\"}},\"coloraxis\":{\"colorscale\":[[0.0,\"#440154\"],[0.1111111111111111,\"#482878\"],[0.2222222222222222,\"#3e4989\"],[0.3333333333333333,\"#31688e\"],[0.4444444444444444,\"#26828e\"],[0.5555555555555556,\"#1f9e89\"],[0.6666666666666666,\"#35b779\"],[0.7777777777777778,\"#6ece58\"],[0.8888888888888888,\"#b5de2b\"],[1.0,\"#fde725\"]],\"showscale\":false},\"margin\":{\"t\":60},\"title\":{\"text\":\"Polynomial\"}},                        {\"responsive\": true}                    ).then(function(){\n",
       "                            \n",
       "var gd = document.getElementById('a009d899-af18-47d4-a82b-2b7629d8be8f');\n",
       "var x = new MutationObserver(function (mutations, observer) {{\n",
       "        var display = window.getComputedStyle(gd).display;\n",
       "        if (!display || display === 'none') {{\n",
       "            console.log([gd, 'removed!']);\n",
       "            Plotly.purge(gd);\n",
       "            observer.disconnect();\n",
       "        }}\n",
       "}});\n",
       "\n",
       "// Listen for the removal of the full notebook cells\n",
       "var notebookContainer = gd.closest('#notebook-container');\n",
       "if (notebookContainer) {{\n",
       "    x.observe(notebookContainer, {childList: true});\n",
       "}}\n",
       "\n",
       "// Listen for the clearing of the current output cell\n",
       "var outputEl = gd.closest('.output');\n",
       "if (outputEl) {{\n",
       "    x.observe(outputEl, {childList: true});\n",
       "}}\n",
       "\n",
       "                        })                };                });            </script>        </div>"
      ]
     },
     "metadata": {},
     "output_type": "display_data"
    }
   ],
   "source": [
    "accuracy_score(y_test, gs_rbf.best_estimator_.predict(X_test))\n",
    "\n",
    "labs = [\"Price Decreased\", \"Price Increased\"]\n",
    "\n",
    "for t, gs in zip([\"RBF\", \"Linear\", \"Polynomial\"], all_gs):\n",
    "    fig = px.imshow(confusion_matrix(y_test, gs.best_estimator_.predict(X_test)), x=labs, y=labs, text_auto=True)\n",
    "    fig.update_layout(\n",
    "        xaxis_title=\"Predicted\",\n",
    "        yaxis_title=\"True Label\",\n",
    "        title=t,\n",
    "        coloraxis_showscale=False)\n",
    "    fig.show()"
   ]
  },
  {
   "cell_type": "code",
   "execution_count": 130,
   "id": "9bb710c3-3eb6-4118-b902-135e6d3ac511",
   "metadata": {
    "execution": {
     "iopub.execute_input": "2024-04-28T07:15:00.852933Z",
     "iopub.status.busy": "2024-04-28T07:15:00.852277Z",
     "iopub.status.idle": "2024-04-28T07:15:01.113848Z",
     "shell.execute_reply": "2024-04-28T07:15:01.113089Z",
     "shell.execute_reply.started": "2024-04-28T07:15:00.852907Z"
    }
   },
   "outputs": [
    {
     "data": {
      "application/vnd.plotly.v1+json": {
       "config": {
        "plotlyServerURL": "https://plot.ly"
       },
       "data": [
        {
         "hovertemplate": "color=True<br>x=%{x}<br>y=%{y}<extra></extra>",
         "legendgroup": "True",
         "marker": {
          "color": "#636EFA",
          "symbol": "circle"
         },
         "mode": "markers",
         "name": "True",
         "orientation": "v",
         "showlegend": true,
         "type": "scatter",
         "x": [
          0.01690554447976723,
          0.03694972789482192,
          0.06833611724769653,
          0.1053936095694811,
          0.0036909316234710926,
          0.05314133304596153,
          0.1053936095694811,
          0.0515113960881513,
          0.024570289347486392,
          0.09461716687321514,
          0.008405625303087451,
          0.024570289347486392,
          0.024570289347486392,
          0.18621692979147583,
          0.33439301686513284,
          0.2266285899024732,
          0.032652621369685865,
          0.26704025001347054,
          0.08385419473031952,
          0.19021768414246457,
          0.2252950051188103,
          0.0515113960881513,
          0.024570289347486392,
          0.0137803760978501,
          0.07509833503960342,
          0.21315803653214074,
          0.17913141871868093,
          0.015113960881513013,
          0.14575138746699715,
          0.0038256371571744165,
          0.05249474648418557,
          0.2252950051188103,
          0.21050433751818526,
          0.1188372218330729,
          0.05285845142518455,
          0.10346732043752357,
          0.032652621369685865,
          0.027264400021552882,
          0.0834770192359502,
          0.007866803168274152,
          0.03744813836952422,
          0.05016434075111806,
          0.011099735977153942,
          0.027264400021552882,
          0.04747023007705157,
          0.18621692979147583,
          0.008405625303087451,
          0.11886416293981356,
          0.07032975914650574,
          0.0032733444689907855,
          0.031319036586022954,
          0.08518777951398243,
          0.06498194945848376,
          0.04341559351258149,
          0.07101675736839269,
          0.017835012662320168,
          0.03999407295651705,
          0.028611455358586127,
          0.05230615873700091,
          0.10003232932808881,
          0.009079152971604073,
          0.029958510695619372,
          0.132334716310146,
          0.0043644592919877155,
          0.12561291017835013,
          0.2252950051188103,
          0.2320302818039765,
          0.3276038579664852,
          0.055027210517808074,
          0.006398512850907916,
          0.15927582305081092,
          0.2791772186001401,
          0.15853494261544263,
          0.019182067999353413,
          0.035494908130826015,
          0.0366937873807856,
          0.04208200872891859,
          0.024570289347486392,
          0.36673581550730106,
          0.15147637264938843,
          0.017781130448838837,
          0.04881728541408481,
          0.0077186270812004965,
          0.08518777951398243,
          0.015127431434883345,
          0.0647125383910771,
          0.015181313648364675,
          0.011099735977153942,
          0.09057600086211541,
          0.1646640443989439,
          0.011059324317042945,
          0.039899779082924726,
          0.009752680640120696,
          0.005118810280726332,
          0.2320302818039765,
          0.10943477558058085,
          0.021876178673419903,
          0.06430842178996714,
          0.024570289347486392,
          0.05555256209925104
         ],
         "xaxis": "x",
         "y": [
          0.4782608695652173,
          0.8695652173913044,
          0.8695652173913044,
          0.9130434782608695,
          0.8695652173913044,
          0.782608695652174,
          0.9565217391304349,
          0.8260869565217389,
          0.8695652173913044,
          0.9565217391304349,
          0.8260869565217389,
          0.782608695652174,
          0.9130434782608695,
          0.782608695652174,
          0.9130434782608695,
          0.9565217391304349,
          0.6956521739130433,
          0.7391304347826089,
          0.9565217391304349,
          0.9130434782608695,
          0.4782608695652173,
          0.782608695652174,
          0.8260869565217389,
          0.9130434782608695,
          0.8695652173913044,
          0.8695652173913044,
          0.8695652173913044,
          0.9565217391304349,
          0.9130434782608695,
          0.8695652173913044,
          0.8695652173913044,
          0.6521739130434783,
          0.9130434782608695,
          0.6086956521739129,
          0.7391304347826089,
          0.8695652173913044,
          0.7391304347826089,
          0.8260869565217389,
          0.9130434782608695,
          0.9130434782608695,
          0.782608695652174,
          0.8695652173913044,
          0.8260869565217389,
          0.9130434782608695,
          0.6956521739130433,
          0.782608695652174,
          0.8695652173913044,
          0.8260869565217389,
          0.8695652173913044,
          0.8695652173913044,
          0.8695652173913044,
          0.782608695652174,
          0.7391304347826089,
          0.9130434782608695,
          0.8695652173913044,
          0.8695652173913044,
          0.8260869565217389,
          0.8260869565217389,
          0.6956521739130433,
          0.7391304347826089,
          0.5217391304347825,
          0.8695652173913044,
          0.9565217391304349,
          0.6521739130434783,
          0.7391304347826089,
          0.7391304347826089,
          0.6956521739130433,
          0.782608695652174,
          0.7391304347826089,
          0.8260869565217389,
          0.782608695652174,
          0.6086956521739129,
          0.8260869565217389,
          0.9130434782608695,
          0.8695652173913044,
          0.9565217391304349,
          0.8260869565217389,
          0.7391304347826089,
          0.782608695652174,
          0.7391304347826089,
          0.8695652173913044,
          0.8260869565217389,
          0.782608695652174,
          0.8260869565217389,
          0.782608695652174,
          0.8695652173913044,
          0.7391304347826089,
          0.8260869565217389,
          0.782608695652174,
          0.5652173913043478,
          0.9130434782608695,
          0.8695652173913044,
          0.6521739130434783,
          0.7391304347826089,
          0.7391304347826089,
          0.8695652173913044,
          0.782608695652174,
          0.7391304347826089,
          0.7391304347826089,
          0.7391304347826089
         ],
         "yaxis": "y"
        },
        {
         "hovertemplate": "color=False<br>x=%{x}<br>y=%{y}<extra></extra>",
         "legendgroup": "False",
         "marker": {
          "color": "#00CC96",
          "symbol": "circle"
         },
         "mode": "markers",
         "name": "False",
         "orientation": "v",
         "showlegend": true,
         "type": "scatter",
         "x": [
          0.04477611940298508,
          0.008405625303087451,
          0.020529123336386658,
          0.038040842717818844,
          0.19161862169297914,
          0.5351177326364567,
          0.024570289347486392,
          0.016487957325286923,
          0.2266285899024732,
          0.024570289347486392,
          0.013793846651220432,
          0.2535696966431381,
          0.03525243817016003,
          0.007058569966054206,
          0.0366937873807856,
          0.21313109542540007,
          0.032652621369685865,
          0.009079152971604073,
          0.023223234010453148,
          0.0043644592919877155,
          0.5161916051511396,
          0.00571151462902096,
          0.016487957325286923,
          0.013079907322592814,
          0.8351608384072418,
          0.019182067999353413,
          0.02182229645993857,
          0.25351581442965676,
          0.038040842717818844,
          0.024570289347486392,
          0.015127431434883345,
          0.17274637642114338,
          0.006910393878980548,
          0.03805431327118918,
          0.03670725793415593,
          0.03238321030227922,
          0.02593081523788997,
          0.027264400021552882,
          0.011099735977153942,
          0.005442103561614311,
          0.04344253461932216,
          0.012729672934964168,
          0.020475241122905326,
          0.1592219408373296,
          0.008405625303087451,
          0.011086265423783609,
          0.0892424160784525,
          0.18621692979147583,
          0.013793846651220432,
          0.03211379923487257,
          0.15927582305081092,
          0.0515113960881513,
          0.1053936095694811,
          0.029729511288323723,
          0.5633654830540439,
          0.0158144296567703,
          0.016487957325286923,
          0.029958510695619372,
          0.24683441995797187,
          0.017835012662320168,
          0.038040842717818844,
          0.021876178673419903,
          0.091936526752519,
          0.011099735977153942,
          0.1458187402338488,
          0.0515113960881513,
          0.021256533218384614,
          0.011099735977153942,
          0.006937334985721214,
          0.04342906406595183,
          0.06499542001185409,
          0.016501427878657254,
          0.061546958349048976,
          0.29384665122043213,
          0.020515652783016328,
          0.008351743089606121,
          0.18218923433374642,
          0.015140901988253677,
          0.18621692979147583,
          0.023223234010453148,
          0.024570289347486392,
          0.15927582305081092,
          0.009752680640120696,
          0.12694649496201302,
          0.002990462848213805,
          0.020515652783016328,
          0.15254054636564468,
          0.021876178673419903,
          0.04666199687483162,
          0.015140901988253677,
          0.05148445498141063,
          0.21175709898162615,
          0.035346732043752355,
          0.024556818794116062,
          0.032666091923056195,
          0.050595398458968696,
          0.024570289347486392,
          0.0030174039549544698,
          0.016487957325286923,
          0.07575839215474972,
          0.06052319629290371,
          1,
          0.132334716310146,
          0.0366937873807856,
          0.06498194945848376,
          0.010426208308637318,
          0.1310011315264831,
          0.5364513174201196,
          0.006654453364944232,
          0.011099735977153942,
          0.07037017080661674,
          0.002343876286437847,
          0.009752680640120696,
          0.030968802198394308,
          0.038040842717818844,
          0.024570289347486392,
          0.011099735977153942,
          0.3743466781615388,
          0.019182067999353413,
          0.010965030443450617,
          0.038040842717818844,
          0.09162670402500134,
          0.029958510695619372,
          0.05555256209925104,
          0.021930060886901234,
          0.0366937873807856,
          0.016487957325286923,
          0.06498194945848376,
          0.05324909747292419,
          0.009752680640120696,
          0.027250929468182552,
          0.029958510695619372,
          0.024570289347486392,
          0.029958510695619372,
          0.017808071555579504,
          0.009752680640120696,
          0.027264400021552882,
          0.20333800312516837,
          0.0979982757691686,
          0.10203944178026833,
          0.2670537205668409,
          0.0515113960881513,
          0.01877795139824344,
          0.016420604558435258,
          0.06498194945848376,
          0.23601756560159493,
          0.21315803653214074,
          0.04419688560806078,
          0.008405625303087451,
          0.04341559351258149,
          0.017835012662320168,
          0.011099735977153942,
          0.01915512689261275,
          0.003003933401584137,
          0.011099735977153942,
          0.020529123336386658,
          0.132334716310146,
          0.007327981033460855,
          0.013793846651220432,
          0.009752680640120696,
          0.011099735977153942,
          0.04469529608276308,
          0.024570289347486392,
          0.024570289347486392,
          0.21271350827091975,
          0.021876178673419903,
          0.03130556603265262,
          0.011113206530524274,
          0.038040842717818844,
          0.023223234010453148,
          0.038040842717818844,
          0.017835012662320168,
          0.0784525028288162,
          0.009752680640120696,
          0.07306428148068322,
          0.03130556603265262,
          0.17948165310630962,
          0.019182067999353413,
          0.09192305619914866,
          0.054205506762217796,
          0.038013901611078184,
          0.0690231154695835,
          0.003960342690877742,
          0.021876178673419903,
          0.17274637642114338,
          0.013793846651220432,
          0.016487957325286923,
          0.16737162562638072,
          0.08522819117409343,
          0.019182067999353413,
          0.1040600247858182,
          0.055633385419473026,
          0.024300878280079746,
          0.2657066652298076,
          0.027264400021552882,
          0.00571151462902096,
          0.26704025001347054,
          0.24009914327280565,
          0.8813109542540007,
          0.011099735977153942,
          0.03351473678538714,
          0.06584406487418504,
          0.024570289347486392,
          0.11212888625464733,
          0.024570289347486392,
          0.13234818686351635,
          0.06498194945848376,
          0.0515113960881513,
          0.022536235788566193,
          0.05152486664152163,
          0.11886416293981356,
          0.011099735977153942,
          0.025917344684519637,
          0.3529015571959696,
          0.25355622608976774,
          0.013793846651220432,
          0.00571151462902096,
          0.0515113960881513,
          0.4017457837167951,
          0.011099735977153942,
          0.012002263052966216,
          0.15927582305081092,
          0.19429926181367532,
          0.01915512689261275,
          0.011099735977153942,
          0.024570289347486392,
          0.2197586076836036,
          0.132334716310146,
          0.007058569966054206,
          0.03642437631337895,
          0.011099735977153942,
          0.16326310684842935,
          0.019182067999353413,
          0.002343876286437847,
          0.09083194137615173,
          0.035333261490382024,
          0.26704025001347054,
          0.8045288000431058,
          0.17274637642114338,
          0.06498194945848376,
          0.011099735977153942,
          0.05824667277331753,
          0.008405625303087451,
          0.027264400021552882,
          0.0784525028288162,
          0.4017457837167951,
          0.008405625303087451,
          0.00571151462902096,
          0.09192305619914866,
          0.13840993588016595,
          0.008405625303087451,
          0.027102753381108898,
          0.038040842717818844,
          0.017835012662320168,
          0.038040842717818844,
          0.3330594320814699,
          0.4017457837167951,
          0.22569912171992026,
          0.0515113960881513,
          0.0515113960881513,
          0.029958510695619372,
          0.023223234010453148,
          0.17274637642114338,
          0.1677353305673797,
          0.06498194945848376,
          0.14579179912710816,
          0.011099735977153942,
          0.038040842717818844,
          0.032652621369685865,
          0.08922894552508216,
          0.025243817016003013,
          0.0515113960881513,
          0.03259873915620454,
          0.041017835012662325,
          0.03130556603265262,
          0.0366937873807856,
          0.05555256209925104,
          0.30745191012446793,
          0.0515113960881513,
          0.012446791314187187,
          0.008405625303087451,
          0.009752680640120696,
          0.021876178673419903,
          0.007045099412683873,
          0.021876178673419903,
          0.09192305619914866,
          0.26704025001347054,
          0.26701330890672986,
          0.43536828492914487,
          0.01092461878333962,
          0.024570289347486392,
          0.05778867395872622,
          0.24550083517430896,
          0.0515113960881513
         ],
         "xaxis": "x",
         "y": [
          0.9130434782608695,
          0.7391304347826089,
          0.782608695652174,
          0.8695652173913044,
          0.782608695652174,
          0.8695652173913044,
          0.6956521739130433,
          0.7391304347826089,
          0.6521739130434783,
          0.4347826086956522,
          0.8260869565217389,
          0.6956521739130433,
          0.7391304347826089,
          0.8695652173913044,
          0.9130434782608695,
          0.782608695652174,
          0.8695652173913044,
          0.8695652173913044,
          0.8260869565217389,
          0.6956521739130433,
          0.9130434782608695,
          0.6521739130434783,
          0.8260869565217389,
          0.8695652173913044,
          0,
          0.6521739130434783,
          0.9565217391304349,
          0.8260869565217389,
          0.7391304347826089,
          0.5217391304347825,
          0.8260869565217389,
          0.8695652173913044,
          0.6956521739130433,
          0.9130434782608695,
          0.9130434782608695,
          0.9130434782608695,
          0.8695652173913044,
          0.391304347826087,
          1,
          0.6521739130434783,
          0.8260869565217389,
          0.6956521739130433,
          0.782608695652174,
          0.8695652173913044,
          0.7391304347826089,
          0.8695652173913044,
          0.8695652173913044,
          0.6521739130434783,
          0.8695652173913044,
          0.8695652173913044,
          0.8695652173913044,
          0.8695652173913044,
          0.8695652173913044,
          0.9130434782608695,
          0.7391304347826089,
          0.7391304347826089,
          0.7391304347826089,
          0.8695652173913044,
          0.8695652173913044,
          0.9130434782608695,
          0.6956521739130433,
          0.782608695652174,
          0.8260869565217389,
          0.8260869565217389,
          0.8260869565217389,
          0.782608695652174,
          0.8260869565217389,
          0.9130434782608695,
          1,
          0.9565217391304349,
          0.9565217391304349,
          0.4347826086956522,
          0.9130434782608695,
          0.7391304347826089,
          0.9565217391304349,
          0.8695652173913044,
          0.8260869565217389,
          0.782608695652174,
          0.30434782608695643,
          0.7391304347826089,
          0.8695652173913044,
          0.8695652173913044,
          0.6956521739130433,
          1,
          0.5217391304347825,
          0.8695652173913044,
          0.8695652173913044,
          0.6956521739130433,
          0.6956521739130433,
          0.8695652173913044,
          0.4347826086956522,
          0.7391304347826089,
          0.5217391304347825,
          0.9565217391304349,
          0.7391304347826089,
          0.9130434782608695,
          0.7391304347826089,
          0.8260869565217389,
          0.8695652173913044,
          0.8260869565217389,
          0.9130434782608695,
          0.7391304347826089,
          0.9565217391304349,
          0.8695652173913044,
          0.7391304347826089,
          0.8260869565217389,
          0.391304347826087,
          0.782608695652174,
          0.9130434782608695,
          0.8260869565217389,
          0.8260869565217389,
          0.6521739130434783,
          0.8260869565217389,
          0.8695652173913044,
          0.8695652173913044,
          0.782608695652174,
          0.8260869565217389,
          0.4347826086956522,
          0.8260869565217389,
          0.782608695652174,
          0.8695652173913044,
          0.782608695652174,
          0.9565217391304349,
          0.6521739130434783,
          0,
          0.9130434782608695,
          0.9565217391304349,
          0.8695652173913044,
          0.9130434782608695,
          0.9130434782608695,
          0.8695652173913044,
          0.8695652173913044,
          0.8260869565217389,
          0.782608695652174,
          0.8695652173913044,
          0.9565217391304349,
          0.8260869565217389,
          0.6521739130434783,
          0.8695652173913044,
          0.9130434782608695,
          0.8695652173913044,
          0.6086956521739129,
          0.782608695652174,
          0.782608695652174,
          0.8695652173913044,
          0.8260869565217389,
          0.4782608695652173,
          0.9130434782608695,
          0.3478260869565217,
          0.8260869565217389,
          0.5652173913043478,
          0.5217391304347825,
          0.9130434782608695,
          0.9130434782608695,
          0.7391304347826089,
          0.9130434782608695,
          0.782608695652174,
          0.782608695652174,
          0.8260869565217389,
          0.6956521739130433,
          0.8695652173913044,
          0.8260869565217389,
          0.782608695652174,
          0.9130434782608695,
          0.8260869565217389,
          0.7391304347826089,
          0.8695652173913044,
          0.8695652173913044,
          0.9130434782608695,
          0.782608695652174,
          0.782608695652174,
          0.9130434782608695,
          0.782608695652174,
          0.7391304347826089,
          0.8695652173913044,
          0.8260869565217389,
          0.7391304347826089,
          0.9565217391304349,
          0.8260869565217389,
          0,
          0.782608695652174,
          0.7391304347826089,
          0.5652173913043478,
          0.6086956521739129,
          0.9130434782608695,
          0.782608695652174,
          0.6956521739130433,
          0.6086956521739129,
          1,
          0.8260869565217389,
          0.8260869565217389,
          0.9130434782608695,
          0.8260869565217389,
          0.3478260869565217,
          0.8695652173913044,
          0.8695652173913044,
          0.9130434782608695,
          0.8695652173913044,
          0.6956521739130433,
          0.7391304347826089,
          0.782608695652174,
          0.6521739130434783,
          0.6956521739130433,
          0.9130434782608695,
          0.8695652173913044,
          0.8260869565217389,
          0.7391304347826089,
          0.9130434782608695,
          0.782608695652174,
          0.7391304347826089,
          0.9565217391304349,
          0.9130434782608695,
          0.7391304347826089,
          0.7391304347826089,
          0.7391304347826089,
          0.9130434782608695,
          0.9130434782608695,
          0.9130434782608695,
          0.6521739130434783,
          0.8260869565217389,
          0,
          0.6956521739130433,
          0.8695652173913044,
          0.9565217391304349,
          0.9565217391304349,
          0.8260869565217389,
          0.9130434782608695,
          0.7391304347826089,
          0.8695652173913044,
          0.9130434782608695,
          0.7391304347826089,
          0.7391304347826089,
          0.8260869565217389,
          0.3478260869565217,
          0.6956521739130433,
          0.782608695652174,
          0.8695652173913044,
          0.3478260869565217,
          0.8260869565217389,
          0.8695652173913044,
          0.6086956521739129,
          0.8260869565217389,
          0.6956521739130433,
          0.9130434782608695,
          0.8695652173913044,
          0.8695652173913044,
          0.8695652173913044,
          0.6956521739130433,
          0.9565217391304349,
          0.8260869565217389,
          0.6956521739130433,
          0.6521739130434783,
          0.8695652173913044,
          0.9130434782608695,
          0.7391304347826089,
          0.782608695652174,
          0.9130434782608695,
          0.7391304347826089,
          0.5652173913043478,
          0.8695652173913044,
          0.5652173913043478,
          0.9130434782608695,
          0.9565217391304349,
          0.782608695652174,
          0.8260869565217389,
          0.9130434782608695,
          0.7391304347826089,
          0.782608695652174,
          0.8695652173913044,
          0.8695652173913044,
          0.9130434782608695,
          0.8260869565217389,
          0.8695652173913044,
          0.8260869565217389,
          0.4782608695652173,
          0.8695652173913044,
          0.8260869565217389,
          0.9130434782608695,
          0.5652173913043478,
          0.8260869565217389,
          0.782608695652174,
          0.8695652173913044,
          0.6521739130434783,
          0.8695652173913044,
          0.8695652173913044,
          0.782608695652174,
          0.8260869565217389,
          0.782608695652174,
          0.4782608695652173,
          0.9130434782608695,
          0.8260869565217389,
          0.9130434782608695,
          0.7391304347826089,
          0.7391304347826089
         ],
         "yaxis": "y"
        }
       ],
       "layout": {
        "autosize": true,
        "legend": {
         "title": {
          "text": "color"
         },
         "tracegroupgap": 0
        },
        "margin": {
         "t": 60
        },
        "template": {
         "data": {
          "bar": [
           {
            "error_x": {
             "color": "#2a3f5f"
            },
            "error_y": {
             "color": "#2a3f5f"
            },
            "marker": {
             "line": {
              "color": "#E5ECF6",
              "width": 0.5
             },
             "pattern": {
              "fillmode": "overlay",
              "size": 10,
              "solidity": 0.2
             }
            },
            "type": "bar"
           }
          ],
          "barpolar": [
           {
            "marker": {
             "line": {
              "color": "#E5ECF6",
              "width": 0.5
             },
             "pattern": {
              "fillmode": "overlay",
              "size": 10,
              "solidity": 0.2
             }
            },
            "type": "barpolar"
           }
          ],
          "carpet": [
           {
            "aaxis": {
             "endlinecolor": "#2a3f5f",
             "gridcolor": "white",
             "linecolor": "white",
             "minorgridcolor": "white",
             "startlinecolor": "#2a3f5f"
            },
            "baxis": {
             "endlinecolor": "#2a3f5f",
             "gridcolor": "white",
             "linecolor": "white",
             "minorgridcolor": "white",
             "startlinecolor": "#2a3f5f"
            },
            "type": "carpet"
           }
          ],
          "choropleth": [
           {
            "colorbar": {
             "outlinewidth": 0,
             "ticks": ""
            },
            "type": "choropleth"
           }
          ],
          "contour": [
           {
            "colorbar": {
             "outlinewidth": 0,
             "ticks": ""
            },
            "colorscale": [
             [
              0,
              "#0d0887"
             ],
             [
              0.1111111111111111,
              "#46039f"
             ],
             [
              0.2222222222222222,
              "#7201a8"
             ],
             [
              0.3333333333333333,
              "#9c179e"
             ],
             [
              0.4444444444444444,
              "#bd3786"
             ],
             [
              0.5555555555555556,
              "#d8576b"
             ],
             [
              0.6666666666666666,
              "#ed7953"
             ],
             [
              0.7777777777777778,
              "#fb9f3a"
             ],
             [
              0.8888888888888888,
              "#fdca26"
             ],
             [
              1,
              "#f0f921"
             ]
            ],
            "type": "contour"
           }
          ],
          "contourcarpet": [
           {
            "colorbar": {
             "outlinewidth": 0,
             "ticks": ""
            },
            "type": "contourcarpet"
           }
          ],
          "heatmap": [
           {
            "colorbar": {
             "outlinewidth": 0,
             "ticks": ""
            },
            "colorscale": [
             [
              0,
              "#0d0887"
             ],
             [
              0.1111111111111111,
              "#46039f"
             ],
             [
              0.2222222222222222,
              "#7201a8"
             ],
             [
              0.3333333333333333,
              "#9c179e"
             ],
             [
              0.4444444444444444,
              "#bd3786"
             ],
             [
              0.5555555555555556,
              "#d8576b"
             ],
             [
              0.6666666666666666,
              "#ed7953"
             ],
             [
              0.7777777777777778,
              "#fb9f3a"
             ],
             [
              0.8888888888888888,
              "#fdca26"
             ],
             [
              1,
              "#f0f921"
             ]
            ],
            "type": "heatmap"
           }
          ],
          "heatmapgl": [
           {
            "colorbar": {
             "outlinewidth": 0,
             "ticks": ""
            },
            "colorscale": [
             [
              0,
              "#0d0887"
             ],
             [
              0.1111111111111111,
              "#46039f"
             ],
             [
              0.2222222222222222,
              "#7201a8"
             ],
             [
              0.3333333333333333,
              "#9c179e"
             ],
             [
              0.4444444444444444,
              "#bd3786"
             ],
             [
              0.5555555555555556,
              "#d8576b"
             ],
             [
              0.6666666666666666,
              "#ed7953"
             ],
             [
              0.7777777777777778,
              "#fb9f3a"
             ],
             [
              0.8888888888888888,
              "#fdca26"
             ],
             [
              1,
              "#f0f921"
             ]
            ],
            "type": "heatmapgl"
           }
          ],
          "histogram": [
           {
            "marker": {
             "pattern": {
              "fillmode": "overlay",
              "size": 10,
              "solidity": 0.2
             }
            },
            "type": "histogram"
           }
          ],
          "histogram2d": [
           {
            "colorbar": {
             "outlinewidth": 0,
             "ticks": ""
            },
            "colorscale": [
             [
              0,
              "#0d0887"
             ],
             [
              0.1111111111111111,
              "#46039f"
             ],
             [
              0.2222222222222222,
              "#7201a8"
             ],
             [
              0.3333333333333333,
              "#9c179e"
             ],
             [
              0.4444444444444444,
              "#bd3786"
             ],
             [
              0.5555555555555556,
              "#d8576b"
             ],
             [
              0.6666666666666666,
              "#ed7953"
             ],
             [
              0.7777777777777778,
              "#fb9f3a"
             ],
             [
              0.8888888888888888,
              "#fdca26"
             ],
             [
              1,
              "#f0f921"
             ]
            ],
            "type": "histogram2d"
           }
          ],
          "histogram2dcontour": [
           {
            "colorbar": {
             "outlinewidth": 0,
             "ticks": ""
            },
            "colorscale": [
             [
              0,
              "#0d0887"
             ],
             [
              0.1111111111111111,
              "#46039f"
             ],
             [
              0.2222222222222222,
              "#7201a8"
             ],
             [
              0.3333333333333333,
              "#9c179e"
             ],
             [
              0.4444444444444444,
              "#bd3786"
             ],
             [
              0.5555555555555556,
              "#d8576b"
             ],
             [
              0.6666666666666666,
              "#ed7953"
             ],
             [
              0.7777777777777778,
              "#fb9f3a"
             ],
             [
              0.8888888888888888,
              "#fdca26"
             ],
             [
              1,
              "#f0f921"
             ]
            ],
            "type": "histogram2dcontour"
           }
          ],
          "mesh3d": [
           {
            "colorbar": {
             "outlinewidth": 0,
             "ticks": ""
            },
            "type": "mesh3d"
           }
          ],
          "parcoords": [
           {
            "line": {
             "colorbar": {
              "outlinewidth": 0,
              "ticks": ""
             }
            },
            "type": "parcoords"
           }
          ],
          "pie": [
           {
            "automargin": true,
            "type": "pie"
           }
          ],
          "scatter": [
           {
            "fillpattern": {
             "fillmode": "overlay",
             "size": 10,
             "solidity": 0.2
            },
            "type": "scatter"
           }
          ],
          "scatter3d": [
           {
            "line": {
             "colorbar": {
              "outlinewidth": 0,
              "ticks": ""
             }
            },
            "marker": {
             "colorbar": {
              "outlinewidth": 0,
              "ticks": ""
             }
            },
            "type": "scatter3d"
           }
          ],
          "scattercarpet": [
           {
            "marker": {
             "colorbar": {
              "outlinewidth": 0,
              "ticks": ""
             }
            },
            "type": "scattercarpet"
           }
          ],
          "scattergeo": [
           {
            "marker": {
             "colorbar": {
              "outlinewidth": 0,
              "ticks": ""
             }
            },
            "type": "scattergeo"
           }
          ],
          "scattergl": [
           {
            "marker": {
             "colorbar": {
              "outlinewidth": 0,
              "ticks": ""
             }
            },
            "type": "scattergl"
           }
          ],
          "scattermapbox": [
           {
            "marker": {
             "colorbar": {
              "outlinewidth": 0,
              "ticks": ""
             }
            },
            "type": "scattermapbox"
           }
          ],
          "scatterpolar": [
           {
            "marker": {
             "colorbar": {
              "outlinewidth": 0,
              "ticks": ""
             }
            },
            "type": "scatterpolar"
           }
          ],
          "scatterpolargl": [
           {
            "marker": {
             "colorbar": {
              "outlinewidth": 0,
              "ticks": ""
             }
            },
            "type": "scatterpolargl"
           }
          ],
          "scatterternary": [
           {
            "marker": {
             "colorbar": {
              "outlinewidth": 0,
              "ticks": ""
             }
            },
            "type": "scatterternary"
           }
          ],
          "surface": [
           {
            "colorbar": {
             "outlinewidth": 0,
             "ticks": ""
            },
            "colorscale": [
             [
              0,
              "#0d0887"
             ],
             [
              0.1111111111111111,
              "#46039f"
             ],
             [
              0.2222222222222222,
              "#7201a8"
             ],
             [
              0.3333333333333333,
              "#9c179e"
             ],
             [
              0.4444444444444444,
              "#bd3786"
             ],
             [
              0.5555555555555556,
              "#d8576b"
             ],
             [
              0.6666666666666666,
              "#ed7953"
             ],
             [
              0.7777777777777778,
              "#fb9f3a"
             ],
             [
              0.8888888888888888,
              "#fdca26"
             ],
             [
              1,
              "#f0f921"
             ]
            ],
            "type": "surface"
           }
          ],
          "table": [
           {
            "cells": {
             "fill": {
              "color": "#EBF0F8"
             },
             "line": {
              "color": "white"
             }
            },
            "header": {
             "fill": {
              "color": "#C8D4E3"
             },
             "line": {
              "color": "white"
             }
            },
            "type": "table"
           }
          ]
         },
         "layout": {
          "annotationdefaults": {
           "arrowcolor": "#2a3f5f",
           "arrowhead": 0,
           "arrowwidth": 1
          },
          "autotypenumbers": "strict",
          "coloraxis": {
           "colorbar": {
            "outlinewidth": 0,
            "ticks": ""
           }
          },
          "colorscale": {
           "diverging": [
            [
             0,
             "#8e0152"
            ],
            [
             0.1,
             "#c51b7d"
            ],
            [
             0.2,
             "#de77ae"
            ],
            [
             0.3,
             "#f1b6da"
            ],
            [
             0.4,
             "#fde0ef"
            ],
            [
             0.5,
             "#f7f7f7"
            ],
            [
             0.6,
             "#e6f5d0"
            ],
            [
             0.7,
             "#b8e186"
            ],
            [
             0.8,
             "#7fbc41"
            ],
            [
             0.9,
             "#4d9221"
            ],
            [
             1,
             "#276419"
            ]
           ],
           "sequential": [
            [
             0,
             "#440154"
            ],
            [
             0.1111111111111111,
             "#482878"
            ],
            [
             0.2222222222222222,
             "#3e4989"
            ],
            [
             0.3333333333333333,
             "#31688e"
            ],
            [
             0.4444444444444444,
             "#26828e"
            ],
            [
             0.5555555555555556,
             "#1f9e89"
            ],
            [
             0.6666666666666666,
             "#35b779"
            ],
            [
             0.7777777777777778,
             "#6ece58"
            ],
            [
             0.8888888888888888,
             "#b5de2b"
            ],
            [
             1,
             "#fde725"
            ]
           ],
           "sequentialminus": [
            [
             0,
             "#0d0887"
            ],
            [
             0.1111111111111111,
             "#46039f"
            ],
            [
             0.2222222222222222,
             "#7201a8"
            ],
            [
             0.3333333333333333,
             "#9c179e"
            ],
            [
             0.4444444444444444,
             "#bd3786"
            ],
            [
             0.5555555555555556,
             "#d8576b"
            ],
            [
             0.6666666666666666,
             "#ed7953"
            ],
            [
             0.7777777777777778,
             "#fb9f3a"
            ],
            [
             0.8888888888888888,
             "#fdca26"
            ],
            [
             1,
             "#f0f921"
            ]
           ]
          },
          "colorway": [
           "#636EFA",
           "#00CC96",
           "#AB63FA",
           "#FFA15A",
           "#19D3F3",
           "#FF6692",
           "#B6E880",
           "#FF97FF",
           "#FECB52"
          ],
          "font": {
           "color": "lightgreen"
          },
          "geo": {
           "bgcolor": "white",
           "lakecolor": "white",
           "landcolor": "#E5ECF6",
           "showlakes": true,
           "showland": true,
           "subunitcolor": "white"
          },
          "hoverlabel": {
           "align": "left"
          },
          "hovermode": "closest",
          "mapbox": {
           "style": "light"
          },
          "paper_bgcolor": "rgba(0, 0, 0, 0)",
          "plot_bgcolor": "#E5ECF6",
          "polar": {
           "angularaxis": {
            "gridcolor": "white",
            "linecolor": "white",
            "ticks": ""
           },
           "bgcolor": "#E5ECF6",
           "radialaxis": {
            "gridcolor": "white",
            "linecolor": "white",
            "ticks": ""
           }
          },
          "scene": {
           "xaxis": {
            "backgroundcolor": "#E5ECF6",
            "gridcolor": "white",
            "gridwidth": 2,
            "linecolor": "white",
            "showbackground": true,
            "ticks": "",
            "zerolinecolor": "white"
           },
           "yaxis": {
            "backgroundcolor": "#E5ECF6",
            "gridcolor": "white",
            "gridwidth": 2,
            "linecolor": "white",
            "showbackground": true,
            "ticks": "",
            "zerolinecolor": "white"
           },
           "zaxis": {
            "backgroundcolor": "#E5ECF6",
            "gridcolor": "white",
            "gridwidth": 2,
            "linecolor": "white",
            "showbackground": true,
            "ticks": "",
            "zerolinecolor": "white"
           }
          },
          "shapedefaults": {
           "line": {
            "color": "#2a3f5f"
           }
          },
          "ternary": {
           "aaxis": {
            "gridcolor": "white",
            "linecolor": "white",
            "ticks": ""
           },
           "baxis": {
            "gridcolor": "white",
            "linecolor": "white",
            "ticks": ""
           },
           "bgcolor": "#E5ECF6",
           "caxis": {
            "gridcolor": "white",
            "linecolor": "white",
            "ticks": ""
           }
          },
          "title": {
           "x": 0.05
          },
          "xaxis": {
           "automargin": true,
           "gridcolor": "white",
           "linecolor": "white",
           "ticks": "",
           "title": {
            "standoff": 15
           },
           "zerolinecolor": "white",
           "zerolinewidth": 2
          },
          "yaxis": {
           "automargin": true,
           "gridcolor": "white",
           "linecolor": "white",
           "ticks": "",
           "title": {
            "standoff": 15
           },
           "zerolinecolor": "white",
           "zerolinewidth": 2
          }
         }
        },
        "xaxis": {
         "anchor": "y",
         "autorange": true,
         "domain": [
          0,
          1
         ],
         "range": [
          -0.0577437570058662,
          1.0600876332923042
         ],
         "title": {
          "text": "x"
         },
         "type": "linear"
        },
        "yaxis": {
         "anchor": "x",
         "autorange": true,
         "domain": [
          0,
          1
         ],
         "range": [
          -0.0774278215223097,
          1.0774278215223096
         ],
         "title": {
          "text": "y"
         },
         "type": "linear"
        }
       }
      },
      "image/png": "[encoded data removed]",
      "text/html": [
       "<div>                            <div id=\"6afb75c3-f3e3-4928-ba9a-167782c93f3f\" class=\"plotly-graph-div\" style=\"height:525px; width:100%;\"></div>            <script type=\"text/javascript\">                require([\"plotly\"], function(Plotly) {                    window.PLOTLYENV=window.PLOTLYENV || {};                                    if (document.getElementById(\"6afb75c3-f3e3-4928-ba9a-167782c93f3f\")) {                    Plotly.newPlot(                        \"6afb75c3-f3e3-4928-ba9a-167782c93f3f\",                        [{\"hovertemplate\":\"color=True\\u003cbr\\u003ex=%{x}\\u003cbr\\u003ey=%{y}\\u003cextra\\u003e\\u003c\\u002fextra\\u003e\",\"legendgroup\":\"True\",\"marker\":{\"color\":\"#636EFA\",\"symbol\":\"circle\"},\"mode\":\"markers\",\"name\":\"True\",\"orientation\":\"v\",\"showlegend\":true,\"x\":[0.01690554447976723,0.03694972789482192,0.06833611724769653,0.1053936095694811,0.0036909316234710926,0.05314133304596153,0.1053936095694811,0.0515113960881513,0.024570289347486392,0.09461716687321514,0.008405625303087451,0.024570289347486392,0.024570289347486392,0.18621692979147583,0.33439301686513284,0.2266285899024732,0.032652621369685865,0.26704025001347054,0.08385419473031952,0.19021768414246457,0.2252950051188103,0.0515113960881513,0.024570289347486392,0.0137803760978501,0.07509833503960342,0.21315803653214074,0.17913141871868093,0.015113960881513013,0.14575138746699715,0.0038256371571744165,0.05249474648418557,0.2252950051188103,0.21050433751818526,0.1188372218330729,0.05285845142518455,0.10346732043752357,0.032652621369685865,0.027264400021552882,0.0834770192359502,0.007866803168274152,0.03744813836952422,0.05016434075111806,0.011099735977153942,0.027264400021552882,0.04747023007705157,0.18621692979147583,0.008405625303087451,0.11886416293981356,0.07032975914650574,0.0032733444689907855,0.031319036586022954,0.08518777951398243,0.06498194945848376,0.04341559351258149,0.07101675736839269,0.017835012662320168,0.03999407295651705,0.028611455358586127,0.05230615873700091,0.10003232932808881,0.009079152971604073,0.029958510695619372,0.132334716310146,0.0043644592919877155,0.12561291017835013,0.2252950051188103,0.2320302818039765,0.3276038579664852,0.055027210517808074,0.006398512850907916,0.15927582305081092,0.2791772186001401,0.15853494261544263,0.019182067999353413,0.035494908130826015,0.0366937873807856,0.04208200872891859,0.024570289347486392,0.36673581550730106,0.15147637264938843,0.017781130448838837,0.04881728541408481,0.0077186270812004965,0.08518777951398243,0.015127431434883345,0.0647125383910771,0.015181313648364675,0.011099735977153942,0.09057600086211541,0.1646640443989439,0.011059324317042945,0.039899779082924726,0.009752680640120696,0.005118810280726332,0.2320302818039765,0.10943477558058085,0.021876178673419903,0.06430842178996714,0.024570289347486392,0.05555256209925104],\"xaxis\":\"x\",\"y\":[0.4782608695652173,0.8695652173913044,0.8695652173913044,0.9130434782608695,0.8695652173913044,0.782608695652174,0.9565217391304349,0.8260869565217389,0.8695652173913044,0.9565217391304349,0.8260869565217389,0.782608695652174,0.9130434782608695,0.782608695652174,0.9130434782608695,0.9565217391304349,0.6956521739130433,0.7391304347826089,0.9565217391304349,0.9130434782608695,0.4782608695652173,0.782608695652174,0.8260869565217389,0.9130434782608695,0.8695652173913044,0.8695652173913044,0.8695652173913044,0.9565217391304349,0.9130434782608695,0.8695652173913044,0.8695652173913044,0.6521739130434783,0.9130434782608695,0.6086956521739129,0.7391304347826089,0.8695652173913044,0.7391304347826089,0.8260869565217389,0.9130434782608695,0.9130434782608695,0.782608695652174,0.8695652173913044,0.8260869565217389,0.9130434782608695,0.6956521739130433,0.782608695652174,0.8695652173913044,0.8260869565217389,0.8695652173913044,0.8695652173913044,0.8695652173913044,0.782608695652174,0.7391304347826089,0.9130434782608695,0.8695652173913044,0.8695652173913044,0.8260869565217389,0.8260869565217389,0.6956521739130433,0.7391304347826089,0.5217391304347825,0.8695652173913044,0.9565217391304349,0.6521739130434783,0.7391304347826089,0.7391304347826089,0.6956521739130433,0.782608695652174,0.7391304347826089,0.8260869565217389,0.782608695652174,0.6086956521739129,0.8260869565217389,0.9130434782608695,0.8695652173913044,0.9565217391304349,0.8260869565217389,0.7391304347826089,0.782608695652174,0.7391304347826089,0.8695652173913044,0.8260869565217389,0.782608695652174,0.8260869565217389,0.782608695652174,0.8695652173913044,0.7391304347826089,0.8260869565217389,0.782608695652174,0.5652173913043478,0.9130434782608695,0.8695652173913044,0.6521739130434783,0.7391304347826089,0.7391304347826089,0.8695652173913044,0.782608695652174,0.7391304347826089,0.7391304347826089,0.7391304347826089],\"yaxis\":\"y\",\"type\":\"scatter\"},{\"hovertemplate\":\"color=False\\u003cbr\\u003ex=%{x}\\u003cbr\\u003ey=%{y}\\u003cextra\\u003e\\u003c\\u002fextra\\u003e\",\"legendgroup\":\"False\",\"marker\":{\"color\":\"#00CC96\",\"symbol\":\"circle\"},\"mode\":\"markers\",\"name\":\"False\",\"orientation\":\"v\",\"showlegend\":true,\"x\":[0.04477611940298508,0.008405625303087451,0.020529123336386658,0.038040842717818844,0.19161862169297914,0.5351177326364567,0.024570289347486392,0.016487957325286923,0.2266285899024732,0.024570289347486392,0.013793846651220432,0.2535696966431381,0.03525243817016003,0.007058569966054206,0.0366937873807856,0.21313109542540007,0.032652621369685865,0.009079152971604073,0.023223234010453148,0.0043644592919877155,0.5161916051511396,0.00571151462902096,0.016487957325286923,0.013079907322592814,0.8351608384072418,0.019182067999353413,0.02182229645993857,0.25351581442965676,0.038040842717818844,0.024570289347486392,0.015127431434883345,0.17274637642114338,0.006910393878980548,0.03805431327118918,0.03670725793415593,0.03238321030227922,0.02593081523788997,0.027264400021552882,0.011099735977153942,0.005442103561614311,0.04344253461932216,0.012729672934964168,0.020475241122905326,0.1592219408373296,0.008405625303087451,0.011086265423783609,0.0892424160784525,0.18621692979147583,0.013793846651220432,0.03211379923487257,0.15927582305081092,0.0515113960881513,0.1053936095694811,0.029729511288323723,0.5633654830540439,0.0158144296567703,0.016487957325286923,0.029958510695619372,0.24683441995797187,0.017835012662320168,0.038040842717818844,0.021876178673419903,0.091936526752519,0.011099735977153942,0.1458187402338488,0.0515113960881513,0.021256533218384614,0.011099735977153942,0.006937334985721214,0.04342906406595183,0.06499542001185409,0.016501427878657254,0.061546958349048976,0.29384665122043213,0.020515652783016328,0.008351743089606121,0.18218923433374642,0.015140901988253677,0.18621692979147583,0.023223234010453148,0.024570289347486392,0.15927582305081092,0.009752680640120696,0.12694649496201302,0.002990462848213805,0.020515652783016328,0.15254054636564468,0.021876178673419903,0.04666199687483162,0.015140901988253677,0.05148445498141063,0.21175709898162615,0.035346732043752355,0.024556818794116062,0.032666091923056195,0.050595398458968696,0.024570289347486392,0.0030174039549544698,0.016487957325286923,0.07575839215474972,0.06052319629290371,1.0,0.132334716310146,0.0366937873807856,0.06498194945848376,0.010426208308637318,0.1310011315264831,0.5364513174201196,0.006654453364944232,0.011099735977153942,0.07037017080661674,0.002343876286437847,0.009752680640120696,0.030968802198394308,0.038040842717818844,0.024570289347486392,0.011099735977153942,0.3743466781615388,0.019182067999353413,0.010965030443450617,0.038040842717818844,0.09162670402500134,0.029958510695619372,0.05555256209925104,0.021930060886901234,0.0366937873807856,0.016487957325286923,0.06498194945848376,0.05324909747292419,0.009752680640120696,0.027250929468182552,0.029958510695619372,0.024570289347486392,0.029958510695619372,0.017808071555579504,0.009752680640120696,0.027264400021552882,0.20333800312516837,0.0979982757691686,0.10203944178026833,0.2670537205668409,0.0515113960881513,0.01877795139824344,0.016420604558435258,0.06498194945848376,0.23601756560159493,0.21315803653214074,0.04419688560806078,0.008405625303087451,0.04341559351258149,0.017835012662320168,0.011099735977153942,0.01915512689261275,0.003003933401584137,0.011099735977153942,0.020529123336386658,0.132334716310146,0.007327981033460855,0.013793846651220432,0.009752680640120696,0.011099735977153942,0.04469529608276308,0.024570289347486392,0.024570289347486392,0.21271350827091975,0.021876178673419903,0.03130556603265262,0.011113206530524274,0.038040842717818844,0.023223234010453148,0.038040842717818844,0.017835012662320168,0.0784525028288162,0.009752680640120696,0.07306428148068322,0.03130556603265262,0.17948165310630962,0.019182067999353413,0.09192305619914866,0.054205506762217796,0.038013901611078184,0.0690231154695835,0.003960342690877742,0.021876178673419903,0.17274637642114338,0.013793846651220432,0.016487957325286923,0.16737162562638072,0.08522819117409343,0.019182067999353413,0.1040600247858182,0.055633385419473026,0.024300878280079746,0.2657066652298076,0.027264400021552882,0.00571151462902096,0.26704025001347054,0.24009914327280565,0.8813109542540007,0.011099735977153942,0.03351473678538714,0.06584406487418504,0.024570289347486392,0.11212888625464733,0.024570289347486392,0.13234818686351635,0.06498194945848376,0.0515113960881513,0.022536235788566193,0.05152486664152163,0.11886416293981356,0.011099735977153942,0.025917344684519637,0.3529015571959696,0.25355622608976774,0.013793846651220432,0.00571151462902096,0.0515113960881513,0.4017457837167951,0.011099735977153942,0.012002263052966216,0.15927582305081092,0.19429926181367532,0.01915512689261275,0.011099735977153942,0.024570289347486392,0.2197586076836036,0.132334716310146,0.007058569966054206,0.03642437631337895,0.011099735977153942,0.16326310684842935,0.019182067999353413,0.002343876286437847,0.09083194137615173,0.035333261490382024,0.26704025001347054,0.8045288000431058,0.17274637642114338,0.06498194945848376,0.011099735977153942,0.05824667277331753,0.008405625303087451,0.027264400021552882,0.0784525028288162,0.4017457837167951,0.008405625303087451,0.00571151462902096,0.09192305619914866,0.13840993588016595,0.008405625303087451,0.027102753381108898,0.038040842717818844,0.017835012662320168,0.038040842717818844,0.3330594320814699,0.4017457837167951,0.22569912171992026,0.0515113960881513,0.0515113960881513,0.029958510695619372,0.023223234010453148,0.17274637642114338,0.1677353305673797,0.06498194945848376,0.14579179912710816,0.011099735977153942,0.038040842717818844,0.032652621369685865,0.08922894552508216,0.025243817016003013,0.0515113960881513,0.03259873915620454,0.041017835012662325,0.03130556603265262,0.0366937873807856,0.05555256209925104,0.30745191012446793,0.0515113960881513,0.012446791314187187,0.008405625303087451,0.009752680640120696,0.021876178673419903,0.007045099412683873,0.021876178673419903,0.09192305619914866,0.26704025001347054,0.26701330890672986,0.43536828492914487,0.01092461878333962,0.024570289347486392,0.05778867395872622,0.24550083517430896,0.0515113960881513],\"xaxis\":\"x\",\"y\":[0.9130434782608695,0.7391304347826089,0.782608695652174,0.8695652173913044,0.782608695652174,0.8695652173913044,0.6956521739130433,0.7391304347826089,0.6521739130434783,0.4347826086956522,0.8260869565217389,0.6956521739130433,0.7391304347826089,0.8695652173913044,0.9130434782608695,0.782608695652174,0.8695652173913044,0.8695652173913044,0.8260869565217389,0.6956521739130433,0.9130434782608695,0.6521739130434783,0.8260869565217389,0.8695652173913044,0.0,0.6521739130434783,0.9565217391304349,0.8260869565217389,0.7391304347826089,0.5217391304347825,0.8260869565217389,0.8695652173913044,0.6956521739130433,0.9130434782608695,0.9130434782608695,0.9130434782608695,0.8695652173913044,0.391304347826087,1.0,0.6521739130434783,0.8260869565217389,0.6956521739130433,0.782608695652174,0.8695652173913044,0.7391304347826089,0.8695652173913044,0.8695652173913044,0.6521739130434783,0.8695652173913044,0.8695652173913044,0.8695652173913044,0.8695652173913044,0.8695652173913044,0.9130434782608695,0.7391304347826089,0.7391304347826089,0.7391304347826089,0.8695652173913044,0.8695652173913044,0.9130434782608695,0.6956521739130433,0.782608695652174,0.8260869565217389,0.8260869565217389,0.8260869565217389,0.782608695652174,0.8260869565217389,0.9130434782608695,1.0,0.9565217391304349,0.9565217391304349,0.4347826086956522,0.9130434782608695,0.7391304347826089,0.9565217391304349,0.8695652173913044,0.8260869565217389,0.782608695652174,0.30434782608695643,0.7391304347826089,0.8695652173913044,0.8695652173913044,0.6956521739130433,1.0,0.5217391304347825,0.8695652173913044,0.8695652173913044,0.6956521739130433,0.6956521739130433,0.8695652173913044,0.4347826086956522,0.7391304347826089,0.5217391304347825,0.9565217391304349,0.7391304347826089,0.9130434782608695,0.7391304347826089,0.8260869565217389,0.8695652173913044,0.8260869565217389,0.9130434782608695,0.7391304347826089,0.9565217391304349,0.8695652173913044,0.7391304347826089,0.8260869565217389,0.391304347826087,0.782608695652174,0.9130434782608695,0.8260869565217389,0.8260869565217389,0.6521739130434783,0.8260869565217389,0.8695652173913044,0.8695652173913044,0.782608695652174,0.8260869565217389,0.4347826086956522,0.8260869565217389,0.782608695652174,0.8695652173913044,0.782608695652174,0.9565217391304349,0.6521739130434783,0.0,0.9130434782608695,0.9565217391304349,0.8695652173913044,0.9130434782608695,0.9130434782608695,0.8695652173913044,0.8695652173913044,0.8260869565217389,0.782608695652174,0.8695652173913044,0.9565217391304349,0.8260869565217389,0.6521739130434783,0.8695652173913044,0.9130434782608695,0.8695652173913044,0.6086956521739129,0.782608695652174,0.782608695652174,0.8695652173913044,0.8260869565217389,0.4782608695652173,0.9130434782608695,0.3478260869565217,0.8260869565217389,0.5652173913043478,0.5217391304347825,0.9130434782608695,0.9130434782608695,0.7391304347826089,0.9130434782608695,0.782608695652174,0.782608695652174,0.8260869565217389,0.6956521739130433,0.8695652173913044,0.8260869565217389,0.782608695652174,0.9130434782608695,0.8260869565217389,0.7391304347826089,0.8695652173913044,0.8695652173913044,0.9130434782608695,0.782608695652174,0.782608695652174,0.9130434782608695,0.782608695652174,0.7391304347826089,0.8695652173913044,0.8260869565217389,0.7391304347826089,0.9565217391304349,0.8260869565217389,0.0,0.782608695652174,0.7391304347826089,0.5652173913043478,0.6086956521739129,0.9130434782608695,0.782608695652174,0.6956521739130433,0.6086956521739129,1.0,0.8260869565217389,0.8260869565217389,0.9130434782608695,0.8260869565217389,0.3478260869565217,0.8695652173913044,0.8695652173913044,0.9130434782608695,0.8695652173913044,0.6956521739130433,0.7391304347826089,0.782608695652174,0.6521739130434783,0.6956521739130433,0.9130434782608695,0.8695652173913044,0.8260869565217389,0.7391304347826089,0.9130434782608695,0.782608695652174,0.7391304347826089,0.9565217391304349,0.9130434782608695,0.7391304347826089,0.7391304347826089,0.7391304347826089,0.9130434782608695,0.9130434782608695,0.9130434782608695,0.6521739130434783,0.8260869565217389,0.0,0.6956521739130433,0.8695652173913044,0.9565217391304349,0.9565217391304349,0.8260869565217389,0.9130434782608695,0.7391304347826089,0.8695652173913044,0.9130434782608695,0.7391304347826089,0.7391304347826089,0.8260869565217389,0.3478260869565217,0.6956521739130433,0.782608695652174,0.8695652173913044,0.3478260869565217,0.8260869565217389,0.8695652173913044,0.6086956521739129,0.8260869565217389,0.6956521739130433,0.9130434782608695,0.8695652173913044,0.8695652173913044,0.8695652173913044,0.6956521739130433,0.9565217391304349,0.8260869565217389,0.6956521739130433,0.6521739130434783,0.8695652173913044,0.9130434782608695,0.7391304347826089,0.782608695652174,0.9130434782608695,0.7391304347826089,0.5652173913043478,0.8695652173913044,0.5652173913043478,0.9130434782608695,0.9565217391304349,0.782608695652174,0.8260869565217389,0.9130434782608695,0.7391304347826089,0.782608695652174,0.8695652173913044,0.8695652173913044,0.9130434782608695,0.8260869565217389,0.8695652173913044,0.8260869565217389,0.4782608695652173,0.8695652173913044,0.8260869565217389,0.9130434782608695,0.5652173913043478,0.8260869565217389,0.782608695652174,0.8695652173913044,0.6521739130434783,0.8695652173913044,0.8695652173913044,0.782608695652174,0.8260869565217389,0.782608695652174,0.4782608695652173,0.9130434782608695,0.8260869565217389,0.9130434782608695,0.7391304347826089,0.7391304347826089],\"yaxis\":\"y\",\"type\":\"scatter\"}],                        {\"template\":{\"data\":{\"barpolar\":[{\"marker\":{\"line\":{\"color\":\"#E5ECF6\",\"width\":0.5},\"pattern\":{\"fillmode\":\"overlay\",\"size\":10,\"solidity\":0.2}},\"type\":\"barpolar\"}],\"bar\":[{\"error_x\":{\"color\":\"#2a3f5f\"},\"error_y\":{\"color\":\"#2a3f5f\"},\"marker\":{\"line\":{\"color\":\"#E5ECF6\",\"width\":0.5},\"pattern\":{\"fillmode\":\"overlay\",\"size\":10,\"solidity\":0.2}},\"type\":\"bar\"}],\"carpet\":[{\"aaxis\":{\"endlinecolor\":\"#2a3f5f\",\"gridcolor\":\"white\",\"linecolor\":\"white\",\"minorgridcolor\":\"white\",\"startlinecolor\":\"#2a3f5f\"},\"baxis\":{\"endlinecolor\":\"#2a3f5f\",\"gridcolor\":\"white\",\"linecolor\":\"white\",\"minorgridcolor\":\"white\",\"startlinecolor\":\"#2a3f5f\"},\"type\":\"carpet\"}],\"choropleth\":[{\"colorbar\":{\"outlinewidth\":0,\"ticks\":\"\"},\"type\":\"choropleth\"}],\"contourcarpet\":[{\"colorbar\":{\"outlinewidth\":0,\"ticks\":\"\"},\"type\":\"contourcarpet\"}],\"contour\":[{\"colorbar\":{\"outlinewidth\":0,\"ticks\":\"\"},\"colorscale\":[[0.0,\"#0d0887\"],[0.1111111111111111,\"#46039f\"],[0.2222222222222222,\"#7201a8\"],[0.3333333333333333,\"#9c179e\"],[0.4444444444444444,\"#bd3786\"],[0.5555555555555556,\"#d8576b\"],[0.6666666666666666,\"#ed7953\"],[0.7777777777777778,\"#fb9f3a\"],[0.8888888888888888,\"#fdca26\"],[1.0,\"#f0f921\"]],\"type\":\"contour\"}],\"heatmapgl\":[{\"colorbar\":{\"outlinewidth\":0,\"ticks\":\"\"},\"colorscale\":[[0.0,\"#0d0887\"],[0.1111111111111111,\"#46039f\"],[0.2222222222222222,\"#7201a8\"],[0.3333333333333333,\"#9c179e\"],[0.4444444444444444,\"#bd3786\"],[0.5555555555555556,\"#d8576b\"],[0.6666666666666666,\"#ed7953\"],[0.7777777777777778,\"#fb9f3a\"],[0.8888888888888888,\"#fdca26\"],[1.0,\"#f0f921\"]],\"type\":\"heatmapgl\"}],\"heatmap\":[{\"colorbar\":{\"outlinewidth\":0,\"ticks\":\"\"},\"colorscale\":[[0.0,\"#0d0887\"],[0.1111111111111111,\"#46039f\"],[0.2222222222222222,\"#7201a8\"],[0.3333333333333333,\"#9c179e\"],[0.4444444444444444,\"#bd3786\"],[0.5555555555555556,\"#d8576b\"],[0.6666666666666666,\"#ed7953\"],[0.7777777777777778,\"#fb9f3a\"],[0.8888888888888888,\"#fdca26\"],[1.0,\"#f0f921\"]],\"type\":\"heatmap\"}],\"histogram2dcontour\":[{\"colorbar\":{\"outlinewidth\":0,\"ticks\":\"\"},\"colorscale\":[[0.0,\"#0d0887\"],[0.1111111111111111,\"#46039f\"],[0.2222222222222222,\"#7201a8\"],[0.3333333333333333,\"#9c179e\"],[0.4444444444444444,\"#bd3786\"],[0.5555555555555556,\"#d8576b\"],[0.6666666666666666,\"#ed7953\"],[0.7777777777777778,\"#fb9f3a\"],[0.8888888888888888,\"#fdca26\"],[1.0,\"#f0f921\"]],\"type\":\"histogram2dcontour\"}],\"histogram2d\":[{\"colorbar\":{\"outlinewidth\":0,\"ticks\":\"\"},\"colorscale\":[[0.0,\"#0d0887\"],[0.1111111111111111,\"#46039f\"],[0.2222222222222222,\"#7201a8\"],[0.3333333333333333,\"#9c179e\"],[0.4444444444444444,\"#bd3786\"],[0.5555555555555556,\"#d8576b\"],[0.6666666666666666,\"#ed7953\"],[0.7777777777777778,\"#fb9f3a\"],[0.8888888888888888,\"#fdca26\"],[1.0,\"#f0f921\"]],\"type\":\"histogram2d\"}],\"histogram\":[{\"marker\":{\"pattern\":{\"fillmode\":\"overlay\",\"size\":10,\"solidity\":0.2}},\"type\":\"histogram\"}],\"mesh3d\":[{\"colorbar\":{\"outlinewidth\":0,\"ticks\":\"\"},\"type\":\"mesh3d\"}],\"parcoords\":[{\"line\":{\"colorbar\":{\"outlinewidth\":0,\"ticks\":\"\"}},\"type\":\"parcoords\"}],\"pie\":[{\"automargin\":true,\"type\":\"pie\"}],\"scatter3d\":[{\"line\":{\"colorbar\":{\"outlinewidth\":0,\"ticks\":\"\"}},\"marker\":{\"colorbar\":{\"outlinewidth\":0,\"ticks\":\"\"}},\"type\":\"scatter3d\"}],\"scattercarpet\":[{\"marker\":{\"colorbar\":{\"outlinewidth\":0,\"ticks\":\"\"}},\"type\":\"scattercarpet\"}],\"scattergeo\":[{\"marker\":{\"colorbar\":{\"outlinewidth\":0,\"ticks\":\"\"}},\"type\":\"scattergeo\"}],\"scattergl\":[{\"marker\":{\"colorbar\":{\"outlinewidth\":0,\"ticks\":\"\"}},\"type\":\"scattergl\"}],\"scattermapbox\":[{\"marker\":{\"colorbar\":{\"outlinewidth\":0,\"ticks\":\"\"}},\"type\":\"scattermapbox\"}],\"scatterpolargl\":[{\"marker\":{\"colorbar\":{\"outlinewidth\":0,\"ticks\":\"\"}},\"type\":\"scatterpolargl\"}],\"scatterpolar\":[{\"marker\":{\"colorbar\":{\"outlinewidth\":0,\"ticks\":\"\"}},\"type\":\"scatterpolar\"}],\"scatter\":[{\"fillpattern\":{\"fillmode\":\"overlay\",\"size\":10,\"solidity\":0.2},\"type\":\"scatter\"}],\"scatterternary\":[{\"marker\":{\"colorbar\":{\"outlinewidth\":0,\"ticks\":\"\"}},\"type\":\"scatterternary\"}],\"surface\":[{\"colorbar\":{\"outlinewidth\":0,\"ticks\":\"\"},\"colorscale\":[[0.0,\"#0d0887\"],[0.1111111111111111,\"#46039f\"],[0.2222222222222222,\"#7201a8\"],[0.3333333333333333,\"#9c179e\"],[0.4444444444444444,\"#bd3786\"],[0.5555555555555556,\"#d8576b\"],[0.6666666666666666,\"#ed7953\"],[0.7777777777777778,\"#fb9f3a\"],[0.8888888888888888,\"#fdca26\"],[1.0,\"#f0f921\"]],\"type\":\"surface\"}],\"table\":[{\"cells\":{\"fill\":{\"color\":\"#EBF0F8\"},\"line\":{\"color\":\"white\"}},\"header\":{\"fill\":{\"color\":\"#C8D4E3\"},\"line\":{\"color\":\"white\"}},\"type\":\"table\"}]},\"layout\":{\"annotationdefaults\":{\"arrowcolor\":\"#2a3f5f\",\"arrowhead\":0,\"arrowwidth\":1},\"autotypenumbers\":\"strict\",\"coloraxis\":{\"colorbar\":{\"outlinewidth\":0,\"ticks\":\"\"}},\"colorscale\":{\"diverging\":[[0,\"#8e0152\"],[0.1,\"#c51b7d\"],[0.2,\"#de77ae\"],[0.3,\"#f1b6da\"],[0.4,\"#fde0ef\"],[0.5,\"#f7f7f7\"],[0.6,\"#e6f5d0\"],[0.7,\"#b8e186\"],[0.8,\"#7fbc41\"],[0.9,\"#4d9221\"],[1,\"#276419\"]],\"sequential\":[[0.0,\"#440154\"],[0.1111111111111111,\"#482878\"],[0.2222222222222222,\"#3e4989\"],[0.3333333333333333,\"#31688e\"],[0.4444444444444444,\"#26828e\"],[0.5555555555555556,\"#1f9e89\"],[0.6666666666666666,\"#35b779\"],[0.7777777777777778,\"#6ece58\"],[0.8888888888888888,\"#b5de2b\"],[1.0,\"#fde725\"]],\"sequentialminus\":[[0.0,\"#0d0887\"],[0.1111111111111111,\"#46039f\"],[0.2222222222222222,\"#7201a8\"],[0.3333333333333333,\"#9c179e\"],[0.4444444444444444,\"#bd3786\"],[0.5555555555555556,\"#d8576b\"],[0.6666666666666666,\"#ed7953\"],[0.7777777777777778,\"#fb9f3a\"],[0.8888888888888888,\"#fdca26\"],[1.0,\"#f0f921\"]]},\"colorway\":[\"#636EFA\",\"#00CC96\",\"#AB63FA\",\"#FFA15A\",\"#19D3F3\",\"#FF6692\",\"#B6E880\",\"#FF97FF\",\"#FECB52\"],\"font\":{\"color\":\"lightgreen\"},\"geo\":{\"bgcolor\":\"white\",\"lakecolor\":\"white\",\"landcolor\":\"#E5ECF6\",\"showlakes\":true,\"showland\":true,\"subunitcolor\":\"white\"},\"hoverlabel\":{\"align\":\"left\"},\"hovermode\":\"closest\",\"mapbox\":{\"style\":\"light\"},\"paper_bgcolor\":\"rgba(0, 0, 0, 0)\",\"plot_bgcolor\":\"#E5ECF6\",\"polar\":{\"angularaxis\":{\"gridcolor\":\"white\",\"linecolor\":\"white\",\"ticks\":\"\"},\"bgcolor\":\"#E5ECF6\",\"radialaxis\":{\"gridcolor\":\"white\",\"linecolor\":\"white\",\"ticks\":\"\"}},\"scene\":{\"xaxis\":{\"backgroundcolor\":\"#E5ECF6\",\"gridcolor\":\"white\",\"gridwidth\":2,\"linecolor\":\"white\",\"showbackground\":true,\"ticks\":\"\",\"zerolinecolor\":\"white\"},\"yaxis\":{\"backgroundcolor\":\"#E5ECF6\",\"gridcolor\":\"white\",\"gridwidth\":2,\"linecolor\":\"white\",\"showbackground\":true,\"ticks\":\"\",\"zerolinecolor\":\"white\"},\"zaxis\":{\"backgroundcolor\":\"#E5ECF6\",\"gridcolor\":\"white\",\"gridwidth\":2,\"linecolor\":\"white\",\"showbackground\":true,\"ticks\":\"\",\"zerolinecolor\":\"white\"}},\"shapedefaults\":{\"line\":{\"color\":\"#2a3f5f\"}},\"ternary\":{\"aaxis\":{\"gridcolor\":\"white\",\"linecolor\":\"white\",\"ticks\":\"\"},\"baxis\":{\"gridcolor\":\"white\",\"linecolor\":\"white\",\"ticks\":\"\"},\"bgcolor\":\"#E5ECF6\",\"caxis\":{\"gridcolor\":\"white\",\"linecolor\":\"white\",\"ticks\":\"\"}},\"title\":{\"x\":0.05},\"xaxis\":{\"automargin\":true,\"gridcolor\":\"white\",\"linecolor\":\"white\",\"ticks\":\"\",\"title\":{\"standoff\":15},\"zerolinecolor\":\"white\",\"zerolinewidth\":2},\"yaxis\":{\"automargin\":true,\"gridcolor\":\"white\",\"linecolor\":\"white\",\"ticks\":\"\",\"title\":{\"standoff\":15},\"zerolinecolor\":\"white\",\"zerolinewidth\":2}}},\"xaxis\":{\"anchor\":\"y\",\"domain\":[0.0,1.0],\"title\":{\"text\":\"x\"}},\"yaxis\":{\"anchor\":\"x\",\"domain\":[0.0,1.0],\"title\":{\"text\":\"y\"}},\"legend\":{\"title\":{\"text\":\"color\"},\"tracegroupgap\":0},\"margin\":{\"t\":60}},                        {\"responsive\": true}                    ).then(function(){\n",
       "                            \n",
       "var gd = document.getElementById('6afb75c3-f3e3-4928-ba9a-167782c93f3f');\n",
       "var x = new MutationObserver(function (mutations, observer) {{\n",
       "        var display = window.getComputedStyle(gd).display;\n",
       "        if (!display || display === 'none') {{\n",
       "            console.log([gd, 'removed!']);\n",
       "            Plotly.purge(gd);\n",
       "            observer.disconnect();\n",
       "        }}\n",
       "}});\n",
       "\n",
       "// Listen for the removal of the full notebook cells\n",
       "var notebookContainer = gd.closest('#notebook-container');\n",
       "if (notebookContainer) {{\n",
       "    x.observe(notebookContainer, {childList: true});\n",
       "}}\n",
       "\n",
       "// Listen for the clearing of the current output cell\n",
       "var outputEl = gd.closest('.output');\n",
       "if (outputEl) {{\n",
       "    x.observe(outputEl, {childList: true});\n",
       "}}\n",
       "\n",
       "                        })                };                });            </script>        </div>"
      ]
     },
     "metadata": {},
     "output_type": "display_data"
    }
   ],
   "source": [
    "px.scatter(x=X_test[\"Price\"], y=X_test[\"Stars\"], color=y_test)"
   ]
  },
  {
   "cell_type": "markdown",
   "id": "dc358b22-8fef-4b0b-926b-242a531aa73c",
   "metadata": {},
   "source": [
    "### Decision Boundaries"
   ]
  },
  {
   "cell_type": "code",
   "execution_count": 13,
   "id": "87828447-86d4-417b-b9d6-464b7e304d35",
   "metadata": {
    "execution": {
     "iopub.execute_input": "2024-04-30T04:54:57.371790Z",
     "iopub.status.busy": "2024-04-30T04:54:57.371445Z",
     "iopub.status.idle": "2024-04-30T04:55:49.589824Z",
     "shell.execute_reply": "2024-04-30T04:55:49.588999Z",
     "shell.execute_reply.started": "2024-04-30T04:54:57.371765Z"
    }
   },
   "outputs": [
    {
     "name": "stdout",
     "output_type": "stream",
     "text": [
      "(202, 365, 68)\n"
     ]
    },
    {
     "name": "stderr",
     "output_type": "stream",
     "text": [
      "/Users/bjonnalagadda/.pyenv/versions/3.10.0/lib/python3.10/site-packages/sklearn/base.py:439: UserWarning:\n",
      "\n",
      "X does not have valid feature names, but SVC was fitted with feature names\n",
      "\n",
      "/Users/bjonnalagadda/.pyenv/versions/3.10.0/lib/python3.10/site-packages/sklearn/inspection/_plot/decision_boundary.py:187: UserWarning:\n",
      "\n",
      "The input coordinates to pcolormesh are interpreted as cell centers, but are not monotonically increasing or decreasing. This may lead to incorrectly calculated cell edges, in which case, please supply explicit cell edges to pcolormesh.\n",
      "\n"
     ]
    },
    {
     "name": "stdout",
     "output_type": "stream",
     "text": [
      "(365, 18, 68)\n"
     ]
    },
    {
     "name": "stderr",
     "output_type": "stream",
     "text": [
      "/Users/bjonnalagadda/.pyenv/versions/3.10.0/lib/python3.10/site-packages/sklearn/base.py:439: UserWarning:\n",
      "\n",
      "X does not have valid feature names, but SVC was fitted with feature names\n",
      "\n",
      "/Users/bjonnalagadda/.pyenv/versions/3.10.0/lib/python3.10/site-packages/sklearn/inspection/_plot/decision_boundary.py:187: UserWarning:\n",
      "\n",
      "The input coordinates to pcolormesh are interpreted as cell centers, but are not monotonically increasing or decreasing. This may lead to incorrectly calculated cell edges, in which case, please supply explicit cell edges to pcolormesh.\n",
      "\n"
     ]
    },
    {
     "name": "stdout",
     "output_type": "stream",
     "text": [
      "(202, 229, 68)\n"
     ]
    },
    {
     "name": "stderr",
     "output_type": "stream",
     "text": [
      "/Users/bjonnalagadda/.pyenv/versions/3.10.0/lib/python3.10/site-packages/sklearn/base.py:439: UserWarning:\n",
      "\n",
      "X does not have valid feature names, but SVC was fitted with feature names\n",
      "\n",
      "/Users/bjonnalagadda/.pyenv/versions/3.10.0/lib/python3.10/site-packages/sklearn/inspection/_plot/decision_boundary.py:187: UserWarning:\n",
      "\n",
      "The input coordinates to pcolormesh are interpreted as cell centers, but are not monotonically increasing or decreasing. This may lead to incorrectly calculated cell edges, in which case, please supply explicit cell edges to pcolormesh.\n",
      "\n"
     ]
    },
    {
     "name": "stdout",
     "output_type": "stream",
     "text": [
      "(202, 18, 68)\n"
     ]
    },
    {
     "name": "stderr",
     "output_type": "stream",
     "text": [
      "/Users/bjonnalagadda/.pyenv/versions/3.10.0/lib/python3.10/site-packages/sklearn/base.py:439: UserWarning:\n",
      "\n",
      "X does not have valid feature names, but SVC was fitted with feature names\n",
      "\n",
      "/Users/bjonnalagadda/.pyenv/versions/3.10.0/lib/python3.10/site-packages/sklearn/inspection/_plot/decision_boundary.py:187: UserWarning:\n",
      "\n",
      "The input coordinates to pcolormesh are interpreted as cell centers, but are not monotonically increasing or decreasing. This may lead to incorrectly calculated cell edges, in which case, please supply explicit cell edges to pcolormesh.\n",
      "\n"
     ]
    },
    {
     "name": "stdout",
     "output_type": "stream",
     "text": [
      "(229, 365, 68)\n"
     ]
    },
    {
     "name": "stderr",
     "output_type": "stream",
     "text": [
      "/Users/bjonnalagadda/.pyenv/versions/3.10.0/lib/python3.10/site-packages/sklearn/base.py:439: UserWarning:\n",
      "\n",
      "X does not have valid feature names, but SVC was fitted with feature names\n",
      "\n",
      "/Users/bjonnalagadda/.pyenv/versions/3.10.0/lib/python3.10/site-packages/sklearn/inspection/_plot/decision_boundary.py:187: UserWarning:\n",
      "\n",
      "The input coordinates to pcolormesh are interpreted as cell centers, but are not monotonically increasing or decreasing. This may lead to incorrectly calculated cell edges, in which case, please supply explicit cell edges to pcolormesh.\n",
      "\n"
     ]
    },
    {
     "name": "stdout",
     "output_type": "stream",
     "text": [
      "(229, 18, 68)\n"
     ]
    },
    {
     "name": "stderr",
     "output_type": "stream",
     "text": [
      "/Users/bjonnalagadda/.pyenv/versions/3.10.0/lib/python3.10/site-packages/sklearn/base.py:439: UserWarning:\n",
      "\n",
      "X does not have valid feature names, but SVC was fitted with feature names\n",
      "\n",
      "/Users/bjonnalagadda/.pyenv/versions/3.10.0/lib/python3.10/site-packages/sklearn/inspection/_plot/decision_boundary.py:187: UserWarning:\n",
      "\n",
      "The input coordinates to pcolormesh are interpreted as cell centers, but are not monotonically increasing or decreasing. This may lead to incorrectly calculated cell edges, in which case, please supply explicit cell edges to pcolormesh.\n",
      "\n"
     ]
    },
    {
     "data": {
      "image/png": "[encoded data removed]",
      "text/plain": [
       "<Figure size 2400x1200 with 6 Axes>"
      ]
     },
     "metadata": {},
     "output_type": "display_data"
    }
   ],
   "source": [
    "col_combs = list(set(combinations(np.arange(1, 5), 2)))\n",
    "\n",
    "mainfig = plt.figure(figsize=(24, 12))\n",
    "\n",
    "# cols = col_combs[-2]\n",
    "for i, cols in enumerate(col_combs):\n",
    "\n",
    "    xname = X_test.columns[cols[0]]\n",
    "    yname = X_test.columns[cols[1]]\n",
    "    \n",
    "    xs = list(set(sorted(X_test[xname])))\n",
    "    ys = list(set(sorted(X_test[yname])))\n",
    "    gr_x, gr_y = np.meshgrid(xs, ys)\n",
    "    \n",
    "    x_fixed = len(xs) < len(ys)\n",
    "\n",
    "    ## Create grid of input values based on fixing one value and picking most similar\n",
    "    ## values from non-fixed axis\n",
    "    if x_fixed:\n",
    "        vals = np.empty((len(ys), 0, len(X_test.columns)))\n",
    "        \n",
    "        for x in xs:\n",
    "            sub = X_test[X_test[xname] == x]\n",
    "            vals = np.append(vals, sub.loc[list(map(lambda i: (sub[yname]- i).abs().idxmin(), ys)), :].to_numpy()[:, np.newaxis, :], axis=1)\n",
    "        # replace with original values\n",
    "        vals[:, :, cols[1]] = gr_y\n",
    "    else:\n",
    "        vals = np.empty((0, len(xs), len(X_test.columns)))\n",
    "        \n",
    "        for y in ys:\n",
    "            sub = X_test[X_test[yname] == y]\n",
    "            vals = np.append(vals, sub.loc[list(map(lambda i: (sub[xname]- i).abs().idxmin(), xs)), :].to_numpy()[np.newaxis, ...], axis=0)\n",
    "        # replace with original values\n",
    "        vals[:, :, cols[0]] = gr_x\n",
    "            \n",
    "    \n",
    "    print(vals.shape)\n",
    "    \n",
    "    \n",
    "    \n",
    "    # grid = np.vstack([feat_price.ravel(), feat_stars.ravel()]).T\n",
    "    X_test_grid = np.vstack([vals[:, :, i].ravel() for i in range(len(X_test.columns))]).T\n",
    "    \n",
    "    y_pred_grid = np.reshape(gs_poly.best_estimator_.predict(X_test_grid), gr_x.shape)\n",
    "\n",
    "    ## plotting\n",
    "    \n",
    "    # Defining a grid of 5 columns and 3 rows \n",
    "    ax = plt.subplot(2, 3, i + 1)\n",
    "    \n",
    "    display = DecisionBoundaryDisplay(\n",
    "     xx0=gr_x, xx1=gr_y, response=y_pred_grid, xlabel=xname, ylabel=yname\n",
    "    )\n",
    "    display.plot(ax=ax, cmap=plt.cm.winter, plot_method=\"pcolormesh\")\n",
    "    # display.plot(ax=ax, cmap=plt.cm.winter)\n",
    "    \n",
    "    fig = display.ax_.scatter(\n",
    "     X_test[xname], X_test[yname], c=y_test, edgecolor=\"black\", cmap=plt.cm.winter\n",
    "    )\n",
    "\n",
    "# plt.title(\"Decision boundaries made by best RBF SVM\") \n",
    "plt.legend(*fig.legend_elements(), loc=\"lower right\", title=\"True Price Increase\")\n",
    "plt.show()\n",
    "\n"
   ]
  },
  {
   "cell_type": "code",
   "execution_count": 234,
   "id": "63950d13-9fb3-450c-ba88-14d59cf7259b",
   "metadata": {
    "execution": {
     "iopub.execute_input": "2024-04-29T02:52:02.797362Z",
     "iopub.status.busy": "2024-04-29T02:52:02.797012Z",
     "iopub.status.idle": "2024-04-29T02:52:02.806613Z",
     "shell.execute_reply": "2024-04-29T02:52:02.805422Z",
     "shell.execute_reply.started": "2024-04-29T02:52:02.797333Z"
    }
   },
   "outputs": [
    {
     "data": {
      "text/plain": [
       "array([[0.01378038, 0.05148445, 0.00299046, ..., 0.05420551, 0.22662859,\n",
       "        0.02457029],\n",
       "       [0.01378038, 0.05148445, 0.00299046, ..., 0.05420551, 0.22662859,\n",
       "        0.02457029],\n",
       "       [0.01378038, 0.05148445, 0.00299046, ..., 0.05420551, 0.22662859,\n",
       "        0.02457029],\n",
       "       ...,\n",
       "       [0.01378038, 0.05148445, 0.00299046, ..., 0.05420551, 0.22662859,\n",
       "        0.02457029],\n",
       "       [0.01378038, 0.05148445, 0.00299046, ..., 0.05420551, 0.22662859,\n",
       "        0.02457029],\n",
       "       [0.01378038, 0.05148445, 0.00299046, ..., 0.05420551, 0.22662859,\n",
       "        0.02457029]])"
      ]
     },
     "execution_count": 234,
     "metadata": {},
     "output_type": "execute_result"
    }
   ],
   "source": [
    "vals[:, :, 1] = gr_x\n",
    "vals[:, :, 1]"
   ]
  },
  {
   "cell_type": "code",
   "execution_count": 198,
   "id": "8ec2c705-9fff-4071-b81e-411d06da60b5",
   "metadata": {
    "execution": {
     "iopub.execute_input": "2024-04-29T02:13:42.416744Z",
     "iopub.status.busy": "2024-04-29T02:13:42.415953Z",
     "iopub.status.idle": "2024-04-29T02:13:42.423666Z",
     "shell.execute_reply": "2024-04-29T02:13:42.422502Z",
     "shell.execute_reply.started": "2024-04-29T02:13:42.416712Z"
    }
   },
   "outputs": [
    {
     "data": {
      "text/plain": [
       "3075"
      ]
     },
     "execution_count": 198,
     "metadata": {},
     "output_type": "execute_result"
    }
   ],
   "source": [
    "(f[xname]- tstx[0]).abs().argsort().index[0]\n",
    "(f[xname]- tstx[0]).abs().idxmin()"
   ]
  },
  {
   "cell_type": "code",
   "execution_count": 197,
   "id": "421b2842-91da-4be1-bf2c-25398b24a32e",
   "metadata": {
    "execution": {
     "iopub.execute_input": "2024-04-29T02:13:32.628103Z",
     "iopub.status.busy": "2024-04-29T02:13:32.627445Z",
     "iopub.status.idle": "2024-04-29T02:13:32.646944Z",
     "shell.execute_reply": "2024-04-29T02:13:32.645942Z",
     "shell.execute_reply.started": "2024-04-29T02:13:32.628073Z"
    }
   },
   "outputs": [
    {
     "data": {
      "text/html": [
       "<div>\n",
       "<style scoped>\n",
       "    .dataframe tbody tr th:only-of-type {\n",
       "        vertical-align: middle;\n",
       "    }\n",
       "\n",
       "    .dataframe tbody tr th {\n",
       "        vertical-align: top;\n",
       "    }\n",
       "\n",
       "    .dataframe thead th {\n",
       "        text-align: right;\n",
       "    }\n",
       "</style>\n",
       "<table border=\"1\" class=\"dataframe\">\n",
       "  <thead>\n",
       "    <tr style=\"text-align: right;\">\n",
       "      <th></th>\n",
       "      <th>Is Best Seller</th>\n",
       "      <th>Stars</th>\n",
       "      <th>Reviews</th>\n",
       "      <th>Price</th>\n",
       "      <th>List Price</th>\n",
       "      <th>Bought In Month</th>\n",
       "      <th>Men's Clothing</th>\n",
       "      <th>Men's Shoes</th>\n",
       "      <th>Televisions &amp; Video Products</th>\n",
       "      <th>Vacuum Cleaners &amp; Floor Care</th>\n",
       "      <th>...</th>\n",
       "      <th>Cell Phones &amp; Accessories</th>\n",
       "      <th>Cat Supplies</th>\n",
       "      <th>Home Lighting &amp; Ceiling Fans</th>\n",
       "      <th>Women's Shoes</th>\n",
       "      <th>Legacy Systems</th>\n",
       "      <th>Backpacks</th>\n",
       "      <th>Laptop Bags</th>\n",
       "      <th>Automotive Interior Accessories</th>\n",
       "      <th>Food Service Equipment &amp; Supplies</th>\n",
       "      <th>Travel Accessories</th>\n",
       "    </tr>\n",
       "  </thead>\n",
       "  <tbody>\n",
       "    <tr>\n",
       "      <th>3075</th>\n",
       "      <td>0.0</td>\n",
       "      <td>0.0</td>\n",
       "      <td>0.000237</td>\n",
       "      <td>0.012002</td>\n",
       "      <td>0.011178</td>\n",
       "      <td>0.0</td>\n",
       "      <td>0</td>\n",
       "      <td>0</td>\n",
       "      <td>0</td>\n",
       "      <td>0</td>\n",
       "      <td>...</td>\n",
       "      <td>0</td>\n",
       "      <td>0</td>\n",
       "      <td>0</td>\n",
       "      <td>0</td>\n",
       "      <td>0</td>\n",
       "      <td>0</td>\n",
       "      <td>0</td>\n",
       "      <td>0</td>\n",
       "      <td>0</td>\n",
       "      <td>0</td>\n",
       "    </tr>\n",
       "  </tbody>\n",
       "</table>\n",
       "<p>1 rows × 68 columns</p>\n",
       "</div>"
      ],
      "text/plain": [
       "      Is Best Seller  Stars   Reviews     Price  List Price  Bought In Month   \n",
       "3075             0.0    0.0  0.000237  0.012002    0.011178              0.0  \\\n",
       "\n",
       "      Men's Clothing  Men's Shoes  Televisions & Video Products   \n",
       "3075               0            0                             0  \\\n",
       "\n",
       "      Vacuum Cleaners & Floor Care  ...  Cell Phones & Accessories   \n",
       "3075                             0  ...                          0  \\\n",
       "\n",
       "      Cat Supplies  Home Lighting & Ceiling Fans  Women's Shoes   \n",
       "3075             0                             0              0  \\\n",
       "\n",
       "      Legacy Systems  Backpacks  Laptop Bags  Automotive Interior Accessories   \n",
       "3075               0          0            0                                0  \\\n",
       "\n",
       "      Food Service Equipment & Supplies  Travel Accessories  \n",
       "3075                                  0                   0  \n",
       "\n",
       "[1 rows x 68 columns]"
      ]
     },
     "execution_count": 197,
     "metadata": {},
     "output_type": "execute_result"
    }
   ],
   "source": [
    "f.iloc[(f[xname]- tstx[0]).abs().argsort()][:1]"
   ]
  },
  {
   "cell_type": "code",
   "execution_count": 223,
   "id": "28c5a544-dedc-4371-83dd-2bb016fcab6a",
   "metadata": {
    "execution": {
     "iopub.execute_input": "2024-04-29T02:36:08.347115Z",
     "iopub.status.busy": "2024-04-29T02:36:08.346792Z",
     "iopub.status.idle": "2024-04-29T02:36:08.401917Z",
     "shell.execute_reply": "2024-04-29T02:36:08.401176Z",
     "shell.execute_reply.started": "2024-04-29T02:36:08.347089Z"
    }
   },
   "outputs": [
    {
     "data": {
      "text/plain": [
       "(1, 229, 68)"
      ]
     },
     "execution_count": 223,
     "metadata": {},
     "output_type": "execute_result"
    }
   ],
   "source": [
    "np.append(, f.loc[list(map(lambda i: (f[xname]- i).abs().idxmin(), tstx)), :].to_numpy()[np.newaxis, ...], axis=0).shape"
   ]
  }
 ],
 "metadata": {
  "kernelspec": {
   "display_name": "Python 3 (ipykernel)",
   "language": "python",
   "name": "python3"
  },
  "language_info": {
   "codemirror_mode": {
    "name": "ipython",
    "version": 3
   },
   "file_extension": ".py",
   "mimetype": "text/x-python",
   "name": "python",
   "nbconvert_exporter": "python",
   "pygments_lexer": "ipython3",
   "version": "3.10.11"
  },
  "widgets": {
   "application/vnd.jupyter.widget-state+json": {
    "state": {},
    "version_major": 2,
    "version_minor": 0
   }
  }
 },
 "nbformat": 4,
 "nbformat_minor": 5
}
